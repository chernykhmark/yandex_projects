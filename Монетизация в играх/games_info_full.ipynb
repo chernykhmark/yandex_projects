{
 "cells": [
  {
   "cell_type": "markdown",
   "metadata": {},
   "source": [
    "## Введение"
   ]
  },
  {
   "cell_type": "markdown",
   "metadata": {},
   "source": [
    "###  Описание данных\n",
    "\n",
    "Основной датасет содержит данные о событиях, совершенных в мобильной игре «Космические братья». В ней пользователи строят свою космическую программу и пытаются преуспеть в нелёгком деле колонизации галактики.\n",
    "\n",
    "Основная монетизация игры — только планируется. Но предполагается, что в приложении будет происходить показ рекламы на экране с выбором типа объекта для постройки.\n",
    "\n",
    "В датасете представлены данные по игре пользователей на первом уровне. Завершение первого уровня требует от игрока выполнения одного из двух условий:\n",
    "\n",
    "- Победа над первым врагом\n",
    "- Реализация проекта - разработка орбитальной сборки спутников\n",
    "\n",
    "В датасете содержатся данные первых пользователей приложения — когорты пользователей, которые начали пользоваться приложением в период с 4 по 10 мая включительно.\n",
    "\n",
    "Датасет *game_actions.csv*:\n",
    "\n",
    "- `event_datetime` — время события;\n",
    "- `event` — одно из трёх событий:\n",
    "    1. `building` — объект построен,\n",
    "    2. `finished_stage_1` — первый уровень завершён,\n",
    "    3. `project` — проект завершён;\n",
    "- `building_type` — один из трёх типов здания:\n",
    "    1. `assembly_shop` — сборочный цех,\n",
    "    2. `spaceport` — космопорт,\n",
    "    3. `research_center` — исследовательский центр;\n",
    "- `user_id` — идентификатор пользователя;\n",
    "- `project_type` — тип реализованного проекта;\n",
    "\n",
    "Помимо основного датасета есть два датасета с информацией о рекламных активностях. Они также помогут в решении задачи.\n",
    "\n",
    "Датасет *ad_cost.csv* содержит колонки:\n",
    "\n",
    "- `day` - день, в который был совершен клик по объявлению\n",
    "- `source` - источник трафика\n",
    "- `cost` - стоимость кликов\n",
    "\n",
    "Датасет user_source.csv содержит колонки:\n",
    "\n",
    "- `user_id` - идентификатор пользователя\n",
    "- `source` - источников, с которого пришёл пользователь, установивший приложение"
   ]
  },
  {
   "cell_type": "markdown",
   "metadata": {},
   "source": [
    "### Основные направления исследования\n",
    "\n",
    "    \n",
    "**Цель проекта** - построение модели монетизации   \n",
    "\n",
    "    - На каком экране, на какой день оптимально показывать рекламу пользователю?\n",
    "\n",
    "    - Какое событие влияет на количество игроков прошедших на 2 уровень ? (игра должна завлечь пользователя на 1 уровне)\n",
    "\n",
    "**Модель**, в зависимости от того **где и когда** пользователь видит рекламу, оценивает сколько и какое действие пользователя приносит больше всего денег\n",
    "\n",
    "Другими словами необходимо определить когда нужно показывать рекламу чтобы больше пользователей прошло на 2 уровень\n",
    "\n",
    "\n",
    "Стоимость 1 рекламного ролика **0.07** USD \n",
    "\n",
    "Реклама через источники оплачивается **авансом**\n",
    "   \n",
    "Заказчик хочет на 1 уровне **окупить рекламу**, чтобы не уйти в минус, но при этом покаазывать ее не так часто, чтобы больше пользователей доходили до 2 уровня. \n",
    "\n",
    "Нужно представить заказчику на выбор варианты запаса первого уровня по предполагаемой выручке и проценту оттока, а также:\n",
    "\n",
    "\n",
    "    - выбрать оптимальное время для запуска рекламы\n",
    "\n",
    "    - провести исследовательский анализ данных\n",
    "\n",
    "    - проанализировать влияние событий на совершение целевого события\n",
    "\n",
    "    - проверить статистические гипотезы\n"
   ]
  },
  {
   "cell_type": "markdown",
   "metadata": {},
   "source": [
    "## Общий вывод и рекомендации "
   ]
  },
  {
   "cell_type": "markdown",
   "metadata": {},
   "source": [
    "### Категоризация\n",
    "\n",
    "\n",
    "**135639** событий произошло в период с **2020-05-04** по **2020-06-05**\n",
    "\n",
    "**13576** уникальных пользователей\n",
    "\n",
    "В среднем пользователям хватило **10.5** действий чтобы пройти на **2** уровень\n",
    "\n",
    "Среди уникальных пользователей:\n",
    "\n",
    "    - Все 13576 строили здания (все пользователи строили сборочный цех) \n",
    "    - 127957 зданий потроили (2,5% обошлись без космопорта)\n",
    "    - 5817 пользователей завершили 1 уровень (56,5%)\n",
    "    - только 1866 пользователейпрошли на 2 уровень через проект\n",
    "\n",
    "\n",
    "- Среднее количество построек на уникального пользователя - 9.43\n",
    "- Процент победителей среди уникальных пользователей - 42.85%\n",
    "- Победили соперника (pvp) - 29.10%\n",
    "- Победили проект (pve) - 13.74%\n",
    "\n",
    "Судя по первым когортам которые уже прожили достаточно дней для анализа: **30%** игроков инетересуют проекты, остальные **70%** - победа над противником."
   ]
  },
  {
   "cell_type": "markdown",
   "metadata": {},
   "source": [
    "### Маркетинг\n",
    "\n",
    "Можно отметить что эффективней всего работает **yandex_direct**, через который удалось привлечь **4817** пользователей с средней стоимостью привлечения клиента - **0.46**\n",
    "\n",
    "**youtube_channel_reklama**  при стоимость привлечения клиента в **0.4** дает **2686** пользователей, что в сравнении с стоимостью привлечения пользователей **facebook_ads** (0.78 для 2726 пользователей) выглядет более эффективным источником.\n",
    "\n",
    "**Расходы по каналам**\n",
    "\n",
    "                         Пользователи События Затраты на привлечение\n",
    "               facebook_ads |2140\t|23034\t|2,140.90\n",
    "    instagram_new_adverts\t|2646\t|28166\t|2,161.44\n",
    "            yandex_direct\t|3788\t|40032\t|2,233.11\n",
    "    youtube_channel_reklama\t|2082\t|22110\t|1,068.12\n",
    "    \n",
    "    \n",
    "    \n"
   ]
  },
  {
   "cell_type": "markdown",
   "metadata": {},
   "source": [
    "### Проверка гипотез\n",
    "\n",
    "**Гипотеза 1**\n",
    "\n",
    "Можно отметить, что сравнение среднего времени прохождения уровня между пользователями не имеет достаточного уровня значимости.\n",
    "\n",
    "В связи с этим можно отвергнуть нулевую гипотезу о равенстве среднего времени прохождения уровня между пользователями, которые заканчивают уровень через реализацию проекта, и пользователями, которые заканчивают уровень победой над другим игроком.\n",
    "\n",
    "Можно принять во внимание гипотезу H(1) о различии среднего времени прохождения уровня\n",
    "\n",
    "**Гипотеза 2**\n",
    "\n",
    "По результатам проверки статистической гипотезы можно отвергнуть нулевую гипотезу H(0) о равенстве среднего времени прохождения уровня между пользователями завершившими 1 уровень и, пользователями не завершившими 1 уровень\n",
    "\n",
    "Можно принять во внимание гипотезу H(1) о различии среднего времени прохождения уровня между пользователями завершившими 1 уровень и, пользователями не завершившими 1 уровень."
   ]
  },
  {
   "cell_type": "markdown",
   "metadata": {},
   "source": [
    "### Модель монетизации\n",
    "\n",
    "Исходя из анализа данных можно заключить, что затраты на маркетинг при базовой модели показа рекламы окупаются на 10 событие совершенное пользователем\n",
    "\n",
    "В базовой модели реклама была показана **127956** раз, суммарный доход составил **8956.92**\n",
    "\n",
    "\n",
    "Доход превысил затраты на привлечение клиентов (7604) на **17.7%**\n",
    "\n",
    "\n",
    "Разработанная модель предполагает - не показывать рекламу пользователю на:\n",
    "\n",
    "    - экране постройки сборочного цеха, если для пользователя это 6 или 7 событие\n",
    "    - экране постройки центра исследований при первом строительстве  (8 событие)\n",
    "    - экране постройки космопорта при первом строительстве (2 событие) и перед победой большинства пользователей (9 событие)\n",
    "\n",
    "При исключении рекламы из описанных выше событий можно получить :\n",
    "\n",
    "Доход - **7705.53** при показе **110079** рекламных роликов (рентабельность **1.3%**)\n",
    "\n",
    "Сокращение негативного влияния рекламы - **13,97%**\n",
    "\n",
    "\n",
    "Альтернативная модель которая учитывает показ рекламы на экране постройки космопорта(9 событие) и  \n",
    "преполагает доход в размере **8038.1**, превышение затрат на **5.71%**\n",
    "\n",
    "Сокращение негативного влияния рекламы в данном случае- **10,26%**\n"
   ]
  },
  {
   "cell_type": "markdown",
   "metadata": {},
   "source": [
    "### Презентация\n",
    "\n",
    "[Ссылка не презентацию](https://disk.yandex.ru/i/y6APZaoqge-2mw)\n"
   ]
  },
  {
   "cell_type": "markdown",
   "metadata": {},
   "source": [
    "### Дашборд\n",
    "\n",
    "[Дашборд на сайте Tableau Public](https://public.tableau.com/app/profile/chernykhmark/viz/Space_broz_game_dashboard/Dashboard2?publish=yes)"
   ]
  },
  {
   "cell_type": "markdown",
   "metadata": {},
   "source": [
    "## Загрузка библиотек и данных"
   ]
  },
  {
   "cell_type": "code",
   "execution_count": 1,
   "metadata": {},
   "outputs": [],
   "source": [
    "import pandas as pd\n",
    "import numpy as np\n",
    "from datetime import timedelta, date as dt  \n",
    "from tqdm import tqdm\n",
    "import seaborn as sns\n",
    "import matplotlib.pyplot as plt\n",
    "from scipy import stats as st\n",
    "import warnings\n",
    "warnings.filterwarnings(\"ignore\")\n",
    "pd.options.display.float_format = '{:,.2f}'.format"
   ]
  },
  {
   "cell_type": "code",
   "execution_count": 2,
   "metadata": {
    "scrolled": false
   },
   "outputs": [
    {
     "name": "stdout",
     "output_type": "stream",
     "text": [
      "<class 'pandas.core.frame.DataFrame'>\n",
      "RangeIndex: 135640 entries, 0 to 135639\n",
      "Data columns (total 5 columns):\n",
      " #   Column          Non-Null Count   Dtype \n",
      "---  ------          --------------   ----- \n",
      " 0   event_datetime  135640 non-null  object\n",
      " 1   event           135640 non-null  object\n",
      " 2   building_type   127957 non-null  object\n",
      " 3   user_id         135640 non-null  object\n",
      " 4   project_type    1866 non-null    object\n",
      "dtypes: object(5)\n",
      "memory usage: 5.2+ MB\n"
     ]
    },
    {
     "data": {
      "text/html": [
       "<div>\n",
       "<style scoped>\n",
       "    .dataframe tbody tr th:only-of-type {\n",
       "        vertical-align: middle;\n",
       "    }\n",
       "\n",
       "    .dataframe tbody tr th {\n",
       "        vertical-align: top;\n",
       "    }\n",
       "\n",
       "    .dataframe thead th {\n",
       "        text-align: right;\n",
       "    }\n",
       "</style>\n",
       "<table border=\"1\" class=\"dataframe\">\n",
       "  <thead>\n",
       "    <tr style=\"text-align: right;\">\n",
       "      <th></th>\n",
       "      <th>event_datetime</th>\n",
       "      <th>event</th>\n",
       "      <th>building_type</th>\n",
       "      <th>user_id</th>\n",
       "      <th>project_type</th>\n",
       "    </tr>\n",
       "  </thead>\n",
       "  <tbody>\n",
       "    <tr>\n",
       "      <th>0</th>\n",
       "      <td>2020-05-04 00:00:01</td>\n",
       "      <td>building</td>\n",
       "      <td>assembly_shop</td>\n",
       "      <td>55e92310-cb8e-4754-b622-597e124b03de</td>\n",
       "      <td>NaN</td>\n",
       "    </tr>\n",
       "    <tr>\n",
       "      <th>1</th>\n",
       "      <td>2020-05-04 00:00:03</td>\n",
       "      <td>building</td>\n",
       "      <td>assembly_shop</td>\n",
       "      <td>c07b1c10-f477-44dc-81dc-ec82254b1347</td>\n",
       "      <td>NaN</td>\n",
       "    </tr>\n",
       "    <tr>\n",
       "      <th>2</th>\n",
       "      <td>2020-05-04 00:00:16</td>\n",
       "      <td>building</td>\n",
       "      <td>assembly_shop</td>\n",
       "      <td>6edd42cc-e753-4ff6-a947-2107cd560710</td>\n",
       "      <td>NaN</td>\n",
       "    </tr>\n",
       "    <tr>\n",
       "      <th>3</th>\n",
       "      <td>2020-05-04 00:00:16</td>\n",
       "      <td>building</td>\n",
       "      <td>assembly_shop</td>\n",
       "      <td>92c69003-d60a-444a-827f-8cc51bf6bf4c</td>\n",
       "      <td>NaN</td>\n",
       "    </tr>\n",
       "    <tr>\n",
       "      <th>4</th>\n",
       "      <td>2020-05-04 00:00:35</td>\n",
       "      <td>building</td>\n",
       "      <td>assembly_shop</td>\n",
       "      <td>cdc6bb92-0ccb-4490-9866-ef142f09139d</td>\n",
       "      <td>NaN</td>\n",
       "    </tr>\n",
       "  </tbody>\n",
       "</table>\n",
       "</div>"
      ],
      "text/plain": [
       "        event_datetime     event  building_type  \\\n",
       "0  2020-05-04 00:00:01  building  assembly_shop   \n",
       "1  2020-05-04 00:00:03  building  assembly_shop   \n",
       "2  2020-05-04 00:00:16  building  assembly_shop   \n",
       "3  2020-05-04 00:00:16  building  assembly_shop   \n",
       "4  2020-05-04 00:00:35  building  assembly_shop   \n",
       "\n",
       "                                user_id project_type  \n",
       "0  55e92310-cb8e-4754-b622-597e124b03de          NaN  \n",
       "1  c07b1c10-f477-44dc-81dc-ec82254b1347          NaN  \n",
       "2  6edd42cc-e753-4ff6-a947-2107cd560710          NaN  \n",
       "3  92c69003-d60a-444a-827f-8cc51bf6bf4c          NaN  \n",
       "4  cdc6bb92-0ccb-4490-9866-ef142f09139d          NaN  "
      ]
     },
     "execution_count": 2,
     "metadata": {},
     "output_type": "execute_result"
    }
   ],
   "source": [
    "game = pd.read_table('/Users/markchernykh/Downloads/game_actions.txt',sep=',', engine='python')\n",
    "game.info()\n",
    "game.head()"
   ]
  },
  {
   "cell_type": "code",
   "execution_count": 3,
   "metadata": {},
   "outputs": [
    {
     "name": "stdout",
     "output_type": "stream",
     "text": [
      "<class 'pandas.core.frame.DataFrame'>\n",
      "RangeIndex: 28 entries, 0 to 27\n",
      "Data columns (total 3 columns):\n",
      " #   Column  Non-Null Count  Dtype  \n",
      "---  ------  --------------  -----  \n",
      " 0   source  28 non-null     object \n",
      " 1   day     28 non-null     object \n",
      " 2   cost    28 non-null     float64\n",
      "dtypes: float64(1), object(2)\n",
      "memory usage: 800.0+ bytes\n"
     ]
    },
    {
     "data": {
      "text/html": [
       "<div>\n",
       "<style scoped>\n",
       "    .dataframe tbody tr th:only-of-type {\n",
       "        vertical-align: middle;\n",
       "    }\n",
       "\n",
       "    .dataframe tbody tr th {\n",
       "        vertical-align: top;\n",
       "    }\n",
       "\n",
       "    .dataframe thead th {\n",
       "        text-align: right;\n",
       "    }\n",
       "</style>\n",
       "<table border=\"1\" class=\"dataframe\">\n",
       "  <thead>\n",
       "    <tr style=\"text-align: right;\">\n",
       "      <th></th>\n",
       "      <th>source</th>\n",
       "      <th>day</th>\n",
       "      <th>cost</th>\n",
       "    </tr>\n",
       "  </thead>\n",
       "  <tbody>\n",
       "    <tr>\n",
       "      <th>0</th>\n",
       "      <td>facebook_ads</td>\n",
       "      <td>2020-05-03</td>\n",
       "      <td>935.88</td>\n",
       "    </tr>\n",
       "    <tr>\n",
       "      <th>1</th>\n",
       "      <td>facebook_ads</td>\n",
       "      <td>2020-05-04</td>\n",
       "      <td>548.35</td>\n",
       "    </tr>\n",
       "    <tr>\n",
       "      <th>2</th>\n",
       "      <td>facebook_ads</td>\n",
       "      <td>2020-05-05</td>\n",
       "      <td>260.19</td>\n",
       "    </tr>\n",
       "    <tr>\n",
       "      <th>3</th>\n",
       "      <td>facebook_ads</td>\n",
       "      <td>2020-05-06</td>\n",
       "      <td>177.98</td>\n",
       "    </tr>\n",
       "    <tr>\n",
       "      <th>4</th>\n",
       "      <td>facebook_ads</td>\n",
       "      <td>2020-05-07</td>\n",
       "      <td>111.77</td>\n",
       "    </tr>\n",
       "  </tbody>\n",
       "</table>\n",
       "</div>"
      ],
      "text/plain": [
       "         source         day   cost\n",
       "0  facebook_ads  2020-05-03 935.88\n",
       "1  facebook_ads  2020-05-04 548.35\n",
       "2  facebook_ads  2020-05-05 260.19\n",
       "3  facebook_ads  2020-05-06 177.98\n",
       "4  facebook_ads  2020-05-07 111.77"
      ]
     },
     "execution_count": 3,
     "metadata": {},
     "output_type": "execute_result"
    }
   ],
   "source": [
    "cost = pd.read_csv('/Users/markchernykh/Downloads/ad_costs.csv')\n",
    "cost.info()\n",
    "cost.head()"
   ]
  },
  {
   "cell_type": "code",
   "execution_count": 4,
   "metadata": {
    "scrolled": true
   },
   "outputs": [
    {
     "name": "stdout",
     "output_type": "stream",
     "text": [
      "<class 'pandas.core.frame.DataFrame'>\n",
      "RangeIndex: 13576 entries, 0 to 13575\n",
      "Data columns (total 2 columns):\n",
      " #   Column   Non-Null Count  Dtype \n",
      "---  ------   --------------  ----- \n",
      " 0   user_id  13576 non-null  object\n",
      " 1   source   13576 non-null  object\n",
      "dtypes: object(2)\n",
      "memory usage: 212.2+ KB\n"
     ]
    },
    {
     "data": {
      "text/html": [
       "<div>\n",
       "<style scoped>\n",
       "    .dataframe tbody tr th:only-of-type {\n",
       "        vertical-align: middle;\n",
       "    }\n",
       "\n",
       "    .dataframe tbody tr th {\n",
       "        vertical-align: top;\n",
       "    }\n",
       "\n",
       "    .dataframe thead th {\n",
       "        text-align: right;\n",
       "    }\n",
       "</style>\n",
       "<table border=\"1\" class=\"dataframe\">\n",
       "  <thead>\n",
       "    <tr style=\"text-align: right;\">\n",
       "      <th></th>\n",
       "      <th>user_id</th>\n",
       "      <th>source</th>\n",
       "    </tr>\n",
       "  </thead>\n",
       "  <tbody>\n",
       "    <tr>\n",
       "      <th>0</th>\n",
       "      <td>0001f83c-c6ac-4621-b7f0-8a28b283ac30</td>\n",
       "      <td>facebook_ads</td>\n",
       "    </tr>\n",
       "    <tr>\n",
       "      <th>1</th>\n",
       "      <td>00151b4f-ba38-44a8-a650-d7cf130a0105</td>\n",
       "      <td>yandex_direct</td>\n",
       "    </tr>\n",
       "    <tr>\n",
       "      <th>2</th>\n",
       "      <td>001aaea6-3d14-43f1-8ca8-7f48820f17aa</td>\n",
       "      <td>youtube_channel_reklama</td>\n",
       "    </tr>\n",
       "    <tr>\n",
       "      <th>3</th>\n",
       "      <td>001d39dc-366c-4021-9604-6a3b9ff01e25</td>\n",
       "      <td>instagram_new_adverts</td>\n",
       "    </tr>\n",
       "    <tr>\n",
       "      <th>4</th>\n",
       "      <td>002f508f-67b6-479f-814b-b05f00d4e995</td>\n",
       "      <td>facebook_ads</td>\n",
       "    </tr>\n",
       "  </tbody>\n",
       "</table>\n",
       "</div>"
      ],
      "text/plain": [
       "                                user_id                   source\n",
       "0  0001f83c-c6ac-4621-b7f0-8a28b283ac30             facebook_ads\n",
       "1  00151b4f-ba38-44a8-a650-d7cf130a0105            yandex_direct\n",
       "2  001aaea6-3d14-43f1-8ca8-7f48820f17aa  youtube_channel_reklama\n",
       "3  001d39dc-366c-4021-9604-6a3b9ff01e25    instagram_new_adverts\n",
       "4  002f508f-67b6-479f-814b-b05f00d4e995             facebook_ads"
      ]
     },
     "execution_count": 4,
     "metadata": {},
     "output_type": "execute_result"
    }
   ],
   "source": [
    "source = pd.read_csv('/Users/markchernykh/Downloads/user_source.csv')\n",
    "source.info()\n",
    "source.head()"
   ]
  },
  {
   "cell_type": "markdown",
   "metadata": {},
   "source": [
    "## Предобработка"
   ]
  },
  {
   "cell_type": "markdown",
   "metadata": {},
   "source": [
    "Соединяю источники с событиями по пользователю"
   ]
  },
  {
   "cell_type": "code",
   "execution_count": 5,
   "metadata": {},
   "outputs": [],
   "source": [
    "game = game.merge(source, on='user_id',how='left')"
   ]
  },
  {
   "cell_type": "markdown",
   "metadata": {},
   "source": [
    "Ввожу функцию для предобработки затрат на маркетинг"
   ]
  },
  {
   "cell_type": "code",
   "execution_count": 6,
   "metadata": {},
   "outputs": [],
   "source": [
    "#Функция для сдвига даты покупки пользователей\n",
    "def time(s):\n",
    "    s = pd.to_datetime(s)\n",
    "    d = s.day + 1\n",
    "    x = pd.datetime(2020,5,d)\n",
    "    return x\n",
    "cost['cohort'] = cost['day'].apply(time)\n",
    "cost = cost.sort_values(by='day').drop('day',axis=1)"
   ]
  },
  {
   "cell_type": "code",
   "execution_count": 7,
   "metadata": {},
   "outputs": [],
   "source": [
    "# Функция возврата сумммы по столбцам в виде словаря\n",
    "def su(df): \n",
    "    dic={}\n",
    "    for i in df.columns:\n",
    "        a = df[i].sum()\n",
    "        dic[i]=round(a)      \n",
    "    return dic"
   ]
  },
  {
   "cell_type": "markdown",
   "metadata": {},
   "source": [
    "### Поиск пропусков/дубликатов"
   ]
  },
  {
   "cell_type": "code",
   "execution_count": 8,
   "metadata": {},
   "outputs": [
    {
     "data": {
      "text/plain": [
       "133774"
      ]
     },
     "execution_count": 8,
     "metadata": {},
     "output_type": "execute_result"
    }
   ],
   "source": [
    "# поиск пропусков\n",
    "game['project_type'].isna().sum()"
   ]
  },
  {
   "cell_type": "code",
   "execution_count": 9,
   "metadata": {
    "scrolled": true
   },
   "outputs": [
    {
     "data": {
      "text/html": [
       "<div>\n",
       "<style scoped>\n",
       "    .dataframe tbody tr th:only-of-type {\n",
       "        vertical-align: middle;\n",
       "    }\n",
       "\n",
       "    .dataframe tbody tr th {\n",
       "        vertical-align: top;\n",
       "    }\n",
       "\n",
       "    .dataframe thead th {\n",
       "        text-align: right;\n",
       "    }\n",
       "</style>\n",
       "<table border=\"1\" class=\"dataframe\">\n",
       "  <thead>\n",
       "    <tr style=\"text-align: right;\">\n",
       "      <th></th>\n",
       "      <th>event_datetime</th>\n",
       "      <th>event</th>\n",
       "      <th>building_type</th>\n",
       "      <th>user_id</th>\n",
       "      <th>project_type</th>\n",
       "      <th>source</th>\n",
       "    </tr>\n",
       "  </thead>\n",
       "  <tbody>\n",
       "    <tr>\n",
       "      <th>47121</th>\n",
       "      <td>2020-05-08 18:10:25</td>\n",
       "      <td>project</td>\n",
       "      <td>NaN</td>\n",
       "      <td>e3c66498-9d45-4000-9392-f81e6796e7da</td>\n",
       "      <td>satellite_orbital_assembly</td>\n",
       "      <td>youtube_channel_reklama</td>\n",
       "    </tr>\n",
       "    <tr>\n",
       "      <th>57398</th>\n",
       "      <td>2020-05-09 13:49:11</td>\n",
       "      <td>project</td>\n",
       "      <td>NaN</td>\n",
       "      <td>936e7af6-8338-4703-a1df-fc6c3f5b8e34</td>\n",
       "      <td>satellite_orbital_assembly</td>\n",
       "      <td>facebook_ads</td>\n",
       "    </tr>\n",
       "    <tr>\n",
       "      <th>58797</th>\n",
       "      <td>2020-05-09 16:19:33</td>\n",
       "      <td>project</td>\n",
       "      <td>NaN</td>\n",
       "      <td>a4491c86-c498-4f74-a56e-65c136d0e9a1</td>\n",
       "      <td>satellite_orbital_assembly</td>\n",
       "      <td>yandex_direct</td>\n",
       "    </tr>\n",
       "    <tr>\n",
       "      <th>61174</th>\n",
       "      <td>2020-05-09 20:29:01</td>\n",
       "      <td>project</td>\n",
       "      <td>NaN</td>\n",
       "      <td>85d9e675-562b-4329-8bbd-14d3b39096be</td>\n",
       "      <td>satellite_orbital_assembly</td>\n",
       "      <td>youtube_channel_reklama</td>\n",
       "    </tr>\n",
       "    <tr>\n",
       "      <th>63770</th>\n",
       "      <td>2020-05-10 00:57:47</td>\n",
       "      <td>project</td>\n",
       "      <td>NaN</td>\n",
       "      <td>1889ca71-3c57-4e61-9ea6-a711971bbf0a</td>\n",
       "      <td>satellite_orbital_assembly</td>\n",
       "      <td>instagram_new_adverts</td>\n",
       "    </tr>\n",
       "  </tbody>\n",
       "</table>\n",
       "</div>"
      ],
      "text/plain": [
       "            event_datetime    event building_type  \\\n",
       "47121  2020-05-08 18:10:25  project           NaN   \n",
       "57398  2020-05-09 13:49:11  project           NaN   \n",
       "58797  2020-05-09 16:19:33  project           NaN   \n",
       "61174  2020-05-09 20:29:01  project           NaN   \n",
       "63770  2020-05-10 00:57:47  project           NaN   \n",
       "\n",
       "                                    user_id                project_type  \\\n",
       "47121  e3c66498-9d45-4000-9392-f81e6796e7da  satellite_orbital_assembly   \n",
       "57398  936e7af6-8338-4703-a1df-fc6c3f5b8e34  satellite_orbital_assembly   \n",
       "58797  a4491c86-c498-4f74-a56e-65c136d0e9a1  satellite_orbital_assembly   \n",
       "61174  85d9e675-562b-4329-8bbd-14d3b39096be  satellite_orbital_assembly   \n",
       "63770  1889ca71-3c57-4e61-9ea6-a711971bbf0a  satellite_orbital_assembly   \n",
       "\n",
       "                        source  \n",
       "47121  youtube_channel_reklama  \n",
       "57398             facebook_ads  \n",
       "58797            yandex_direct  \n",
       "61174  youtube_channel_reklama  \n",
       "63770    instagram_new_adverts  "
      ]
     },
     "execution_count": 9,
     "metadata": {},
     "output_type": "execute_result"
    }
   ],
   "source": [
    "game[game['project_type'].isna()==False].head()"
   ]
  },
  {
   "cell_type": "markdown",
   "metadata": {},
   "source": [
    "Пропущенные значения связаны с механикой игры, замена не требуется"
   ]
  },
  {
   "cell_type": "markdown",
   "metadata": {},
   "source": [
    "### Преобразование типов данных"
   ]
  },
  {
   "cell_type": "code",
   "execution_count": 10,
   "metadata": {
    "scrolled": true
   },
   "outputs": [
    {
     "name": "stdout",
     "output_type": "stream",
     "text": [
      "<class 'pandas.core.frame.DataFrame'>\n",
      "Int64Index: 135640 entries, 0 to 135639\n",
      "Data columns (total 6 columns):\n",
      " #   Column          Non-Null Count   Dtype         \n",
      "---  ------          --------------   -----         \n",
      " 0   event_datetime  135640 non-null  datetime64[ns]\n",
      " 1   event           135640 non-null  object        \n",
      " 2   building_type   127957 non-null  object        \n",
      " 3   user_id         135640 non-null  object        \n",
      " 4   project_type    1866 non-null    object        \n",
      " 5   source          135640 non-null  object        \n",
      "dtypes: datetime64[ns](1), object(5)\n",
      "memory usage: 7.2+ MB\n"
     ]
    }
   ],
   "source": [
    "game['event_datetime'] = pd.to_datetime(game['event_datetime'])\n",
    "game.info()"
   ]
  },
  {
   "cell_type": "code",
   "execution_count": 11,
   "metadata": {},
   "outputs": [
    {
     "data": {
      "text/html": [
       "<div>\n",
       "<style scoped>\n",
       "    .dataframe tbody tr th:only-of-type {\n",
       "        vertical-align: middle;\n",
       "    }\n",
       "\n",
       "    .dataframe tbody tr th {\n",
       "        vertical-align: top;\n",
       "    }\n",
       "\n",
       "    .dataframe thead th {\n",
       "        text-align: right;\n",
       "    }\n",
       "</style>\n",
       "<table border=\"1\" class=\"dataframe\">\n",
       "  <thead>\n",
       "    <tr style=\"text-align: right;\">\n",
       "      <th></th>\n",
       "      <th>event_datetime</th>\n",
       "      <th>event</th>\n",
       "      <th>building_type</th>\n",
       "      <th>user_id</th>\n",
       "      <th>project_type</th>\n",
       "      <th>source</th>\n",
       "    </tr>\n",
       "  </thead>\n",
       "  <tbody>\n",
       "    <tr>\n",
       "      <th>74891</th>\n",
       "      <td>2020-05-10 18:41:56</td>\n",
       "      <td>building</td>\n",
       "      <td>research_center</td>\n",
       "      <td>c9af55d2-b0ae-4bb4-b3d5-f32aa9ac03af</td>\n",
       "      <td>NaN</td>\n",
       "      <td>youtube_channel_reklama</td>\n",
       "    </tr>\n",
       "  </tbody>\n",
       "</table>\n",
       "</div>"
      ],
      "text/plain": [
       "           event_datetime     event    building_type  \\\n",
       "74891 2020-05-10 18:41:56  building  research_center   \n",
       "\n",
       "                                    user_id project_type  \\\n",
       "74891  c9af55d2-b0ae-4bb4-b3d5-f32aa9ac03af          NaN   \n",
       "\n",
       "                        source  \n",
       "74891  youtube_channel_reklama  "
      ]
     },
     "execution_count": 11,
     "metadata": {},
     "output_type": "execute_result"
    }
   ],
   "source": [
    "game[game.duplicated()]"
   ]
  },
  {
   "cell_type": "code",
   "execution_count": 12,
   "metadata": {
    "scrolled": true
   },
   "outputs": [
    {
     "data": {
      "text/html": [
       "<div>\n",
       "<style scoped>\n",
       "    .dataframe tbody tr th:only-of-type {\n",
       "        vertical-align: middle;\n",
       "    }\n",
       "\n",
       "    .dataframe tbody tr th {\n",
       "        vertical-align: top;\n",
       "    }\n",
       "\n",
       "    .dataframe thead th {\n",
       "        text-align: right;\n",
       "    }\n",
       "</style>\n",
       "<table border=\"1\" class=\"dataframe\">\n",
       "  <thead>\n",
       "    <tr style=\"text-align: right;\">\n",
       "      <th></th>\n",
       "      <th>event_datetime</th>\n",
       "      <th>event</th>\n",
       "      <th>building_type</th>\n",
       "      <th>user_id</th>\n",
       "      <th>project_type</th>\n",
       "      <th>source</th>\n",
       "    </tr>\n",
       "  </thead>\n",
       "  <tbody>\n",
       "    <tr>\n",
       "      <th>74890</th>\n",
       "      <td>2020-05-10 18:41:56</td>\n",
       "      <td>building</td>\n",
       "      <td>research_center</td>\n",
       "      <td>c9af55d2-b0ae-4bb4-b3d5-f32aa9ac03af</td>\n",
       "      <td>NaN</td>\n",
       "      <td>youtube_channel_reklama</td>\n",
       "    </tr>\n",
       "    <tr>\n",
       "      <th>74891</th>\n",
       "      <td>2020-05-10 18:41:56</td>\n",
       "      <td>building</td>\n",
       "      <td>research_center</td>\n",
       "      <td>c9af55d2-b0ae-4bb4-b3d5-f32aa9ac03af</td>\n",
       "      <td>NaN</td>\n",
       "      <td>youtube_channel_reklama</td>\n",
       "    </tr>\n",
       "  </tbody>\n",
       "</table>\n",
       "</div>"
      ],
      "text/plain": [
       "           event_datetime     event    building_type  \\\n",
       "74890 2020-05-10 18:41:56  building  research_center   \n",
       "74891 2020-05-10 18:41:56  building  research_center   \n",
       "\n",
       "                                    user_id project_type  \\\n",
       "74890  c9af55d2-b0ae-4bb4-b3d5-f32aa9ac03af          NaN   \n",
       "74891  c9af55d2-b0ae-4bb4-b3d5-f32aa9ac03af          NaN   \n",
       "\n",
       "                        source  \n",
       "74890  youtube_channel_reklama  \n",
       "74891  youtube_channel_reklama  "
      ]
     },
     "execution_count": 12,
     "metadata": {},
     "output_type": "execute_result"
    }
   ],
   "source": [
    "game.loc[game['user_id']==\"c9af55d2-b0ae-4bb4-b3d5-f32aa9ac03af\"][7:9]"
   ]
  },
  {
   "cell_type": "markdown",
   "metadata": {},
   "source": [
    "Обнаружен 1 дубликат во время строительства центра исследований. Исключаю данный дубликат из датафрейма, время совпадает."
   ]
  },
  {
   "cell_type": "code",
   "execution_count": 13,
   "metadata": {},
   "outputs": [
    {
     "data": {
      "text/plain": [
       "(135640, 6)"
      ]
     },
     "execution_count": 13,
     "metadata": {},
     "output_type": "execute_result"
    }
   ],
   "source": [
    "game.shape"
   ]
  },
  {
   "cell_type": "code",
   "execution_count": 14,
   "metadata": {},
   "outputs": [],
   "source": [
    "# Дубликаты\n",
    "game = game.drop_duplicates()"
   ]
  },
  {
   "cell_type": "code",
   "execution_count": 15,
   "metadata": {
    "scrolled": true
   },
   "outputs": [
    {
     "data": {
      "text/plain": [
       "(135639, 6)"
      ]
     },
     "execution_count": 15,
     "metadata": {},
     "output_type": "execute_result"
    }
   ],
   "source": [
    "game.shape"
   ]
  },
  {
   "cell_type": "markdown",
   "metadata": {},
   "source": [
    "### Категоризация пользователей и событий"
   ]
  },
  {
   "cell_type": "code",
   "execution_count": 16,
   "metadata": {},
   "outputs": [
    {
     "name": "stdout",
     "output_type": "stream",
     "text": [
      "Уникальные пользователи - 13576\n"
     ]
    },
    {
     "data": {
      "text/html": [
       "<div>\n",
       "<style scoped>\n",
       "    .dataframe tbody tr th:only-of-type {\n",
       "        vertical-align: middle;\n",
       "    }\n",
       "\n",
       "    .dataframe tbody tr th {\n",
       "        vertical-align: top;\n",
       "    }\n",
       "\n",
       "    .dataframe thead th {\n",
       "        text-align: right;\n",
       "    }\n",
       "</style>\n",
       "<table border=\"1\" class=\"dataframe\">\n",
       "  <thead>\n",
       "    <tr style=\"text-align: right;\">\n",
       "      <th></th>\n",
       "      <th>user_id</th>\n",
       "      <th>first_ts</th>\n",
       "      <th>last_ts</th>\n",
       "    </tr>\n",
       "  </thead>\n",
       "  <tbody>\n",
       "    <tr>\n",
       "      <th>4642</th>\n",
       "      <td>55e92310-cb8e-4754-b622-597e124b03de</td>\n",
       "      <td>2020-05-04 00:00:01</td>\n",
       "      <td>2020-05-10 20:27:01</td>\n",
       "    </tr>\n",
       "    <tr>\n",
       "      <th>10193</th>\n",
       "      <td>c07b1c10-f477-44dc-81dc-ec82254b1347</td>\n",
       "      <td>2020-05-04 00:00:03</td>\n",
       "      <td>2020-05-15 05:29:13</td>\n",
       "    </tr>\n",
       "  </tbody>\n",
       "</table>\n",
       "</div>"
      ],
      "text/plain": [
       "                                    user_id            first_ts  \\\n",
       "4642   55e92310-cb8e-4754-b622-597e124b03de 2020-05-04 00:00:01   \n",
       "10193  c07b1c10-f477-44dc-81dc-ec82254b1347 2020-05-04 00:00:03   \n",
       "\n",
       "                  last_ts  \n",
       "4642  2020-05-10 20:27:01  \n",
       "10193 2020-05-15 05:29:13  "
      ]
     },
     "execution_count": 16,
     "metadata": {},
     "output_type": "execute_result"
    }
   ],
   "source": [
    "# Создание профайлов\n",
    "profiles = (\n",
    "    game\n",
    "        .groupby('user_id')['event_datetime']\n",
    "        .agg(['min','max'])\n",
    "        .sort_values(by='user_id')\n",
    "        .reset_index()#\n",
    "        \n",
    ")\n",
    "\n",
    "profiles.columns = ['user_id','first_ts','last_ts']\n",
    "print('Уникальные пользователи - {}'.format(len(profiles)))\n",
    "profiles.sort_values(by='first_ts').head(2)\n"
   ]
  },
  {
   "cell_type": "markdown",
   "metadata": {},
   "source": [
    "**13576** уникальных пользователей за период с \t**2020-05-04** по **2020-06-05**"
   ]
  },
  {
   "cell_type": "code",
   "execution_count": 17,
   "metadata": {},
   "outputs": [],
   "source": [
    "# Добавляю категорию победителя в фрейм (0,1)\n",
    "winer = game[:]\n",
    "winer.loc[game['event']=='finished_stage_1','win'] = 1\n",
    "winer = winer[winer['win']==1][['user_id','win']]\n",
    "\n",
    "\n",
    "profiles = profiles.merge(winer,on='user_id',how='left')"
   ]
  },
  {
   "cell_type": "code",
   "execution_count": 18,
   "metadata": {
    "scrolled": true
   },
   "outputs": [],
   "source": [
    "# Замена user_id на последователеьность чисел,\n",
    "profiles['user_n'] = [x+1 for x in range(len(profiles['user_id']))]\n",
    "\n",
    "# Лайфтайм от первого до последнего визита\n",
    "profiles['lifetime'] = ((profiles['last_ts'] - profiles['first_ts'])/np.timedelta64(1, 'D')).astype(int)\n",
    "\n",
    "# Когорты по дате первого визита\n",
    "profiles['cohort'] = profiles['first_ts'].dt.date\n",
    "\n",
    "# Пропуски в победах заполняю нулем\n",
    "profiles['win'] = profiles['win'].fillna(0).astype(int)\n",
    "\n",
    "# Считаю сколько событий совершил каждый пользователь\n",
    "users_events = (\n",
    "    game\n",
    "        .groupby('user_id')\n",
    "        .agg({'event':'count'})['event']\n",
    "        .reset_index().rename(columns={'event':'total_events'})\n",
    ")\n",
    "pro_games = profiles.merge(users_events,on='user_id')\n"
   ]
  },
  {
   "cell_type": "code",
   "execution_count": 19,
   "metadata": {
    "scrolled": false
   },
   "outputs": [
    {
     "name": "stdout",
     "output_type": "stream",
     "text": [
      "<class 'pandas.core.frame.DataFrame'>\n",
      "Int64Index: 135639 entries, 0 to 135638\n",
      "Data columns (total 13 columns):\n",
      " #   Column          Non-Null Count   Dtype         \n",
      "---  ------          --------------   -----         \n",
      " 0   event_datetime  135639 non-null  datetime64[ns]\n",
      " 1   event           135639 non-null  object        \n",
      " 2   building_type   127956 non-null  object        \n",
      " 3   user_id         135639 non-null  object        \n",
      " 4   project_type    1866 non-null    object        \n",
      " 5   source          135639 non-null  object        \n",
      " 6   first_ts        135639 non-null  datetime64[ns]\n",
      " 7   last_ts         135639 non-null  datetime64[ns]\n",
      " 8   win             135639 non-null  int64         \n",
      " 9   user_n          135639 non-null  int64         \n",
      " 10  lifetime        135639 non-null  int64         \n",
      " 11  cohort          135639 non-null  object        \n",
      " 12  total_events    135639 non-null  int64         \n",
      "dtypes: datetime64[ns](3), int64(4), object(6)\n",
      "memory usage: 14.5+ MB\n"
     ]
    }
   ],
   "source": [
    "pro_games = game.merge(pro_games,on='user_id',how='left')\n",
    "pro_games.info()"
   ]
  },
  {
   "cell_type": "markdown",
   "metadata": {},
   "source": [
    "Также меня интересует последовательность действий для каждого пользователя, пронумерую их шаги и на каждом событии с выбором здания поставлю маркер - реклама показана"
   ]
  },
  {
   "cell_type": "code",
   "execution_count": 20,
   "metadata": {
    "scrolled": true
   },
   "outputs": [],
   "source": [
    "pro_games = pro_games.sort_values(by=['user_id', 'event_datetime'])\n",
    "# Каждое последующее действие +1\n",
    "pro_games['step'] = pro_games.groupby('user_id').cumcount() + 1\n",
    "\n",
    "# Маркер показа рекламы\n",
    "pro_games['advertising'] = np.where(\n",
    "    (pro_games['event']=='building'), 1, 0)\n",
    "\n",
    "# Аналогичный вид для проектов\n",
    "pro_games['project_type'] = np.where(\n",
    "    (pro_games['project_type']=='satellite_orbital_assembly'), 1, 0)"
   ]
  },
  {
   "cell_type": "code",
   "execution_count": 21,
   "metadata": {},
   "outputs": [
    {
     "data": {
      "text/html": [
       "<div>\n",
       "<style scoped>\n",
       "    .dataframe tbody tr th:only-of-type {\n",
       "        vertical-align: middle;\n",
       "    }\n",
       "\n",
       "    .dataframe tbody tr th {\n",
       "        vertical-align: top;\n",
       "    }\n",
       "\n",
       "    .dataframe thead th {\n",
       "        text-align: right;\n",
       "    }\n",
       "</style>\n",
       "<table border=\"1\" class=\"dataframe\">\n",
       "  <thead>\n",
       "    <tr style=\"text-align: right;\">\n",
       "      <th></th>\n",
       "      <th>event_datetime</th>\n",
       "      <th>event</th>\n",
       "      <th>building_type</th>\n",
       "      <th>user_id</th>\n",
       "      <th>project_type</th>\n",
       "      <th>source</th>\n",
       "      <th>first_ts</th>\n",
       "      <th>last_ts</th>\n",
       "      <th>win</th>\n",
       "      <th>user_n</th>\n",
       "      <th>lifetime</th>\n",
       "      <th>cohort</th>\n",
       "      <th>total_events</th>\n",
       "      <th>step</th>\n",
       "      <th>advertising</th>\n",
       "    </tr>\n",
       "  </thead>\n",
       "  <tbody>\n",
       "    <tr>\n",
       "      <th>17684</th>\n",
       "      <td>2020-05-06 01:07:37</td>\n",
       "      <td>building</td>\n",
       "      <td>assembly_shop</td>\n",
       "      <td>0001f83c-c6ac-4621-b7f0-8a28b283ac30</td>\n",
       "      <td>0</td>\n",
       "      <td>facebook_ads</td>\n",
       "      <td>2020-05-06 01:07:37</td>\n",
       "      <td>2020-05-20 11:26:06</td>\n",
       "      <td>0</td>\n",
       "      <td>1</td>\n",
       "      <td>14</td>\n",
       "      <td>2020-05-06</td>\n",
       "      <td>13</td>\n",
       "      <td>1</td>\n",
       "      <td>1</td>\n",
       "    </tr>\n",
       "    <tr>\n",
       "      <th>21903</th>\n",
       "      <td>2020-05-06 11:31:56</td>\n",
       "      <td>building</td>\n",
       "      <td>assembly_shop</td>\n",
       "      <td>0001f83c-c6ac-4621-b7f0-8a28b283ac30</td>\n",
       "      <td>0</td>\n",
       "      <td>facebook_ads</td>\n",
       "      <td>2020-05-06 01:07:37</td>\n",
       "      <td>2020-05-20 11:26:06</td>\n",
       "      <td>0</td>\n",
       "      <td>1</td>\n",
       "      <td>14</td>\n",
       "      <td>2020-05-06</td>\n",
       "      <td>13</td>\n",
       "      <td>2</td>\n",
       "      <td>1</td>\n",
       "    </tr>\n",
       "    <tr>\n",
       "      <th>23426</th>\n",
       "      <td>2020-05-06 15:11:50</td>\n",
       "      <td>building</td>\n",
       "      <td>assembly_shop</td>\n",
       "      <td>0001f83c-c6ac-4621-b7f0-8a28b283ac30</td>\n",
       "      <td>0</td>\n",
       "      <td>facebook_ads</td>\n",
       "      <td>2020-05-06 01:07:37</td>\n",
       "      <td>2020-05-20 11:26:06</td>\n",
       "      <td>0</td>\n",
       "      <td>1</td>\n",
       "      <td>14</td>\n",
       "      <td>2020-05-06</td>\n",
       "      <td>13</td>\n",
       "      <td>3</td>\n",
       "      <td>1</td>\n",
       "    </tr>\n",
       "    <tr>\n",
       "      <th>53159</th>\n",
       "      <td>2020-05-09 05:59:57</td>\n",
       "      <td>building</td>\n",
       "      <td>assembly_shop</td>\n",
       "      <td>0001f83c-c6ac-4621-b7f0-8a28b283ac30</td>\n",
       "      <td>0</td>\n",
       "      <td>facebook_ads</td>\n",
       "      <td>2020-05-06 01:07:37</td>\n",
       "      <td>2020-05-20 11:26:06</td>\n",
       "      <td>0</td>\n",
       "      <td>1</td>\n",
       "      <td>14</td>\n",
       "      <td>2020-05-06</td>\n",
       "      <td>13</td>\n",
       "      <td>4</td>\n",
       "      <td>1</td>\n",
       "    </tr>\n",
       "    <tr>\n",
       "      <th>54034</th>\n",
       "      <td>2020-05-09 07:35:40</td>\n",
       "      <td>building</td>\n",
       "      <td>assembly_shop</td>\n",
       "      <td>0001f83c-c6ac-4621-b7f0-8a28b283ac30</td>\n",
       "      <td>0</td>\n",
       "      <td>facebook_ads</td>\n",
       "      <td>2020-05-06 01:07:37</td>\n",
       "      <td>2020-05-20 11:26:06</td>\n",
       "      <td>0</td>\n",
       "      <td>1</td>\n",
       "      <td>14</td>\n",
       "      <td>2020-05-06</td>\n",
       "      <td>13</td>\n",
       "      <td>5</td>\n",
       "      <td>1</td>\n",
       "    </tr>\n",
       "  </tbody>\n",
       "</table>\n",
       "</div>"
      ],
      "text/plain": [
       "           event_datetime     event  building_type  \\\n",
       "17684 2020-05-06 01:07:37  building  assembly_shop   \n",
       "21903 2020-05-06 11:31:56  building  assembly_shop   \n",
       "23426 2020-05-06 15:11:50  building  assembly_shop   \n",
       "53159 2020-05-09 05:59:57  building  assembly_shop   \n",
       "54034 2020-05-09 07:35:40  building  assembly_shop   \n",
       "\n",
       "                                    user_id  project_type        source  \\\n",
       "17684  0001f83c-c6ac-4621-b7f0-8a28b283ac30             0  facebook_ads   \n",
       "21903  0001f83c-c6ac-4621-b7f0-8a28b283ac30             0  facebook_ads   \n",
       "23426  0001f83c-c6ac-4621-b7f0-8a28b283ac30             0  facebook_ads   \n",
       "53159  0001f83c-c6ac-4621-b7f0-8a28b283ac30             0  facebook_ads   \n",
       "54034  0001f83c-c6ac-4621-b7f0-8a28b283ac30             0  facebook_ads   \n",
       "\n",
       "                 first_ts             last_ts  win  user_n  lifetime  \\\n",
       "17684 2020-05-06 01:07:37 2020-05-20 11:26:06    0       1        14   \n",
       "21903 2020-05-06 01:07:37 2020-05-20 11:26:06    0       1        14   \n",
       "23426 2020-05-06 01:07:37 2020-05-20 11:26:06    0       1        14   \n",
       "53159 2020-05-06 01:07:37 2020-05-20 11:26:06    0       1        14   \n",
       "54034 2020-05-06 01:07:37 2020-05-20 11:26:06    0       1        14   \n",
       "\n",
       "           cohort  total_events  step  advertising  \n",
       "17684  2020-05-06            13     1            1  \n",
       "21903  2020-05-06            13     2            1  \n",
       "23426  2020-05-06            13     3            1  \n",
       "53159  2020-05-06            13     4            1  \n",
       "54034  2020-05-06            13     5            1  "
      ]
     },
     "execution_count": 21,
     "metadata": {},
     "output_type": "execute_result"
    }
   ],
   "source": [
    "pro_games.head()"
   ]
  },
  {
   "cell_type": "markdown",
   "metadata": {},
   "source": [
    "За исследуемое время произошло **135639** событий"
   ]
  },
  {
   "cell_type": "code",
   "execution_count": 22,
   "metadata": {},
   "outputs": [
    {
     "data": {
      "text/html": [
       "<div>\n",
       "<style scoped>\n",
       "    .dataframe tbody tr th:only-of-type {\n",
       "        vertical-align: middle;\n",
       "    }\n",
       "\n",
       "    .dataframe tbody tr th {\n",
       "        vertical-align: top;\n",
       "    }\n",
       "\n",
       "    .dataframe thead th {\n",
       "        text-align: right;\n",
       "    }\n",
       "</style>\n",
       "<table border=\"1\" class=\"dataframe\">\n",
       "  <thead>\n",
       "    <tr style=\"text-align: right;\">\n",
       "      <th></th>\n",
       "      <th>event_datetime</th>\n",
       "      <th>user_n</th>\n",
       "      <th>win</th>\n",
       "      <th>step</th>\n",
       "      <th>event</th>\n",
       "      <th>building_type</th>\n",
       "      <th>project_type</th>\n",
       "      <th>advertising</th>\n",
       "      <th>cohort</th>\n",
       "      <th>total_events</th>\n",
       "      <th>lifetime</th>\n",
       "      <th>source</th>\n",
       "    </tr>\n",
       "  </thead>\n",
       "  <tbody>\n",
       "    <tr>\n",
       "      <th>17684</th>\n",
       "      <td>2020-05-06 01:07:37</td>\n",
       "      <td>1</td>\n",
       "      <td>0</td>\n",
       "      <td>1</td>\n",
       "      <td>building</td>\n",
       "      <td>assembly_shop</td>\n",
       "      <td>0</td>\n",
       "      <td>1</td>\n",
       "      <td>2020-05-06</td>\n",
       "      <td>13</td>\n",
       "      <td>14</td>\n",
       "      <td>facebook_ads</td>\n",
       "    </tr>\n",
       "    <tr>\n",
       "      <th>21903</th>\n",
       "      <td>2020-05-06 11:31:56</td>\n",
       "      <td>1</td>\n",
       "      <td>0</td>\n",
       "      <td>2</td>\n",
       "      <td>building</td>\n",
       "      <td>assembly_shop</td>\n",
       "      <td>0</td>\n",
       "      <td>1</td>\n",
       "      <td>2020-05-06</td>\n",
       "      <td>13</td>\n",
       "      <td>14</td>\n",
       "      <td>facebook_ads</td>\n",
       "    </tr>\n",
       "    <tr>\n",
       "      <th>23426</th>\n",
       "      <td>2020-05-06 15:11:50</td>\n",
       "      <td>1</td>\n",
       "      <td>0</td>\n",
       "      <td>3</td>\n",
       "      <td>building</td>\n",
       "      <td>assembly_shop</td>\n",
       "      <td>0</td>\n",
       "      <td>1</td>\n",
       "      <td>2020-05-06</td>\n",
       "      <td>13</td>\n",
       "      <td>14</td>\n",
       "      <td>facebook_ads</td>\n",
       "    </tr>\n",
       "  </tbody>\n",
       "</table>\n",
       "</div>"
      ],
      "text/plain": [
       "           event_datetime  user_n  win  step     event  building_type  \\\n",
       "17684 2020-05-06 01:07:37       1    0     1  building  assembly_shop   \n",
       "21903 2020-05-06 11:31:56       1    0     2  building  assembly_shop   \n",
       "23426 2020-05-06 15:11:50       1    0     3  building  assembly_shop   \n",
       "\n",
       "       project_type  advertising      cohort  total_events  lifetime  \\\n",
       "17684             0            1  2020-05-06            13        14   \n",
       "21903             0            1  2020-05-06            13        14   \n",
       "23426             0            1  2020-05-06            13        14   \n",
       "\n",
       "             source  \n",
       "17684  facebook_ads  \n",
       "21903  facebook_ads  \n",
       "23426  facebook_ads  "
      ]
     },
     "execution_count": 22,
     "metadata": {},
     "output_type": "execute_result"
    }
   ],
   "source": [
    "pro_game = pro_games[['event_datetime',\n",
    "                      'user_n',\n",
    "                      'win',\n",
    "                      'step',\n",
    "                      'event',\n",
    "                      'building_type',\n",
    "                      'project_type',\n",
    "                      'advertising',\n",
    "                      'cohort',\n",
    "                      'total_events',\n",
    "                      'lifetime',\n",
    "                      'source']]\n",
    "pro_game.head(3)"
   ]
  },
  {
   "cell_type": "code",
   "execution_count": 23,
   "metadata": {},
   "outputs": [
    {
     "data": {
      "image/png": "[encoded data removed]",
      "text/plain": [
       "<Figure size 504x288 with 1 Axes>"
      ]
     },
     "metadata": {
      "needs_background": "light"
     },
     "output_type": "display_data"
    },
    {
     "name": "stdout",
     "output_type": "stream",
     "text": [
      "Среднее количество событий для всех пользователей - 11.71\n"
     ]
    }
   ],
   "source": [
    "f, ax = plt.subplots(figsize=(7, 4))\n",
    "sns.histplot(pro_game, x = 'total_events', hue=\"win\",bins=20)\n",
    "plt.title('Распределение максимального количества событий для пользователей')\n",
    "plt.xlabel('События')\n",
    "plt.ylabel('Пользователи')\n",
    "plt.legend(['win','lose'])\n",
    "plt.grid()\n",
    "plt.show();\n",
    "print('Среднее количество событий для всех пользователей - {:.2f}'.format(pro_game['total_events'].mean()))"
   ]
  },
  {
   "cell_type": "markdown",
   "metadata": {},
   "source": [
    "В среднем пользователи совершают порядка **11** действий, в том числе этого хватет в **50%** случаев для перехода на **2** уровень\n",
    "\n",
    "Примерно на 6 день уходит часть пользователей, возможно они проиграли или потеряли интерес к игре.\n",
    "\n",
    "Логично заключить, что победители в среднем совершают больше действий чем проигравшие."
   ]
  },
  {
   "cell_type": "code",
   "execution_count": 24,
   "metadata": {},
   "outputs": [
    {
     "data": {
      "text/html": [
       "<div>\n",
       "<style scoped>\n",
       "    .dataframe tbody tr th:only-of-type {\n",
       "        vertical-align: middle;\n",
       "    }\n",
       "\n",
       "    .dataframe tbody tr th {\n",
       "        vertical-align: top;\n",
       "    }\n",
       "\n",
       "    .dataframe thead th {\n",
       "        text-align: right;\n",
       "    }\n",
       "</style>\n",
       "<table border=\"1\" class=\"dataframe\">\n",
       "  <thead>\n",
       "    <tr style=\"text-align: right;\">\n",
       "      <th></th>\n",
       "      <th>user_n</th>\n",
       "      <th>building_type</th>\n",
       "      <th>project_type</th>\n",
       "    </tr>\n",
       "    <tr>\n",
       "      <th>event</th>\n",
       "      <th></th>\n",
       "      <th></th>\n",
       "      <th></th>\n",
       "    </tr>\n",
       "  </thead>\n",
       "  <tbody>\n",
       "    <tr>\n",
       "      <th>building</th>\n",
       "      <td>13576</td>\n",
       "      <td>127956</td>\n",
       "      <td>127956</td>\n",
       "    </tr>\n",
       "    <tr>\n",
       "      <th>finished_stage_1</th>\n",
       "      <td>5817</td>\n",
       "      <td>0</td>\n",
       "      <td>5817</td>\n",
       "    </tr>\n",
       "    <tr>\n",
       "      <th>project</th>\n",
       "      <td>1866</td>\n",
       "      <td>0</td>\n",
       "      <td>1866</td>\n",
       "    </tr>\n",
       "  </tbody>\n",
       "</table>\n",
       "</div>"
      ],
      "text/plain": [
       "                  user_n  building_type  project_type\n",
       "event                                                \n",
       "building           13576         127956        127956\n",
       "finished_stage_1    5817              0          5817\n",
       "project             1866              0          1866"
      ]
     },
     "execution_count": 24,
     "metadata": {},
     "output_type": "execute_result"
    }
   ],
   "source": [
    "pro_game.groupby(['event']).agg({\n",
    "    'user_n':'nunique',\n",
    "    'building_type':'count',\n",
    "    'project_type':'count'\n",
    "})"
   ]
  },
  {
   "cell_type": "markdown",
   "metadata": {},
   "source": [
    "Среди уникальных пользователей(*13576*):\n",
    "\n",
    "- Все 13576 строили здания (механика игры)\n",
    "\n",
    "- 127957 зданий потроили (какие здания строят?)\n",
    "\n",
    "- 5817 пользователей завершили 1 уровень (половина)\n",
    "\n",
    "- 1866 пользователей прошли на 2 уровень через проект"
   ]
  },
  {
   "cell_type": "code",
   "execution_count": 25,
   "metadata": {},
   "outputs": [],
   "source": [
    "def unigroup_use(df,user,groups,arg_1):\n",
    "    \n",
    "    other = df.groupby(arg_1)[groups].count().sum()\n",
    "    groups = df.groupby(groups)[user].nunique().tolist()\n",
    "    \n",
    "    result = groups\n",
    "    result.append(other)\n",
    "\n",
    "    return result"
   ]
  },
  {
   "cell_type": "markdown",
   "metadata": {},
   "source": [
    "Функция возвращает список значений включающий:\n",
    "\n",
    "- уникальных пользователей\n",
    "- количество построенных зданий\n",
    "- игроков завершивших 1 уровень\n",
    "- игроков выполнивших проект"
   ]
  },
  {
   "cell_type": "code",
   "execution_count": 26,
   "metadata": {
    "scrolled": true
   },
   "outputs": [],
   "source": [
    "result = unigroup_use(pro_game,\n",
    "            user = 'user_n',\n",
    "            groups = 'event',\n",
    "            arg_1 = 'building_type'\n",
    "            )\n",
    "users = result[0]\n",
    "building = result[3]\n",
    "winers = result[1]\n",
    "projects = result[2]"
   ]
  },
  {
   "cell_type": "code",
   "execution_count": 27,
   "metadata": {},
   "outputs": [
    {
     "name": "stdout",
     "output_type": "stream",
     "text": [
      "\n",
      "Среднее количество построек на уникального пользователя - 9.43\n",
      "Процент победителей среди уникальных пользователей - 42.85%\n",
      "Победили соперника (pvp) - 29.10%\n",
      "Победили проект (pve) - 13.74%\n",
      "\n"
     ]
    }
   ],
   "source": [
    "print()\n",
    "print('Среднее количество построек на уникального пользователя - {:.2f}'.format(building/users))\n",
    "print('Процент победителей среди уникальных пользователей - {:.2%}'.format(winers/users))\n",
    "print('Победили соперника (pvp) - {:.2%}'.format((winers-projects)/users))\n",
    "print('Победили проект (pve) - {:.2%}'.format(projects/users))\n",
    "print()"
   ]
  },
  {
   "cell_type": "markdown",
   "metadata": {},
   "source": [
    "Можно предположить, что в среднем постройка 9-ти зданий повышает вероятность победы, но не гарантируют ее, так как победителей 43% среди уникальных пользователей\n",
    "\n",
    "Пользователей PVP в 2 раза больше чем PVE"
   ]
  },
  {
   "cell_type": "code",
   "execution_count": 28,
   "metadata": {
    "scrolled": true
   },
   "outputs": [
    {
     "data": {
      "text/plain": [
       "array(['assembly_shop', 'spaceport', 'research_center', nan], dtype=object)"
      ]
     },
     "execution_count": 28,
     "metadata": {},
     "output_type": "execute_result"
    }
   ],
   "source": [
    "# типы построек\n",
    "pro_game['building_type'].unique()"
   ]
  },
  {
   "cell_type": "code",
   "execution_count": 29,
   "metadata": {},
   "outputs": [
    {
     "data": {
      "text/html": [
       "<div>\n",
       "<style scoped>\n",
       "    .dataframe tbody tr th:only-of-type {\n",
       "        vertical-align: middle;\n",
       "    }\n",
       "\n",
       "    .dataframe tbody tr th {\n",
       "        vertical-align: top;\n",
       "    }\n",
       "\n",
       "    .dataframe thead th {\n",
       "        text-align: right;\n",
       "    }\n",
       "</style>\n",
       "<table border=\"1\" class=\"dataframe\">\n",
       "  <thead>\n",
       "    <tr style=\"text-align: right;\">\n",
       "      <th></th>\n",
       "      <th>user_n</th>\n",
       "      <th>%</th>\n",
       "    </tr>\n",
       "    <tr>\n",
       "      <th>building_type</th>\n",
       "      <th></th>\n",
       "      <th></th>\n",
       "    </tr>\n",
       "  </thead>\n",
       "  <tbody>\n",
       "    <tr>\n",
       "      <th>assembly_shop</th>\n",
       "      <td>13576</td>\n",
       "      <td>100.00%</td>\n",
       "    </tr>\n",
       "    <tr>\n",
       "      <th>spaceport</th>\n",
       "      <td>13231</td>\n",
       "      <td>97.46%</td>\n",
       "    </tr>\n",
       "    <tr>\n",
       "      <th>research_center</th>\n",
       "      <td>7671</td>\n",
       "      <td>56.50%</td>\n",
       "    </tr>\n",
       "  </tbody>\n",
       "</table>\n",
       "</div>"
      ],
      "text/plain": [
       "                 user_n        %\n",
       "building_type                   \n",
       "assembly_shop     13576  100.00%\n",
       "spaceport         13231   97.46%\n",
       "research_center    7671   56.50%"
      ]
     },
     "execution_count": 29,
     "metadata": {},
     "output_type": "execute_result"
    }
   ],
   "source": [
    "buildings = pro_game.groupby('building_type').agg({\n",
    "    'user_n':'nunique'}).sort_values(by='user_n',ascending=False)\n",
    "buildings['%'] = ['{:.2%}'.format(x/users) for x in buildings['user_n']]\n",
    "buildings"
   ]
  },
  {
   "cell_type": "markdown",
   "metadata": {},
   "source": [
    "**Все** без исключения пользователи строили assembly_shop ( *сборочный цех СЦ* ), \n",
    "\n",
    "**2,5%** обошлись без spaceport (*космопорт К*), \n",
    "\n",
    "**56,5%** пользователей строили центр исследования, однако к победе через проект пришли только **13.74%** пользователей(*центр исследований ЦИ*)\n",
    "\n",
    "**29.10%** пользователей победили через победу над противником"
   ]
  },
  {
   "cell_type": "code",
   "execution_count": 30,
   "metadata": {},
   "outputs": [],
   "source": [
    "# Победители\n",
    "finish_users = pro_game[pro_game['win']==1]['user_n']"
   ]
  },
  {
   "cell_type": "code",
   "execution_count": 31,
   "metadata": {
    "scrolled": false
   },
   "outputs": [],
   "source": [
    "#Размеры\n",
    "fuser = pro_game.query('user_n in @finish_users')\n",
    "loser = pro_game.query('user_n not in @finish_users')\n",
    "sizes = fuser.groupby('cohort')['user_n'].nunique()"
   ]
  },
  {
   "cell_type": "code",
   "execution_count": 32,
   "metadata": {},
   "outputs": [
    {
     "name": "stdout",
     "output_type": "stream",
     "text": [
      "Размер датасета прошедших на 2 ур. и их событий - 68469\n",
      "Размер датасета не прошедших на 2 ур. и их событий - 67170\n",
      "dif - 1299\n"
     ]
    }
   ],
   "source": [
    "print('Размер датасета прошедших на 2 ур. и их событий - {}'.format(len(fuser)))\n",
    "print('Размер датасета не прошедших на 2 ур. и их событий - {}'.format(len(loser)))\n",
    "dif = len(fuser)-len(loser)\n",
    "print('dif - {}'.format(dif))"
   ]
  },
  {
   "cell_type": "code",
   "execution_count": 33,
   "metadata": {},
   "outputs": [],
   "source": [
    "# Уникальные пользователи, когорты, проценты\n",
    "pro_win = fuser.query('project_type == 1').groupby(['event','cohort']).agg({\n",
    "    'user_n':'nunique'  \n",
    "})\n",
    "pro_win['size'] = sizes.to_list()\n",
    "pro_win['%'] = pro_win['user_n']/pro_win['size']\n",
    "pro_win['%']  = ['{:.2%}'.format(x) for x in pro_win['%']]\n",
    "pro_win['pvp'] = pro_win['size'] - pro_win['user_n']\n",
    "pro_win.columns=['PVE пользователи','размер когорты','% проектов','PVP пользователи']\n",
    "pro_win['% pvp'] = pro_win['PVP пользователи']/pro_win['размер когорты']\n",
    "pro_win['% pvp']  = ['{:.2%}'.format(x) for x in pro_win['% pvp']]"
   ]
  },
  {
   "cell_type": "code",
   "execution_count": 34,
   "metadata": {},
   "outputs": [
    {
     "data": {
      "text/html": [
       "<div>\n",
       "<style scoped>\n",
       "    .dataframe tbody tr th:only-of-type {\n",
       "        vertical-align: middle;\n",
       "    }\n",
       "\n",
       "    .dataframe tbody tr th {\n",
       "        vertical-align: top;\n",
       "    }\n",
       "\n",
       "    .dataframe thead th {\n",
       "        text-align: right;\n",
       "    }\n",
       "</style>\n",
       "<table border=\"1\" class=\"dataframe\">\n",
       "  <thead>\n",
       "    <tr style=\"text-align: right;\">\n",
       "      <th></th>\n",
       "      <th></th>\n",
       "      <th>PVE пользователи</th>\n",
       "      <th>размер когорты</th>\n",
       "      <th>% проектов</th>\n",
       "      <th>PVP пользователи</th>\n",
       "      <th>% pvp</th>\n",
       "    </tr>\n",
       "    <tr>\n",
       "      <th>event</th>\n",
       "      <th>cohort</th>\n",
       "      <th></th>\n",
       "      <th></th>\n",
       "      <th></th>\n",
       "      <th></th>\n",
       "      <th></th>\n",
       "    </tr>\n",
       "  </thead>\n",
       "  <tbody>\n",
       "    <tr>\n",
       "      <th rowspan=\"7\" valign=\"top\">project</th>\n",
       "      <th>2020-05-04</th>\n",
       "      <td>921</td>\n",
       "      <td>2670</td>\n",
       "      <td>34.49%</td>\n",
       "      <td>1749</td>\n",
       "      <td>65.51%</td>\n",
       "    </tr>\n",
       "    <tr>\n",
       "      <th>2020-05-05</th>\n",
       "      <td>496</td>\n",
       "      <td>1513</td>\n",
       "      <td>32.78%</td>\n",
       "      <td>1017</td>\n",
       "      <td>67.22%</td>\n",
       "    </tr>\n",
       "    <tr>\n",
       "      <th>2020-05-06</th>\n",
       "      <td>242</td>\n",
       "      <td>771</td>\n",
       "      <td>31.39%</td>\n",
       "      <td>529</td>\n",
       "      <td>68.61%</td>\n",
       "    </tr>\n",
       "    <tr>\n",
       "      <th>2020-05-07</th>\n",
       "      <td>113</td>\n",
       "      <td>412</td>\n",
       "      <td>27.43%</td>\n",
       "      <td>299</td>\n",
       "      <td>72.57%</td>\n",
       "    </tr>\n",
       "    <tr>\n",
       "      <th>2020-05-08</th>\n",
       "      <td>47</td>\n",
       "      <td>235</td>\n",
       "      <td>20.00%</td>\n",
       "      <td>188</td>\n",
       "      <td>80.00%</td>\n",
       "    </tr>\n",
       "    <tr>\n",
       "      <th>2020-05-09</th>\n",
       "      <td>35</td>\n",
       "      <td>134</td>\n",
       "      <td>26.12%</td>\n",
       "      <td>99</td>\n",
       "      <td>73.88%</td>\n",
       "    </tr>\n",
       "    <tr>\n",
       "      <th>2020-05-10</th>\n",
       "      <td>12</td>\n",
       "      <td>82</td>\n",
       "      <td>14.63%</td>\n",
       "      <td>70</td>\n",
       "      <td>85.37%</td>\n",
       "    </tr>\n",
       "  </tbody>\n",
       "</table>\n",
       "</div>"
      ],
      "text/plain": [
       "                    PVE пользователи  размер когорты % проектов  \\\n",
       "event   cohort                                                    \n",
       "project 2020-05-04               921            2670     34.49%   \n",
       "        2020-05-05               496            1513     32.78%   \n",
       "        2020-05-06               242             771     31.39%   \n",
       "        2020-05-07               113             412     27.43%   \n",
       "        2020-05-08                47             235     20.00%   \n",
       "        2020-05-09                35             134     26.12%   \n",
       "        2020-05-10                12              82     14.63%   \n",
       "\n",
       "                    PVP пользователи   % pvp  \n",
       "event   cohort                                \n",
       "project 2020-05-04              1749  65.51%  \n",
       "        2020-05-05              1017  67.22%  \n",
       "        2020-05-06               529  68.61%  \n",
       "        2020-05-07               299  72.57%  \n",
       "        2020-05-08               188  80.00%  \n",
       "        2020-05-09                99  73.88%  \n",
       "        2020-05-10                70  85.37%  "
      ]
     },
     "execution_count": 34,
     "metadata": {},
     "output_type": "execute_result"
    }
   ],
   "source": [
    "pro_win"
   ]
  },
  {
   "cell_type": "markdown",
   "metadata": {},
   "source": [
    "Судя по первым когортам которые уже прожили достаточно дней для анализа, **30%** игроков инетересуют проекты, остальные **70%** - победа над противником. "
   ]
  },
  {
   "cell_type": "markdown",
   "metadata": {},
   "source": [
    "## Исследовательский анализ"
   ]
  },
  {
   "cell_type": "code",
   "execution_count": 35,
   "metadata": {
    "scrolled": true
   },
   "outputs": [
    {
     "data": {
      "text/html": [
       "<div>\n",
       "<style scoped>\n",
       "    .dataframe tbody tr th:only-of-type {\n",
       "        vertical-align: middle;\n",
       "    }\n",
       "\n",
       "    .dataframe tbody tr th {\n",
       "        vertical-align: top;\n",
       "    }\n",
       "\n",
       "    .dataframe thead th {\n",
       "        text-align: right;\n",
       "    }\n",
       "</style>\n",
       "<table border=\"1\" class=\"dataframe\">\n",
       "  <thead>\n",
       "    <tr style=\"text-align: right;\">\n",
       "      <th></th>\n",
       "      <th>event_datetime</th>\n",
       "      <th>user_n</th>\n",
       "      <th>win</th>\n",
       "      <th>step</th>\n",
       "      <th>event</th>\n",
       "      <th>building_type</th>\n",
       "      <th>project_type</th>\n",
       "      <th>advertising</th>\n",
       "      <th>cohort</th>\n",
       "      <th>total_events</th>\n",
       "      <th>lifetime</th>\n",
       "      <th>source</th>\n",
       "    </tr>\n",
       "  </thead>\n",
       "  <tbody>\n",
       "    <tr>\n",
       "      <th>17684</th>\n",
       "      <td>2020-05-06 01:07:37</td>\n",
       "      <td>1</td>\n",
       "      <td>0</td>\n",
       "      <td>1</td>\n",
       "      <td>building</td>\n",
       "      <td>assembly_shop</td>\n",
       "      <td>0</td>\n",
       "      <td>1</td>\n",
       "      <td>2020-05-06</td>\n",
       "      <td>13</td>\n",
       "      <td>14</td>\n",
       "      <td>facebook_ads</td>\n",
       "    </tr>\n",
       "  </tbody>\n",
       "</table>\n",
       "</div>"
      ],
      "text/plain": [
       "           event_datetime  user_n  win  step     event  building_type  \\\n",
       "17684 2020-05-06 01:07:37       1    0     1  building  assembly_shop   \n",
       "\n",
       "       project_type  advertising      cohort  total_events  lifetime  \\\n",
       "17684             0            1  2020-05-06            13        14   \n",
       "\n",
       "             source  \n",
       "17684  facebook_ads  "
      ]
     },
     "execution_count": 35,
     "metadata": {},
     "output_type": "execute_result"
    }
   ],
   "source": [
    "pro_game.head(1)"
   ]
  },
  {
   "cell_type": "markdown",
   "metadata": {},
   "source": [
    "### Когортный анализ "
   ]
  },
  {
   "cell_type": "code",
   "execution_count": 36,
   "metadata": {
    "scrolled": false
   },
   "outputs": [],
   "source": [
    "# Удержание пользователей\n",
    "rt = pro_games.pivot_table(\n",
    "    index='cohort', \n",
    "    columns='step',\n",
    "    values='user_n',\n",
    "    aggfunc='nunique'\n",
    ")\n",
    "rtt = rt.div(rt[1], axis=0)"
   ]
  },
  {
   "cell_type": "code",
   "execution_count": 37,
   "metadata": {
    "scrolled": false
   },
   "outputs": [
    {
     "data": {
      "image/png": "[encoded data removed]",
      "text/plain": [
       "<Figure size 1080x576 with 2 Axes>"
      ]
     },
     "metadata": {
      "needs_background": "light"
     },
     "output_type": "display_data"
    }
   ],
   "source": [
    "plt.figure(figsize=(15, 8))\n",
    "sns.heatmap(rtt.iloc[:,:], annot=True, cmap='RdYlGn',linewidths=1.0)\n",
    "plt.title('Удержание пользователей', fontsize=15)\n",
    "plt.xlabel(\"Событие\", fontsize=12)\n",
    "plt.ylabel(\"Когорты\", fontsize=12)\n",
    "plt.show()"
   ]
  },
  {
   "cell_type": "markdown",
   "metadata": {},
   "source": [
    " По показателю удержания можно отметить, что в когортах с максимальным лайфтаймом к 11-му событию в игре остается **50%** пользователей\n",
    "\n",
    "В первую неделю уходит порядка **15%** пользователей\n",
    "\n",
    "В конце второй недели (14 день) остается **30%** пользователей\n",
    "\n",
    "\n",
    "Соответсвенно стоит ориентироваться на максимально частый показ рекламы до 10 события, до момента когда половина пользователей перестанет строить здания"
   ]
  },
  {
   "cell_type": "code",
   "execution_count": 38,
   "metadata": {
    "scrolled": true
   },
   "outputs": [
    {
     "name": "stderr",
     "output_type": "stream",
     "text": [
      "100%|██████████| 5/5 [00:00<00:00, 222.74it/s]\n"
     ]
    },
    {
     "data": {
      "text/html": [
       "<div>\n",
       "<style scoped>\n",
       "    .dataframe tbody tr th:only-of-type {\n",
       "        vertical-align: middle;\n",
       "    }\n",
       "\n",
       "    .dataframe tbody tr th {\n",
       "        vertical-align: top;\n",
       "    }\n",
       "\n",
       "    .dataframe thead th {\n",
       "        text-align: right;\n",
       "    }\n",
       "</style>\n",
       "<table border=\"1\" class=\"dataframe\">\n",
       "  <thead>\n",
       "    <tr style=\"text-align: right;\">\n",
       "      <th></th>\n",
       "      <th>user_id</th>\n",
       "      <th>win</th>\n",
       "      <th>lifetime</th>\n",
       "      <th>total_events</th>\n",
       "      <th>advertising</th>\n",
       "      <th>user_id_diff</th>\n",
       "      <th>win_diff</th>\n",
       "      <th>lifetime_diff</th>\n",
       "      <th>total_events_diff</th>\n",
       "      <th>advertising_diff</th>\n",
       "    </tr>\n",
       "    <tr>\n",
       "      <th>cohort</th>\n",
       "      <th></th>\n",
       "      <th></th>\n",
       "      <th></th>\n",
       "      <th></th>\n",
       "      <th></th>\n",
       "      <th></th>\n",
       "      <th></th>\n",
       "      <th></th>\n",
       "      <th></th>\n",
       "      <th></th>\n",
       "    </tr>\n",
       "  </thead>\n",
       "  <tbody>\n",
       "    <tr>\n",
       "      <th>2020-05-04</th>\n",
       "      <td>5860</td>\n",
       "      <td>0.51</td>\n",
       "      <td>11.60</td>\n",
       "      <td>12.37</td>\n",
       "      <td>60635</td>\n",
       "      <td>NaN</td>\n",
       "      <td>NaN</td>\n",
       "      <td>NaN</td>\n",
       "      <td>NaN</td>\n",
       "      <td>NaN</td>\n",
       "    </tr>\n",
       "    <tr>\n",
       "      <th>2020-05-05</th>\n",
       "      <td>3361</td>\n",
       "      <td>0.52</td>\n",
       "      <td>11.14</td>\n",
       "      <td>11.89</td>\n",
       "      <td>32747</td>\n",
       "      <td>-0.43</td>\n",
       "      <td>0.01</td>\n",
       "      <td>-0.04</td>\n",
       "      <td>-0.04</td>\n",
       "      <td>-0.46</td>\n",
       "    </tr>\n",
       "    <tr>\n",
       "      <th>2020-05-06</th>\n",
       "      <td>1847</td>\n",
       "      <td>0.50</td>\n",
       "      <td>10.79</td>\n",
       "      <td>11.23</td>\n",
       "      <td>16386</td>\n",
       "      <td>-0.45</td>\n",
       "      <td>-0.03</td>\n",
       "      <td>-0.03</td>\n",
       "      <td>-0.06</td>\n",
       "      <td>-0.50</td>\n",
       "    </tr>\n",
       "    <tr>\n",
       "      <th>2020-05-07</th>\n",
       "      <td>1109</td>\n",
       "      <td>0.48</td>\n",
       "      <td>10.74</td>\n",
       "      <td>10.40</td>\n",
       "      <td>8904</td>\n",
       "      <td>-0.40</td>\n",
       "      <td>-0.06</td>\n",
       "      <td>-0.00</td>\n",
       "      <td>-0.07</td>\n",
       "      <td>-0.46</td>\n",
       "    </tr>\n",
       "  </tbody>\n",
       "</table>\n",
       "</div>"
      ],
      "text/plain": [
       "            user_id  win  lifetime  total_events  advertising  user_id_diff  \\\n",
       "cohort                                                                        \n",
       "2020-05-04     5860 0.51     11.60         12.37        60635           NaN   \n",
       "2020-05-05     3361 0.52     11.14         11.89        32747         -0.43   \n",
       "2020-05-06     1847 0.50     10.79         11.23        16386         -0.45   \n",
       "2020-05-07     1109 0.48     10.74         10.40         8904         -0.40   \n",
       "\n",
       "            win_diff  lifetime_diff  total_events_diff  advertising_diff  \n",
       "cohort                                                                    \n",
       "2020-05-04       NaN            NaN                NaN               NaN  \n",
       "2020-05-05      0.01          -0.04              -0.04             -0.46  \n",
       "2020-05-06     -0.03          -0.03              -0.06             -0.50  \n",
       "2020-05-07     -0.06          -0.00              -0.07             -0.46  "
      ]
     },
     "execution_count": 38,
     "metadata": {},
     "output_type": "execute_result"
    }
   ],
   "source": [
    "# Сводная таблица по когортам с максимальным лайфтаймом\n",
    "\n",
    "report = pro_games.query('first_ts < \"2020-05-08\"').groupby('cohort').agg({\n",
    "    'user_id':'nunique',\n",
    "    'win':'mean',\n",
    "    'lifetime':'mean',\n",
    "    'total_events':'mean',\n",
    "    'advertising':'sum'\n",
    "})\n",
    "\n",
    "for i in tqdm(report.columns):\n",
    "    report[i+'_diff']= report[i].pct_change()\n",
    "\n",
    "report"
   ]
  },
  {
   "cell_type": "markdown",
   "metadata": {},
   "source": [
    "Выделил 4 когорты с сравнимым средним и максимальным сроком жизни (lifetime)\n",
    "\n",
    "Можно отметить, что при равном проценте побед, снижение количества новых пользователей от когорты к когорте составляет **40%**, соответсвенно потеря выручки на постройках зданий достигает **50%**, нельзя сказать, что это вызванно недостаточным количеством событий, скорее недостаточной эффективностью рекламных вложений"
   ]
  },
  {
   "cell_type": "code",
   "execution_count": 39,
   "metadata": {},
   "outputs": [],
   "source": [
    "# подсчитываю размеры когорт\n",
    "sizes = pro_game.groupby('cohort')['user_n'].nunique()#.agg({'user_n':'nunique'})#['user_n'].count()\n",
    "ltv = pro_game[:]\n",
    "\n",
    "# Добавляю поле с доходом для базовой модели\n",
    "ltv['income'] = ltv['advertising'] * 0.07\n",
    "\n",
    "# Считаю САС\n",
    "cac = round(cost['cost'].sum()/users,2)"
   ]
  },
  {
   "cell_type": "code",
   "execution_count": 40,
   "metadata": {
    "scrolled": true
   },
   "outputs": [],
   "source": [
    "# Агрегирую по суммарному доходу\n",
    "ltvv = ltv.pivot_table(\n",
    "    index='cohort',\n",
    "    columns='step',\n",
    "    values='income',\n",
    "    aggfunc='sum'\n",
    ")\n"
   ]
  },
  {
   "cell_type": "code",
   "execution_count": 41,
   "metadata": {
    "scrolled": false
   },
   "outputs": [
    {
     "data": {
      "image/png": "[encoded data removed]",
      "text/plain": [
       "<Figure size 1080x576 with 2 Axes>"
      ]
     },
     "metadata": {
      "needs_background": "light"
     },
     "output_type": "display_data"
    }
   ],
   "source": [
    "# Делю выручку с накоплением на размеры когорт\n",
    "plt.figure(figsize=(15, 8))\n",
    "sns.heatmap(ltvv.cumsum(axis=1).div(sizes, axis=0), annot=True, cmap='RdYlGn',linewidths=1.0)\n",
    "plt.title('Выручка с накоплением от пользователей по когортам', fontsize=15)\n",
    "plt.xlabel('События', fontsize=12)\n",
    "plt.ylabel('Когорты', fontsize=12)\n",
    "plt.show()"
   ]
  },
  {
   "cell_type": "markdown",
   "metadata": {},
   "source": [
    "Можно заметить, что к концу срока жизни каждый пользователь приносит в среднем выручку 0.7, что эквивалентно 10 просмотрам рекламы по 0.07 за просмотр\n",
    "\n",
    "Посмотрим в какой момент пользователь окупается в процессе игры"
   ]
  },
  {
   "cell_type": "code",
   "execution_count": 42,
   "metadata": {
    "scrolled": false
   },
   "outputs": [
    {
     "data": {
      "image/png": "[encoded data removed]",
      "text/plain": [
       "<Figure size 1080x576 with 2 Axes>"
      ]
     },
     "metadata": {
      "needs_background": "light"
     },
     "output_type": "display_data"
    }
   ],
   "source": [
    "# считаю ROI\n",
    "roi = ltvv.cumsum(axis=1).div(sizes, axis=0) / cac\n",
    "\n",
    "\n",
    "# Делю выручку с накоплением на размеры когорт\n",
    "plt.figure(figsize=(15, 8))\n",
    "sns.heatmap(roi.iloc[:,:], annot=True, cmap='RdYlGn',linewidths=1.0)\n",
    "plt.title('Уровень окупаемости пользователей', fontsize=15)\n",
    "plt.xlabel('События', fontsize=12)\n",
    "plt.ylabel('Когорты', fontsize=12)\n",
    "plt.show()"
   ]
  },
  {
   "cell_type": "markdown",
   "metadata": {},
   "source": [
    "Судя по ROI пользователь окупится на 10 событии при использовании продукта, при условии, что реклама была показана каждый раз"
   ]
  },
  {
   "cell_type": "code",
   "execution_count": 43,
   "metadata": {},
   "outputs": [
    {
     "data": {
      "text/plain": [
       "{'income': 8956.92,\n",
       " 'cost': 7603.58,\n",
       " 'dif': 1353.34,\n",
       " 'profit': 117.8,\n",
       " 'roi': 17.8}"
      ]
     },
     "execution_count": 43,
     "metadata": {},
     "output_type": "execute_result"
    }
   ],
   "source": [
    "# функиця для дальнейшего расчета бизнес показателей\n",
    "\n",
    "def eco(actions):\n",
    "    \n",
    "    price = 0.07\n",
    "    costs = round(cost['cost'].sum(),2)\n",
    "    users = pro_game['user_n'].nunique()\n",
    "    cac = round(costs/users,2)\n",
    "    \n",
    "    income = round((actions * price),2)\n",
    "    \n",
    "    dif = round((income - costs),2)\n",
    "    \n",
    "    profit = round((income/costs*100),2)\n",
    "    \n",
    "    roi = round(((income - costs)/costs*100),2)\n",
    "    \n",
    "    report = {'income':income,\n",
    "              'cost':costs,\n",
    "              'dif':dif,\n",
    "              'profit':profit,\n",
    "              'roi':roi,\n",
    "             }\n",
    "\n",
    "    return report\n",
    "    \n",
    "    \n",
    "eco(pro_game['advertising'].sum())"
   ]
  },
  {
   "cell_type": "markdown",
   "metadata": {},
   "source": [
    "### Исследование распределений данных о пользователелях относительно различных категорий"
   ]
  },
  {
   "cell_type": "code",
   "execution_count": 44,
   "metadata": {
    "scrolled": true
   },
   "outputs": [
    {
     "data": {
      "text/html": [
       "<div>\n",
       "<style scoped>\n",
       "    .dataframe tbody tr th:only-of-type {\n",
       "        vertical-align: middle;\n",
       "    }\n",
       "\n",
       "    .dataframe tbody tr th {\n",
       "        vertical-align: top;\n",
       "    }\n",
       "\n",
       "    .dataframe thead th {\n",
       "        text-align: right;\n",
       "    }\n",
       "</style>\n",
       "<table border=\"1\" class=\"dataframe\">\n",
       "  <thead>\n",
       "    <tr style=\"text-align: right;\">\n",
       "      <th></th>\n",
       "      <th>event_datetime</th>\n",
       "      <th>user_n</th>\n",
       "      <th>win</th>\n",
       "      <th>step</th>\n",
       "      <th>event</th>\n",
       "      <th>building_type</th>\n",
       "      <th>project_type</th>\n",
       "      <th>advertising</th>\n",
       "      <th>cohort</th>\n",
       "      <th>total_events</th>\n",
       "      <th>lifetime</th>\n",
       "      <th>source</th>\n",
       "    </tr>\n",
       "  </thead>\n",
       "  <tbody>\n",
       "    <tr>\n",
       "      <th>17684</th>\n",
       "      <td>2020-05-06 01:07:37</td>\n",
       "      <td>1</td>\n",
       "      <td>0</td>\n",
       "      <td>1</td>\n",
       "      <td>building</td>\n",
       "      <td>assembly_shop</td>\n",
       "      <td>0</td>\n",
       "      <td>1</td>\n",
       "      <td>2020-05-06</td>\n",
       "      <td>13</td>\n",
       "      <td>14</td>\n",
       "      <td>facebook_ads</td>\n",
       "    </tr>\n",
       "  </tbody>\n",
       "</table>\n",
       "</div>"
      ],
      "text/plain": [
       "           event_datetime  user_n  win  step     event  building_type  \\\n",
       "17684 2020-05-06 01:07:37       1    0     1  building  assembly_shop   \n",
       "\n",
       "       project_type  advertising      cohort  total_events  lifetime  \\\n",
       "17684             0            1  2020-05-06            13        14   \n",
       "\n",
       "             source  \n",
       "17684  facebook_ads  "
      ]
     },
     "execution_count": 44,
     "metadata": {},
     "output_type": "execute_result"
    }
   ],
   "source": [
    "pro_game.head(1)"
   ]
  },
  {
   "cell_type": "code",
   "execution_count": 45,
   "metadata": {
    "scrolled": true
   },
   "outputs": [
    {
     "data": {
      "text/html": [
       "<div>\n",
       "<style scoped>\n",
       "    .dataframe tbody tr th:only-of-type {\n",
       "        vertical-align: middle;\n",
       "    }\n",
       "\n",
       "    .dataframe tbody tr th {\n",
       "        vertical-align: top;\n",
       "    }\n",
       "\n",
       "    .dataframe thead th {\n",
       "        text-align: right;\n",
       "    }\n",
       "</style>\n",
       "<table border=\"1\" class=\"dataframe\">\n",
       "  <thead>\n",
       "    <tr style=\"text-align: right;\">\n",
       "      <th>building_type</th>\n",
       "      <th>assembly_shop</th>\n",
       "      <th>research_center</th>\n",
       "      <th>spaceport</th>\n",
       "    </tr>\n",
       "    <tr>\n",
       "      <th>step</th>\n",
       "      <th></th>\n",
       "      <th></th>\n",
       "      <th></th>\n",
       "    </tr>\n",
       "  </thead>\n",
       "  <tbody>\n",
       "    <tr>\n",
       "      <th>1</th>\n",
       "      <td>13,576.00</td>\n",
       "      <td>NaN</td>\n",
       "      <td>NaN</td>\n",
       "    </tr>\n",
       "    <tr>\n",
       "      <th>2</th>\n",
       "      <td>9,945.00</td>\n",
       "      <td>NaN</td>\n",
       "      <td>3,574.00</td>\n",
       "    </tr>\n",
       "    <tr>\n",
       "      <th>3</th>\n",
       "      <td>8,216.00</td>\n",
       "      <td>NaN</td>\n",
       "      <td>5,025.00</td>\n",
       "    </tr>\n",
       "    <tr>\n",
       "      <th>4</th>\n",
       "      <td>6,830.00</td>\n",
       "      <td>NaN</td>\n",
       "      <td>5,855.00</td>\n",
       "    </tr>\n",
       "    <tr>\n",
       "      <th>5</th>\n",
       "      <td>5,483.00</td>\n",
       "      <td>NaN</td>\n",
       "      <td>6,420.00</td>\n",
       "    </tr>\n",
       "    <tr>\n",
       "      <th>6</th>\n",
       "      <td>4,330.00</td>\n",
       "      <td>NaN</td>\n",
       "      <td>6,582.00</td>\n",
       "    </tr>\n",
       "    <tr>\n",
       "      <th>7</th>\n",
       "      <td>2,976.00</td>\n",
       "      <td>NaN</td>\n",
       "      <td>6,617.00</td>\n",
       "    </tr>\n",
       "    <tr>\n",
       "      <th>8</th>\n",
       "      <td>1,588.00</td>\n",
       "      <td>2,246.00</td>\n",
       "      <td>5,440.00</td>\n",
       "    </tr>\n",
       "    <tr>\n",
       "      <th>9</th>\n",
       "      <td>838.00</td>\n",
       "      <td>2,842.00</td>\n",
       "      <td>4,751.00</td>\n",
       "    </tr>\n",
       "    <tr>\n",
       "      <th>10</th>\n",
       "      <td>377.00</td>\n",
       "      <td>2,627.00</td>\n",
       "      <td>4,113.00</td>\n",
       "    </tr>\n",
       "    <tr>\n",
       "      <th>11</th>\n",
       "      <td>204.00</td>\n",
       "      <td>2,051.00</td>\n",
       "      <td>3,264.00</td>\n",
       "    </tr>\n",
       "    <tr>\n",
       "      <th>12</th>\n",
       "      <td>84.00</td>\n",
       "      <td>1,533.00</td>\n",
       "      <td>2,571.00</td>\n",
       "    </tr>\n",
       "    <tr>\n",
       "      <th>13</th>\n",
       "      <td>30.00</td>\n",
       "      <td>1,105.00</td>\n",
       "      <td>1,949.00</td>\n",
       "    </tr>\n",
       "    <tr>\n",
       "      <th>14</th>\n",
       "      <td>12.00</td>\n",
       "      <td>708.00</td>\n",
       "      <td>1,381.00</td>\n",
       "    </tr>\n",
       "    <tr>\n",
       "      <th>15</th>\n",
       "      <td>5.00</td>\n",
       "      <td>447.00</td>\n",
       "      <td>892.00</td>\n",
       "    </tr>\n",
       "    <tr>\n",
       "      <th>16</th>\n",
       "      <td>NaN</td>\n",
       "      <td>295.00</td>\n",
       "      <td>481.00</td>\n",
       "    </tr>\n",
       "    <tr>\n",
       "      <th>17</th>\n",
       "      <td>NaN</td>\n",
       "      <td>165.00</td>\n",
       "      <td>256.00</td>\n",
       "    </tr>\n",
       "    <tr>\n",
       "      <th>18</th>\n",
       "      <td>NaN</td>\n",
       "      <td>76.00</td>\n",
       "      <td>104.00</td>\n",
       "    </tr>\n",
       "    <tr>\n",
       "      <th>19</th>\n",
       "      <td>NaN</td>\n",
       "      <td>31.00</td>\n",
       "      <td>37.00</td>\n",
       "    </tr>\n",
       "    <tr>\n",
       "      <th>20</th>\n",
       "      <td>NaN</td>\n",
       "      <td>9.00</td>\n",
       "      <td>13.00</td>\n",
       "    </tr>\n",
       "    <tr>\n",
       "      <th>21</th>\n",
       "      <td>NaN</td>\n",
       "      <td>2.00</td>\n",
       "      <td>NaN</td>\n",
       "    </tr>\n",
       "  </tbody>\n",
       "</table>\n",
       "</div>"
      ],
      "text/plain": [
       "building_type  assembly_shop  research_center  spaceport\n",
       "step                                                    \n",
       "1                  13,576.00              NaN        NaN\n",
       "2                   9,945.00              NaN   3,574.00\n",
       "3                   8,216.00              NaN   5,025.00\n",
       "4                   6,830.00              NaN   5,855.00\n",
       "5                   5,483.00              NaN   6,420.00\n",
       "6                   4,330.00              NaN   6,582.00\n",
       "7                   2,976.00              NaN   6,617.00\n",
       "8                   1,588.00         2,246.00   5,440.00\n",
       "9                     838.00         2,842.00   4,751.00\n",
       "10                    377.00         2,627.00   4,113.00\n",
       "11                    204.00         2,051.00   3,264.00\n",
       "12                     84.00         1,533.00   2,571.00\n",
       "13                     30.00         1,105.00   1,949.00\n",
       "14                     12.00           708.00   1,381.00\n",
       "15                      5.00           447.00     892.00\n",
       "16                       NaN           295.00     481.00\n",
       "17                       NaN           165.00     256.00\n",
       "18                       NaN            76.00     104.00\n",
       "19                       NaN            31.00      37.00\n",
       "20                       NaN             9.00      13.00\n",
       "21                       NaN             2.00        NaN"
      ]
     },
     "execution_count": 45,
     "metadata": {},
     "output_type": "execute_result"
    }
   ],
   "source": [
    "# посмотрим на данные о постройках пользователей (совпадает с количеством показа рекламы в базовой модели для уникальных польз.)\n",
    "report = pro_game.pivot_table(\n",
    "    index='step',\n",
    "    columns='building_type',\n",
    "    values='user_n',\n",
    "    aggfunc='nunique'\n",
    ")\n",
    "report"
   ]
  },
  {
   "cell_type": "markdown",
   "metadata": {},
   "source": [
    "Относительно механики игры можно утверждать что:\n",
    "\n",
    "Первый шаг для всех пользователей - сборочный цех\n",
    "\n",
    "В 4 и 5 действие игроки равномерно распределяются между строительством космических портов и сборочных цехов. \n",
    "\n",
    "С 5 действия игроки перестают строить сборочные цеха (цехов достаточно) и сосредотачиваются на создании армии  (комические порты) до окончательной победы или поражения\n",
    "\n",
    "Очивидным становиться факт - исследовательский центр нельзя построить раньше 8 события.\n",
    "\n",
    "Начиная с 8 события у игроков примерно 3 сборочных цеха и 4 космопорта (этого достаточно), ввиду чего начинается постройка исследовательского центра. Примерно половина пользователей начинает их строить и в течении следующих 4 событий проходит 1 уровень (до 12 дня).\n",
    "\n",
    "В пункте о создании модели монетизации данная таблица будет обогащена данными и новыми выводами"
   ]
  },
  {
   "cell_type": "code",
   "execution_count": 46,
   "metadata": {
    "scrolled": false
   },
   "outputs": [
    {
     "data": {
      "text/plain": [
       "source\n",
       "youtube_channel_reklama    2686\n",
       "facebook_ads               2726\n",
       "instagram_new_adverts      3347\n",
       "yandex_direct              4817\n",
       "dtype: int64"
      ]
     },
     "execution_count": 46,
     "metadata": {},
     "output_type": "execute_result"
    }
   ],
   "source": [
    "# Униальные пользователи по источникам\n",
    "source_users = pro_game.pivot_table(\n",
    "    index='source',\n",
    "    columns='cohort',\n",
    "    values='user_n',\n",
    "    aggfunc='nunique'\n",
    ")\n",
    "source_users.sum(axis=1).sort_values()"
   ]
  },
  {
   "cell_type": "code",
   "execution_count": 47,
   "metadata": {},
   "outputs": [
    {
     "data": {
      "text/html": [
       "<div>\n",
       "<style scoped>\n",
       "    .dataframe tbody tr th:only-of-type {\n",
       "        vertical-align: middle;\n",
       "    }\n",
       "\n",
       "    .dataframe tbody tr th {\n",
       "        vertical-align: top;\n",
       "    }\n",
       "\n",
       "    .dataframe thead th {\n",
       "        text-align: right;\n",
       "    }\n",
       "</style>\n",
       "<table border=\"1\" class=\"dataframe\">\n",
       "  <thead>\n",
       "    <tr style=\"text-align: right;\">\n",
       "      <th>cohort</th>\n",
       "      <th>2020-05-04</th>\n",
       "      <th>2020-05-05</th>\n",
       "      <th>2020-05-06</th>\n",
       "      <th>2020-05-07</th>\n",
       "      <th>2020-05-08</th>\n",
       "      <th>2020-05-09</th>\n",
       "      <th>2020-05-10</th>\n",
       "    </tr>\n",
       "    <tr>\n",
       "      <th>source</th>\n",
       "      <th></th>\n",
       "      <th></th>\n",
       "      <th></th>\n",
       "      <th></th>\n",
       "      <th></th>\n",
       "      <th></th>\n",
       "      <th></th>\n",
       "    </tr>\n",
       "  </thead>\n",
       "  <tbody>\n",
       "    <tr>\n",
       "      <th>facebook_ads</th>\n",
       "      <td>935.88</td>\n",
       "      <td>548.35</td>\n",
       "      <td>260.19</td>\n",
       "      <td>177.98</td>\n",
       "      <td>111.77</td>\n",
       "      <td>68.01</td>\n",
       "      <td>38.72</td>\n",
       "    </tr>\n",
       "    <tr>\n",
       "      <th>instagram_new_adverts</th>\n",
       "      <td>943.20</td>\n",
       "      <td>502.93</td>\n",
       "      <td>313.97</td>\n",
       "      <td>173.07</td>\n",
       "      <td>109.92</td>\n",
       "      <td>71.58</td>\n",
       "      <td>46.78</td>\n",
       "    </tr>\n",
       "    <tr>\n",
       "      <th>yandex_direct</th>\n",
       "      <td>969.14</td>\n",
       "      <td>554.65</td>\n",
       "      <td>308.23</td>\n",
       "      <td>180.92</td>\n",
       "      <td>114.43</td>\n",
       "      <td>62.96</td>\n",
       "      <td>42.78</td>\n",
       "    </tr>\n",
       "    <tr>\n",
       "      <th>youtube_channel_reklama</th>\n",
       "      <td>454.22</td>\n",
       "      <td>259.07</td>\n",
       "      <td>147.04</td>\n",
       "      <td>88.51</td>\n",
       "      <td>55.74</td>\n",
       "      <td>40.22</td>\n",
       "      <td>23.31</td>\n",
       "    </tr>\n",
       "  </tbody>\n",
       "</table>\n",
       "</div>"
      ],
      "text/plain": [
       "cohort                   2020-05-04  2020-05-05  2020-05-06  2020-05-07  \\\n",
       "source                                                                    \n",
       "facebook_ads                 935.88      548.35      260.19      177.98   \n",
       "instagram_new_adverts        943.20      502.93      313.97      173.07   \n",
       "yandex_direct                969.14      554.65      308.23      180.92   \n",
       "youtube_channel_reklama      454.22      259.07      147.04       88.51   \n",
       "\n",
       "cohort                   2020-05-08  2020-05-09  2020-05-10  \n",
       "source                                                       \n",
       "facebook_ads                 111.77       68.01       38.72  \n",
       "instagram_new_adverts        109.92       71.58       46.78  \n",
       "yandex_direct                114.43       62.96       42.78  \n",
       "youtube_channel_reklama       55.74       40.22       23.31  "
      ]
     },
     "execution_count": 47,
     "metadata": {},
     "output_type": "execute_result"
    }
   ],
   "source": [
    "# Затраты на привлечение по каналам\n",
    "price = cost.pivot_table(\n",
    "    index='source',\n",
    "    columns='cohort',\n",
    "    values='cost',\n",
    "    aggfunc='sum'\n",
    ")\n",
    "price"
   ]
  },
  {
   "cell_type": "code",
   "execution_count": 48,
   "metadata": {},
   "outputs": [],
   "source": [
    "# Стоимоть привлечения 1 клиента\n",
    "report = price / source_users"
   ]
  },
  {
   "cell_type": "code",
   "execution_count": 49,
   "metadata": {
    "scrolled": false
   },
   "outputs": [
    {
     "data": {
      "text/plain": [
       "source\n",
       "facebook_ads              0.78\n",
       "instagram_new_adverts     0.65\n",
       "yandex_direct             0.46\n",
       "youtube_channel_reklama   0.40\n",
       "dtype: float64"
      ]
     },
     "execution_count": 49,
     "metadata": {},
     "output_type": "execute_result"
    }
   ],
   "source": [
    "report.mean(axis=1)"
   ]
  },
  {
   "cell_type": "markdown",
   "metadata": {},
   "source": [
    "Можно отметить что эффективней всего работает **yandex_direct**, через который удалось привлечь **4817** пользователей с средним САС в **0.46**\n",
    "\n",
    "**youtube_channel_reklama**  при стоимость привлечения клиента в **0.4** дает **2686** пользователей, что в сравнении с стоимостью привлечения пользователей **facebook_ads** (0.78, для 2726 польз.) выглядет более эффективным источником.\n",
    "\n"
   ]
  },
  {
   "cell_type": "markdown",
   "metadata": {},
   "source": [
    "При сортировке по победам и когортам можно выделить только **8** победителей среди первых 3х когорт. Стоит обратить на них отдельное внимание. Общее количество событий в данных когортах *27143*"
   ]
  },
  {
   "cell_type": "code",
   "execution_count": 50,
   "metadata": {
    "scrolled": true
   },
   "outputs": [
    {
     "data": {
      "text/html": [
       "<div>\n",
       "<style scoped>\n",
       "    .dataframe tbody tr th:only-of-type {\n",
       "        vertical-align: middle;\n",
       "    }\n",
       "\n",
       "    .dataframe tbody tr th {\n",
       "        vertical-align: top;\n",
       "    }\n",
       "\n",
       "    .dataframe thead th {\n",
       "        text-align: right;\n",
       "    }\n",
       "</style>\n",
       "<table border=\"1\" class=\"dataframe\">\n",
       "  <thead>\n",
       "    <tr style=\"text-align: right;\">\n",
       "      <th></th>\n",
       "      <th>event_datetime</th>\n",
       "      <th>user_n</th>\n",
       "      <th>win</th>\n",
       "      <th>step</th>\n",
       "      <th>event</th>\n",
       "      <th>building_type</th>\n",
       "      <th>project_type</th>\n",
       "      <th>advertising</th>\n",
       "      <th>cohort</th>\n",
       "      <th>total_events</th>\n",
       "      <th>lifetime</th>\n",
       "      <th>source</th>\n",
       "    </tr>\n",
       "  </thead>\n",
       "  <tbody>\n",
       "    <tr>\n",
       "      <th>13148</th>\n",
       "      <td>2020-05-05 13:25:04</td>\n",
       "      <td>2364</td>\n",
       "      <td>1</td>\n",
       "      <td>1</td>\n",
       "      <td>building</td>\n",
       "      <td>assembly_shop</td>\n",
       "      <td>0</td>\n",
       "      <td>1</td>\n",
       "      <td>2020-05-05</td>\n",
       "      <td>3</td>\n",
       "      <td>1</td>\n",
       "      <td>youtube_channel_reklama</td>\n",
       "    </tr>\n",
       "    <tr>\n",
       "      <th>20288</th>\n",
       "      <td>2020-05-06 07:35:08</td>\n",
       "      <td>2364</td>\n",
       "      <td>1</td>\n",
       "      <td>2</td>\n",
       "      <td>building</td>\n",
       "      <td>spaceport</td>\n",
       "      <td>0</td>\n",
       "      <td>1</td>\n",
       "      <td>2020-05-05</td>\n",
       "      <td>3</td>\n",
       "      <td>1</td>\n",
       "      <td>youtube_channel_reklama</td>\n",
       "    </tr>\n",
       "    <tr>\n",
       "      <th>22814</th>\n",
       "      <td>2020-05-06 13:43:12</td>\n",
       "      <td>2364</td>\n",
       "      <td>1</td>\n",
       "      <td>3</td>\n",
       "      <td>finished_stage_1</td>\n",
       "      <td>NaN</td>\n",
       "      <td>0</td>\n",
       "      <td>0</td>\n",
       "      <td>2020-05-05</td>\n",
       "      <td>3</td>\n",
       "      <td>1</td>\n",
       "      <td>youtube_channel_reklama</td>\n",
       "    </tr>\n",
       "    <tr>\n",
       "      <th>6520</th>\n",
       "      <td>2020-05-04 19:23:40</td>\n",
       "      <td>4793</td>\n",
       "      <td>1</td>\n",
       "      <td>1</td>\n",
       "      <td>building</td>\n",
       "      <td>assembly_shop</td>\n",
       "      <td>0</td>\n",
       "      <td>1</td>\n",
       "      <td>2020-05-04</td>\n",
       "      <td>3</td>\n",
       "      <td>1</td>\n",
       "      <td>facebook_ads</td>\n",
       "    </tr>\n",
       "    <tr>\n",
       "      <th>10449</th>\n",
       "      <td>2020-05-05 06:13:00</td>\n",
       "      <td>4793</td>\n",
       "      <td>1</td>\n",
       "      <td>2</td>\n",
       "      <td>building</td>\n",
       "      <td>spaceport</td>\n",
       "      <td>0</td>\n",
       "      <td>1</td>\n",
       "      <td>2020-05-04</td>\n",
       "      <td>3</td>\n",
       "      <td>1</td>\n",
       "      <td>facebook_ads</td>\n",
       "    </tr>\n",
       "    <tr>\n",
       "      <th>19650</th>\n",
       "      <td>2020-05-06 06:02:22</td>\n",
       "      <td>4793</td>\n",
       "      <td>1</td>\n",
       "      <td>3</td>\n",
       "      <td>finished_stage_1</td>\n",
       "      <td>NaN</td>\n",
       "      <td>0</td>\n",
       "      <td>0</td>\n",
       "      <td>2020-05-04</td>\n",
       "      <td>3</td>\n",
       "      <td>1</td>\n",
       "      <td>facebook_ads</td>\n",
       "    </tr>\n",
       "    <tr>\n",
       "      <th>4542</th>\n",
       "      <td>2020-05-04 13:41:55</td>\n",
       "      <td>6052</td>\n",
       "      <td>1</td>\n",
       "      <td>1</td>\n",
       "      <td>building</td>\n",
       "      <td>assembly_shop</td>\n",
       "      <td>0</td>\n",
       "      <td>1</td>\n",
       "      <td>2020-05-04</td>\n",
       "      <td>3</td>\n",
       "      <td>1</td>\n",
       "      <td>youtube_channel_reklama</td>\n",
       "    </tr>\n",
       "    <tr>\n",
       "      <th>9548</th>\n",
       "      <td>2020-05-05 03:50:35</td>\n",
       "      <td>6052</td>\n",
       "      <td>1</td>\n",
       "      <td>2</td>\n",
       "      <td>building</td>\n",
       "      <td>spaceport</td>\n",
       "      <td>0</td>\n",
       "      <td>1</td>\n",
       "      <td>2020-05-04</td>\n",
       "      <td>3</td>\n",
       "      <td>1</td>\n",
       "      <td>youtube_channel_reklama</td>\n",
       "    </tr>\n",
       "    <tr>\n",
       "      <th>15274</th>\n",
       "      <td>2020-05-05 18:54:37</td>\n",
       "      <td>6052</td>\n",
       "      <td>1</td>\n",
       "      <td>3</td>\n",
       "      <td>finished_stage_1</td>\n",
       "      <td>NaN</td>\n",
       "      <td>0</td>\n",
       "      <td>0</td>\n",
       "      <td>2020-05-04</td>\n",
       "      <td>3</td>\n",
       "      <td>1</td>\n",
       "      <td>youtube_channel_reklama</td>\n",
       "    </tr>\n",
       "    <tr>\n",
       "      <th>123</th>\n",
       "      <td>2020-05-04 00:22:48</td>\n",
       "      <td>6842</td>\n",
       "      <td>1</td>\n",
       "      <td>1</td>\n",
       "      <td>building</td>\n",
       "      <td>assembly_shop</td>\n",
       "      <td>0</td>\n",
       "      <td>1</td>\n",
       "      <td>2020-05-04</td>\n",
       "      <td>3</td>\n",
       "      <td>1</td>\n",
       "      <td>facebook_ads</td>\n",
       "    </tr>\n",
       "    <tr>\n",
       "      <th>5879</th>\n",
       "      <td>2020-05-04 17:32:03</td>\n",
       "      <td>6842</td>\n",
       "      <td>1</td>\n",
       "      <td>2</td>\n",
       "      <td>building</td>\n",
       "      <td>spaceport</td>\n",
       "      <td>0</td>\n",
       "      <td>1</td>\n",
       "      <td>2020-05-04</td>\n",
       "      <td>3</td>\n",
       "      <td>1</td>\n",
       "      <td>facebook_ads</td>\n",
       "    </tr>\n",
       "    <tr>\n",
       "      <th>13134</th>\n",
       "      <td>2020-05-05 13:22:09</td>\n",
       "      <td>6842</td>\n",
       "      <td>1</td>\n",
       "      <td>3</td>\n",
       "      <td>finished_stage_1</td>\n",
       "      <td>NaN</td>\n",
       "      <td>0</td>\n",
       "      <td>0</td>\n",
       "      <td>2020-05-04</td>\n",
       "      <td>3</td>\n",
       "      <td>1</td>\n",
       "      <td>facebook_ads</td>\n",
       "    </tr>\n",
       "    <tr>\n",
       "      <th>294</th>\n",
       "      <td>2020-05-04 00:57:02</td>\n",
       "      <td>7718</td>\n",
       "      <td>1</td>\n",
       "      <td>1</td>\n",
       "      <td>building</td>\n",
       "      <td>assembly_shop</td>\n",
       "      <td>0</td>\n",
       "      <td>1</td>\n",
       "      <td>2020-05-04</td>\n",
       "      <td>4</td>\n",
       "      <td>1</td>\n",
       "      <td>youtube_channel_reklama</td>\n",
       "    </tr>\n",
       "    <tr>\n",
       "      <th>1132</th>\n",
       "      <td>2020-05-04 03:32:03</td>\n",
       "      <td>7718</td>\n",
       "      <td>1</td>\n",
       "      <td>2</td>\n",
       "      <td>building</td>\n",
       "      <td>spaceport</td>\n",
       "      <td>0</td>\n",
       "      <td>1</td>\n",
       "      <td>2020-05-04</td>\n",
       "      <td>4</td>\n",
       "      <td>1</td>\n",
       "      <td>youtube_channel_reklama</td>\n",
       "    </tr>\n",
       "    <tr>\n",
       "      <th>14422</th>\n",
       "      <td>2020-05-05 16:44:34</td>\n",
       "      <td>7718</td>\n",
       "      <td>1</td>\n",
       "      <td>3</td>\n",
       "      <td>building</td>\n",
       "      <td>spaceport</td>\n",
       "      <td>0</td>\n",
       "      <td>1</td>\n",
       "      <td>2020-05-04</td>\n",
       "      <td>4</td>\n",
       "      <td>1</td>\n",
       "      <td>youtube_channel_reklama</td>\n",
       "    </tr>\n",
       "    <tr>\n",
       "      <th>16284</th>\n",
       "      <td>2020-05-05 21:27:29</td>\n",
       "      <td>7718</td>\n",
       "      <td>1</td>\n",
       "      <td>4</td>\n",
       "      <td>finished_stage_1</td>\n",
       "      <td>NaN</td>\n",
       "      <td>0</td>\n",
       "      <td>0</td>\n",
       "      <td>2020-05-04</td>\n",
       "      <td>4</td>\n",
       "      <td>1</td>\n",
       "      <td>youtube_channel_reklama</td>\n",
       "    </tr>\n",
       "    <tr>\n",
       "      <th>958</th>\n",
       "      <td>2020-05-04 02:59:50</td>\n",
       "      <td>10263</td>\n",
       "      <td>1</td>\n",
       "      <td>1</td>\n",
       "      <td>building</td>\n",
       "      <td>assembly_shop</td>\n",
       "      <td>0</td>\n",
       "      <td>1</td>\n",
       "      <td>2020-05-04</td>\n",
       "      <td>4</td>\n",
       "      <td>2</td>\n",
       "      <td>instagram_new_adverts</td>\n",
       "    </tr>\n",
       "    <tr>\n",
       "      <th>17834</th>\n",
       "      <td>2020-05-06 01:28:26</td>\n",
       "      <td>10263</td>\n",
       "      <td>1</td>\n",
       "      <td>2</td>\n",
       "      <td>building</td>\n",
       "      <td>spaceport</td>\n",
       "      <td>0</td>\n",
       "      <td>1</td>\n",
       "      <td>2020-05-04</td>\n",
       "      <td>4</td>\n",
       "      <td>2</td>\n",
       "      <td>instagram_new_adverts</td>\n",
       "    </tr>\n",
       "    <tr>\n",
       "      <th>20713</th>\n",
       "      <td>2020-05-06 08:39:54</td>\n",
       "      <td>10263</td>\n",
       "      <td>1</td>\n",
       "      <td>3</td>\n",
       "      <td>building</td>\n",
       "      <td>spaceport</td>\n",
       "      <td>0</td>\n",
       "      <td>1</td>\n",
       "      <td>2020-05-04</td>\n",
       "      <td>4</td>\n",
       "      <td>2</td>\n",
       "      <td>instagram_new_adverts</td>\n",
       "    </tr>\n",
       "    <tr>\n",
       "      <th>21293</th>\n",
       "      <td>2020-05-06 10:06:42</td>\n",
       "      <td>10263</td>\n",
       "      <td>1</td>\n",
       "      <td>4</td>\n",
       "      <td>finished_stage_1</td>\n",
       "      <td>NaN</td>\n",
       "      <td>0</td>\n",
       "      <td>0</td>\n",
       "      <td>2020-05-04</td>\n",
       "      <td>4</td>\n",
       "      <td>2</td>\n",
       "      <td>instagram_new_adverts</td>\n",
       "    </tr>\n",
       "    <tr>\n",
       "      <th>73</th>\n",
       "      <td>2020-05-04 00:13:21</td>\n",
       "      <td>10933</td>\n",
       "      <td>1</td>\n",
       "      <td>1</td>\n",
       "      <td>building</td>\n",
       "      <td>assembly_shop</td>\n",
       "      <td>0</td>\n",
       "      <td>1</td>\n",
       "      <td>2020-05-04</td>\n",
       "      <td>3</td>\n",
       "      <td>0</td>\n",
       "      <td>instagram_new_adverts</td>\n",
       "    </tr>\n",
       "    <tr>\n",
       "      <th>4222</th>\n",
       "      <td>2020-05-04 12:51:34</td>\n",
       "      <td>10933</td>\n",
       "      <td>1</td>\n",
       "      <td>2</td>\n",
       "      <td>building</td>\n",
       "      <td>spaceport</td>\n",
       "      <td>0</td>\n",
       "      <td>1</td>\n",
       "      <td>2020-05-04</td>\n",
       "      <td>3</td>\n",
       "      <td>0</td>\n",
       "      <td>instagram_new_adverts</td>\n",
       "    </tr>\n",
       "    <tr>\n",
       "      <th>6659</th>\n",
       "      <td>2020-05-04 19:47:29</td>\n",
       "      <td>10933</td>\n",
       "      <td>1</td>\n",
       "      <td>3</td>\n",
       "      <td>finished_stage_1</td>\n",
       "      <td>NaN</td>\n",
       "      <td>0</td>\n",
       "      <td>0</td>\n",
       "      <td>2020-05-04</td>\n",
       "      <td>3</td>\n",
       "      <td>0</td>\n",
       "      <td>instagram_new_adverts</td>\n",
       "    </tr>\n",
       "    <tr>\n",
       "      <th>1343</th>\n",
       "      <td>2020-05-04 04:08:48</td>\n",
       "      <td>11258</td>\n",
       "      <td>1</td>\n",
       "      <td>1</td>\n",
       "      <td>building</td>\n",
       "      <td>assembly_shop</td>\n",
       "      <td>0</td>\n",
       "      <td>1</td>\n",
       "      <td>2020-05-04</td>\n",
       "      <td>7</td>\n",
       "      <td>2</td>\n",
       "      <td>facebook_ads</td>\n",
       "    </tr>\n",
       "    <tr>\n",
       "      <th>2051</th>\n",
       "      <td>2020-05-04 06:24:23</td>\n",
       "      <td>11258</td>\n",
       "      <td>1</td>\n",
       "      <td>2</td>\n",
       "      <td>building</td>\n",
       "      <td>assembly_shop</td>\n",
       "      <td>0</td>\n",
       "      <td>1</td>\n",
       "      <td>2020-05-04</td>\n",
       "      <td>7</td>\n",
       "      <td>2</td>\n",
       "      <td>facebook_ads</td>\n",
       "    </tr>\n",
       "    <tr>\n",
       "      <th>4503</th>\n",
       "      <td>2020-05-04 13:36:26</td>\n",
       "      <td>11258</td>\n",
       "      <td>1</td>\n",
       "      <td>3</td>\n",
       "      <td>building</td>\n",
       "      <td>assembly_shop</td>\n",
       "      <td>0</td>\n",
       "      <td>1</td>\n",
       "      <td>2020-05-04</td>\n",
       "      <td>7</td>\n",
       "      <td>2</td>\n",
       "      <td>facebook_ads</td>\n",
       "    </tr>\n",
       "    <tr>\n",
       "      <th>8373</th>\n",
       "      <td>2020-05-05 00:32:39</td>\n",
       "      <td>11258</td>\n",
       "      <td>1</td>\n",
       "      <td>4</td>\n",
       "      <td>building</td>\n",
       "      <td>assembly_shop</td>\n",
       "      <td>0</td>\n",
       "      <td>1</td>\n",
       "      <td>2020-05-04</td>\n",
       "      <td>7</td>\n",
       "      <td>2</td>\n",
       "      <td>facebook_ads</td>\n",
       "    </tr>\n",
       "    <tr>\n",
       "      <th>16184</th>\n",
       "      <td>2020-05-05 21:13:06</td>\n",
       "      <td>11258</td>\n",
       "      <td>1</td>\n",
       "      <td>5</td>\n",
       "      <td>building</td>\n",
       "      <td>assembly_shop</td>\n",
       "      <td>0</td>\n",
       "      <td>1</td>\n",
       "      <td>2020-05-04</td>\n",
       "      <td>7</td>\n",
       "      <td>2</td>\n",
       "      <td>facebook_ads</td>\n",
       "    </tr>\n",
       "    <tr>\n",
       "      <th>23649</th>\n",
       "      <td>2020-05-06 15:44:17</td>\n",
       "      <td>11258</td>\n",
       "      <td>1</td>\n",
       "      <td>6</td>\n",
       "      <td>building</td>\n",
       "      <td>assembly_shop</td>\n",
       "      <td>0</td>\n",
       "      <td>1</td>\n",
       "      <td>2020-05-04</td>\n",
       "      <td>7</td>\n",
       "      <td>2</td>\n",
       "      <td>facebook_ads</td>\n",
       "    </tr>\n",
       "    <tr>\n",
       "      <th>24933</th>\n",
       "      <td>2020-05-06 18:54:42</td>\n",
       "      <td>11258</td>\n",
       "      <td>1</td>\n",
       "      <td>7</td>\n",
       "      <td>finished_stage_1</td>\n",
       "      <td>NaN</td>\n",
       "      <td>0</td>\n",
       "      <td>0</td>\n",
       "      <td>2020-05-04</td>\n",
       "      <td>7</td>\n",
       "      <td>2</td>\n",
       "      <td>facebook_ads</td>\n",
       "    </tr>\n",
       "  </tbody>\n",
       "</table>\n",
       "</div>"
      ],
      "text/plain": [
       "           event_datetime  user_n  win  step             event  building_type  \\\n",
       "13148 2020-05-05 13:25:04    2364    1     1          building  assembly_shop   \n",
       "20288 2020-05-06 07:35:08    2364    1     2          building      spaceport   \n",
       "22814 2020-05-06 13:43:12    2364    1     3  finished_stage_1            NaN   \n",
       "6520  2020-05-04 19:23:40    4793    1     1          building  assembly_shop   \n",
       "10449 2020-05-05 06:13:00    4793    1     2          building      spaceport   \n",
       "19650 2020-05-06 06:02:22    4793    1     3  finished_stage_1            NaN   \n",
       "4542  2020-05-04 13:41:55    6052    1     1          building  assembly_shop   \n",
       "9548  2020-05-05 03:50:35    6052    1     2          building      spaceport   \n",
       "15274 2020-05-05 18:54:37    6052    1     3  finished_stage_1            NaN   \n",
       "123   2020-05-04 00:22:48    6842    1     1          building  assembly_shop   \n",
       "5879  2020-05-04 17:32:03    6842    1     2          building      spaceport   \n",
       "13134 2020-05-05 13:22:09    6842    1     3  finished_stage_1            NaN   \n",
       "294   2020-05-04 00:57:02    7718    1     1          building  assembly_shop   \n",
       "1132  2020-05-04 03:32:03    7718    1     2          building      spaceport   \n",
       "14422 2020-05-05 16:44:34    7718    1     3          building      spaceport   \n",
       "16284 2020-05-05 21:27:29    7718    1     4  finished_stage_1            NaN   \n",
       "958   2020-05-04 02:59:50   10263    1     1          building  assembly_shop   \n",
       "17834 2020-05-06 01:28:26   10263    1     2          building      spaceport   \n",
       "20713 2020-05-06 08:39:54   10263    1     3          building      spaceport   \n",
       "21293 2020-05-06 10:06:42   10263    1     4  finished_stage_1            NaN   \n",
       "73    2020-05-04 00:13:21   10933    1     1          building  assembly_shop   \n",
       "4222  2020-05-04 12:51:34   10933    1     2          building      spaceport   \n",
       "6659  2020-05-04 19:47:29   10933    1     3  finished_stage_1            NaN   \n",
       "1343  2020-05-04 04:08:48   11258    1     1          building  assembly_shop   \n",
       "2051  2020-05-04 06:24:23   11258    1     2          building  assembly_shop   \n",
       "4503  2020-05-04 13:36:26   11258    1     3          building  assembly_shop   \n",
       "8373  2020-05-05 00:32:39   11258    1     4          building  assembly_shop   \n",
       "16184 2020-05-05 21:13:06   11258    1     5          building  assembly_shop   \n",
       "23649 2020-05-06 15:44:17   11258    1     6          building  assembly_shop   \n",
       "24933 2020-05-06 18:54:42   11258    1     7  finished_stage_1            NaN   \n",
       "\n",
       "       project_type  advertising      cohort  total_events  lifetime  \\\n",
       "13148             0            1  2020-05-05             3         1   \n",
       "20288             0            1  2020-05-05             3         1   \n",
       "22814             0            0  2020-05-05             3         1   \n",
       "6520              0            1  2020-05-04             3         1   \n",
       "10449             0            1  2020-05-04             3         1   \n",
       "19650             0            0  2020-05-04             3         1   \n",
       "4542              0            1  2020-05-04             3         1   \n",
       "9548              0            1  2020-05-04             3         1   \n",
       "15274             0            0  2020-05-04             3         1   \n",
       "123               0            1  2020-05-04             3         1   \n",
       "5879              0            1  2020-05-04             3         1   \n",
       "13134             0            0  2020-05-04             3         1   \n",
       "294               0            1  2020-05-04             4         1   \n",
       "1132              0            1  2020-05-04             4         1   \n",
       "14422             0            1  2020-05-04             4         1   \n",
       "16284             0            0  2020-05-04             4         1   \n",
       "958               0            1  2020-05-04             4         2   \n",
       "17834             0            1  2020-05-04             4         2   \n",
       "20713             0            1  2020-05-04             4         2   \n",
       "21293             0            0  2020-05-04             4         2   \n",
       "73                0            1  2020-05-04             3         0   \n",
       "4222              0            1  2020-05-04             3         0   \n",
       "6659              0            0  2020-05-04             3         0   \n",
       "1343              0            1  2020-05-04             7         2   \n",
       "2051              0            1  2020-05-04             7         2   \n",
       "4503              0            1  2020-05-04             7         2   \n",
       "8373              0            1  2020-05-04             7         2   \n",
       "16184             0            1  2020-05-04             7         2   \n",
       "23649             0            1  2020-05-04             7         2   \n",
       "24933             0            0  2020-05-04             7         2   \n",
       "\n",
       "                        source  \n",
       "13148  youtube_channel_reklama  \n",
       "20288  youtube_channel_reklama  \n",
       "22814  youtube_channel_reklama  \n",
       "6520              facebook_ads  \n",
       "10449             facebook_ads  \n",
       "19650             facebook_ads  \n",
       "4542   youtube_channel_reklama  \n",
       "9548   youtube_channel_reklama  \n",
       "15274  youtube_channel_reklama  \n",
       "123               facebook_ads  \n",
       "5879              facebook_ads  \n",
       "13134             facebook_ads  \n",
       "294    youtube_channel_reklama  \n",
       "1132   youtube_channel_reklama  \n",
       "14422  youtube_channel_reklama  \n",
       "16284  youtube_channel_reklama  \n",
       "958      instagram_new_adverts  \n",
       "17834    instagram_new_adverts  \n",
       "20713    instagram_new_adverts  \n",
       "21293    instagram_new_adverts  \n",
       "73       instagram_new_adverts  \n",
       "4222     instagram_new_adverts  \n",
       "6659     instagram_new_adverts  \n",
       "1343              facebook_ads  \n",
       "2051              facebook_ads  \n",
       "4503              facebook_ads  \n",
       "8373              facebook_ads  \n",
       "16184             facebook_ads  \n",
       "23649             facebook_ads  \n",
       "24933             facebook_ads  "
      ]
     },
     "execution_count": 50,
     "metadata": {},
     "output_type": "execute_result"
    }
   ],
   "source": [
    "# 8 уникальных победителей\n",
    "eight = (\n",
    "    pro_game\n",
    "        .query('event_datetime < \"2020-05-07 00:00:01\"')\n",
    "        .query('event == \"finished_stage_1\"')\n",
    ")\n",
    "eight_list = eight['user_n']\n",
    "\n",
    "pro_game.query('user_n in @eight_list').sort_values(by=['user_n','event_datetime'])"
   ]
  },
  {
   "cell_type": "markdown",
   "metadata": {},
   "source": [
    "Если утверждать что данные 8 пользователей - профи, можно предположить варианты стратегии победы:\n",
    "\n",
    "1. assembly_shop + spaceport = finished_stage_1\n",
    "2. assembly_shop + spaceport + (assembly_shop OR spaceport ) = finished_stage_1\n",
    "\n",
    "\n",
    "Кроме всего прочего стратегии различных игроков могут отличаться.\n",
    "\n",
    "Основным фактором победы можно считать строительство космопорта (армия), с дальнейшей победой над противником до 10 уровня\n",
    "\n",
    "Вспомогательным фактором победы может является исследовательский центр и проект, при условии что игроку не удалось победить противника с 8 по 12 уровень"
   ]
  },
  {
   "cell_type": "markdown",
   "metadata": {},
   "source": [
    "### Проверка гипотез"
   ]
  },
  {
   "cell_type": "code",
   "execution_count": 51,
   "metadata": {
    "scrolled": false
   },
   "outputs": [
    {
     "data": {
      "text/plain": [
       "1866"
      ]
     },
     "metadata": {},
     "output_type": "display_data"
    },
    {
     "data": {
      "text/plain": [
       "3951"
      ]
     },
     "metadata": {},
     "output_type": "display_data"
    },
    {
     "name": "stdout",
     "output_type": "stream",
     "text": [
      "<class 'pandas.core.frame.DataFrame'>\n",
      "Int64Index: 27333 entries, 5576 to 134718\n",
      "Data columns (total 12 columns):\n",
      " #   Column          Non-Null Count  Dtype         \n",
      "---  ------          --------------  -----         \n",
      " 0   event_datetime  27333 non-null  datetime64[ns]\n",
      " 1   user_n          27333 non-null  int64         \n",
      " 2   win             27333 non-null  int64         \n",
      " 3   step            27333 non-null  int64         \n",
      " 4   event           27333 non-null  object        \n",
      " 5   building_type   23601 non-null  object        \n",
      " 6   project_type    27333 non-null  int64         \n",
      " 7   advertising     27333 non-null  int64         \n",
      " 8   cohort          27333 non-null  object        \n",
      " 9   total_events    27333 non-null  int64         \n",
      " 10  lifetime        27333 non-null  int64         \n",
      " 11  source          27333 non-null  object        \n",
      "dtypes: datetime64[ns](1), int64(7), object(4)\n",
      "memory usage: 3.7+ MB\n",
      "<class 'pandas.core.frame.DataFrame'>\n",
      "Int64Index: 41136 entries, 16131 to 90945\n",
      "Data columns (total 12 columns):\n",
      " #   Column          Non-Null Count  Dtype         \n",
      "---  ------          --------------  -----         \n",
      " 0   event_datetime  41136 non-null  datetime64[ns]\n",
      " 1   user_n          41136 non-null  int64         \n",
      " 2   win             41136 non-null  int64         \n",
      " 3   step            41136 non-null  int64         \n",
      " 4   event           41136 non-null  object        \n",
      " 5   building_type   37185 non-null  object        \n",
      " 6   project_type    41136 non-null  int64         \n",
      " 7   advertising     41136 non-null  int64         \n",
      " 8   cohort          41136 non-null  object        \n",
      " 9   total_events    41136 non-null  int64         \n",
      " 10  lifetime        41136 non-null  int64         \n",
      " 11  source          41136 non-null  object        \n",
      "dtypes: datetime64[ns](1), int64(7), object(4)\n",
      "memory usage: 5.1+ MB\n"
     ]
    }
   ],
   "source": [
    "# Разделяю пользователей на pvp и pve\n",
    "pve_list = fuser.query('project_type == 1')['user_n']\n",
    "pve = fuser.query('user_n in @pve_list')\n",
    "pvp = fuser.query('user_n not in @pve_list')\n",
    "\n",
    "def marker(i):\n",
    "    if i in pve['user_n']:\n",
    "        return \"pve\"\n",
    "    elif i in pvp['user_n']:\n",
    "        return 'pvp'\n",
    "    return\n",
    "\n",
    "fuser['player'] = fuser['user_n'].apply(marker)\n",
    "   \n",
    "display(len(pve['user_n'].unique()))\n",
    "display(len(pvp['user_n'].unique()))\n",
    "pve.info()\n",
    "pvp.info()"
   ]
  },
  {
   "cell_type": "markdown",
   "metadata": {},
   "source": [
    "Сводные таблицы по уникальным пользователям в каждой категории"
   ]
  },
  {
   "cell_type": "code",
   "execution_count": 52,
   "metadata": {},
   "outputs": [],
   "source": [
    "pvp_piv = pvp.groupby('user_n').agg({\n",
    "    'lifetime':'median',\n",
    "    'cohort':'first',\n",
    "    'total_events':'first',\n",
    "    'step':'mean'\n",
    "    \n",
    "})\n",
    "\n",
    "pve_piv = pve.groupby('user_n').agg({\n",
    "    'lifetime':'median',\n",
    "    'cohort':'first',\n",
    "    'total_events':'first',\n",
    "    'step':'mean'\n",
    "})"
   ]
  },
  {
   "cell_type": "code",
   "execution_count": 53,
   "metadata": {
    "scrolled": false
   },
   "outputs": [
    {
     "data": {
      "image/png": "[encoded data removed]",
      "text/plain": [
       "<Figure size 504x288 with 1 Axes>"
      ]
     },
     "metadata": {
      "needs_background": "light"
     },
     "output_type": "display_data"
    }
   ],
   "source": [
    "f, ax = plt.subplots(figsize=(7, 4))\n",
    "sns.histplot(fuser, x = 'step', hue=\"player\", bins=15)\n",
    "plt.title('Распределение по событиям среди победителей')\n",
    "plt.xlabel('Событие')\n",
    "plt.ylabel('Победители')\n",
    "plt.grid()\n",
    "plt.show();"
   ]
  },
  {
   "cell_type": "code",
   "execution_count": 54,
   "metadata": {},
   "outputs": [
    {
     "name": "stdout",
     "output_type": "stream",
     "text": [
      "PVP 2.34\n",
      "PVE 1.17\n"
     ]
    }
   ],
   "source": [
    "#дисперсия, оценка среднего\n",
    "life_variance_pvp = np.var(pvp_piv['step'],ddof=1)\n",
    "print('PVP {:.2f}'.format(life_variance_pvp))\n",
    "\n",
    "life_variance_pve = np.var(pve_piv['step'],ddof=1)\n",
    "print('PVE {:.2f}'.format(life_variance_pve))"
   ]
  },
  {
   "cell_type": "code",
   "execution_count": 55,
   "metadata": {},
   "outputs": [
    {
     "data": {
      "text/plain": [
       "count   3,951.00\n",
       "mean        5.71\n",
       "std         1.53\n",
       "min         2.00\n",
       "25%         5.00\n",
       "50%         6.00\n",
       "75%         7.00\n",
       "max        10.50\n",
       "Name: step, dtype: float64"
      ]
     },
     "metadata": {},
     "output_type": "display_data"
    },
    {
     "data": {
      "text/plain": [
       "count   1,866.00\n",
       "mean        7.82\n",
       "std         1.08\n",
       "min         6.50\n",
       "25%         7.00\n",
       "50%         7.50\n",
       "75%         8.50\n",
       "max        11.50\n",
       "Name: step, dtype: float64"
      ]
     },
     "execution_count": 55,
     "metadata": {},
     "output_type": "execute_result"
    }
   ],
   "source": [
    "# Распределение данных\n",
    "display(pvp_piv['step'].describe())\n",
    "pve_piv['step'].describe()\n"
   ]
  },
  {
   "cell_type": "markdown",
   "metadata": {},
   "source": [
    "В средних значениях прослеживаются ожидаемые различия, так как игроки, победившие через проект, остаются в игре дольше"
   ]
  },
  {
   "cell_type": "code",
   "execution_count": 56,
   "metadata": {
    "scrolled": false
   },
   "outputs": [
    {
     "data": {
      "image/png": "[encoded data removed]",
      "text/plain": [
       "<Figure size 648x432 with 1 Axes>"
      ]
     },
     "metadata": {
      "needs_background": "light"
     },
     "output_type": "display_data"
    }
   ],
   "source": [
    "fig, ax = plt.subplots(figsize=(9, 6))\n",
    "sns.despine(left=True, ax=ax)\n",
    "pvp_piv['step'].hist(bins=10, ax=ax, alpha=0.5, label='pvp')\n",
    "pve_piv['step'].hist(bins=10, ax=ax, alpha=0.5, label='pve')\n",
    "ax.legend()\n",
    "ax.grid(color='grey', alpha=0.5, lw=0.5)\n",
    "ax.set_title(\"Кол-во действий относительно пользователей\")\n",
    "ax.grid();"
   ]
  },
  {
   "cell_type": "markdown",
   "metadata": {},
   "source": [
    "На графике присутсвует заметное смещение. Игроки PVP побеждают в большинстве случаев на начальной стадии игры (5-7 действий), тогда как PVE необходимо совершить минум 11 действий для победы"
   ]
  },
  {
   "cell_type": "markdown",
   "metadata": {},
   "source": [
    "Необходимо проверить гипотезу о равенстве средних у пользователей в отношении общего срока жизни  (lifetime)"
   ]
  },
  {
   "cell_type": "code",
   "execution_count": 57,
   "metadata": {},
   "outputs": [
    {
     "data": {
      "image/png": "[encoded data removed]",
      "text/plain": [
       "<Figure size 432x288 with 1 Axes>"
      ]
     },
     "metadata": {
      "needs_background": "light"
     },
     "output_type": "display_data"
    },
    {
     "data": {
      "image/png": "[encoded data removed]",
      "text/plain": [
       "<Figure size 432x288 with 1 Axes>"
      ]
     },
     "metadata": {
      "needs_background": "light"
     },
     "output_type": "display_data"
    }
   ],
   "source": [
    "sett = ['lifetime','step']\n",
    "\n",
    "for s in sett:\n",
    "    plt.title(s)\n",
    "    sns.distplot(pvp_piv[s], bins=10)\n",
    "    sns.distplot(pve_piv[s], bins=10)\n",
    "    plt.legend(['pvp','pve'])\n",
    "    plt.grid()\n",
    "    plt.show()"
   ]
  },
  {
   "cell_type": "markdown",
   "metadata": {},
   "source": [
    "Относительно общего срока жизни пользователей можно отметить нормальное распределение. Это позволяет выдвинуть гипотезу о равенстве средних двух выборок"
   ]
  },
  {
   "cell_type": "markdown",
   "metadata": {},
   "source": [
    "**Гипотеза #1**\n",
    "\n",
    "H(0) - Среднее время прохождения уровня между пользователями, которые заканчивают уровень через реализацию проекта, и пользователями, которые заканчивают уровень победой над другим игроком не различается\n",
    "\n",
    "H(1) - Среднее время прохождения уровня между пользователями, которые заканчивают уровень через реализацию проекта, и пользователями, которые заканчивают уровень победой над другим игроком различается"
   ]
  },
  {
   "cell_type": "code",
   "execution_count": 58,
   "metadata": {},
   "outputs": [
    {
     "name": "stdout",
     "output_type": "stream",
     "text": [
      "pvalue = 2.6237027268064204e-106\n",
      "Ниже уровня статистической значимости\n"
     ]
    }
   ],
   "source": [
    "alpha = 0.05 \n",
    "\n",
    "report_pvp = pvp_piv['lifetime']\n",
    "report_pve = pve_piv['lifetime']\n",
    "\n",
    "results = st.ttest_ind(report_pvp, report_pve,equal_var=False)\n",
    "\n",
    "print('pvalue =', results.pvalue)\n",
    "\n",
    "if results.pvalue < alpha:\n",
    "    print('Ниже уровня статистической значимости')\n",
    "else:\n",
    "    print('Можно работать с нулевой гипотезой')"
   ]
  },
  {
   "cell_type": "markdown",
   "metadata": {},
   "source": [
    "Можно отметить что сравнение среднего времени прохождения уровня между пользователями не имеет достаточного уровня значимости.\n",
    "\n",
    "В связи с этим можно отвергнуть нулевую гипотезу о равенстве среднего времени прохождения уровня между пользователями, которые заканчивают уровень через реализацию проекта, и пользователями, которые заканчивают уровень победой над другим игроком.\n",
    "\n",
    "Можно принять во внимание гипотезу H(1) о различии среднего времени прохождения уровня"
   ]
  },
  {
   "cell_type": "markdown",
   "metadata": {},
   "source": [
    "**Гипотеза 2**\n",
    "\n",
    "H(0) - Среднее время жизни между пользователями, которые завершили 1 уровень и пользователями, которые не завершили 1 уровень не различается\n",
    "\n",
    "H(1) - Среднее время жизни между пользователями, которые завершили 1 уровень и пользователями, которые не завершили 1 уровень различается"
   ]
  },
  {
   "cell_type": "code",
   "execution_count": 59,
   "metadata": {},
   "outputs": [
    {
     "data": {
      "text/plain": [
       "68469"
      ]
     },
     "metadata": {},
     "output_type": "display_data"
    },
    {
     "data": {
      "text/plain": [
       "67170"
      ]
     },
     "metadata": {},
     "output_type": "display_data"
    },
    {
     "data": {
      "text/plain": [
       "0.98"
      ]
     },
     "metadata": {},
     "output_type": "display_data"
    }
   ],
   "source": [
    "win = fuser['user_n'].unique()\n",
    "lose = pro_game.query('user_n not in @win')\n",
    "display(len(fuser))\n",
    "display(len(lose))\n",
    "display(round(len(lose)/len(fuser),2))"
   ]
  },
  {
   "cell_type": "markdown",
   "metadata": {},
   "source": [
    "Совпадение по количеству победителей и тех кто еще не пришел к победе почти 100%, что говорит о 50% вероятности завершить уровень"
   ]
  },
  {
   "cell_type": "code",
   "execution_count": 60,
   "metadata": {},
   "outputs": [
    {
     "data": {
      "image/png": "[encoded data removed]",
      "text/plain": [
       "<Figure size 432x288 with 1 Axes>"
      ]
     },
     "metadata": {
      "needs_background": "light"
     },
     "output_type": "display_data"
    },
    {
     "data": {
      "image/png": "[encoded data removed]",
      "text/plain": [
       "<Figure size 432x288 with 1 Axes>"
      ]
     },
     "metadata": {
      "needs_background": "light"
     },
     "output_type": "display_data"
    },
    {
     "data": {
      "image/png": "[encoded data removed]",
      "text/plain": [
       "<Figure size 432x288 with 1 Axes>"
      ]
     },
     "metadata": {
      "needs_background": "light"
     },
     "output_type": "display_data"
    }
   ],
   "source": [
    "sett = ['step','lifetime','total_events']\n",
    "\n",
    "for s in sett:\n",
    "    plt.title(s)\n",
    "    sns.distplot(fuser[s],bins=10)\n",
    "    sns.distplot(lose[s],bins=10)\n",
    "    plt.legend(['win','lose'])\n",
    "    plt.grid()\n",
    "    plt.show()"
   ]
  },
  {
   "cell_type": "markdown",
   "metadata": {},
   "source": [
    "Отмечу что визуально можно выделить total_events c пиком на 6 событии среди проигравших. при создании модели необходимо исследовать это отдельно. \n",
    "\n",
    "Предположительно к 5 событию происходит первый контакт между игроками (первые проигравшие) или количество рекламы заставляет пользователей заканчивать игру на данном этапе"
   ]
  },
  {
   "cell_type": "code",
   "execution_count": 61,
   "metadata": {},
   "outputs": [
    {
     "data": {
      "text/plain": [
       "count   68,469.00\n",
       "mean        11.91\n",
       "std          3.88\n",
       "min          0.00\n",
       "25%          9.00\n",
       "50%         12.00\n",
       "75%         14.00\n",
       "max         30.00\n",
       "Name: lifetime, dtype: float64"
      ]
     },
     "metadata": {},
     "output_type": "display_data"
    },
    {
     "data": {
      "text/plain": [
       "count   67,170.00\n",
       "mean        10.56\n",
       "std          4.14\n",
       "min          0.00\n",
       "25%          8.00\n",
       "50%         10.00\n",
       "75%         13.00\n",
       "max         29.00\n",
       "Name: lifetime, dtype: float64"
      ]
     },
     "execution_count": 61,
     "metadata": {},
     "output_type": "execute_result"
    }
   ],
   "source": [
    "display(fuser['lifetime'].describe())\n",
    "loser['lifetime'].describe()"
   ]
  },
  {
   "cell_type": "code",
   "execution_count": 62,
   "metadata": {},
   "outputs": [
    {
     "name": "stdout",
     "output_type": "stream",
     "text": [
      "pvalue = 0.0\n",
      "Ниже уровня статистической значимости\n"
     ]
    }
   ],
   "source": [
    "alpha = 0.05 \n",
    "\n",
    "report_win = fuser['lifetime']\n",
    "report_lose = lose['lifetime']\n",
    "\n",
    "results = st.ttest_ind(report_win, report_lose,equal_var=False)\n",
    "\n",
    "print('pvalue =', results.pvalue)\n",
    "\n",
    "if results.pvalue < alpha:\n",
    "    print('Ниже уровня статистической значимости')\n",
    "else:\n",
    "    print('Можно работать с нулевой гипотезой')\n"
   ]
  },
  {
   "cell_type": "markdown",
   "metadata": {},
   "source": [
    "По результатам проверки статистической гипотезы можно отвергнуть нулевую гипотезу H(0) о равенстве среднего времени прохождения уровня между пользователями завершившими 1 уровень и, пользователями не завершившими 1 уровень\n",
    "\n",
    "Можно принять во внимание гипотезу H(1) о различии среднего времени прохождения уровня между пользователями завершившими 1 уровень и, пользователями не завершившими 1 уровень."
   ]
  },
  {
   "cell_type": "markdown",
   "metadata": {},
   "source": [
    "## Создание модели "
   ]
  },
  {
   "cell_type": "markdown",
   "metadata": {},
   "source": [
    "### Описание модели монетизации и оценка рентабельности "
   ]
  },
  {
   "cell_type": "markdown",
   "metadata": {},
   "source": [
    "Разделяю пользователей на победителей и проигравших, смотрю на воронку игровой активности"
   ]
  },
  {
   "cell_type": "code",
   "execution_count": 63,
   "metadata": {},
   "outputs": [],
   "source": [
    "f = fuser.pivot_table(\n",
    "    index='building_type',\n",
    "    columns='step',\n",
    "    values='advertising',\n",
    "    aggfunc='sum'\n",
    ").T"
   ]
  },
  {
   "cell_type": "code",
   "execution_count": 64,
   "metadata": {},
   "outputs": [],
   "source": [
    "l = loser.pivot_table(\n",
    "    index='building_type',\n",
    "    columns='step',\n",
    "    values='advertising',\n",
    "    aggfunc='sum'\n",
    ").T"
   ]
  },
  {
   "cell_type": "code",
   "execution_count": 65,
   "metadata": {
    "scrolled": false
   },
   "outputs": [
    {
     "data": {
      "text/html": [
       "<div>\n",
       "<style scoped>\n",
       "    .dataframe tbody tr th:only-of-type {\n",
       "        vertical-align: middle;\n",
       "    }\n",
       "\n",
       "    .dataframe tbody tr th {\n",
       "        vertical-align: top;\n",
       "    }\n",
       "\n",
       "    .dataframe thead th {\n",
       "        text-align: right;\n",
       "    }\n",
       "</style>\n",
       "<table border=\"1\" class=\"dataframe\">\n",
       "  <thead>\n",
       "    <tr style=\"text-align: right;\">\n",
       "      <th>building_type</th>\n",
       "      <th>assembly_shop</th>\n",
       "      <th>research_center</th>\n",
       "      <th>spaceport</th>\n",
       "    </tr>\n",
       "    <tr>\n",
       "      <th>step</th>\n",
       "      <th></th>\n",
       "      <th></th>\n",
       "      <th></th>\n",
       "    </tr>\n",
       "  </thead>\n",
       "  <tbody>\n",
       "    <tr>\n",
       "      <th>1</th>\n",
       "      <td>0.75</td>\n",
       "      <td>NaN</td>\n",
       "      <td>NaN</td>\n",
       "    </tr>\n",
       "    <tr>\n",
       "      <th>2</th>\n",
       "      <td>0.83</td>\n",
       "      <td>NaN</td>\n",
       "      <td>0.58</td>\n",
       "    </tr>\n",
       "    <tr>\n",
       "      <th>3</th>\n",
       "      <td>0.85</td>\n",
       "      <td>NaN</td>\n",
       "      <td>0.65</td>\n",
       "    </tr>\n",
       "    <tr>\n",
       "      <th>4</th>\n",
       "      <td>0.92</td>\n",
       "      <td>NaN</td>\n",
       "      <td>0.69</td>\n",
       "    </tr>\n",
       "    <tr>\n",
       "      <th>5</th>\n",
       "      <td>0.98</td>\n",
       "      <td>NaN</td>\n",
       "      <td>0.77</td>\n",
       "    </tr>\n",
       "    <tr>\n",
       "      <th>6</th>\n",
       "      <td>1.06</td>\n",
       "      <td>NaN</td>\n",
       "      <td>0.87</td>\n",
       "    </tr>\n",
       "    <tr>\n",
       "      <th>7</th>\n",
       "      <td>1.11</td>\n",
       "      <td>NaN</td>\n",
       "      <td>1.08</td>\n",
       "    </tr>\n",
       "    <tr>\n",
       "      <th>8</th>\n",
       "      <td>0.98</td>\n",
       "      <td>1.18</td>\n",
       "      <td>1.16</td>\n",
       "    </tr>\n",
       "    <tr>\n",
       "      <th>9</th>\n",
       "      <td>1.07</td>\n",
       "      <td>1.29</td>\n",
       "      <td>1.15</td>\n",
       "    </tr>\n",
       "    <tr>\n",
       "      <th>10</th>\n",
       "      <td>0.91</td>\n",
       "      <td>1.39</td>\n",
       "      <td>1.13</td>\n",
       "    </tr>\n",
       "    <tr>\n",
       "      <th>11</th>\n",
       "      <td>0.70</td>\n",
       "      <td>1.23</td>\n",
       "      <td>1.05</td>\n",
       "    </tr>\n",
       "    <tr>\n",
       "      <th>12</th>\n",
       "      <td>0.75</td>\n",
       "      <td>0.97</td>\n",
       "      <td>0.98</td>\n",
       "    </tr>\n",
       "    <tr>\n",
       "      <th>13</th>\n",
       "      <td>0.58</td>\n",
       "      <td>0.82</td>\n",
       "      <td>0.91</td>\n",
       "    </tr>\n",
       "    <tr>\n",
       "      <th>14</th>\n",
       "      <td>0.71</td>\n",
       "      <td>0.66</td>\n",
       "      <td>0.81</td>\n",
       "    </tr>\n",
       "    <tr>\n",
       "      <th>15</th>\n",
       "      <td>4.00</td>\n",
       "      <td>0.65</td>\n",
       "      <td>0.69</td>\n",
       "    </tr>\n",
       "    <tr>\n",
       "      <th>16</th>\n",
       "      <td>NaN</td>\n",
       "      <td>0.79</td>\n",
       "      <td>0.80</td>\n",
       "    </tr>\n",
       "    <tr>\n",
       "      <th>17</th>\n",
       "      <td>NaN</td>\n",
       "      <td>0.79</td>\n",
       "      <td>1.06</td>\n",
       "    </tr>\n",
       "    <tr>\n",
       "      <th>18</th>\n",
       "      <td>NaN</td>\n",
       "      <td>1.00</td>\n",
       "      <td>1.31</td>\n",
       "    </tr>\n",
       "    <tr>\n",
       "      <th>19</th>\n",
       "      <td>NaN</td>\n",
       "      <td>1.21</td>\n",
       "      <td>1.85</td>\n",
       "    </tr>\n",
       "    <tr>\n",
       "      <th>20</th>\n",
       "      <td>NaN</td>\n",
       "      <td>3.50</td>\n",
       "      <td>1.60</td>\n",
       "    </tr>\n",
       "    <tr>\n",
       "      <th>21</th>\n",
       "      <td>NaN</td>\n",
       "      <td>NaN</td>\n",
       "      <td>NaN</td>\n",
       "    </tr>\n",
       "  </tbody>\n",
       "</table>\n",
       "</div>"
      ],
      "text/plain": [
       "building_type  assembly_shop  research_center  spaceport\n",
       "step                                                    \n",
       "1                       0.75              NaN        NaN\n",
       "2                       0.83              NaN       0.58\n",
       "3                       0.85              NaN       0.65\n",
       "4                       0.92              NaN       0.69\n",
       "5                       0.98              NaN       0.77\n",
       "6                       1.06              NaN       0.87\n",
       "7                       1.11              NaN       1.08\n",
       "8                       0.98             1.18       1.16\n",
       "9                       1.07             1.29       1.15\n",
       "10                      0.91             1.39       1.13\n",
       "11                      0.70             1.23       1.05\n",
       "12                      0.75             0.97       0.98\n",
       "13                      0.58             0.82       0.91\n",
       "14                      0.71             0.66       0.81\n",
       "15                      4.00             0.65       0.69\n",
       "16                       NaN             0.79       0.80\n",
       "17                       NaN             0.79       1.06\n",
       "18                       NaN             1.00       1.31\n",
       "19                       NaN             1.21       1.85\n",
       "20                       NaN             3.50       1.60\n",
       "21                       NaN              NaN        NaN"
      ]
     },
     "execution_count": 65,
     "metadata": {},
     "output_type": "execute_result"
    }
   ],
   "source": [
    "# Делю проигравших на победитей и смотрю где шансы уравниваются\n",
    "f/l"
   ]
  },
  {
   "cell_type": "markdown",
   "metadata": {},
   "source": [
    "Как было упомянуто ранее - после 5-ого события образуется баланс между победителями и проигравшими, ввиду того, что часть пользователей перестает играть. До события 8, можно выделить первый потенциальный отрезок\n",
    "\n",
    "Второй потенциальный отрезок: с 8 по 12 события, где количество победителей преобладает над проигравшими\n",
    "\n",
    "Логика следующая - на игрока влияют 2 фактора:\n",
    "\n",
    "- Сложность (покинул игру из-за первого поражения)\n",
    "- Реклама (покинул игру из-за частого показа рекламы)\n",
    "\n",
    "Модель должна учитывать ключевые моменты оттока пользователей и не показывать рекламу перед данным моментом "
   ]
  },
  {
   "cell_type": "code",
   "execution_count": 66,
   "metadata": {},
   "outputs": [],
   "source": [
    "c = pro_game.pivot_table(\n",
    "    index='step',\n",
    "    columns='building_type',\n",
    "    values='user_n',\n",
    "    aggfunc='nunique'\n",
    ")\n",
    "c['users'] = c.sum(axis=1)\n",
    "c['users_dif'] = c['users'].diff(1)\n",
    "c['%_users_left'] = c['users']/users\n",
    "c['%_users_left'] = 1 - c['%_users_left']\n",
    "c['income'] = c['users']*0.07\n",
    "c['income_sum'] = c['income'].cumsum(axis=0)\n",
    "c['income_dif'] = c['income'].diff(1)\n",
    "c=c.rename(columns={'building_type':'step'}).reset_index()"
   ]
  },
  {
   "cell_type": "code",
   "execution_count": 67,
   "metadata": {
    "scrolled": false
   },
   "outputs": [
    {
     "data": {
      "text/html": [
       "<div>\n",
       "<style scoped>\n",
       "    .dataframe tbody tr th:only-of-type {\n",
       "        vertical-align: middle;\n",
       "    }\n",
       "\n",
       "    .dataframe tbody tr th {\n",
       "        vertical-align: top;\n",
       "    }\n",
       "\n",
       "    .dataframe thead th {\n",
       "        text-align: right;\n",
       "    }\n",
       "</style>\n",
       "<table border=\"1\" class=\"dataframe\">\n",
       "  <thead>\n",
       "    <tr style=\"text-align: right;\">\n",
       "      <th>building_type</th>\n",
       "      <th>step</th>\n",
       "      <th>assembly_shop</th>\n",
       "      <th>research_center</th>\n",
       "      <th>spaceport</th>\n",
       "      <th>users</th>\n",
       "      <th>%_users_left</th>\n",
       "      <th>income_sum</th>\n",
       "    </tr>\n",
       "  </thead>\n",
       "  <tbody>\n",
       "    <tr>\n",
       "      <th>0</th>\n",
       "      <td>1</td>\n",
       "      <td>13,576.00</td>\n",
       "      <td>NaN</td>\n",
       "      <td>NaN</td>\n",
       "      <td>13,576.00</td>\n",
       "      <td>0.00</td>\n",
       "      <td>950.32</td>\n",
       "    </tr>\n",
       "    <tr>\n",
       "      <th>1</th>\n",
       "      <td>2</td>\n",
       "      <td>9,945.00</td>\n",
       "      <td>NaN</td>\n",
       "      <td>3,574.00</td>\n",
       "      <td>13,519.00</td>\n",
       "      <td>0.00</td>\n",
       "      <td>1,896.65</td>\n",
       "    </tr>\n",
       "    <tr>\n",
       "      <th>2</th>\n",
       "      <td>3</td>\n",
       "      <td>8,216.00</td>\n",
       "      <td>NaN</td>\n",
       "      <td>5,025.00</td>\n",
       "      <td>13,241.00</td>\n",
       "      <td>0.02</td>\n",
       "      <td>2,823.52</td>\n",
       "    </tr>\n",
       "    <tr>\n",
       "      <th>3</th>\n",
       "      <td>4</td>\n",
       "      <td>6,830.00</td>\n",
       "      <td>NaN</td>\n",
       "      <td>5,855.00</td>\n",
       "      <td>12,685.00</td>\n",
       "      <td>0.07</td>\n",
       "      <td>3,711.47</td>\n",
       "    </tr>\n",
       "    <tr>\n",
       "      <th>4</th>\n",
       "      <td>5</td>\n",
       "      <td>5,483.00</td>\n",
       "      <td>NaN</td>\n",
       "      <td>6,420.00</td>\n",
       "      <td>11,903.00</td>\n",
       "      <td>0.12</td>\n",
       "      <td>4,544.68</td>\n",
       "    </tr>\n",
       "    <tr>\n",
       "      <th>5</th>\n",
       "      <td>6</td>\n",
       "      <td>4,330.00</td>\n",
       "      <td>NaN</td>\n",
       "      <td>6,582.00</td>\n",
       "      <td>10,912.00</td>\n",
       "      <td>0.20</td>\n",
       "      <td>5,308.52</td>\n",
       "    </tr>\n",
       "    <tr>\n",
       "      <th>6</th>\n",
       "      <td>7</td>\n",
       "      <td>2,976.00</td>\n",
       "      <td>NaN</td>\n",
       "      <td>6,617.00</td>\n",
       "      <td>9,593.00</td>\n",
       "      <td>0.29</td>\n",
       "      <td>5,980.03</td>\n",
       "    </tr>\n",
       "    <tr>\n",
       "      <th>7</th>\n",
       "      <td>8</td>\n",
       "      <td>1,588.00</td>\n",
       "      <td>2,246.00</td>\n",
       "      <td>5,440.00</td>\n",
       "      <td>9,274.00</td>\n",
       "      <td>0.32</td>\n",
       "      <td>6,629.21</td>\n",
       "    </tr>\n",
       "    <tr>\n",
       "      <th>8</th>\n",
       "      <td>9</td>\n",
       "      <td>838.00</td>\n",
       "      <td>2,842.00</td>\n",
       "      <td>4,751.00</td>\n",
       "      <td>8,431.00</td>\n",
       "      <td>0.38</td>\n",
       "      <td>7,219.38</td>\n",
       "    </tr>\n",
       "    <tr>\n",
       "      <th>9</th>\n",
       "      <td>10</td>\n",
       "      <td>377.00</td>\n",
       "      <td>2,627.00</td>\n",
       "      <td>4,113.00</td>\n",
       "      <td>7,117.00</td>\n",
       "      <td>0.48</td>\n",
       "      <td>7,717.57</td>\n",
       "    </tr>\n",
       "    <tr>\n",
       "      <th>10</th>\n",
       "      <td>11</td>\n",
       "      <td>204.00</td>\n",
       "      <td>2,051.00</td>\n",
       "      <td>3,264.00</td>\n",
       "      <td>5,519.00</td>\n",
       "      <td>0.59</td>\n",
       "      <td>8,103.90</td>\n",
       "    </tr>\n",
       "    <tr>\n",
       "      <th>11</th>\n",
       "      <td>12</td>\n",
       "      <td>84.00</td>\n",
       "      <td>1,533.00</td>\n",
       "      <td>2,571.00</td>\n",
       "      <td>4,188.00</td>\n",
       "      <td>0.69</td>\n",
       "      <td>8,397.06</td>\n",
       "    </tr>\n",
       "    <tr>\n",
       "      <th>12</th>\n",
       "      <td>13</td>\n",
       "      <td>30.00</td>\n",
       "      <td>1,105.00</td>\n",
       "      <td>1,949.00</td>\n",
       "      <td>3,084.00</td>\n",
       "      <td>0.77</td>\n",
       "      <td>8,612.94</td>\n",
       "    </tr>\n",
       "    <tr>\n",
       "      <th>13</th>\n",
       "      <td>14</td>\n",
       "      <td>12.00</td>\n",
       "      <td>708.00</td>\n",
       "      <td>1,381.00</td>\n",
       "      <td>2,101.00</td>\n",
       "      <td>0.85</td>\n",
       "      <td>8,760.01</td>\n",
       "    </tr>\n",
       "    <tr>\n",
       "      <th>14</th>\n",
       "      <td>15</td>\n",
       "      <td>5.00</td>\n",
       "      <td>447.00</td>\n",
       "      <td>892.00</td>\n",
       "      <td>1,344.00</td>\n",
       "      <td>0.90</td>\n",
       "      <td>8,854.09</td>\n",
       "    </tr>\n",
       "  </tbody>\n",
       "</table>\n",
       "</div>"
      ],
      "text/plain": [
       "building_type  step  assembly_shop  research_center  spaceport     users  \\\n",
       "0                 1      13,576.00              NaN        NaN 13,576.00   \n",
       "1                 2       9,945.00              NaN   3,574.00 13,519.00   \n",
       "2                 3       8,216.00              NaN   5,025.00 13,241.00   \n",
       "3                 4       6,830.00              NaN   5,855.00 12,685.00   \n",
       "4                 5       5,483.00              NaN   6,420.00 11,903.00   \n",
       "5                 6       4,330.00              NaN   6,582.00 10,912.00   \n",
       "6                 7       2,976.00              NaN   6,617.00  9,593.00   \n",
       "7                 8       1,588.00         2,246.00   5,440.00  9,274.00   \n",
       "8                 9         838.00         2,842.00   4,751.00  8,431.00   \n",
       "9                10         377.00         2,627.00   4,113.00  7,117.00   \n",
       "10               11         204.00         2,051.00   3,264.00  5,519.00   \n",
       "11               12          84.00         1,533.00   2,571.00  4,188.00   \n",
       "12               13          30.00         1,105.00   1,949.00  3,084.00   \n",
       "13               14          12.00           708.00   1,381.00  2,101.00   \n",
       "14               15           5.00           447.00     892.00  1,344.00   \n",
       "\n",
       "building_type  %_users_left  income_sum  \n",
       "0                      0.00      950.32  \n",
       "1                      0.00    1,896.65  \n",
       "2                      0.02    2,823.52  \n",
       "3                      0.07    3,711.47  \n",
       "4                      0.12    4,544.68  \n",
       "5                      0.20    5,308.52  \n",
       "6                      0.29    5,980.03  \n",
       "7                      0.32    6,629.21  \n",
       "8                      0.38    7,219.38  \n",
       "9                      0.48    7,717.57  \n",
       "10                     0.59    8,103.90  \n",
       "11                     0.69    8,397.06  \n",
       "12                     0.77    8,612.94  \n",
       "13                     0.85    8,760.01  \n",
       "14                     0.90    8,854.09  "
      ]
     },
     "execution_count": 67,
     "metadata": {},
     "output_type": "execute_result"
    }
   ],
   "source": [
    "c[:15][['step','assembly_shop','research_center','spaceport','users','%_users_left','income_sum']]"
   ]
  },
  {
   "cell_type": "markdown",
   "metadata": {},
   "source": [
    "Исходя из данных таблицы можно заключить о том, что затраты на маркетинг при базовой модели показа рекламы окупаются на 10 событие совершенное пользователем\n",
    "\n",
    "В базовой модели реклама была показана 135639 раз\n",
    "\n",
    "К пятому событию уходит 12% пользователей, шестое событие выполняют только 80%, седьмое событие - 70%, десятое событие - 50%.\n",
    "\n",
    "\n",
    "Модель предполагает - не показывать рекламу пользователю на:\n",
    "\n",
    "    - экране постройки сборочного цеха, если для пользователя это 6 или 7 событие\n",
    "    - экране постройки центра исследований при первом строительстве  (8 событие)\n",
    "    - экране постройки космопорта при первом строительстве (2 событие) и перед победой большинства пользователей (9 событие)\n",
    "\n",
    "6 и 7 событие - экран сборочного цеха - наименее популярное для пользователей на данном этапе игры, также в этот момент уходит порядка 30% пользователей, соответсвенно не показывая рекламу можно стимулировать пользователей к постройкам и снизить негативное влияние рекламы.\n",
    "\n",
    "Строительство центра исследований начинается с 8 этапа, и по сравнению с 9 этапом пользуется меньшей популярностью, аналогично с сборочным цехом исключим рекламу для повышения превлекательности постройки и снижения негативного влияния рекламы.\n",
    "\n",
    "Пользователи, как правило строят космопорт 2 или 3 событием, так как на 2 этапе не так много пользователей строят космопорт, можно не показывать рекламу и у пользователей будет ощущение, что реклама появляется приблизительно каждый 2 раз, к моменту завершения уровня, ввиду ограничений описанных выше.\n",
    "\n",
    "Также можно ограничить показ рекламы на экране постройки космопорта если это событие 9 для пользователя. Большая часть игроков завершают 1 уровень за 10 событий, причем после 6-ого события строится преемущественно космопорт. Убирая событие 9, можно предполагать, что пользователь не увидит рекламу перед прохождением уровня и игра затянет его еще больше.\n",
    "\n",
    "После 10 события нет смысла ограничивать рекламу, так как основную прибыль мы получаем до 10 дейсвтия и в этом интервале необходимо вводить ограничения, которые помогут удержать часть пользователей.\n",
    "\n",
    "В таком случае из общего количества событий мы исключаем описанные выше и получаем следующее"
   ]
  },
  {
   "cell_type": "code",
   "execution_count": 68,
   "metadata": {},
   "outputs": [],
   "source": [
    "as_shop= len(pro_game.query('6 <= step <=7').query('building_type==\"assembly_shop\"'))\n",
    "sp_port29= len(pro_game.query('(step == 2)|(step == 9)').query('building_type==\"spaceport\"'))\n",
    "sp_port2= len(pro_game.query('(step == 2)').query('building_type==\"spaceport\"'))\n",
    "res_centr = len(pro_game.query('step == 8').query('building_type==\"research_center\"'))\n",
    "no_show1 = (as_shop + res_centr + sp_port29)\n",
    "no_show2 = (as_shop + res_centr + sp_port2)\n",
    "baza = pro_game['advertising'].sum()\n",
    "perc = no_show1/baza\n",
    "perc1 = no_show2/baza"
   ]
  },
  {
   "cell_type": "code",
   "execution_count": 69,
   "metadata": {
    "scrolled": true
   },
   "outputs": [
    {
     "name": "stdout",
     "output_type": "stream",
     "text": [
      "Количество показов рекламы в базовой модели 127956\n"
     ]
    }
   ],
   "source": [
    "print('Количество показов рекламы в базовой модели {}'.format(baza))"
   ]
  },
  {
   "cell_type": "code",
   "execution_count": 70,
   "metadata": {},
   "outputs": [
    {
     "data": {
      "text/plain": [
       "{'income': 8956.92,\n",
       " 'cost': 7603.58,\n",
       " 'dif': 1353.34,\n",
       " 'profit': 117.8,\n",
       " 'roi': 17.8}"
      ]
     },
     "execution_count": 70,
     "metadata": {},
     "output_type": "execute_result"
    }
   ],
   "source": [
    "# бизнес показатели по базовой модели\n",
    "eco(baza)"
   ]
  },
  {
   "cell_type": "markdown",
   "metadata": {},
   "source": [
    "По базовой модели доход составил **8956.92** при показе **127956** рекламных роликов\n",
    "\n",
    "Доход превысил затраты на привлечение клиентов на **17.7%**"
   ]
  },
  {
   "cell_type": "markdown",
   "metadata": {},
   "source": [
    "Исключаем показы в соответсвии с моделью"
   ]
  },
  {
   "cell_type": "code",
   "execution_count": 71,
   "metadata": {},
   "outputs": [
    {
     "data": {
      "text/plain": [
       "{'income': 7705.53,\n",
       " 'cost': 7603.58,\n",
       " 'dif': 101.95,\n",
       " 'profit': 101.34,\n",
       " 'roi': 1.34}"
      ]
     },
     "execution_count": 71,
     "metadata": {},
     "output_type": "execute_result"
    }
   ],
   "source": [
    "# бизнес показатели по новой модели\n",
    "eco(baza-no_show1)"
   ]
  },
  {
   "cell_type": "code",
   "execution_count": 72,
   "metadata": {},
   "outputs": [
    {
     "name": "stdout",
     "output_type": "stream",
     "text": [
      "Количество показов рекламы в новой модели 110079\n",
      "Процент исключенной рекламы 13.97%\n"
     ]
    }
   ],
   "source": [
    "print('Количество показов рекламы в новой модели {}'.format(baza-no_show1))\n",
    "print('Процент исключенной рекламы {:.2%}'.format(perc))"
   ]
  },
  {
   "cell_type": "markdown",
   "metadata": {},
   "source": [
    "По новой модели доход составил **7705.53** при показе **110079** рекламных роликов\n",
    "\n",
    "Доход превысил затраты на привлечение клиентов на **1.3%**\n",
    "\n",
    "Негативное влияние от рекламы удалось сократить на **13,97%**"
   ]
  },
  {
   "cell_type": "code",
   "execution_count": 73,
   "metadata": {},
   "outputs": [
    {
     "data": {
      "text/plain": [
       "{'income': 8038.1,\n",
       " 'cost': 7603.58,\n",
       " 'dif': 434.52,\n",
       " 'profit': 105.71,\n",
       " 'roi': 5.71}"
      ]
     },
     "execution_count": 73,
     "metadata": {},
     "output_type": "execute_result"
    }
   ],
   "source": [
    "# бизнес показатели по новой модели (2 версия)\n",
    "eco(baza-no_show2)"
   ]
  },
  {
   "cell_type": "code",
   "execution_count": 74,
   "metadata": {},
   "outputs": [
    {
     "name": "stdout",
     "output_type": "stream",
     "text": [
      "Количество исключенных событий 17877\n",
      "Процент исключенной рекламы 10.26%\n"
     ]
    }
   ],
   "source": [
    "print('Количество исключенных событий {}'.format(no_show1))\n",
    "print('Процент исключенной рекламы {:.2%}'.format(perc1))"
   ]
  },
  {
   "cell_type": "markdown",
   "metadata": {},
   "source": [
    "При сохранении показа рекламы на экране постройки цеха (9 событие), прибыль составит **8038.1**\n",
    "\n",
    "Доход превысил затраты на привлечение клиентов на **5.71%**\n",
    "\n",
    "Негативное влияние от рекламы снижено на **10,26%**"
   ]
  }
 ],
 "metadata": {
  "ExecuteTimeLog": [
   {
    "duration": 1304,
    "start_time": "2022-04-25T18:17:29.534Z"
   },
   {
    "duration": 118,
    "start_time": "2022-04-25T18:18:17.630Z"
   },
   {
    "duration": 14,
    "start_time": "2022-04-25T18:19:09.217Z"
   },
   {
    "duration": 66,
    "start_time": "2022-04-25T18:19:18.733Z"
   },
   {
    "duration": 66,
    "start_time": "2022-04-25T18:19:29.232Z"
   },
   {
    "duration": 711,
    "start_time": "2022-04-25T18:20:00.931Z"
   },
   {
    "duration": 29,
    "start_time": "2022-04-25T18:20:36.862Z"
   },
   {
    "duration": 278,
    "start_time": "2022-04-25T18:21:09.006Z"
   },
   {
    "duration": 19,
    "start_time": "2022-04-25T18:21:09.613Z"
   },
   {
    "duration": 22,
    "start_time": "2022-04-25T18:21:38.052Z"
   },
   {
    "duration": 47,
    "start_time": "2022-04-25T18:21:44.271Z"
   },
   {
    "duration": 44,
    "start_time": "2022-04-25T18:24:24.284Z"
   },
   {
    "duration": 8,
    "start_time": "2022-04-25T18:24:32.024Z"
   },
   {
    "duration": 45,
    "start_time": "2022-04-25T18:24:46.915Z"
   },
   {
    "duration": 67,
    "start_time": "2022-04-25T18:36:49.562Z"
   },
   {
    "duration": 70,
    "start_time": "2022-04-25T18:38:18.848Z"
   },
   {
    "duration": 63,
    "start_time": "2022-04-25T18:38:42.392Z"
   },
   {
    "duration": 17,
    "start_time": "2022-04-25T18:39:33.971Z"
   },
   {
    "duration": 18,
    "start_time": "2022-04-25T18:40:45.609Z"
   },
   {
    "duration": 19,
    "start_time": "2022-04-25T18:40:57.747Z"
   },
   {
    "duration": 4,
    "start_time": "2022-04-25T18:41:25.505Z"
   },
   {
    "duration": 66,
    "start_time": "2022-04-25T18:42:08.986Z"
   },
   {
    "duration": 4,
    "start_time": "2022-04-25T18:42:09.184Z"
   },
   {
    "duration": 51,
    "start_time": "2022-04-25T18:43:45.103Z"
   },
   {
    "duration": 46,
    "start_time": "2022-04-25T18:43:59.907Z"
   },
   {
    "duration": 45,
    "start_time": "2022-04-25T18:44:08.931Z"
   },
   {
    "duration": 47,
    "start_time": "2022-04-25T18:45:38.996Z"
   },
   {
    "duration": 65,
    "start_time": "2022-04-25T18:47:03.506Z"
   },
   {
    "duration": 88,
    "start_time": "2022-04-25T18:48:04.176Z"
   },
   {
    "duration": 1230,
    "start_time": "2022-04-25T18:48:20.751Z"
   },
   {
    "duration": 1068,
    "start_time": "2022-04-25T18:48:57.797Z"
   },
   {
    "duration": 228,
    "start_time": "2022-04-25T18:48:58.867Z"
   },
   {
    "duration": 18,
    "start_time": "2022-04-25T18:48:59.097Z"
   },
   {
    "duration": 32,
    "start_time": "2022-04-25T18:48:59.117Z"
   },
   {
    "duration": 43,
    "start_time": "2022-04-25T18:48:59.153Z"
   },
   {
    "duration": 10,
    "start_time": "2022-04-25T18:48:59.198Z"
   },
   {
    "duration": 67,
    "start_time": "2022-04-25T18:48:59.209Z"
   },
   {
    "duration": 76,
    "start_time": "2022-04-25T18:48:59.278Z"
   },
   {
    "duration": 66,
    "start_time": "2022-04-25T18:48:59.356Z"
   },
   {
    "duration": 34,
    "start_time": "2022-04-25T18:48:59.425Z"
   },
   {
    "duration": 6,
    "start_time": "2022-04-25T18:48:59.461Z"
   },
   {
    "duration": 69,
    "start_time": "2022-04-25T18:48:59.469Z"
   },
   {
    "duration": 15,
    "start_time": "2022-04-25T18:48:59.540Z"
   },
   {
    "duration": 50,
    "start_time": "2022-04-25T18:48:59.557Z"
   },
   {
    "duration": 79,
    "start_time": "2022-04-25T18:48:59.609Z"
   },
   {
    "duration": 103,
    "start_time": "2022-04-25T18:48:59.690Z"
   },
   {
    "duration": 1222,
    "start_time": "2022-04-25T18:52:04.782Z"
   },
   {
    "duration": 92,
    "start_time": "2022-04-25T18:54:09.138Z"
   },
   {
    "duration": 1113,
    "start_time": "2022-04-25T18:54:15.567Z"
   },
   {
    "duration": 299,
    "start_time": "2022-04-25T18:54:16.683Z"
   },
   {
    "duration": 21,
    "start_time": "2022-04-25T18:54:16.983Z"
   },
   {
    "duration": 34,
    "start_time": "2022-04-25T18:54:17.006Z"
   },
   {
    "duration": 55,
    "start_time": "2022-04-25T18:54:17.041Z"
   },
   {
    "duration": 8,
    "start_time": "2022-04-25T18:54:17.098Z"
   },
   {
    "duration": 60,
    "start_time": "2022-04-25T18:54:17.108Z"
   },
   {
    "duration": 65,
    "start_time": "2022-04-25T18:54:17.170Z"
   },
   {
    "duration": 75,
    "start_time": "2022-04-25T18:54:17.237Z"
   },
   {
    "duration": 17,
    "start_time": "2022-04-25T18:54:17.314Z"
   },
   {
    "duration": 23,
    "start_time": "2022-04-25T18:54:17.332Z"
   },
   {
    "duration": 67,
    "start_time": "2022-04-25T18:54:17.357Z"
   },
   {
    "duration": 3,
    "start_time": "2022-04-25T18:54:17.426Z"
   },
   {
    "duration": 66,
    "start_time": "2022-04-25T18:54:17.431Z"
   },
   {
    "duration": 79,
    "start_time": "2022-04-25T18:54:17.499Z"
   },
   {
    "duration": 97,
    "start_time": "2022-04-25T18:54:17.580Z"
   },
   {
    "duration": 46,
    "start_time": "2022-04-25T18:54:17.679Z"
   },
   {
    "duration": 32,
    "start_time": "2022-04-25T18:54:17.726Z"
   },
   {
    "duration": 41,
    "start_time": "2022-04-25T18:55:21.862Z"
   },
   {
    "duration": 7,
    "start_time": "2022-04-25T18:57:17.670Z"
   },
   {
    "duration": 10,
    "start_time": "2022-04-25T19:00:52.055Z"
   },
   {
    "duration": 37,
    "start_time": "2022-04-25T19:01:07.773Z"
   },
   {
    "duration": 11,
    "start_time": "2022-04-25T19:05:45.831Z"
   },
   {
    "duration": 47,
    "start_time": "2022-04-25T19:06:20.891Z"
   },
   {
    "duration": 15,
    "start_time": "2022-04-25T19:09:46.866Z"
   },
   {
    "duration": 10,
    "start_time": "2022-04-25T19:09:57.911Z"
   },
   {
    "duration": 26,
    "start_time": "2022-04-25T19:11:03.192Z"
   },
   {
    "duration": 17,
    "start_time": "2022-04-25T19:13:14.860Z"
   },
   {
    "duration": 9,
    "start_time": "2022-04-25T19:13:15.067Z"
   },
   {
    "duration": 16,
    "start_time": "2022-04-25T19:13:41.135Z"
   },
   {
    "duration": 8,
    "start_time": "2022-04-25T19:13:44.207Z"
   },
   {
    "duration": 123,
    "start_time": "2022-04-25T19:14:24.090Z"
   },
   {
    "duration": 28,
    "start_time": "2022-04-25T19:14:27.832Z"
   },
   {
    "duration": 17,
    "start_time": "2022-04-25T19:14:36.549Z"
   },
   {
    "duration": 9,
    "start_time": "2022-04-25T19:14:37.607Z"
   },
   {
    "duration": 37,
    "start_time": "2022-04-25T19:19:01.636Z"
   },
   {
    "duration": 5,
    "start_time": "2022-04-25T19:21:36.166Z"
   },
   {
    "duration": 4,
    "start_time": "2022-04-25T19:21:44.706Z"
   },
   {
    "duration": 4,
    "start_time": "2022-04-25T19:22:16.657Z"
   },
   {
    "duration": 5,
    "start_time": "2022-04-25T19:22:41.280Z"
   },
   {
    "duration": 60,
    "start_time": "2022-04-25T19:24:37.720Z"
   },
   {
    "duration": 1222,
    "start_time": "2022-04-25T19:25:19.617Z"
   },
   {
    "duration": 14,
    "start_time": "2022-04-25T19:25:52.647Z"
   },
   {
    "duration": 159,
    "start_time": "2022-04-25T19:26:00.233Z"
   },
   {
    "duration": 9,
    "start_time": "2022-04-25T19:26:02.871Z"
   },
   {
    "duration": 10,
    "start_time": "2022-04-25T19:26:05.308Z"
   },
   {
    "duration": 11,
    "start_time": "2022-04-25T19:26:25.510Z"
   },
   {
    "duration": 12,
    "start_time": "2022-04-25T19:26:30.143Z"
   },
   {
    "duration": 1252,
    "start_time": "2022-04-25T19:27:14.818Z"
   },
   {
    "duration": 986,
    "start_time": "2022-04-25T19:27:50.192Z"
   },
   {
    "duration": 897,
    "start_time": "2022-04-25T19:28:35.366Z"
   },
   {
    "duration": 853,
    "start_time": "2022-04-25T19:28:53.461Z"
   },
   {
    "duration": 258,
    "start_time": "2022-04-25T19:29:05.266Z"
   },
   {
    "duration": 377,
    "start_time": "2022-04-25T19:29:22.517Z"
   },
   {
    "duration": 451,
    "start_time": "2022-04-25T19:31:49.471Z"
   },
   {
    "duration": 579,
    "start_time": "2022-04-25T19:32:08.644Z"
   },
   {
    "duration": 335,
    "start_time": "2022-04-25T19:36:04.863Z"
   },
   {
    "duration": 1356,
    "start_time": "2022-04-25T19:36:49.834Z"
   },
   {
    "duration": 47,
    "start_time": "2022-04-25T19:41:01.835Z"
   },
   {
    "duration": 484,
    "start_time": "2022-04-25T19:41:01.982Z"
   },
   {
    "duration": 666,
    "start_time": "2022-04-25T19:41:30.915Z"
   },
   {
    "duration": 1891,
    "start_time": "2022-04-25T19:41:49.297Z"
   },
   {
    "duration": 1059,
    "start_time": "2022-04-25T19:42:15.570Z"
   },
   {
    "duration": 145,
    "start_time": "2022-04-25T19:45:35.362Z"
   },
   {
    "duration": 135,
    "start_time": "2022-04-25T19:46:03.758Z"
   },
   {
    "duration": 18,
    "start_time": "2022-04-25T19:46:46.793Z"
   },
   {
    "duration": 127,
    "start_time": "2022-04-25T19:47:52.589Z"
   },
   {
    "duration": 18,
    "start_time": "2022-04-25T19:47:55.958Z"
   },
   {
    "duration": 27,
    "start_time": "2022-04-25T19:50:25.288Z"
   },
   {
    "duration": 74,
    "start_time": "2022-04-25T19:57:46.233Z"
   },
   {
    "duration": 68,
    "start_time": "2022-04-25T19:58:12.494Z"
   },
   {
    "duration": 66,
    "start_time": "2022-04-25T19:58:24.256Z"
   },
   {
    "duration": 71,
    "start_time": "2022-04-25T19:59:26.236Z"
   },
   {
    "duration": 70,
    "start_time": "2022-04-25T20:00:38.198Z"
   },
   {
    "duration": 8,
    "start_time": "2022-04-25T20:00:41.364Z"
   },
   {
    "duration": 16,
    "start_time": "2022-04-25T20:02:07.606Z"
   },
   {
    "duration": 16,
    "start_time": "2022-04-25T20:03:00.858Z"
   },
   {
    "duration": 9,
    "start_time": "2022-04-25T20:03:16.475Z"
   },
   {
    "duration": 8,
    "start_time": "2022-04-25T20:04:58.596Z"
   },
   {
    "duration": 15,
    "start_time": "2022-04-25T20:05:31.012Z"
   },
   {
    "duration": 14,
    "start_time": "2022-04-25T20:06:31.682Z"
   },
   {
    "duration": 11,
    "start_time": "2022-04-25T20:06:38.478Z"
   },
   {
    "duration": 4,
    "start_time": "2022-04-25T20:07:10.384Z"
   },
   {
    "duration": 13,
    "start_time": "2022-04-25T20:07:11.137Z"
   },
   {
    "duration": 14,
    "start_time": "2022-04-25T20:07:16.666Z"
   },
   {
    "duration": 1215,
    "start_time": "2022-04-25T20:07:57.368Z"
   },
   {
    "duration": 680,
    "start_time": "2022-04-25T20:07:58.585Z"
   },
   {
    "duration": 26,
    "start_time": "2022-04-25T20:07:59.266Z"
   },
   {
    "duration": 44,
    "start_time": "2022-04-25T20:07:59.295Z"
   },
   {
    "duration": 40,
    "start_time": "2022-04-25T20:07:59.341Z"
   },
   {
    "duration": 8,
    "start_time": "2022-04-25T20:07:59.383Z"
   },
   {
    "duration": 59,
    "start_time": "2022-04-25T20:07:59.392Z"
   },
   {
    "duration": 65,
    "start_time": "2022-04-25T20:07:59.453Z"
   },
   {
    "duration": 78,
    "start_time": "2022-04-25T20:07:59.520Z"
   },
   {
    "duration": 17,
    "start_time": "2022-04-25T20:07:59.601Z"
   },
   {
    "duration": 9,
    "start_time": "2022-04-25T20:07:59.619Z"
   },
   {
    "duration": 81,
    "start_time": "2022-04-25T20:07:59.629Z"
   },
   {
    "duration": 3,
    "start_time": "2022-04-25T20:07:59.712Z"
   },
   {
    "duration": 59,
    "start_time": "2022-04-25T20:07:59.717Z"
   },
   {
    "duration": 63,
    "start_time": "2022-04-25T20:07:59.778Z"
   },
   {
    "duration": 91,
    "start_time": "2022-04-25T20:07:59.843Z"
   },
   {
    "duration": 58,
    "start_time": "2022-04-25T20:07:59.936Z"
   },
   {
    "duration": 20,
    "start_time": "2022-04-25T20:07:59.996Z"
   },
   {
    "duration": 65,
    "start_time": "2022-04-25T20:08:00.018Z"
   },
   {
    "duration": 7,
    "start_time": "2022-04-25T20:08:00.085Z"
   },
   {
    "duration": 30,
    "start_time": "2022-04-25T20:08:00.094Z"
   },
   {
    "duration": 51,
    "start_time": "2022-04-25T20:08:00.126Z"
   },
   {
    "duration": 18,
    "start_time": "2022-04-25T20:08:00.179Z"
   },
   {
    "duration": 64,
    "start_time": "2022-04-25T20:08:00.199Z"
   },
   {
    "duration": 4,
    "start_time": "2022-04-25T20:08:00.264Z"
   },
   {
    "duration": 25,
    "start_time": "2022-04-25T20:08:00.270Z"
   },
   {
    "duration": 10,
    "start_time": "2022-04-25T20:08:00.296Z"
   },
   {
    "duration": 49,
    "start_time": "2022-04-25T20:08:00.309Z"
   },
   {
    "duration": 1199,
    "start_time": "2022-04-25T20:08:00.360Z"
   },
   {
    "duration": 345,
    "start_time": "2022-04-25T20:08:01.562Z"
   },
   {
    "duration": 719,
    "start_time": "2022-04-25T20:08:01.909Z"
   },
   {
    "duration": 1200,
    "start_time": "2022-04-25T20:08:02.630Z"
   },
   {
    "duration": 55,
    "start_time": "2022-04-25T20:08:03.831Z"
   },
   {
    "duration": 1009,
    "start_time": "2022-04-25T20:08:03.888Z"
   },
   {
    "duration": 143,
    "start_time": "2022-04-25T20:08:04.899Z"
   },
   {
    "duration": 24,
    "start_time": "2022-04-25T20:08:05.044Z"
   },
   {
    "duration": 26,
    "start_time": "2022-04-25T20:08:05.070Z"
   },
   {
    "duration": 85,
    "start_time": "2022-04-25T20:08:05.098Z"
   },
   {
    "duration": 71,
    "start_time": "2022-04-25T20:08:05.184Z"
   },
   {
    "duration": 8,
    "start_time": "2022-04-25T20:08:05.257Z"
   },
   {
    "duration": 6,
    "start_time": "2022-04-25T20:08:05.266Z"
   },
   {
    "duration": 18,
    "start_time": "2022-04-25T20:08:05.274Z"
   },
   {
    "duration": 25,
    "start_time": "2022-04-25T20:08:05.293Z"
   },
   {
    "duration": 13,
    "start_time": "2022-04-25T20:17:57.934Z"
   },
   {
    "duration": 12,
    "start_time": "2022-04-25T20:24:35.438Z"
   },
   {
    "duration": 12,
    "start_time": "2022-04-25T20:26:46.150Z"
   },
   {
    "duration": 277,
    "start_time": "2022-04-25T20:27:09.353Z"
   },
   {
    "duration": 12,
    "start_time": "2022-04-25T20:27:19.097Z"
   },
   {
    "duration": 175,
    "start_time": "2022-04-25T20:27:25.101Z"
   },
   {
    "duration": 13,
    "start_time": "2022-04-25T20:28:34.133Z"
   },
   {
    "duration": 174,
    "start_time": "2022-04-25T20:28:34.337Z"
   },
   {
    "duration": 182,
    "start_time": "2022-04-25T20:30:09.574Z"
   },
   {
    "duration": 176,
    "start_time": "2022-04-25T20:30:27.073Z"
   },
   {
    "duration": 177,
    "start_time": "2022-04-25T20:30:35.897Z"
   },
   {
    "duration": 189,
    "start_time": "2022-04-25T20:31:22.687Z"
   },
   {
    "duration": 4,
    "start_time": "2022-04-25T20:31:48.483Z"
   },
   {
    "duration": 4,
    "start_time": "2022-04-25T20:32:31.375Z"
   },
   {
    "duration": 173,
    "start_time": "2022-04-25T20:32:42.199Z"
   },
   {
    "duration": 12,
    "start_time": "2022-04-25T20:32:57.967Z"
   },
   {
    "duration": 181,
    "start_time": "2022-04-25T20:32:58.154Z"
   },
   {
    "duration": 3,
    "start_time": "2022-04-25T20:33:03.690Z"
   },
   {
    "duration": 4,
    "start_time": "2022-04-25T20:33:08.333Z"
   },
   {
    "duration": 9,
    "start_time": "2022-04-25T20:33:19.865Z"
   },
   {
    "duration": 4,
    "start_time": "2022-04-25T20:36:33.331Z"
   },
   {
    "duration": 4,
    "start_time": "2022-04-25T20:36:50.069Z"
   },
   {
    "duration": 9,
    "start_time": "2022-04-25T20:37:13.899Z"
   },
   {
    "duration": 10,
    "start_time": "2022-04-25T20:37:43.316Z"
   },
   {
    "duration": 5,
    "start_time": "2022-04-25T20:37:59.007Z"
   },
   {
    "duration": 860,
    "start_time": "2022-04-25T20:38:27.116Z"
   },
   {
    "duration": 10,
    "start_time": "2022-04-25T20:38:27.978Z"
   },
   {
    "duration": 11,
    "start_time": "2022-04-25T20:42:24.096Z"
   },
   {
    "duration": 125,
    "start_time": "2022-04-25T20:42:31.930Z"
   },
   {
    "duration": 4480,
    "start_time": "2022-04-25T20:42:36.883Z"
   },
   {
    "duration": 4300,
    "start_time": "2022-04-25T20:44:03.856Z"
   },
   {
    "duration": 11,
    "start_time": "2022-04-25T20:46:43.875Z"
   },
   {
    "duration": 176,
    "start_time": "2022-04-25T20:47:31.722Z"
   },
   {
    "duration": 4,
    "start_time": "2022-04-25T20:47:33.711Z"
   },
   {
    "duration": 347,
    "start_time": "2022-04-25T20:48:16.066Z"
   },
   {
    "duration": 4,
    "start_time": "2022-04-25T20:48:16.504Z"
   },
   {
    "duration": 9,
    "start_time": "2022-04-25T20:48:16.970Z"
   },
   {
    "duration": 4,
    "start_time": "2022-04-25T20:48:20.823Z"
   },
   {
    "duration": 1169,
    "start_time": "2022-04-25T20:48:26.211Z"
   },
   {
    "duration": 250,
    "start_time": "2022-04-25T20:48:27.382Z"
   },
   {
    "duration": 25,
    "start_time": "2022-04-25T20:48:27.634Z"
   },
   {
    "duration": 35,
    "start_time": "2022-04-25T20:48:27.661Z"
   },
   {
    "duration": 40,
    "start_time": "2022-04-25T20:48:27.698Z"
   },
   {
    "duration": 22,
    "start_time": "2022-04-25T20:48:27.740Z"
   },
   {
    "duration": 44,
    "start_time": "2022-04-25T20:48:27.763Z"
   },
   {
    "duration": 82,
    "start_time": "2022-04-25T20:48:27.808Z"
   },
   {
    "duration": 73,
    "start_time": "2022-04-25T20:48:27.892Z"
   },
   {
    "duration": 16,
    "start_time": "2022-04-25T20:48:27.968Z"
   },
   {
    "duration": 5,
    "start_time": "2022-04-25T20:48:27.986Z"
   },
   {
    "duration": 80,
    "start_time": "2022-04-25T20:48:27.992Z"
   },
   {
    "duration": 4,
    "start_time": "2022-04-25T20:48:28.073Z"
   },
   {
    "duration": 50,
    "start_time": "2022-04-25T20:48:28.079Z"
   },
   {
    "duration": 80,
    "start_time": "2022-04-25T20:48:28.131Z"
   },
   {
    "duration": 96,
    "start_time": "2022-04-25T20:48:28.213Z"
   },
   {
    "duration": 55,
    "start_time": "2022-04-25T20:48:28.311Z"
   },
   {
    "duration": 19,
    "start_time": "2022-04-25T20:48:28.368Z"
   },
   {
    "duration": 45,
    "start_time": "2022-04-25T20:48:28.389Z"
   },
   {
    "duration": 8,
    "start_time": "2022-04-25T20:48:28.455Z"
   },
   {
    "duration": 12,
    "start_time": "2022-04-25T20:48:28.465Z"
   },
   {
    "duration": 37,
    "start_time": "2022-04-25T20:48:28.479Z"
   },
   {
    "duration": 36,
    "start_time": "2022-04-25T20:48:28.518Z"
   },
   {
    "duration": 34,
    "start_time": "2022-04-25T20:48:28.556Z"
   },
   {
    "duration": 5,
    "start_time": "2022-04-25T20:48:28.591Z"
   },
   {
    "duration": 19,
    "start_time": "2022-04-25T20:48:28.597Z"
   },
   {
    "duration": 9,
    "start_time": "2022-04-25T20:48:28.617Z"
   },
   {
    "duration": 47,
    "start_time": "2022-04-25T20:48:28.654Z"
   },
   {
    "duration": 1205,
    "start_time": "2022-04-25T20:48:28.702Z"
   },
   {
    "duration": 339,
    "start_time": "2022-04-25T20:48:29.909Z"
   },
   {
    "duration": 577,
    "start_time": "2022-04-25T20:48:30.249Z"
   },
   {
    "duration": 1190,
    "start_time": "2022-04-25T20:48:30.828Z"
   },
   {
    "duration": 58,
    "start_time": "2022-04-25T20:48:32.019Z"
   },
   {
    "duration": 1015,
    "start_time": "2022-04-25T20:48:32.079Z"
   },
   {
    "duration": 144,
    "start_time": "2022-04-25T20:48:33.095Z"
   },
   {
    "duration": 21,
    "start_time": "2022-04-25T20:48:33.241Z"
   },
   {
    "duration": 27,
    "start_time": "2022-04-25T20:48:33.264Z"
   },
   {
    "duration": 92,
    "start_time": "2022-04-25T20:48:33.292Z"
   },
   {
    "duration": 76,
    "start_time": "2022-04-25T20:48:33.386Z"
   },
   {
    "duration": 8,
    "start_time": "2022-04-25T20:48:33.464Z"
   },
   {
    "duration": 10,
    "start_time": "2022-04-25T20:48:33.474Z"
   },
   {
    "duration": 15,
    "start_time": "2022-04-25T20:48:33.486Z"
   },
   {
    "duration": 14,
    "start_time": "2022-04-25T20:48:33.503Z"
   },
   {
    "duration": 12,
    "start_time": "2022-04-25T20:48:33.518Z"
   },
   {
    "duration": 11,
    "start_time": "2022-04-25T20:48:33.555Z"
   },
   {
    "duration": 370,
    "start_time": "2022-04-25T20:48:33.568Z"
   },
   {
    "duration": 4,
    "start_time": "2022-04-25T20:48:33.940Z"
   },
   {
    "duration": 14,
    "start_time": "2022-04-25T20:48:33.946Z"
   },
   {
    "duration": 6,
    "start_time": "2022-04-25T20:48:33.961Z"
   },
   {
    "duration": 97,
    "start_time": "2022-04-25T20:48:44.211Z"
   },
   {
    "duration": 4445,
    "start_time": "2022-04-25T20:49:28.352Z"
   },
   {
    "duration": 10,
    "start_time": "2022-04-25T20:50:00.611Z"
   },
   {
    "duration": 354,
    "start_time": "2022-04-25T20:52:37.442Z"
   },
   {
    "duration": 184,
    "start_time": "2022-04-25T20:52:44.145Z"
   },
   {
    "duration": 4346,
    "start_time": "2022-04-25T20:53:33.823Z"
   },
   {
    "duration": 18,
    "start_time": "2022-04-25T20:53:38.171Z"
   },
   {
    "duration": 4313,
    "start_time": "2022-04-25T20:54:02.059Z"
   },
   {
    "duration": 19,
    "start_time": "2022-04-25T20:54:11.152Z"
   },
   {
    "duration": 44,
    "start_time": "2022-04-25T20:55:15.549Z"
   },
   {
    "duration": 22,
    "start_time": "2022-04-25T20:56:36.886Z"
   },
   {
    "duration": 168,
    "start_time": "2022-04-25T20:56:41.546Z"
   },
   {
    "duration": 325,
    "start_time": "2022-04-25T20:56:57.689Z"
   },
   {
    "duration": 777,
    "start_time": "2022-04-25T20:57:14.967Z"
   },
   {
    "duration": 766,
    "start_time": "2022-04-25T20:58:00.131Z"
   },
   {
    "duration": 4,
    "start_time": "2022-04-25T20:58:43.880Z"
   },
   {
    "duration": 4,
    "start_time": "2022-04-25T20:58:59.878Z"
   },
   {
    "duration": 13,
    "start_time": "2022-04-25T20:59:15.400Z"
   },
   {
    "duration": 70,
    "start_time": "2022-04-25T21:01:09.317Z"
   },
   {
    "duration": 54,
    "start_time": "2022-04-25T21:01:14.278Z"
   },
   {
    "duration": 54,
    "start_time": "2022-04-25T21:01:17.078Z"
   },
   {
    "duration": 57,
    "start_time": "2022-04-25T21:01:20.354Z"
   },
   {
    "duration": 54,
    "start_time": "2022-04-25T21:01:24.762Z"
   },
   {
    "duration": 18,
    "start_time": "2022-04-25T21:01:37.319Z"
   },
   {
    "duration": 263,
    "start_time": "2022-04-25T21:01:38.180Z"
   },
   {
    "duration": 54,
    "start_time": "2022-04-25T21:01:52.089Z"
   },
   {
    "duration": 31,
    "start_time": "2022-04-25T21:01:53.449Z"
   },
   {
    "duration": 184,
    "start_time": "2022-04-25T21:01:53.943Z"
   },
   {
    "duration": 54,
    "start_time": "2022-04-25T21:02:05.344Z"
   },
   {
    "duration": 22,
    "start_time": "2022-04-25T21:02:06.327Z"
   },
   {
    "duration": 166,
    "start_time": "2022-04-25T21:02:07.451Z"
   },
   {
    "duration": 341,
    "start_time": "2022-04-25T21:02:13.095Z"
   },
   {
    "duration": 780,
    "start_time": "2022-04-25T21:02:26.104Z"
   },
   {
    "duration": 54,
    "start_time": "2022-04-25T21:02:50.484Z"
   },
   {
    "duration": 23,
    "start_time": "2022-04-25T21:02:51.112Z"
   },
   {
    "duration": 172,
    "start_time": "2022-04-25T21:02:51.566Z"
   },
   {
    "duration": 349,
    "start_time": "2022-04-25T21:02:53.903Z"
   },
   {
    "duration": 12,
    "start_time": "2022-04-25T21:03:00.620Z"
   },
   {
    "duration": 58,
    "start_time": "2022-04-25T21:03:39.115Z"
   },
   {
    "duration": 22,
    "start_time": "2022-04-25T21:03:40.097Z"
   },
   {
    "duration": 167,
    "start_time": "2022-04-25T21:03:40.807Z"
   },
   {
    "duration": 358,
    "start_time": "2022-04-25T21:03:44.220Z"
   },
   {
    "duration": 883,
    "start_time": "2022-04-25T21:03:44.711Z"
   },
   {
    "duration": 6,
    "start_time": "2022-04-25T21:03:46.567Z"
   },
   {
    "duration": 13,
    "start_time": "2022-04-25T21:03:47.013Z"
   },
   {
    "duration": 371,
    "start_time": "2022-04-25T21:04:13.809Z"
   },
   {
    "duration": 6,
    "start_time": "2022-04-25T21:10:15.039Z"
   },
   {
    "duration": 18,
    "start_time": "2022-04-25T21:11:08.721Z"
   },
   {
    "duration": 4465,
    "start_time": "2022-04-25T21:11:22.567Z"
   },
   {
    "duration": 17,
    "start_time": "2022-04-25T21:12:08.146Z"
   },
   {
    "duration": 15,
    "start_time": "2022-04-25T21:12:17.222Z"
   },
   {
    "duration": 40,
    "start_time": "2022-04-25T21:13:21.989Z"
   },
   {
    "duration": 1219,
    "start_time": "2022-04-25T21:13:39.468Z"
   },
   {
    "duration": 258,
    "start_time": "2022-04-25T21:13:40.689Z"
   },
   {
    "duration": 32,
    "start_time": "2022-04-25T21:13:40.949Z"
   },
   {
    "duration": 37,
    "start_time": "2022-04-25T21:13:40.983Z"
   },
   {
    "duration": 64,
    "start_time": "2022-04-25T21:13:41.022Z"
   },
   {
    "duration": 9,
    "start_time": "2022-04-25T21:13:41.088Z"
   },
   {
    "duration": 67,
    "start_time": "2022-04-25T21:13:41.099Z"
   },
   {
    "duration": 69,
    "start_time": "2022-04-25T21:13:41.168Z"
   },
   {
    "duration": 88,
    "start_time": "2022-04-25T21:13:41.239Z"
   },
   {
    "duration": 35,
    "start_time": "2022-04-25T21:13:41.329Z"
   },
   {
    "duration": 6,
    "start_time": "2022-04-25T21:13:41.369Z"
   },
   {
    "duration": 78,
    "start_time": "2022-04-25T21:13:41.377Z"
   },
   {
    "duration": 6,
    "start_time": "2022-04-25T21:13:41.457Z"
   },
   {
    "duration": 62,
    "start_time": "2022-04-25T21:13:41.468Z"
   },
   {
    "duration": 85,
    "start_time": "2022-04-25T21:13:41.532Z"
   },
   {
    "duration": 103,
    "start_time": "2022-04-25T21:13:41.619Z"
   },
   {
    "duration": 60,
    "start_time": "2022-04-25T21:13:41.724Z"
   },
   {
    "duration": 18,
    "start_time": "2022-04-25T21:13:41.786Z"
   },
   {
    "duration": 58,
    "start_time": "2022-04-25T21:13:41.805Z"
   },
   {
    "duration": 10,
    "start_time": "2022-04-25T21:13:41.866Z"
   },
   {
    "duration": 14,
    "start_time": "2022-04-25T21:13:41.877Z"
   },
   {
    "duration": 57,
    "start_time": "2022-04-25T21:13:41.893Z"
   },
   {
    "duration": 20,
    "start_time": "2022-04-25T21:13:41.953Z"
   },
   {
    "duration": 54,
    "start_time": "2022-04-25T21:13:41.975Z"
   },
   {
    "duration": 4,
    "start_time": "2022-04-25T21:13:42.031Z"
   },
   {
    "duration": 22,
    "start_time": "2022-04-25T21:13:42.037Z"
   },
   {
    "duration": 12,
    "start_time": "2022-04-25T21:13:42.062Z"
   },
   {
    "duration": 45,
    "start_time": "2022-04-25T21:13:42.075Z"
   },
   {
    "duration": 1290,
    "start_time": "2022-04-25T21:13:42.121Z"
   },
   {
    "duration": 365,
    "start_time": "2022-04-25T21:13:43.413Z"
   },
   {
    "duration": 608,
    "start_time": "2022-04-25T21:13:43.780Z"
   },
   {
    "duration": 1260,
    "start_time": "2022-04-25T21:13:44.389Z"
   },
   {
    "duration": 56,
    "start_time": "2022-04-25T21:13:45.654Z"
   },
   {
    "duration": 1166,
    "start_time": "2022-04-25T21:13:45.711Z"
   },
   {
    "duration": 155,
    "start_time": "2022-04-25T21:13:46.878Z"
   },
   {
    "duration": 34,
    "start_time": "2022-04-25T21:13:47.035Z"
   },
   {
    "duration": 29,
    "start_time": "2022-04-25T21:13:47.071Z"
   },
   {
    "duration": 96,
    "start_time": "2022-04-25T21:13:47.101Z"
   },
   {
    "duration": 86,
    "start_time": "2022-04-25T21:13:47.199Z"
   },
   {
    "duration": 8,
    "start_time": "2022-04-25T21:13:47.286Z"
   },
   {
    "duration": 5,
    "start_time": "2022-04-25T21:13:47.298Z"
   },
   {
    "duration": 14,
    "start_time": "2022-04-25T21:13:47.305Z"
   },
   {
    "duration": 18,
    "start_time": "2022-04-25T21:13:47.321Z"
   },
   {
    "duration": 20,
    "start_time": "2022-04-25T21:13:47.356Z"
   },
   {
    "duration": 48,
    "start_time": "2022-04-25T21:13:47.378Z"
   },
   {
    "duration": 43,
    "start_time": "2022-04-25T21:14:05.091Z"
   },
   {
    "duration": 1258,
    "start_time": "2022-04-25T21:14:14.649Z"
   },
   {
    "duration": 267,
    "start_time": "2022-04-25T21:14:15.909Z"
   },
   {
    "duration": 19,
    "start_time": "2022-04-25T21:14:16.177Z"
   },
   {
    "duration": 32,
    "start_time": "2022-04-25T21:14:16.198Z"
   },
   {
    "duration": 53,
    "start_time": "2022-04-25T21:14:16.232Z"
   },
   {
    "duration": 8,
    "start_time": "2022-04-25T21:14:16.287Z"
   },
   {
    "duration": 55,
    "start_time": "2022-04-25T21:14:16.297Z"
   },
   {
    "duration": 71,
    "start_time": "2022-04-25T21:14:16.355Z"
   },
   {
    "duration": 86,
    "start_time": "2022-04-25T21:14:16.428Z"
   },
   {
    "duration": 16,
    "start_time": "2022-04-25T21:14:16.517Z"
   },
   {
    "duration": 20,
    "start_time": "2022-04-25T21:14:16.535Z"
   },
   {
    "duration": 68,
    "start_time": "2022-04-25T21:14:16.558Z"
   },
   {
    "duration": 4,
    "start_time": "2022-04-25T21:14:16.628Z"
   },
   {
    "duration": 72,
    "start_time": "2022-04-25T21:14:16.633Z"
   },
   {
    "duration": 78,
    "start_time": "2022-04-25T21:14:16.706Z"
   },
   {
    "duration": 95,
    "start_time": "2022-04-25T21:14:16.785Z"
   },
   {
    "duration": 45,
    "start_time": "2022-04-25T21:14:16.882Z"
   },
   {
    "duration": 37,
    "start_time": "2022-04-25T21:14:16.928Z"
   },
   {
    "duration": 42,
    "start_time": "2022-04-25T21:14:16.967Z"
   },
   {
    "duration": 6,
    "start_time": "2022-04-25T21:14:17.011Z"
   },
   {
    "duration": 37,
    "start_time": "2022-04-25T21:14:17.019Z"
   },
   {
    "duration": 47,
    "start_time": "2022-04-25T21:14:17.058Z"
   },
   {
    "duration": 12,
    "start_time": "2022-04-25T21:14:17.107Z"
   },
   {
    "duration": 48,
    "start_time": "2022-04-25T21:14:17.120Z"
   },
   {
    "duration": 5,
    "start_time": "2022-04-25T21:14:17.170Z"
   },
   {
    "duration": 16,
    "start_time": "2022-04-25T21:14:17.177Z"
   },
   {
    "duration": 9,
    "start_time": "2022-04-25T21:14:17.195Z"
   },
   {
    "duration": 73,
    "start_time": "2022-04-25T21:14:17.209Z"
   },
   {
    "duration": 1223,
    "start_time": "2022-04-25T21:14:17.284Z"
   },
   {
    "duration": 346,
    "start_time": "2022-04-25T21:14:18.508Z"
   },
   {
    "duration": 596,
    "start_time": "2022-04-25T21:14:18.856Z"
   },
   {
    "duration": 1250,
    "start_time": "2022-04-25T21:14:19.454Z"
   },
   {
    "duration": 65,
    "start_time": "2022-04-25T21:14:20.706Z"
   },
   {
    "duration": 1111,
    "start_time": "2022-04-25T21:14:20.773Z"
   },
   {
    "duration": 163,
    "start_time": "2022-04-25T21:14:21.885Z"
   },
   {
    "duration": 28,
    "start_time": "2022-04-25T21:14:22.050Z"
   },
   {
    "duration": 29,
    "start_time": "2022-04-25T21:14:22.080Z"
   },
   {
    "duration": 100,
    "start_time": "2022-04-25T21:14:22.111Z"
   },
   {
    "duration": 83,
    "start_time": "2022-04-25T21:14:22.212Z"
   },
   {
    "duration": 8,
    "start_time": "2022-04-25T21:14:22.297Z"
   },
   {
    "duration": 12,
    "start_time": "2022-04-25T21:14:22.306Z"
   },
   {
    "duration": 16,
    "start_time": "2022-04-25T21:14:22.320Z"
   },
   {
    "duration": 39,
    "start_time": "2022-04-25T21:14:22.338Z"
   },
   {
    "duration": 12,
    "start_time": "2022-04-25T21:14:22.379Z"
   },
   {
    "duration": 39,
    "start_time": "2022-04-25T21:14:22.393Z"
   },
   {
    "duration": 42,
    "start_time": "2022-04-25T21:14:53.998Z"
   },
   {
    "duration": 52,
    "start_time": "2022-04-25T21:15:08.332Z"
   },
   {
    "duration": 52,
    "start_time": "2022-04-25T21:15:11.035Z"
   },
   {
    "duration": 128,
    "start_time": "2022-04-25T21:15:15.814Z"
   },
   {
    "duration": 78,
    "start_time": "2022-04-25T21:15:19.999Z"
   },
   {
    "duration": 53,
    "start_time": "2022-04-25T21:15:40.883Z"
   },
   {
    "duration": 56,
    "start_time": "2022-04-25T21:15:47.048Z"
   },
   {
    "duration": 76,
    "start_time": "2022-04-25T21:15:54.575Z"
   },
   {
    "duration": 72,
    "start_time": "2022-04-25T21:15:57.501Z"
   },
   {
    "duration": 66,
    "start_time": "2022-04-25T21:15:59.940Z"
   },
   {
    "duration": 81,
    "start_time": "2022-04-25T21:16:02.840Z"
   },
   {
    "duration": 54,
    "start_time": "2022-04-25T21:16:04.973Z"
   },
   {
    "duration": 53,
    "start_time": "2022-04-25T21:16:07.165Z"
   },
   {
    "duration": 79,
    "start_time": "2022-04-25T21:16:22.877Z"
   },
   {
    "duration": 20,
    "start_time": "2022-04-25T21:16:37.810Z"
   },
   {
    "duration": 181,
    "start_time": "2022-04-25T21:16:38.442Z"
   },
   {
    "duration": 404,
    "start_time": "2022-04-25T21:16:39.350Z"
   },
   {
    "duration": 795,
    "start_time": "2022-04-25T21:16:40.068Z"
   },
   {
    "duration": 5,
    "start_time": "2022-04-25T21:16:41.290Z"
   },
   {
    "duration": 11,
    "start_time": "2022-04-25T21:16:43.186Z"
   },
   {
    "duration": 324,
    "start_time": "2022-04-25T21:16:44.024Z"
   },
   {
    "duration": 244,
    "start_time": "2022-04-25T21:16:45.052Z"
   },
   {
    "duration": 681,
    "start_time": "2022-04-25T21:16:46.545Z"
   },
   {
    "duration": 23,
    "start_time": "2022-04-25T21:23:53.818Z"
   },
   {
    "duration": 130,
    "start_time": "2022-04-25T21:23:57.979Z"
   },
   {
    "duration": 82,
    "start_time": "2022-04-25T21:24:08.742Z"
   },
   {
    "duration": 37,
    "start_time": "2022-04-25T21:24:18.235Z"
   },
   {
    "duration": 4,
    "start_time": "2022-04-25T21:24:24.503Z"
   },
   {
    "duration": 64,
    "start_time": "2022-04-25T21:24:26.367Z"
   },
   {
    "duration": 23,
    "start_time": "2022-04-25T21:24:40.240Z"
   },
   {
    "duration": 22,
    "start_time": "2022-04-25T21:24:56.817Z"
   },
   {
    "duration": 19,
    "start_time": "2022-04-25T21:25:11.085Z"
   },
   {
    "duration": 16,
    "start_time": "2022-04-25T21:27:05.897Z"
   },
   {
    "duration": 58,
    "start_time": "2022-04-25T21:28:25.828Z"
   },
   {
    "duration": 44,
    "start_time": "2022-04-25T21:28:26.340Z"
   },
   {
    "duration": 181,
    "start_time": "2022-04-25T21:28:26.508Z"
   },
   {
    "duration": 352,
    "start_time": "2022-04-25T21:28:26.692Z"
   },
   {
    "duration": 767,
    "start_time": "2022-04-25T21:28:27.533Z"
   },
   {
    "duration": 5,
    "start_time": "2022-04-25T21:28:28.675Z"
   },
   {
    "duration": 12,
    "start_time": "2022-04-25T21:28:29.684Z"
   },
   {
    "duration": 317,
    "start_time": "2022-04-25T21:28:31.180Z"
   },
   {
    "duration": 218,
    "start_time": "2022-04-25T21:28:32.074Z"
   },
   {
    "duration": 677,
    "start_time": "2022-04-25T21:28:33.309Z"
   },
   {
    "duration": 6,
    "start_time": "2022-04-25T21:28:35.667Z"
   },
   {
    "duration": 24,
    "start_time": "2022-04-25T21:30:07.452Z"
   },
   {
    "duration": 4383,
    "start_time": "2022-04-25T21:30:10.853Z"
   },
   {
    "duration": 14,
    "start_time": "2022-04-25T21:30:17.019Z"
   },
   {
    "duration": 7,
    "start_time": "2022-04-25T21:30:38.875Z"
   },
   {
    "duration": 15,
    "start_time": "2022-04-25T21:35:05.938Z"
   },
   {
    "duration": 11,
    "start_time": "2022-04-25T21:38:46.589Z"
   },
   {
    "duration": 14,
    "start_time": "2022-04-25T21:39:03.167Z"
   },
   {
    "duration": 13,
    "start_time": "2022-04-25T21:39:17.467Z"
   },
   {
    "duration": 10,
    "start_time": "2022-04-25T21:39:25.867Z"
   },
   {
    "duration": 11,
    "start_time": "2022-04-25T21:39:32.602Z"
   },
   {
    "duration": 11,
    "start_time": "2022-04-25T21:39:43.071Z"
   },
   {
    "duration": 7,
    "start_time": "2022-04-25T21:39:59.575Z"
   },
   {
    "duration": 92,
    "start_time": "2022-04-25T21:40:15.486Z"
   },
   {
    "duration": 7,
    "start_time": "2022-04-25T21:40:26.894Z"
   },
   {
    "duration": 3,
    "start_time": "2022-04-25T22:01:19.547Z"
   },
   {
    "duration": 4,
    "start_time": "2022-04-25T22:01:26.260Z"
   },
   {
    "duration": 4,
    "start_time": "2022-04-25T22:01:30.436Z"
   },
   {
    "duration": 4,
    "start_time": "2022-04-25T22:02:21.634Z"
   },
   {
    "duration": 4,
    "start_time": "2022-04-25T22:03:04.928Z"
   },
   {
    "duration": 5,
    "start_time": "2022-04-25T22:03:30.751Z"
   },
   {
    "duration": 11,
    "start_time": "2022-04-25T22:04:02.879Z"
   },
   {
    "duration": 6,
    "start_time": "2022-04-25T22:04:08.184Z"
   },
   {
    "duration": 5,
    "start_time": "2022-04-25T22:04:25.427Z"
   },
   {
    "duration": 9,
    "start_time": "2022-04-25T22:06:14.785Z"
   },
   {
    "duration": 9,
    "start_time": "2022-04-25T22:06:19.657Z"
   },
   {
    "duration": 12,
    "start_time": "2022-04-25T22:06:27.236Z"
   },
   {
    "duration": 351,
    "start_time": "2022-04-25T22:06:27.372Z"
   },
   {
    "duration": 4,
    "start_time": "2022-04-25T22:06:27.725Z"
   },
   {
    "duration": 8,
    "start_time": "2022-04-25T22:06:27.825Z"
   },
   {
    "duration": 8,
    "start_time": "2022-04-25T22:06:33.154Z"
   },
   {
    "duration": 5,
    "start_time": "2022-04-25T22:09:02.972Z"
   },
   {
    "duration": 5,
    "start_time": "2022-04-25T22:09:05.426Z"
   },
   {
    "duration": 5,
    "start_time": "2022-04-25T22:09:16.943Z"
   },
   {
    "duration": 4,
    "start_time": "2022-04-25T22:09:33.440Z"
   },
   {
    "duration": 6,
    "start_time": "2022-04-25T22:10:08.172Z"
   },
   {
    "duration": 6,
    "start_time": "2022-04-25T22:10:25.167Z"
   },
   {
    "duration": 116,
    "start_time": "2022-04-25T22:10:39.311Z"
   },
   {
    "duration": 4,
    "start_time": "2022-04-25T22:10:43.211Z"
   },
   {
    "duration": 3,
    "start_time": "2022-04-25T22:11:44.699Z"
   },
   {
    "duration": 4,
    "start_time": "2022-04-25T22:11:44.882Z"
   },
   {
    "duration": 3,
    "start_time": "2022-04-25T22:11:59.701Z"
   },
   {
    "duration": 3,
    "start_time": "2022-04-25T22:12:03.827Z"
   },
   {
    "duration": 3,
    "start_time": "2022-04-25T22:12:22.909Z"
   },
   {
    "duration": 4,
    "start_time": "2022-04-25T22:12:23.404Z"
   },
   {
    "duration": 2,
    "start_time": "2022-04-25T22:12:37.371Z"
   },
   {
    "duration": 4,
    "start_time": "2022-04-25T22:12:37.655Z"
   },
   {
    "duration": 3,
    "start_time": "2022-04-25T22:12:40.712Z"
   },
   {
    "duration": 4,
    "start_time": "2022-04-25T22:12:42.061Z"
   },
   {
    "duration": 2,
    "start_time": "2022-04-25T22:12:46.825Z"
   },
   {
    "duration": 4,
    "start_time": "2022-04-25T22:12:48.203Z"
   },
   {
    "duration": 3,
    "start_time": "2022-04-25T22:12:50.800Z"
   },
   {
    "duration": 3,
    "start_time": "2022-04-25T22:12:51.915Z"
   },
   {
    "duration": 3,
    "start_time": "2022-04-25T22:12:55.664Z"
   },
   {
    "duration": 4,
    "start_time": "2022-04-25T22:12:56.775Z"
   },
   {
    "duration": 3,
    "start_time": "2022-04-25T22:13:02.750Z"
   },
   {
    "duration": 4,
    "start_time": "2022-04-25T22:13:03.495Z"
   },
   {
    "duration": 3,
    "start_time": "2022-04-25T22:13:14.111Z"
   },
   {
    "duration": 4,
    "start_time": "2022-04-25T22:13:17.192Z"
   },
   {
    "duration": 3,
    "start_time": "2022-04-25T22:13:26.408Z"
   },
   {
    "duration": 4,
    "start_time": "2022-04-25T22:13:26.792Z"
   },
   {
    "duration": 3,
    "start_time": "2022-04-25T22:13:32.920Z"
   },
   {
    "duration": 4,
    "start_time": "2022-04-25T22:13:33.274Z"
   },
   {
    "duration": 3,
    "start_time": "2022-04-25T22:13:44.084Z"
   },
   {
    "duration": 4,
    "start_time": "2022-04-25T22:13:44.319Z"
   },
   {
    "duration": 3,
    "start_time": "2022-04-25T22:13:56.190Z"
   },
   {
    "duration": 4,
    "start_time": "2022-04-25T22:13:56.676Z"
   },
   {
    "duration": 3,
    "start_time": "2022-04-25T22:14:03.845Z"
   },
   {
    "duration": 4,
    "start_time": "2022-04-25T22:14:04.330Z"
   },
   {
    "duration": 3,
    "start_time": "2022-04-25T22:14:07.786Z"
   },
   {
    "duration": 4,
    "start_time": "2022-04-25T22:14:08.376Z"
   },
   {
    "duration": 3,
    "start_time": "2022-04-25T22:14:12.667Z"
   },
   {
    "duration": 3,
    "start_time": "2022-04-25T22:14:13.498Z"
   },
   {
    "duration": 3,
    "start_time": "2022-04-25T22:14:17.569Z"
   },
   {
    "duration": 3,
    "start_time": "2022-04-25T22:14:18.471Z"
   },
   {
    "duration": 2,
    "start_time": "2022-04-25T22:14:27.172Z"
   },
   {
    "duration": 4,
    "start_time": "2022-04-25T22:14:28.121Z"
   },
   {
    "duration": 3,
    "start_time": "2022-04-25T22:14:36.459Z"
   },
   {
    "duration": 4,
    "start_time": "2022-04-25T22:14:37.585Z"
   },
   {
    "duration": 3,
    "start_time": "2022-04-25T22:14:49.530Z"
   },
   {
    "duration": 4,
    "start_time": "2022-04-25T22:14:49.998Z"
   },
   {
    "duration": 2,
    "start_time": "2022-04-25T22:14:55.750Z"
   },
   {
    "duration": 4,
    "start_time": "2022-04-25T22:14:56.273Z"
   },
   {
    "duration": 3,
    "start_time": "2022-04-25T22:15:02.351Z"
   },
   {
    "duration": 5,
    "start_time": "2022-04-25T22:15:02.862Z"
   },
   {
    "duration": 3,
    "start_time": "2022-04-25T22:15:07.340Z"
   },
   {
    "duration": 4,
    "start_time": "2022-04-25T22:15:07.892Z"
   },
   {
    "duration": 2,
    "start_time": "2022-04-25T22:15:12.089Z"
   },
   {
    "duration": 4,
    "start_time": "2022-04-25T22:15:12.537Z"
   },
   {
    "duration": 3,
    "start_time": "2022-04-25T22:15:16.340Z"
   },
   {
    "duration": 3,
    "start_time": "2022-04-25T22:15:16.562Z"
   },
   {
    "duration": 5,
    "start_time": "2022-04-25T22:22:39.289Z"
   },
   {
    "duration": 4,
    "start_time": "2022-04-25T22:23:01.821Z"
   },
   {
    "duration": 4103,
    "start_time": "2022-04-25T22:33:32.777Z"
   },
   {
    "duration": 20,
    "start_time": "2022-04-25T22:33:38.855Z"
   },
   {
    "duration": 4103,
    "start_time": "2022-04-25T22:34:05.047Z"
   },
   {
    "duration": 19,
    "start_time": "2022-04-25T22:34:12.374Z"
   },
   {
    "duration": 9,
    "start_time": "2022-04-25T22:59:13.276Z"
   },
   {
    "duration": 10,
    "start_time": "2022-04-25T23:01:33.375Z"
   },
   {
    "duration": 15,
    "start_time": "2022-04-25T23:02:08.859Z"
   },
   {
    "duration": 21,
    "start_time": "2022-04-25T23:02:31.212Z"
   },
   {
    "duration": 21,
    "start_time": "2022-04-25T23:03:00.425Z"
   },
   {
    "duration": 19,
    "start_time": "2022-04-25T23:03:04.996Z"
   },
   {
    "duration": 1225,
    "start_time": "2022-04-25T23:03:46.094Z"
   },
   {
    "duration": 10,
    "start_time": "2022-04-25T23:04:25.959Z"
   },
   {
    "duration": 10,
    "start_time": "2022-04-25T23:04:47.550Z"
   },
   {
    "duration": 1230,
    "start_time": "2022-04-25T23:04:55.718Z"
   },
   {
    "duration": 2311,
    "start_time": "2022-04-25T23:04:59.484Z"
   },
   {
    "duration": 1986,
    "start_time": "2022-04-25T23:05:05.045Z"
   },
   {
    "duration": 13,
    "start_time": "2022-04-25T23:05:10.774Z"
   },
   {
    "duration": 1240,
    "start_time": "2022-04-25T23:06:10.278Z"
   },
   {
    "duration": 1215,
    "start_time": "2022-04-25T23:06:33.016Z"
   },
   {
    "duration": 28,
    "start_time": "2022-04-25T23:06:42.309Z"
   },
   {
    "duration": 29,
    "start_time": "2022-04-25T23:06:54.848Z"
   },
   {
    "duration": 18,
    "start_time": "2022-04-25T23:07:04.645Z"
   },
   {
    "duration": 16,
    "start_time": "2022-04-25T23:07:20.412Z"
   },
   {
    "duration": 21,
    "start_time": "2022-04-25T23:07:52.790Z"
   },
   {
    "duration": 38,
    "start_time": "2022-04-25T23:09:20.920Z"
   },
   {
    "duration": 20,
    "start_time": "2022-04-25T23:10:15.472Z"
   },
   {
    "duration": 33,
    "start_time": "2022-04-25T23:10:33.974Z"
   },
   {
    "duration": 26,
    "start_time": "2022-04-25T23:10:36.868Z"
   },
   {
    "duration": 122,
    "start_time": "2022-04-25T23:10:40.236Z"
   },
   {
    "duration": 25,
    "start_time": "2022-04-25T23:10:42.959Z"
   },
   {
    "duration": 5,
    "start_time": "2022-04-25T23:11:14.751Z"
   },
   {
    "duration": 52,
    "start_time": "2022-04-25T23:12:25.301Z"
   },
   {
    "duration": 50,
    "start_time": "2022-04-25T23:12:34.040Z"
   },
   {
    "duration": 58,
    "start_time": "2022-04-25T23:12:48.501Z"
   },
   {
    "duration": 61,
    "start_time": "2022-04-25T23:14:04.004Z"
   },
   {
    "duration": 62,
    "start_time": "2022-04-25T23:14:30.917Z"
   },
   {
    "duration": 55,
    "start_time": "2022-04-25T23:15:20.183Z"
   },
   {
    "duration": 27,
    "start_time": "2022-04-25T23:15:39.242Z"
   },
   {
    "duration": 7,
    "start_time": "2022-04-25T23:17:15.413Z"
   },
   {
    "duration": 7,
    "start_time": "2022-04-25T23:17:25.884Z"
   },
   {
    "duration": 13,
    "start_time": "2022-04-25T23:17:40.270Z"
   },
   {
    "duration": 11,
    "start_time": "2022-04-25T23:18:01.656Z"
   },
   {
    "duration": 24,
    "start_time": "2022-04-25T23:19:23.986Z"
   },
   {
    "duration": 30,
    "start_time": "2022-04-25T23:20:13.794Z"
   },
   {
    "duration": 28,
    "start_time": "2022-04-25T23:21:44.567Z"
   },
   {
    "duration": 104,
    "start_time": "2022-04-25T23:22:41.347Z"
   },
   {
    "duration": 35,
    "start_time": "2022-04-25T23:23:04.967Z"
   },
   {
    "duration": 37,
    "start_time": "2022-04-25T23:23:16.426Z"
   },
   {
    "duration": 144,
    "start_time": "2022-04-25T23:23:46.210Z"
   },
   {
    "duration": 4,
    "start_time": "2022-04-25T23:33:00.757Z"
   },
   {
    "duration": 4,
    "start_time": "2022-04-25T23:33:47.654Z"
   },
   {
    "duration": 4,
    "start_time": "2022-04-25T23:34:56.094Z"
   },
   {
    "duration": 4,
    "start_time": "2022-04-25T23:37:23.575Z"
   },
   {
    "duration": 279,
    "start_time": "2022-04-26T07:34:55.540Z"
   },
   {
    "duration": 198,
    "start_time": "2022-04-26T07:46:01.915Z"
   },
   {
    "duration": 60,
    "start_time": "2022-04-26T08:00:47.103Z"
   },
   {
    "duration": 208,
    "start_time": "2022-04-26T08:01:32.965Z"
   },
   {
    "duration": 197,
    "start_time": "2022-04-26T08:01:47.173Z"
   },
   {
    "duration": 208,
    "start_time": "2022-04-26T08:01:49.861Z"
   },
   {
    "duration": 202,
    "start_time": "2022-04-26T08:04:46.723Z"
   },
   {
    "duration": 1532,
    "start_time": "2022-04-26T08:12:32.754Z"
   },
   {
    "duration": 321,
    "start_time": "2022-04-26T08:12:34.289Z"
   },
   {
    "duration": 33,
    "start_time": "2022-04-26T08:12:34.612Z"
   },
   {
    "duration": 49,
    "start_time": "2022-04-26T08:12:34.648Z"
   },
   {
    "duration": 60,
    "start_time": "2022-04-26T08:12:34.702Z"
   },
   {
    "duration": 33,
    "start_time": "2022-04-26T08:12:34.765Z"
   },
   {
    "duration": 66,
    "start_time": "2022-04-26T08:12:34.801Z"
   },
   {
    "duration": 103,
    "start_time": "2022-04-26T08:12:34.870Z"
   },
   {
    "duration": 119,
    "start_time": "2022-04-26T08:12:34.975Z"
   },
   {
    "duration": 27,
    "start_time": "2022-04-26T08:12:35.096Z"
   },
   {
    "duration": 9,
    "start_time": "2022-04-26T08:12:35.125Z"
   },
   {
    "duration": 134,
    "start_time": "2022-04-26T08:12:35.136Z"
   },
   {
    "duration": 6,
    "start_time": "2022-04-26T08:12:35.272Z"
   },
   {
    "duration": 76,
    "start_time": "2022-04-26T08:12:35.292Z"
   },
   {
    "duration": 101,
    "start_time": "2022-04-26T08:12:35.370Z"
   },
   {
    "duration": 135,
    "start_time": "2022-04-26T08:12:35.473Z"
   },
   {
    "duration": 60,
    "start_time": "2022-04-26T08:12:35.611Z"
   },
   {
    "duration": 29,
    "start_time": "2022-04-26T08:12:35.692Z"
   },
   {
    "duration": 80,
    "start_time": "2022-04-26T08:12:35.723Z"
   },
   {
    "duration": 11,
    "start_time": "2022-04-26T08:12:35.805Z"
   },
   {
    "duration": 23,
    "start_time": "2022-04-26T08:12:35.818Z"
   },
   {
    "duration": 70,
    "start_time": "2022-04-26T08:12:35.843Z"
   },
   {
    "duration": 16,
    "start_time": "2022-04-26T08:12:35.915Z"
   },
   {
    "duration": 68,
    "start_time": "2022-04-26T08:12:35.933Z"
   },
   {
    "duration": 6,
    "start_time": "2022-04-26T08:12:36.003Z"
   },
   {
    "duration": 25,
    "start_time": "2022-04-26T08:12:36.012Z"
   },
   {
    "duration": 13,
    "start_time": "2022-04-26T08:12:36.039Z"
   },
   {
    "duration": 87,
    "start_time": "2022-04-26T08:12:36.054Z"
   },
   {
    "duration": 1940,
    "start_time": "2022-04-26T08:12:36.143Z"
   },
   {
    "duration": 514,
    "start_time": "2022-04-26T08:12:38.085Z"
   },
   {
    "duration": 916,
    "start_time": "2022-04-26T08:12:38.602Z"
   },
   {
    "duration": 2403,
    "start_time": "2022-04-26T08:12:39.520Z"
   },
   {
    "duration": 120,
    "start_time": "2022-04-26T08:12:41.926Z"
   },
   {
    "duration": 1853,
    "start_time": "2022-04-26T08:12:42.049Z"
   },
   {
    "duration": 321,
    "start_time": "2022-04-26T08:12:43.905Z"
   },
   {
    "duration": 65,
    "start_time": "2022-04-26T08:12:44.229Z"
   },
   {
    "duration": 99,
    "start_time": "2022-04-26T08:12:44.297Z"
   },
   {
    "duration": 172,
    "start_time": "2022-04-26T08:12:44.398Z"
   },
   {
    "duration": 146,
    "start_time": "2022-04-26T08:12:44.572Z"
   },
   {
    "duration": 16,
    "start_time": "2022-04-26T08:12:44.721Z"
   },
   {
    "duration": 6,
    "start_time": "2022-04-26T08:12:44.745Z"
   },
   {
    "duration": 46,
    "start_time": "2022-04-26T08:12:44.754Z"
   },
   {
    "duration": 22,
    "start_time": "2022-04-26T08:12:44.802Z"
   },
   {
    "duration": 18,
    "start_time": "2022-04-26T08:12:44.826Z"
   },
   {
    "duration": 112,
    "start_time": "2022-04-26T08:12:44.847Z"
   },
   {
    "duration": 57,
    "start_time": "2022-04-26T08:12:44.961Z"
   },
   {
    "duration": 282,
    "start_time": "2022-04-26T08:12:45.020Z"
   },
   {
    "duration": 867,
    "start_time": "2022-04-26T08:12:45.305Z"
   },
   {
    "duration": 1394,
    "start_time": "2022-04-26T08:12:46.175Z"
   },
   {
    "duration": 7,
    "start_time": "2022-04-26T08:12:47.572Z"
   },
   {
    "duration": 19,
    "start_time": "2022-04-26T08:12:47.593Z"
   },
   {
    "duration": 566,
    "start_time": "2022-04-26T08:12:47.615Z"
   },
   {
    "duration": 368,
    "start_time": "2022-04-26T08:12:48.183Z"
   },
   {
    "duration": 1006,
    "start_time": "2022-04-26T08:12:48.553Z"
   },
   {
    "duration": 8,
    "start_time": "2022-04-26T08:12:49.562Z"
   },
   {
    "duration": 45,
    "start_time": "2022-04-26T08:12:49.573Z"
   },
   {
    "duration": 5536,
    "start_time": "2022-04-26T08:12:49.622Z"
   },
   {
    "duration": 31,
    "start_time": "2022-04-26T08:12:55.161Z"
   },
   {
    "duration": 8,
    "start_time": "2022-04-26T08:12:55.194Z"
   },
   {
    "duration": 131,
    "start_time": "2022-04-26T08:12:55.205Z"
   },
   {
    "duration": 9,
    "start_time": "2022-04-26T08:12:55.339Z"
   },
   {
    "duration": 43,
    "start_time": "2022-04-26T08:12:55.350Z"
   },
   {
    "duration": 823,
    "start_time": "2022-04-26T08:12:55.396Z"
   },
   {
    "duration": 6,
    "start_time": "2022-04-26T08:12:56.221Z"
   },
   {
    "duration": 21,
    "start_time": "2022-04-26T08:12:56.230Z"
   },
   {
    "duration": 10,
    "start_time": "2022-04-26T08:12:56.254Z"
   },
   {
    "duration": 6923,
    "start_time": "2022-04-26T08:12:56.267Z"
   },
   {
    "duration": 30,
    "start_time": "2022-04-26T08:13:03.193Z"
   },
   {
    "duration": 6,
    "start_time": "2022-04-26T08:13:05.533Z"
   },
   {
    "duration": 5,
    "start_time": "2022-04-26T08:13:08.933Z"
   },
   {
    "duration": 72,
    "start_time": "2022-04-26T09:03:04.675Z"
   },
   {
    "duration": 2046,
    "start_time": "2022-04-26T09:03:07.775Z"
   },
   {
    "duration": 360,
    "start_time": "2022-04-26T09:03:09.824Z"
   },
   {
    "duration": 28,
    "start_time": "2022-04-26T09:03:10.186Z"
   },
   {
    "duration": 72,
    "start_time": "2022-04-26T09:03:10.216Z"
   },
   {
    "duration": 66,
    "start_time": "2022-04-26T09:03:10.290Z"
   },
   {
    "duration": 21,
    "start_time": "2022-04-26T09:03:10.359Z"
   },
   {
    "duration": 86,
    "start_time": "2022-04-26T09:03:10.383Z"
   },
   {
    "duration": 125,
    "start_time": "2022-04-26T09:03:10.472Z"
   },
   {
    "duration": 135,
    "start_time": "2022-04-26T09:03:10.599Z"
   },
   {
    "duration": 130,
    "start_time": "2022-04-26T09:03:10.738Z"
   },
   {
    "duration": 190,
    "start_time": "2022-04-26T09:06:38.077Z"
   },
   {
    "duration": 5,
    "start_time": "2022-04-26T09:32:24.579Z"
   },
   {
    "duration": 139,
    "start_time": "2022-04-26T09:32:41.587Z"
   },
   {
    "duration": 93,
    "start_time": "2022-04-26T09:33:44.835Z"
   },
   {
    "duration": 17,
    "start_time": "2022-04-26T09:33:51.366Z"
   },
   {
    "duration": 18,
    "start_time": "2022-04-26T09:33:57.673Z"
   },
   {
    "duration": 135,
    "start_time": "2022-04-26T09:37:00.850Z"
   },
   {
    "duration": 17,
    "start_time": "2022-04-26T09:37:05.669Z"
   },
   {
    "duration": 15,
    "start_time": "2022-04-26T09:37:41.583Z"
   },
   {
    "duration": 138,
    "start_time": "2022-04-26T09:38:02.548Z"
   },
   {
    "duration": 25,
    "start_time": "2022-04-26T09:38:06.500Z"
   },
   {
    "duration": 11,
    "start_time": "2022-04-26T09:39:38.991Z"
   },
   {
    "duration": 1885,
    "start_time": "2022-04-26T09:40:00.209Z"
   },
   {
    "duration": 375,
    "start_time": "2022-04-26T09:40:02.099Z"
   },
   {
    "duration": 33,
    "start_time": "2022-04-26T09:40:02.476Z"
   },
   {
    "duration": 64,
    "start_time": "2022-04-26T09:40:02.512Z"
   },
   {
    "duration": 97,
    "start_time": "2022-04-26T09:40:02.579Z"
   },
   {
    "duration": 12,
    "start_time": "2022-04-26T09:40:02.679Z"
   },
   {
    "duration": 91,
    "start_time": "2022-04-26T09:40:02.693Z"
   },
   {
    "duration": 110,
    "start_time": "2022-04-26T09:40:02.786Z"
   },
   {
    "duration": 4,
    "start_time": "2022-04-26T09:40:02.898Z"
   },
   {
    "duration": 181,
    "start_time": "2022-04-26T09:40:02.906Z"
   },
   {
    "duration": 41,
    "start_time": "2022-04-26T09:40:03.090Z"
   },
   {
    "duration": 8,
    "start_time": "2022-04-26T09:40:03.152Z"
   },
   {
    "duration": 172,
    "start_time": "2022-04-26T09:40:03.163Z"
   },
   {
    "duration": 14,
    "start_time": "2022-04-26T09:40:03.338Z"
   },
   {
    "duration": 135,
    "start_time": "2022-04-26T09:40:03.355Z"
   },
   {
    "duration": 123,
    "start_time": "2022-04-26T09:40:03.494Z"
   },
   {
    "duration": 147,
    "start_time": "2022-04-26T09:40:03.620Z"
   },
   {
    "duration": 62,
    "start_time": "2022-04-26T09:40:03.771Z"
   },
   {
    "duration": 44,
    "start_time": "2022-04-26T09:40:03.836Z"
   },
   {
    "duration": 96,
    "start_time": "2022-04-26T09:40:03.883Z"
   },
   {
    "duration": 6,
    "start_time": "2022-04-26T09:53:05.324Z"
   },
   {
    "duration": 202,
    "start_time": "2022-04-26T09:53:06.282Z"
   },
   {
    "duration": 109,
    "start_time": "2022-04-26T09:53:12.133Z"
   },
   {
    "duration": 2204,
    "start_time": "2022-04-26T09:53:31.841Z"
   },
   {
    "duration": 6,
    "start_time": "2022-04-26T09:53:56.601Z"
   },
   {
    "duration": 22,
    "start_time": "2022-04-26T09:53:57.121Z"
   },
   {
    "duration": 6,
    "start_time": "2022-04-26T09:54:48.804Z"
   },
   {
    "duration": 55,
    "start_time": "2022-04-26T09:54:49.381Z"
   },
   {
    "duration": 5,
    "start_time": "2022-04-26T09:55:00.677Z"
   },
   {
    "duration": 116,
    "start_time": "2022-04-26T09:55:01.889Z"
   },
   {
    "duration": 73,
    "start_time": "2022-04-26T09:55:15.086Z"
   },
   {
    "duration": 6,
    "start_time": "2022-04-26T09:56:08.253Z"
   },
   {
    "duration": 109,
    "start_time": "2022-04-26T09:56:10.172Z"
   },
   {
    "duration": 13,
    "start_time": "2022-04-26T09:57:28.309Z"
   },
   {
    "duration": 79,
    "start_time": "2022-04-26T09:57:30.493Z"
   },
   {
    "duration": 11,
    "start_time": "2022-04-26T09:57:30.697Z"
   },
   {
    "duration": 5,
    "start_time": "2022-04-26T09:57:56.030Z"
   },
   {
    "duration": 55,
    "start_time": "2022-04-26T09:57:57.673Z"
   },
   {
    "duration": 4,
    "start_time": "2022-04-26T09:58:33.422Z"
   },
   {
    "duration": 95,
    "start_time": "2022-04-26T09:58:33.717Z"
   },
   {
    "duration": 14,
    "start_time": "2022-04-26T09:58:34.969Z"
   },
   {
    "duration": 140,
    "start_time": "2022-04-26T09:59:03.963Z"
   },
   {
    "duration": 20,
    "start_time": "2022-04-26T09:59:05.081Z"
   },
   {
    "duration": 9,
    "start_time": "2022-04-26T09:59:21.018Z"
   },
   {
    "duration": 18,
    "start_time": "2022-04-26T09:59:30.579Z"
   },
   {
    "duration": 12,
    "start_time": "2022-04-26T10:00:02.905Z"
   },
   {
    "duration": 6,
    "start_time": "2022-04-26T10:00:55.249Z"
   },
   {
    "duration": 67,
    "start_time": "2022-04-26T10:00:55.428Z"
   },
   {
    "duration": 8,
    "start_time": "2022-04-26T10:00:55.600Z"
   },
   {
    "duration": 76,
    "start_time": "2022-04-26T10:01:06.305Z"
   },
   {
    "duration": 69,
    "start_time": "2022-04-26T10:01:24.525Z"
   },
   {
    "duration": 9,
    "start_time": "2022-04-26T10:01:26.540Z"
   },
   {
    "duration": 67,
    "start_time": "2022-04-26T10:01:41.644Z"
   },
   {
    "duration": 10,
    "start_time": "2022-04-26T10:01:42.186Z"
   },
   {
    "duration": 4,
    "start_time": "2022-04-26T10:01:49.068Z"
   },
   {
    "duration": 65,
    "start_time": "2022-04-26T10:01:50.631Z"
   },
   {
    "duration": 7,
    "start_time": "2022-04-26T10:01:51.151Z"
   },
   {
    "duration": 67,
    "start_time": "2022-04-26T10:01:58.694Z"
   },
   {
    "duration": 7,
    "start_time": "2022-04-26T10:01:58.886Z"
   },
   {
    "duration": 5,
    "start_time": "2022-04-26T10:02:34.560Z"
   },
   {
    "duration": 63,
    "start_time": "2022-04-26T10:02:35.298Z"
   },
   {
    "duration": 5,
    "start_time": "2022-04-26T10:02:35.645Z"
   },
   {
    "duration": 6,
    "start_time": "2022-04-26T10:02:46.099Z"
   },
   {
    "duration": 95,
    "start_time": "2022-04-26T10:02:47.429Z"
   },
   {
    "duration": 8,
    "start_time": "2022-04-26T10:02:47.715Z"
   },
   {
    "duration": 66,
    "start_time": "2022-04-26T10:02:53.848Z"
   },
   {
    "duration": 8,
    "start_time": "2022-04-26T10:02:54.123Z"
   },
   {
    "duration": 6,
    "start_time": "2022-04-26T10:03:01.012Z"
   },
   {
    "duration": 65,
    "start_time": "2022-04-26T10:03:01.174Z"
   },
   {
    "duration": 7,
    "start_time": "2022-04-26T10:03:01.338Z"
   },
   {
    "duration": 5,
    "start_time": "2022-04-26T10:03:16.059Z"
   },
   {
    "duration": 97,
    "start_time": "2022-04-26T10:03:16.678Z"
   },
   {
    "duration": 11,
    "start_time": "2022-04-26T10:03:17.039Z"
   },
   {
    "duration": 6,
    "start_time": "2022-04-26T10:04:16.215Z"
   },
   {
    "duration": 93,
    "start_time": "2022-04-26T10:04:16.859Z"
   },
   {
    "duration": 9,
    "start_time": "2022-04-26T10:04:17.655Z"
   },
   {
    "duration": 8,
    "start_time": "2022-04-26T10:04:25.904Z"
   },
   {
    "duration": 10,
    "start_time": "2022-04-26T10:05:14.669Z"
   },
   {
    "duration": 10071,
    "start_time": "2022-04-26T10:05:19.906Z"
   },
   {
    "duration": 2525,
    "start_time": "2022-04-26T10:05:43.971Z"
   },
   {
    "duration": 34,
    "start_time": "2022-04-26T10:05:50.095Z"
   },
   {
    "duration": 36,
    "start_time": "2022-04-26T10:05:57.098Z"
   },
   {
    "duration": 5,
    "start_time": "2022-04-26T10:06:49.473Z"
   },
   {
    "duration": 67,
    "start_time": "2022-04-26T10:06:50.834Z"
   },
   {
    "duration": 4,
    "start_time": "2022-04-26T10:07:33.038Z"
   },
   {
    "duration": 78,
    "start_time": "2022-04-26T10:07:33.690Z"
   },
   {
    "duration": 5,
    "start_time": "2022-04-26T10:07:51.628Z"
   },
   {
    "duration": 33,
    "start_time": "2022-04-26T10:07:52.145Z"
   },
   {
    "duration": 7,
    "start_time": "2022-04-26T10:08:01.917Z"
   },
   {
    "duration": 8,
    "start_time": "2022-04-26T10:08:10.063Z"
   },
   {
    "duration": 20,
    "start_time": "2022-04-26T10:08:10.305Z"
   },
   {
    "duration": 6,
    "start_time": "2022-04-26T10:08:14.022Z"
   },
   {
    "duration": 5,
    "start_time": "2022-04-26T10:08:42.189Z"
   },
   {
    "duration": 77,
    "start_time": "2022-04-26T10:08:42.519Z"
   },
   {
    "duration": 5,
    "start_time": "2022-04-26T10:09:43.204Z"
   },
   {
    "duration": 59,
    "start_time": "2022-04-26T10:09:43.807Z"
   },
   {
    "duration": 41,
    "start_time": "2022-04-26T10:09:45.137Z"
   },
   {
    "duration": 6,
    "start_time": "2022-04-26T10:09:49.374Z"
   },
   {
    "duration": 7,
    "start_time": "2022-04-26T10:09:53.350Z"
   },
   {
    "duration": 5,
    "start_time": "2022-04-26T10:10:41.213Z"
   },
   {
    "duration": 14,
    "start_time": "2022-04-26T10:12:39.716Z"
   },
   {
    "duration": 22,
    "start_time": "2022-04-26T10:12:44.589Z"
   },
   {
    "duration": 9,
    "start_time": "2022-04-26T10:12:53.373Z"
   },
   {
    "duration": 10,
    "start_time": "2022-04-26T10:13:06.841Z"
   },
   {
    "duration": 5,
    "start_time": "2022-04-26T10:14:10.435Z"
   },
   {
    "duration": 58,
    "start_time": "2022-04-26T10:14:10.595Z"
   },
   {
    "duration": 13,
    "start_time": "2022-04-26T10:14:10.751Z"
   },
   {
    "duration": 22,
    "start_time": "2022-04-26T10:17:10.097Z"
   },
   {
    "duration": 14,
    "start_time": "2022-04-26T10:17:24.969Z"
   },
   {
    "duration": 21,
    "start_time": "2022-04-26T10:17:25.490Z"
   },
   {
    "duration": 24,
    "start_time": "2022-04-26T10:18:03.637Z"
   },
   {
    "duration": 7,
    "start_time": "2022-04-26T10:18:25.567Z"
   },
   {
    "duration": 12,
    "start_time": "2022-04-26T10:18:47.860Z"
   },
   {
    "duration": 9,
    "start_time": "2022-04-26T10:19:29.445Z"
   },
   {
    "duration": 1938,
    "start_time": "2022-04-27T12:43:32.179Z"
   },
   {
    "duration": 398,
    "start_time": "2022-04-27T12:43:34.120Z"
   },
   {
    "duration": 22,
    "start_time": "2022-04-27T12:43:34.520Z"
   },
   {
    "duration": 34,
    "start_time": "2022-04-27T12:43:34.545Z"
   },
   {
    "duration": 74,
    "start_time": "2022-04-27T12:43:34.597Z"
   },
   {
    "duration": 29,
    "start_time": "2022-04-27T12:43:34.674Z"
   },
   {
    "duration": 54,
    "start_time": "2022-04-27T12:43:34.705Z"
   },
   {
    "duration": 118,
    "start_time": "2022-04-27T12:43:34.761Z"
   },
   {
    "duration": 3,
    "start_time": "2022-04-27T12:43:34.881Z"
   },
   {
    "duration": 125,
    "start_time": "2022-04-27T12:43:34.895Z"
   },
   {
    "duration": 31,
    "start_time": "2022-04-27T12:43:35.022Z"
   },
   {
    "duration": 5,
    "start_time": "2022-04-27T12:43:35.055Z"
   },
   {
    "duration": 152,
    "start_time": "2022-04-27T12:43:35.061Z"
   },
   {
    "duration": 5,
    "start_time": "2022-04-27T12:43:35.217Z"
   },
   {
    "duration": 69,
    "start_time": "2022-04-27T12:43:35.224Z"
   },
   {
    "duration": 77,
    "start_time": "2022-04-27T12:43:35.295Z"
   },
   {
    "duration": 106,
    "start_time": "2022-04-27T12:43:35.374Z"
   },
   {
    "duration": 57,
    "start_time": "2022-04-27T12:43:35.482Z"
   },
   {
    "duration": 20,
    "start_time": "2022-04-27T12:43:35.540Z"
   },
   {
    "duration": 68,
    "start_time": "2022-04-27T12:43:35.562Z"
   },
   {
    "duration": 4,
    "start_time": "2022-04-27T12:43:35.632Z"
   },
   {
    "duration": 64,
    "start_time": "2022-04-27T12:43:35.637Z"
   },
   {
    "duration": 9,
    "start_time": "2022-04-27T12:43:35.703Z"
   },
   {
    "duration": 2332,
    "start_time": "2022-04-27T12:43:35.716Z"
   },
   {
    "duration": 1836,
    "start_time": "2022-04-27T12:43:51.532Z"
   },
   {
    "duration": 4,
    "start_time": "2022-04-27T12:45:52.742Z"
   },
   {
    "duration": 45,
    "start_time": "2022-04-27T12:45:53.329Z"
   },
   {
    "duration": 5,
    "start_time": "2022-04-27T12:45:53.376Z"
   },
   {
    "duration": 4,
    "start_time": "2022-04-27T12:46:09.032Z"
   },
   {
    "duration": 43,
    "start_time": "2022-04-27T12:46:09.534Z"
   },
   {
    "duration": 3,
    "start_time": "2022-04-27T12:46:10.008Z"
   },
   {
    "duration": 4,
    "start_time": "2022-04-27T12:46:41.215Z"
   },
   {
    "duration": 52,
    "start_time": "2022-04-27T12:46:41.400Z"
   },
   {
    "duration": 6,
    "start_time": "2022-04-27T12:46:41.576Z"
   },
   {
    "duration": 5,
    "start_time": "2022-04-27T12:47:02.017Z"
   },
   {
    "duration": 75,
    "start_time": "2022-04-27T12:47:02.355Z"
   },
   {
    "duration": 6,
    "start_time": "2022-04-27T12:47:02.689Z"
   },
   {
    "duration": 4,
    "start_time": "2022-04-27T12:47:28.883Z"
   },
   {
    "duration": 73,
    "start_time": "2022-04-27T12:47:29.151Z"
   },
   {
    "duration": 5,
    "start_time": "2022-04-27T12:47:30.047Z"
   },
   {
    "duration": 4,
    "start_time": "2022-04-27T12:47:59.002Z"
   },
   {
    "duration": 51,
    "start_time": "2022-04-27T12:47:59.256Z"
   },
   {
    "duration": 4,
    "start_time": "2022-04-27T12:47:59.492Z"
   },
   {
    "duration": 4,
    "start_time": "2022-04-27T12:48:08.796Z"
   },
   {
    "duration": 57,
    "start_time": "2022-04-27T12:48:08.994Z"
   },
   {
    "duration": 5,
    "start_time": "2022-04-27T12:48:09.188Z"
   },
   {
    "duration": 167,
    "start_time": "2022-04-27T12:48:09.344Z"
   },
   {
    "duration": 11,
    "start_time": "2022-04-27T12:48:16.195Z"
   },
   {
    "duration": 5,
    "start_time": "2022-04-27T12:48:30.842Z"
   },
   {
    "duration": 11,
    "start_time": "2022-04-27T12:50:28.750Z"
   },
   {
    "duration": 67,
    "start_time": "2022-04-27T12:50:32.786Z"
   },
   {
    "duration": 5,
    "start_time": "2022-04-27T12:50:33.020Z"
   },
   {
    "duration": 247,
    "start_time": "2022-04-27T12:51:52.570Z"
   },
   {
    "duration": 9,
    "start_time": "2022-04-27T13:06:29.360Z"
   },
   {
    "duration": 11,
    "start_time": "2022-04-27T13:06:34.264Z"
   },
   {
    "duration": 36,
    "start_time": "2022-04-27T13:06:34.443Z"
   },
   {
    "duration": 4,
    "start_time": "2022-04-27T13:06:34.614Z"
   },
   {
    "duration": 6,
    "start_time": "2022-04-27T13:17:29.846Z"
   },
   {
    "duration": 28,
    "start_time": "2022-04-27T13:19:12.971Z"
   },
   {
    "duration": 13,
    "start_time": "2022-04-27T13:24:43.124Z"
   },
   {
    "duration": 27,
    "start_time": "2022-04-27T13:24:47.500Z"
   },
   {
    "duration": 28,
    "start_time": "2022-04-27T13:25:22.296Z"
   },
   {
    "duration": 17,
    "start_time": "2022-04-27T13:25:28.740Z"
   },
   {
    "duration": 22,
    "start_time": "2022-04-27T13:25:38.081Z"
   },
   {
    "duration": 40,
    "start_time": "2022-04-27T13:25:59.980Z"
   },
   {
    "duration": 57,
    "start_time": "2022-04-27T13:26:04.431Z"
   },
   {
    "duration": 56,
    "start_time": "2022-04-27T13:29:33.335Z"
   },
   {
    "duration": 11,
    "start_time": "2022-04-27T13:31:44.177Z"
   },
   {
    "duration": 42,
    "start_time": "2022-04-27T13:31:51.080Z"
   },
   {
    "duration": 15,
    "start_time": "2022-04-27T13:32:07.143Z"
   },
   {
    "duration": 35,
    "start_time": "2022-04-27T13:32:17.563Z"
   },
   {
    "duration": 61,
    "start_time": "2022-04-27T13:32:47.977Z"
   },
   {
    "duration": 125,
    "start_time": "2022-04-27T13:35:16.260Z"
   },
   {
    "duration": 50,
    "start_time": "2022-04-27T13:35:16.526Z"
   },
   {
    "duration": 15,
    "start_time": "2022-04-27T13:35:30.251Z"
   },
   {
    "duration": 129,
    "start_time": "2022-04-27T13:36:15.447Z"
   },
   {
    "duration": 9,
    "start_time": "2022-04-27T13:36:22.316Z"
   },
   {
    "duration": 170,
    "start_time": "2022-04-27T13:40:24.970Z"
   },
   {
    "duration": 1307,
    "start_time": "2022-04-27T13:41:48.207Z"
   },
   {
    "duration": 270,
    "start_time": "2022-04-27T13:41:49.517Z"
   },
   {
    "duration": 27,
    "start_time": "2022-04-27T13:41:49.792Z"
   },
   {
    "duration": 36,
    "start_time": "2022-04-27T13:41:49.821Z"
   },
   {
    "duration": 80,
    "start_time": "2022-04-27T13:41:49.859Z"
   },
   {
    "duration": 11,
    "start_time": "2022-04-27T13:41:49.940Z"
   },
   {
    "duration": 62,
    "start_time": "2022-04-27T13:41:49.953Z"
   },
   {
    "duration": 78,
    "start_time": "2022-04-27T13:41:50.018Z"
   },
   {
    "duration": 7,
    "start_time": "2022-04-27T13:41:50.099Z"
   },
   {
    "duration": 88,
    "start_time": "2022-04-27T13:41:50.108Z"
   },
   {
    "duration": 29,
    "start_time": "2022-04-27T13:41:50.198Z"
   },
   {
    "duration": 8,
    "start_time": "2022-04-27T13:41:50.229Z"
   },
   {
    "duration": 100,
    "start_time": "2022-04-27T13:41:50.239Z"
   },
   {
    "duration": 4,
    "start_time": "2022-04-27T13:41:50.342Z"
   },
   {
    "duration": 77,
    "start_time": "2022-04-27T13:41:50.348Z"
   },
   {
    "duration": 95,
    "start_time": "2022-04-27T13:41:50.427Z"
   },
   {
    "duration": 113,
    "start_time": "2022-04-27T13:41:50.524Z"
   },
   {
    "duration": 6,
    "start_time": "2022-04-27T13:41:50.638Z"
   },
   {
    "duration": 132,
    "start_time": "2022-04-27T13:41:50.646Z"
   },
   {
    "duration": 0,
    "start_time": "2022-04-27T13:41:50.779Z"
   },
   {
    "duration": 0,
    "start_time": "2022-04-27T13:41:50.780Z"
   },
   {
    "duration": 0,
    "start_time": "2022-04-27T13:41:50.781Z"
   },
   {
    "duration": 0,
    "start_time": "2022-04-27T13:41:50.783Z"
   },
   {
    "duration": 0,
    "start_time": "2022-04-27T13:41:50.784Z"
   },
   {
    "duration": 0,
    "start_time": "2022-04-27T13:41:50.793Z"
   },
   {
    "duration": 0,
    "start_time": "2022-04-27T13:41:50.794Z"
   },
   {
    "duration": 0,
    "start_time": "2022-04-27T13:41:50.795Z"
   },
   {
    "duration": 0,
    "start_time": "2022-04-27T13:41:50.796Z"
   },
   {
    "duration": 0,
    "start_time": "2022-04-27T13:41:50.797Z"
   },
   {
    "duration": 0,
    "start_time": "2022-04-27T13:41:50.798Z"
   },
   {
    "duration": 0,
    "start_time": "2022-04-27T13:41:50.800Z"
   },
   {
    "duration": 0,
    "start_time": "2022-04-27T13:41:50.803Z"
   },
   {
    "duration": 0,
    "start_time": "2022-04-27T13:41:50.805Z"
   },
   {
    "duration": 14,
    "start_time": "2022-04-27T13:42:42.420Z"
   },
   {
    "duration": 48,
    "start_time": "2022-04-27T13:42:55.232Z"
   },
   {
    "duration": 14,
    "start_time": "2022-04-27T13:43:23.360Z"
   },
   {
    "duration": 21,
    "start_time": "2022-04-27T13:43:27.521Z"
   },
   {
    "duration": 1927,
    "start_time": "2022-04-27T13:44:12.008Z"
   },
   {
    "duration": 7,
    "start_time": "2022-04-27T13:44:40.731Z"
   },
   {
    "duration": 25,
    "start_time": "2022-04-27T13:44:42.752Z"
   },
   {
    "duration": 25,
    "start_time": "2022-04-27T13:44:49.227Z"
   },
   {
    "duration": 50,
    "start_time": "2022-04-27T13:44:52.420Z"
   },
   {
    "duration": 4,
    "start_time": "2022-04-27T13:44:53.581Z"
   },
   {
    "duration": 44,
    "start_time": "2022-04-27T13:44:54.218Z"
   },
   {
    "duration": 6,
    "start_time": "2022-04-27T13:44:54.385Z"
   },
   {
    "duration": 10,
    "start_time": "2022-04-27T13:44:55.413Z"
   },
   {
    "duration": 45,
    "start_time": "2022-04-27T13:44:55.942Z"
   },
   {
    "duration": 40,
    "start_time": "2022-04-27T13:45:16.556Z"
   },
   {
    "duration": 13,
    "start_time": "2022-04-27T13:45:37.006Z"
   },
   {
    "duration": 43,
    "start_time": "2022-04-27T13:45:46.023Z"
   },
   {
    "duration": 15,
    "start_time": "2022-04-27T13:46:14.271Z"
   },
   {
    "duration": 727,
    "start_time": "2022-04-27T13:47:22.259Z"
   },
   {
    "duration": 24,
    "start_time": "2022-04-27T13:47:46.976Z"
   },
   {
    "duration": 15,
    "start_time": "2022-04-27T13:48:46.020Z"
   },
   {
    "duration": 2082,
    "start_time": "2022-04-27T13:50:07.597Z"
   },
   {
    "duration": 4,
    "start_time": "2022-04-27T13:51:14.322Z"
   },
   {
    "duration": 30952,
    "start_time": "2022-04-27T13:51:15.055Z"
   },
   {
    "duration": 25,
    "start_time": "2022-04-27T13:51:55.129Z"
   },
   {
    "duration": 112,
    "start_time": "2022-04-27T13:52:41.514Z"
   },
   {
    "duration": 15,
    "start_time": "2022-04-27T13:53:36.795Z"
   },
   {
    "duration": 20,
    "start_time": "2022-04-27T13:53:41.121Z"
   },
   {
    "duration": 9,
    "start_time": "2022-04-27T13:55:06.985Z"
   },
   {
    "duration": 15,
    "start_time": "2022-04-27T13:55:46.849Z"
   },
   {
    "duration": 17,
    "start_time": "2022-04-27T13:56:09.184Z"
   },
   {
    "duration": 22,
    "start_time": "2022-04-27T13:57:13.308Z"
   },
   {
    "duration": 14,
    "start_time": "2022-04-27T13:57:31.898Z"
   },
   {
    "duration": 38,
    "start_time": "2022-04-27T13:57:36.546Z"
   },
   {
    "duration": 28,
    "start_time": "2022-04-27T13:57:49.707Z"
   },
   {
    "duration": 18,
    "start_time": "2022-04-27T13:58:34.555Z"
   },
   {
    "duration": 12,
    "start_time": "2022-04-27T13:58:35.993Z"
   },
   {
    "duration": 12,
    "start_time": "2022-04-27T13:58:44.069Z"
   },
   {
    "duration": 10,
    "start_time": "2022-04-27T13:58:44.912Z"
   },
   {
    "duration": 16,
    "start_time": "2022-04-27T13:58:59.442Z"
   },
   {
    "duration": 14,
    "start_time": "2022-04-27T13:59:02.808Z"
   },
   {
    "duration": 17,
    "start_time": "2022-04-27T13:59:12.862Z"
   },
   {
    "duration": 18,
    "start_time": "2022-04-27T13:59:29.823Z"
   },
   {
    "duration": 36,
    "start_time": "2022-04-27T13:59:44.236Z"
   },
   {
    "duration": 13,
    "start_time": "2022-04-27T14:00:00.096Z"
   },
   {
    "duration": 28,
    "start_time": "2022-04-27T14:00:04.895Z"
   },
   {
    "duration": 28,
    "start_time": "2022-04-27T14:03:32.425Z"
   },
   {
    "duration": 18,
    "start_time": "2022-04-27T14:04:27.376Z"
   },
   {
    "duration": 71,
    "start_time": "2022-04-27T14:04:38.656Z"
   },
   {
    "duration": 1625,
    "start_time": "2022-04-27T14:04:44.404Z"
   },
   {
    "duration": 2177,
    "start_time": "2022-04-27T14:05:08.096Z"
   },
   {
    "duration": 1304,
    "start_time": "2022-04-27T14:05:42.834Z"
   },
   {
    "duration": 1419,
    "start_time": "2022-04-27T14:05:58.849Z"
   },
   {
    "duration": 943,
    "start_time": "2022-04-27T14:06:39.167Z"
   },
   {
    "duration": 572,
    "start_time": "2022-04-27T14:06:43.881Z"
   },
   {
    "duration": 19,
    "start_time": "2022-04-27T14:22:40.092Z"
   },
   {
    "duration": 37,
    "start_time": "2022-04-27T14:22:45.829Z"
   },
   {
    "duration": 33,
    "start_time": "2022-04-27T14:23:25.666Z"
   },
   {
    "duration": 72,
    "start_time": "2022-04-27T14:24:44.830Z"
   },
   {
    "duration": 71,
    "start_time": "2022-04-27T14:24:58.580Z"
   },
   {
    "duration": 1608,
    "start_time": "2022-04-27T14:26:06.084Z"
   },
   {
    "duration": 269,
    "start_time": "2022-04-27T14:26:07.695Z"
   },
   {
    "duration": 27,
    "start_time": "2022-04-27T14:26:07.966Z"
   },
   {
    "duration": 36,
    "start_time": "2022-04-27T14:26:07.996Z"
   },
   {
    "duration": 60,
    "start_time": "2022-04-27T14:26:08.035Z"
   },
   {
    "duration": 12,
    "start_time": "2022-04-27T14:26:08.097Z"
   },
   {
    "duration": 84,
    "start_time": "2022-04-27T14:26:08.112Z"
   },
   {
    "duration": 105,
    "start_time": "2022-04-27T14:26:08.198Z"
   },
   {
    "duration": 3,
    "start_time": "2022-04-27T14:26:08.305Z"
   },
   {
    "duration": 99,
    "start_time": "2022-04-27T14:26:08.312Z"
   },
   {
    "duration": 23,
    "start_time": "2022-04-27T14:26:08.413Z"
   },
   {
    "duration": 8,
    "start_time": "2022-04-27T14:26:08.438Z"
   },
   {
    "duration": 97,
    "start_time": "2022-04-27T14:26:08.448Z"
   },
   {
    "duration": 5,
    "start_time": "2022-04-27T14:26:08.547Z"
   },
   {
    "duration": 77,
    "start_time": "2022-04-27T14:26:08.554Z"
   },
   {
    "duration": 2177,
    "start_time": "2022-04-27T14:26:08.633Z"
   },
   {
    "duration": 0,
    "start_time": "2022-04-27T14:26:10.813Z"
   },
   {
    "duration": 67,
    "start_time": "2022-04-27T14:26:19.859Z"
   },
   {
    "duration": 20,
    "start_time": "2022-04-27T14:26:22.477Z"
   },
   {
    "duration": 90,
    "start_time": "2022-04-27T14:26:38.243Z"
   },
   {
    "duration": 7,
    "start_time": "2022-04-27T14:26:49.611Z"
   },
   {
    "duration": 12,
    "start_time": "2022-04-27T14:30:07.329Z"
   },
   {
    "duration": 23,
    "start_time": "2022-04-27T14:33:05.928Z"
   },
   {
    "duration": 24,
    "start_time": "2022-04-27T14:33:06.131Z"
   },
   {
    "duration": 7,
    "start_time": "2022-04-27T14:33:30.920Z"
   },
   {
    "duration": 17,
    "start_time": "2022-04-27T14:35:10.466Z"
   },
   {
    "duration": 23,
    "start_time": "2022-04-27T14:36:28.122Z"
   },
   {
    "duration": 31,
    "start_time": "2022-04-27T14:36:33.148Z"
   },
   {
    "duration": 7,
    "start_time": "2022-04-27T14:38:17.529Z"
   },
   {
    "duration": 23,
    "start_time": "2022-04-27T14:38:17.701Z"
   },
   {
    "duration": 23,
    "start_time": "2022-04-27T14:39:01.634Z"
   },
   {
    "duration": 26,
    "start_time": "2022-04-27T14:39:02.232Z"
   },
   {
    "duration": 14,
    "start_time": "2022-04-27T14:39:51.695Z"
   },
   {
    "duration": 16,
    "start_time": "2022-04-27T14:42:59.855Z"
   },
   {
    "duration": 46,
    "start_time": "2022-04-27T14:46:49.522Z"
   },
   {
    "duration": 34,
    "start_time": "2022-04-27T14:48:18.954Z"
   },
   {
    "duration": 13,
    "start_time": "2022-04-27T14:50:28.492Z"
   },
   {
    "duration": 107,
    "start_time": "2022-04-27T14:50:53.210Z"
   },
   {
    "duration": 17,
    "start_time": "2022-04-27T14:50:58.366Z"
   },
   {
    "duration": 88,
    "start_time": "2022-04-27T14:53:04.055Z"
   },
   {
    "duration": 94,
    "start_time": "2022-04-27T14:53:04.329Z"
   },
   {
    "duration": 1206,
    "start_time": "2022-04-27T14:53:29.945Z"
   },
   {
    "duration": 261,
    "start_time": "2022-04-27T14:53:31.154Z"
   },
   {
    "duration": 23,
    "start_time": "2022-04-27T14:53:31.417Z"
   },
   {
    "duration": 50,
    "start_time": "2022-04-27T14:53:31.443Z"
   },
   {
    "duration": 67,
    "start_time": "2022-04-27T14:53:31.495Z"
   },
   {
    "duration": 31,
    "start_time": "2022-04-27T14:53:31.564Z"
   },
   {
    "duration": 79,
    "start_time": "2022-04-27T14:53:31.597Z"
   },
   {
    "duration": 119,
    "start_time": "2022-04-27T14:53:31.678Z"
   },
   {
    "duration": 3,
    "start_time": "2022-04-27T14:53:31.800Z"
   },
   {
    "duration": 94,
    "start_time": "2022-04-27T14:53:31.806Z"
   },
   {
    "duration": 19,
    "start_time": "2022-04-27T14:53:31.902Z"
   },
   {
    "duration": 5,
    "start_time": "2022-04-27T14:53:31.923Z"
   },
   {
    "duration": 141,
    "start_time": "2022-04-27T14:53:31.930Z"
   },
   {
    "duration": 4,
    "start_time": "2022-04-27T14:53:32.073Z"
   },
   {
    "duration": 85,
    "start_time": "2022-04-27T14:53:32.079Z"
   },
   {
    "duration": 96,
    "start_time": "2022-04-27T14:53:32.165Z"
   },
   {
    "duration": 110,
    "start_time": "2022-04-27T14:53:32.262Z"
   },
   {
    "duration": 120,
    "start_time": "2022-04-27T14:53:32.373Z"
   },
   {
    "duration": 0,
    "start_time": "2022-04-27T14:53:32.496Z"
   },
   {
    "duration": 0,
    "start_time": "2022-04-27T14:53:32.497Z"
   },
   {
    "duration": 1259,
    "start_time": "2022-04-27T14:54:30.494Z"
   },
   {
    "duration": 257,
    "start_time": "2022-04-27T14:54:31.755Z"
   },
   {
    "duration": 22,
    "start_time": "2022-04-27T14:54:32.014Z"
   },
   {
    "duration": 43,
    "start_time": "2022-04-27T14:54:32.039Z"
   },
   {
    "duration": 45,
    "start_time": "2022-04-27T14:54:32.092Z"
   },
   {
    "duration": 38,
    "start_time": "2022-04-27T14:54:32.139Z"
   },
   {
    "duration": 62,
    "start_time": "2022-04-27T14:54:32.179Z"
   },
   {
    "duration": 68,
    "start_time": "2022-04-27T14:54:32.242Z"
   },
   {
    "duration": 3,
    "start_time": "2022-04-27T14:54:32.312Z"
   },
   {
    "duration": 140,
    "start_time": "2022-04-27T14:54:32.317Z"
   },
   {
    "duration": 39,
    "start_time": "2022-04-27T14:54:32.459Z"
   },
   {
    "duration": 13,
    "start_time": "2022-04-27T14:54:32.500Z"
   },
   {
    "duration": 131,
    "start_time": "2022-04-27T14:54:32.515Z"
   },
   {
    "duration": 4,
    "start_time": "2022-04-27T14:54:32.650Z"
   },
   {
    "duration": 102,
    "start_time": "2022-04-27T14:54:32.656Z"
   },
   {
    "duration": 146,
    "start_time": "2022-04-27T14:54:32.760Z"
   },
   {
    "duration": 104,
    "start_time": "2022-04-27T14:54:32.908Z"
   },
   {
    "duration": 117,
    "start_time": "2022-04-27T14:54:33.014Z"
   },
   {
    "duration": 0,
    "start_time": "2022-04-27T14:54:33.132Z"
   },
   {
    "duration": 0,
    "start_time": "2022-04-27T14:54:33.133Z"
   },
   {
    "duration": 41,
    "start_time": "2022-04-27T14:55:05.949Z"
   },
   {
    "duration": 34,
    "start_time": "2022-04-27T14:56:13.114Z"
   },
   {
    "duration": 48,
    "start_time": "2022-04-27T14:56:23.430Z"
   },
   {
    "duration": 1522,
    "start_time": "2022-04-27T14:56:56.116Z"
   },
   {
    "duration": 277,
    "start_time": "2022-04-27T14:56:57.642Z"
   },
   {
    "duration": 24,
    "start_time": "2022-04-27T14:56:57.921Z"
   },
   {
    "duration": 48,
    "start_time": "2022-04-27T14:56:57.947Z"
   },
   {
    "duration": 49,
    "start_time": "2022-04-27T14:56:57.997Z"
   },
   {
    "duration": 11,
    "start_time": "2022-04-27T14:56:58.048Z"
   },
   {
    "duration": 69,
    "start_time": "2022-04-27T14:56:58.061Z"
   },
   {
    "duration": 88,
    "start_time": "2022-04-27T14:56:58.132Z"
   },
   {
    "duration": 3,
    "start_time": "2022-04-27T14:56:58.222Z"
   },
   {
    "duration": 95,
    "start_time": "2022-04-27T14:56:58.229Z"
   },
   {
    "duration": 21,
    "start_time": "2022-04-27T14:56:58.326Z"
   },
   {
    "duration": 6,
    "start_time": "2022-04-27T14:56:58.349Z"
   },
   {
    "duration": 146,
    "start_time": "2022-04-27T14:56:58.357Z"
   },
   {
    "duration": 5,
    "start_time": "2022-04-27T14:56:58.505Z"
   },
   {
    "duration": 62,
    "start_time": "2022-04-27T14:56:58.512Z"
   },
   {
    "duration": 2118,
    "start_time": "2022-04-27T14:57:03.557Z"
   },
   {
    "duration": 72,
    "start_time": "2022-04-27T14:57:14.463Z"
   },
   {
    "duration": 1273,
    "start_time": "2022-04-27T14:57:46.524Z"
   },
   {
    "duration": 268,
    "start_time": "2022-04-27T14:57:47.800Z"
   },
   {
    "duration": 27,
    "start_time": "2022-04-27T14:57:48.070Z"
   },
   {
    "duration": 39,
    "start_time": "2022-04-27T14:57:48.100Z"
   },
   {
    "duration": 63,
    "start_time": "2022-04-27T14:57:48.141Z"
   },
   {
    "duration": 9,
    "start_time": "2022-04-27T14:57:48.206Z"
   },
   {
    "duration": 53,
    "start_time": "2022-04-27T14:57:48.217Z"
   },
   {
    "duration": 112,
    "start_time": "2022-04-27T14:57:48.272Z"
   },
   {
    "duration": 3,
    "start_time": "2022-04-27T14:57:48.393Z"
   },
   {
    "duration": 142,
    "start_time": "2022-04-27T14:57:48.400Z"
   },
   {
    "duration": 22,
    "start_time": "2022-04-27T14:57:48.544Z"
   },
   {
    "duration": 26,
    "start_time": "2022-04-27T14:57:48.568Z"
   },
   {
    "duration": 86,
    "start_time": "2022-04-27T14:57:48.596Z"
   },
   {
    "duration": 10,
    "start_time": "2022-04-27T14:57:48.684Z"
   },
   {
    "duration": 60,
    "start_time": "2022-04-27T14:57:48.696Z"
   },
   {
    "duration": 67,
    "start_time": "2022-04-27T14:57:48.758Z"
   },
   {
    "duration": 1276,
    "start_time": "2022-04-27T14:59:52.102Z"
   },
   {
    "duration": 284,
    "start_time": "2022-04-27T14:59:53.380Z"
   },
   {
    "duration": 27,
    "start_time": "2022-04-27T14:59:53.666Z"
   },
   {
    "duration": 39,
    "start_time": "2022-04-27T14:59:53.696Z"
   },
   {
    "duration": 64,
    "start_time": "2022-04-27T14:59:53.736Z"
   },
   {
    "duration": 10,
    "start_time": "2022-04-27T14:59:53.802Z"
   },
   {
    "duration": 57,
    "start_time": "2022-04-27T14:59:53.814Z"
   },
   {
    "duration": 82,
    "start_time": "2022-04-27T14:59:53.873Z"
   },
   {
    "duration": 3,
    "start_time": "2022-04-27T14:59:53.957Z"
   },
   {
    "duration": 149,
    "start_time": "2022-04-27T14:59:53.963Z"
   },
   {
    "duration": 32,
    "start_time": "2022-04-27T14:59:54.114Z"
   },
   {
    "duration": 12,
    "start_time": "2022-04-27T14:59:54.149Z"
   },
   {
    "duration": 140,
    "start_time": "2022-04-27T14:59:54.163Z"
   },
   {
    "duration": 6,
    "start_time": "2022-04-27T14:59:54.305Z"
   },
   {
    "duration": 105,
    "start_time": "2022-04-27T14:59:54.313Z"
   },
   {
    "duration": 156,
    "start_time": "2022-04-27T14:59:54.420Z"
   },
   {
    "duration": 160,
    "start_time": "2022-04-27T14:59:54.579Z"
   },
   {
    "duration": 39,
    "start_time": "2022-04-27T14:59:54.741Z"
   },
   {
    "duration": 166,
    "start_time": "2022-04-27T14:59:54.793Z"
   },
   {
    "duration": 40,
    "start_time": "2022-04-27T15:00:01.032Z"
   },
   {
    "duration": 1387,
    "start_time": "2022-04-27T15:00:56.738Z"
   },
   {
    "duration": 397,
    "start_time": "2022-04-27T15:00:58.128Z"
   },
   {
    "duration": 30,
    "start_time": "2022-04-27T15:00:59.680Z"
   },
   {
    "duration": 53,
    "start_time": "2022-04-27T15:01:00.165Z"
   },
   {
    "duration": 60,
    "start_time": "2022-04-27T15:01:07.259Z"
   },
   {
    "duration": 10,
    "start_time": "2022-04-27T15:01:09.506Z"
   },
   {
    "duration": 50,
    "start_time": "2022-04-27T15:01:09.893Z"
   },
   {
    "duration": 77,
    "start_time": "2022-04-27T15:01:13.310Z"
   },
   {
    "duration": 79,
    "start_time": "2022-04-27T15:01:21.054Z"
   },
   {
    "duration": 5,
    "start_time": "2022-04-27T15:01:21.231Z"
   },
   {
    "duration": 58,
    "start_time": "2022-04-27T15:01:33.081Z"
   },
   {
    "duration": 36,
    "start_time": "2022-04-27T15:02:33.579Z"
   },
   {
    "duration": 36,
    "start_time": "2022-04-27T15:03:00.030Z"
   },
   {
    "duration": 37,
    "start_time": "2022-04-27T15:03:15.500Z"
   },
   {
    "duration": 1623,
    "start_time": "2022-04-27T15:03:29.680Z"
   },
   {
    "duration": 402,
    "start_time": "2022-04-27T15:03:31.306Z"
   },
   {
    "duration": 30,
    "start_time": "2022-04-27T15:03:31.710Z"
   },
   {
    "duration": 66,
    "start_time": "2022-04-27T15:03:31.742Z"
   },
   {
    "duration": 58,
    "start_time": "2022-04-27T15:03:31.812Z"
   },
   {
    "duration": 24,
    "start_time": "2022-04-27T15:03:31.872Z"
   },
   {
    "duration": 58,
    "start_time": "2022-04-27T15:03:31.898Z"
   },
   {
    "duration": 81,
    "start_time": "2022-04-27T15:03:31.958Z"
   },
   {
    "duration": 3,
    "start_time": "2022-04-27T15:03:32.041Z"
   },
   {
    "duration": 101,
    "start_time": "2022-04-27T15:03:32.046Z"
   },
   {
    "duration": 21,
    "start_time": "2022-04-27T15:03:32.148Z"
   },
   {
    "duration": 22,
    "start_time": "2022-04-27T15:03:32.171Z"
   },
   {
    "duration": 93,
    "start_time": "2022-04-27T15:03:32.195Z"
   },
   {
    "duration": 5,
    "start_time": "2022-04-27T15:03:32.291Z"
   },
   {
    "duration": 94,
    "start_time": "2022-04-27T15:03:32.299Z"
   },
   {
    "duration": 59,
    "start_time": "2022-04-27T15:03:32.395Z"
   },
   {
    "duration": 106,
    "start_time": "2022-04-27T15:03:56.537Z"
   },
   {
    "duration": 94,
    "start_time": "2022-04-27T15:03:57.607Z"
   },
   {
    "duration": 1285,
    "start_time": "2022-04-27T15:10:38.902Z"
   },
   {
    "duration": 254,
    "start_time": "2022-04-27T15:10:40.188Z"
   },
   {
    "duration": 21,
    "start_time": "2022-04-27T15:10:40.443Z"
   },
   {
    "duration": 40,
    "start_time": "2022-04-27T15:10:40.466Z"
   },
   {
    "duration": 43,
    "start_time": "2022-04-27T15:10:40.508Z"
   },
   {
    "duration": 9,
    "start_time": "2022-04-27T15:10:40.553Z"
   },
   {
    "duration": 63,
    "start_time": "2022-04-27T15:10:40.563Z"
   },
   {
    "duration": 78,
    "start_time": "2022-04-27T15:10:40.628Z"
   },
   {
    "duration": 2,
    "start_time": "2022-04-27T15:10:40.708Z"
   },
   {
    "duration": 95,
    "start_time": "2022-04-27T15:10:40.714Z"
   },
   {
    "duration": 20,
    "start_time": "2022-04-27T15:10:40.811Z"
   },
   {
    "duration": 5,
    "start_time": "2022-04-27T15:10:40.834Z"
   },
   {
    "duration": 136,
    "start_time": "2022-04-27T15:10:40.841Z"
   },
   {
    "duration": 5,
    "start_time": "2022-04-27T15:10:40.979Z"
   },
   {
    "duration": 104,
    "start_time": "2022-04-27T15:10:40.993Z"
   },
   {
    "duration": 172,
    "start_time": "2022-04-27T15:10:41.099Z"
   },
   {
    "duration": 0,
    "start_time": "2022-04-27T15:10:41.274Z"
   },
   {
    "duration": 0,
    "start_time": "2022-04-27T15:10:41.276Z"
   },
   {
    "duration": 0,
    "start_time": "2022-04-27T15:10:41.277Z"
   },
   {
    "duration": 0,
    "start_time": "2022-04-27T15:10:41.278Z"
   },
   {
    "duration": 37,
    "start_time": "2022-04-27T15:11:38.665Z"
   },
   {
    "duration": 65,
    "start_time": "2022-04-27T15:11:38.896Z"
   },
   {
    "duration": 86,
    "start_time": "2022-04-27T15:11:39.012Z"
   },
   {
    "duration": 22,
    "start_time": "2022-04-27T15:11:39.332Z"
   },
   {
    "duration": 22,
    "start_time": "2022-04-27T15:11:39.499Z"
   },
   {
    "duration": 15,
    "start_time": "2022-04-27T15:11:39.848Z"
   },
   {
    "duration": 10,
    "start_time": "2022-04-27T15:11:40.008Z"
   },
   {
    "duration": 14,
    "start_time": "2022-04-27T15:11:40.335Z"
   },
   {
    "duration": 52,
    "start_time": "2022-04-27T15:12:00.169Z"
   },
   {
    "duration": 1202,
    "start_time": "2022-04-27T15:13:19.638Z"
   },
   {
    "duration": 278,
    "start_time": "2022-04-27T15:13:20.842Z"
   },
   {
    "duration": 23,
    "start_time": "2022-04-27T15:13:21.123Z"
   },
   {
    "duration": 50,
    "start_time": "2022-04-27T15:13:21.148Z"
   },
   {
    "duration": 64,
    "start_time": "2022-04-27T15:13:21.200Z"
   },
   {
    "duration": 10,
    "start_time": "2022-04-27T15:13:21.266Z"
   },
   {
    "duration": 51,
    "start_time": "2022-04-27T15:13:21.293Z"
   },
   {
    "duration": 91,
    "start_time": "2022-04-27T15:13:21.346Z"
   },
   {
    "duration": 3,
    "start_time": "2022-04-27T15:13:21.439Z"
   },
   {
    "duration": 99,
    "start_time": "2022-04-27T15:13:21.444Z"
   },
   {
    "duration": 19,
    "start_time": "2022-04-27T15:13:21.545Z"
   },
   {
    "duration": 8,
    "start_time": "2022-04-27T15:13:21.566Z"
   },
   {
    "duration": 77,
    "start_time": "2022-04-27T15:13:21.592Z"
   },
   {
    "duration": 4,
    "start_time": "2022-04-27T15:13:21.671Z"
   },
   {
    "duration": 64,
    "start_time": "2022-04-27T15:13:21.693Z"
   },
   {
    "duration": 53,
    "start_time": "2022-04-27T15:13:21.759Z"
   },
   {
    "duration": 63,
    "start_time": "2022-04-27T15:13:21.814Z"
   },
   {
    "duration": 105,
    "start_time": "2022-04-27T15:13:21.878Z"
   },
   {
    "duration": 32,
    "start_time": "2022-04-27T15:13:21.985Z"
   },
   {
    "duration": 23,
    "start_time": "2022-04-27T15:13:22.018Z"
   },
   {
    "duration": 45,
    "start_time": "2022-04-27T15:13:46.805Z"
   },
   {
    "duration": 1354,
    "start_time": "2022-04-27T15:14:11.117Z"
   },
   {
    "duration": 280,
    "start_time": "2022-04-27T15:14:12.473Z"
   },
   {
    "duration": 23,
    "start_time": "2022-04-27T15:14:12.754Z"
   },
   {
    "duration": 41,
    "start_time": "2022-04-27T15:14:12.779Z"
   },
   {
    "duration": 77,
    "start_time": "2022-04-27T15:14:12.822Z"
   },
   {
    "duration": 14,
    "start_time": "2022-04-27T15:14:12.901Z"
   },
   {
    "duration": 80,
    "start_time": "2022-04-27T15:14:12.917Z"
   },
   {
    "duration": 125,
    "start_time": "2022-04-27T15:14:12.999Z"
   },
   {
    "duration": 3,
    "start_time": "2022-04-27T15:14:13.127Z"
   },
   {
    "duration": 137,
    "start_time": "2022-04-27T15:14:13.134Z"
   },
   {
    "duration": 32,
    "start_time": "2022-04-27T15:14:13.273Z"
   },
   {
    "duration": 14,
    "start_time": "2022-04-27T15:14:13.308Z"
   },
   {
    "duration": 82,
    "start_time": "2022-04-27T15:14:13.324Z"
   },
   {
    "duration": 5,
    "start_time": "2022-04-27T15:14:13.408Z"
   },
   {
    "duration": 59,
    "start_time": "2022-04-27T15:14:13.415Z"
   },
   {
    "duration": 41,
    "start_time": "2022-04-27T15:14:13.475Z"
   },
   {
    "duration": 89,
    "start_time": "2022-04-27T15:14:13.518Z"
   },
   {
    "duration": 105,
    "start_time": "2022-04-27T15:14:13.609Z"
   },
   {
    "duration": 1339,
    "start_time": "2022-04-27T15:14:21.017Z"
   },
   {
    "duration": 2015,
    "start_time": "2022-04-27T15:14:22.358Z"
   },
   {
    "duration": 0,
    "start_time": "2022-04-27T15:14:24.376Z"
   },
   {
    "duration": 1276,
    "start_time": "2022-04-27T15:14:43.316Z"
   },
   {
    "duration": 392,
    "start_time": "2022-04-27T15:14:44.595Z"
   },
   {
    "duration": 23,
    "start_time": "2022-04-27T15:14:44.992Z"
   },
   {
    "duration": 55,
    "start_time": "2022-04-27T15:14:45.017Z"
   },
   {
    "duration": 47,
    "start_time": "2022-04-27T15:14:45.074Z"
   },
   {
    "duration": 33,
    "start_time": "2022-04-27T15:14:45.122Z"
   },
   {
    "duration": 67,
    "start_time": "2022-04-27T15:14:45.157Z"
   },
   {
    "duration": 83,
    "start_time": "2022-04-27T15:14:45.226Z"
   },
   {
    "duration": 3,
    "start_time": "2022-04-27T15:14:45.311Z"
   },
   {
    "duration": 122,
    "start_time": "2022-04-27T15:14:45.316Z"
   },
   {
    "duration": 19,
    "start_time": "2022-04-27T15:14:45.440Z"
   },
   {
    "duration": 12,
    "start_time": "2022-04-27T15:14:45.461Z"
   },
   {
    "duration": 95,
    "start_time": "2022-04-27T15:14:45.474Z"
   },
   {
    "duration": 4,
    "start_time": "2022-04-27T15:14:45.572Z"
   },
   {
    "duration": 86,
    "start_time": "2022-04-27T15:14:45.578Z"
   },
   {
    "duration": 26,
    "start_time": "2022-04-27T15:14:45.666Z"
   },
   {
    "duration": 92,
    "start_time": "2022-04-27T15:14:45.695Z"
   },
   {
    "duration": 104,
    "start_time": "2022-04-27T15:14:45.789Z"
   },
   {
    "duration": 24,
    "start_time": "2022-04-27T15:15:07.932Z"
   },
   {
    "duration": 14,
    "start_time": "2022-04-27T15:15:09.266Z"
   },
   {
    "duration": 43,
    "start_time": "2022-04-27T15:15:23.245Z"
   },
   {
    "duration": 22,
    "start_time": "2022-04-27T15:16:09.464Z"
   },
   {
    "duration": 65,
    "start_time": "2022-04-27T15:18:56.621Z"
   },
   {
    "duration": 68,
    "start_time": "2022-04-27T15:19:12.045Z"
   },
   {
    "duration": 45,
    "start_time": "2022-04-27T15:20:14.251Z"
   },
   {
    "duration": 8,
    "start_time": "2022-04-27T15:21:18.858Z"
   },
   {
    "duration": 7,
    "start_time": "2022-04-27T15:21:23.156Z"
   },
   {
    "duration": 10,
    "start_time": "2022-04-27T15:22:04.700Z"
   },
   {
    "duration": 43,
    "start_time": "2022-04-27T15:22:04.881Z"
   },
   {
    "duration": 9,
    "start_time": "2022-04-27T15:22:05.361Z"
   },
   {
    "duration": 5,
    "start_time": "2022-04-27T15:22:07.771Z"
   },
   {
    "duration": 20,
    "start_time": "2022-04-27T15:25:29.190Z"
   },
   {
    "duration": 20,
    "start_time": "2022-04-27T15:25:32.745Z"
   },
   {
    "duration": 12,
    "start_time": "2022-04-27T15:25:39.630Z"
   },
   {
    "duration": 101,
    "start_time": "2022-04-27T15:27:28.072Z"
   },
   {
    "duration": 89,
    "start_time": "2022-04-27T15:27:58.024Z"
   },
   {
    "duration": 124,
    "start_time": "2022-04-27T15:28:03.662Z"
   },
   {
    "duration": 129,
    "start_time": "2022-04-27T15:31:16.761Z"
   },
   {
    "duration": 224,
    "start_time": "2022-04-27T15:31:21.668Z"
   },
   {
    "duration": 107,
    "start_time": "2022-04-27T15:32:00.855Z"
   },
   {
    "duration": 78,
    "start_time": "2022-04-27T15:36:29.848Z"
   },
   {
    "duration": 93,
    "start_time": "2022-04-27T15:37:18.964Z"
   },
   {
    "duration": 213,
    "start_time": "2022-04-27T15:37:42.382Z"
   },
   {
    "duration": 73,
    "start_time": "2022-04-27T15:37:46.106Z"
   },
   {
    "duration": 74,
    "start_time": "2022-04-27T15:39:15.460Z"
   },
   {
    "duration": 76,
    "start_time": "2022-04-27T15:41:28.180Z"
   },
   {
    "duration": 2012,
    "start_time": "2022-04-27T15:41:41.854Z"
   },
   {
    "duration": 619,
    "start_time": "2022-04-27T15:41:51.715Z"
   },
   {
    "duration": 62,
    "start_time": "2022-04-27T15:47:08.818Z"
   },
   {
    "duration": 90,
    "start_time": "2022-04-27T15:47:23.288Z"
   },
   {
    "duration": 2666,
    "start_time": "2022-04-27T15:47:28.310Z"
   },
   {
    "duration": 2122,
    "start_time": "2022-04-27T15:48:44.839Z"
   },
   {
    "duration": 2562,
    "start_time": "2022-04-27T15:48:54.079Z"
   },
   {
    "duration": 118,
    "start_time": "2022-04-27T15:49:20.794Z"
   },
   {
    "duration": 2655,
    "start_time": "2022-04-27T15:50:01.519Z"
   },
   {
    "duration": 840,
    "start_time": "2022-04-27T15:56:43.860Z"
   },
   {
    "duration": 79,
    "start_time": "2022-04-27T15:56:56.489Z"
   },
   {
    "duration": 16,
    "start_time": "2022-04-27T16:01:48.923Z"
   },
   {
    "duration": 188,
    "start_time": "2022-04-27T16:02:00.838Z"
   },
   {
    "duration": 1637,
    "start_time": "2022-04-27T16:04:46.385Z"
   },
   {
    "duration": 372,
    "start_time": "2022-04-27T16:04:48.024Z"
   },
   {
    "duration": 30,
    "start_time": "2022-04-27T16:04:48.398Z"
   },
   {
    "duration": 37,
    "start_time": "2022-04-27T16:04:48.430Z"
   },
   {
    "duration": 64,
    "start_time": "2022-04-27T16:04:48.468Z"
   },
   {
    "duration": 10,
    "start_time": "2022-04-27T16:04:48.534Z"
   },
   {
    "duration": 85,
    "start_time": "2022-04-27T16:04:48.546Z"
   },
   {
    "duration": 94,
    "start_time": "2022-04-27T16:04:48.633Z"
   },
   {
    "duration": 4,
    "start_time": "2022-04-27T16:04:48.729Z"
   },
   {
    "duration": 106,
    "start_time": "2022-04-27T16:04:48.734Z"
   },
   {
    "duration": 20,
    "start_time": "2022-04-27T16:04:48.843Z"
   },
   {
    "duration": 5,
    "start_time": "2022-04-27T16:04:48.865Z"
   },
   {
    "duration": 100,
    "start_time": "2022-04-27T16:04:48.872Z"
   },
   {
    "duration": 4,
    "start_time": "2022-04-27T16:04:48.974Z"
   },
   {
    "duration": 74,
    "start_time": "2022-04-27T16:04:48.980Z"
   },
   {
    "duration": 55,
    "start_time": "2022-04-27T16:04:49.056Z"
   },
   {
    "duration": 70,
    "start_time": "2022-04-27T16:04:49.113Z"
   },
   {
    "duration": 167,
    "start_time": "2022-04-27T16:04:49.185Z"
   },
   {
    "duration": 284,
    "start_time": "2022-04-27T16:04:49.355Z"
   },
   {
    "duration": 15,
    "start_time": "2022-04-27T16:04:49.641Z"
   },
   {
    "duration": 36,
    "start_time": "2022-04-27T16:04:49.658Z"
   },
   {
    "duration": 58,
    "start_time": "2022-04-27T16:04:49.696Z"
   },
   {
    "duration": 44,
    "start_time": "2022-04-27T16:07:19.837Z"
   },
   {
    "duration": 2390,
    "start_time": "2022-04-27T16:07:20.036Z"
   },
   {
    "duration": 1547,
    "start_time": "2022-04-27T16:07:45.002Z"
   },
   {
    "duration": 2103,
    "start_time": "2022-04-27T16:07:56.318Z"
   },
   {
    "duration": 516,
    "start_time": "2022-04-27T16:08:11.955Z"
   },
   {
    "duration": 1448,
    "start_time": "2022-04-27T16:08:18.921Z"
   },
   {
    "duration": 1229,
    "start_time": "2022-04-27T16:10:47.750Z"
   },
   {
    "duration": 19,
    "start_time": "2022-04-27T16:13:26.550Z"
   },
   {
    "duration": 1561,
    "start_time": "2022-04-27T16:14:01.423Z"
   },
   {
    "duration": 21,
    "start_time": "2022-04-27T16:18:05.111Z"
   },
   {
    "duration": 71,
    "start_time": "2022-04-27T16:19:24.967Z"
   },
   {
    "duration": 3328,
    "start_time": "2022-04-27T16:19:35.308Z"
   },
   {
    "duration": 57,
    "start_time": "2022-04-27T16:19:51.479Z"
   },
   {
    "duration": 981,
    "start_time": "2022-04-27T16:19:51.653Z"
   },
   {
    "duration": 48,
    "start_time": "2022-04-27T16:21:13.404Z"
   },
   {
    "duration": 57,
    "start_time": "2022-04-27T16:21:29.434Z"
   },
   {
    "duration": 1130,
    "start_time": "2022-04-27T16:21:30.890Z"
   },
   {
    "duration": 9,
    "start_time": "2022-04-27T16:36:46.978Z"
   },
   {
    "duration": 19699,
    "start_time": "2022-04-27T16:37:11.479Z"
   },
   {
    "duration": 35,
    "start_time": "2022-04-27T16:38:47.616Z"
   },
   {
    "duration": 663,
    "start_time": "2022-04-27T16:39:17.345Z"
   },
   {
    "duration": 505,
    "start_time": "2022-04-27T16:42:49.416Z"
   },
   {
    "duration": 69,
    "start_time": "2022-04-27T16:43:00.510Z"
   },
   {
    "duration": 108,
    "start_time": "2022-04-27T16:43:04.768Z"
   },
   {
    "duration": 479,
    "start_time": "2022-04-27T16:43:44.274Z"
   },
   {
    "duration": 42,
    "start_time": "2022-04-27T16:44:04.485Z"
   },
   {
    "duration": 36,
    "start_time": "2022-04-27T16:44:28.742Z"
   },
   {
    "duration": 95,
    "start_time": "2022-04-27T16:44:44.545Z"
   },
   {
    "duration": 43,
    "start_time": "2022-04-27T16:46:24.336Z"
   },
   {
    "duration": 54,
    "start_time": "2022-04-27T16:47:47.352Z"
   },
   {
    "duration": 54,
    "start_time": "2022-04-27T16:48:26.414Z"
   },
   {
    "duration": 97,
    "start_time": "2022-04-27T16:49:50.960Z"
   },
   {
    "duration": 64,
    "start_time": "2022-04-27T16:50:12.203Z"
   },
   {
    "duration": 74,
    "start_time": "2022-04-27T16:50:27.760Z"
   },
   {
    "duration": 66,
    "start_time": "2022-04-27T16:50:33.198Z"
   },
   {
    "duration": 65,
    "start_time": "2022-04-27T16:50:50.014Z"
   },
   {
    "duration": 111,
    "start_time": "2022-04-27T16:51:51.374Z"
   },
   {
    "duration": 65,
    "start_time": "2022-04-27T16:51:56.886Z"
   },
   {
    "duration": 64,
    "start_time": "2022-04-27T16:52:12.246Z"
   },
   {
    "duration": 146,
    "start_time": "2022-04-27T16:52:21.416Z"
   },
   {
    "duration": 99,
    "start_time": "2022-04-27T16:53:21.455Z"
   },
   {
    "duration": 61,
    "start_time": "2022-04-27T16:53:58.517Z"
   },
   {
    "duration": 133,
    "start_time": "2022-04-27T16:55:41.437Z"
   },
   {
    "duration": 103,
    "start_time": "2022-04-27T16:55:46.310Z"
   },
   {
    "duration": 76,
    "start_time": "2022-04-27T16:56:51.867Z"
   },
   {
    "duration": 107,
    "start_time": "2022-04-27T16:57:57.866Z"
   },
   {
    "duration": 81,
    "start_time": "2022-04-27T16:58:07.943Z"
   },
   {
    "duration": 76,
    "start_time": "2022-04-27T16:59:48.893Z"
   },
   {
    "duration": 75,
    "start_time": "2022-04-27T16:59:52.000Z"
   },
   {
    "duration": 81,
    "start_time": "2022-04-27T17:00:11.662Z"
   },
   {
    "duration": 13,
    "start_time": "2022-04-27T17:02:08.626Z"
   },
   {
    "duration": 18,
    "start_time": "2022-04-27T17:02:13.874Z"
   },
   {
    "duration": 48,
    "start_time": "2022-04-27T17:02:50.997Z"
   },
   {
    "duration": 638,
    "start_time": "2022-04-27T17:03:55.478Z"
   },
   {
    "duration": 799,
    "start_time": "2022-04-27T17:03:59.139Z"
   },
   {
    "duration": 36,
    "start_time": "2022-04-27T17:05:07.637Z"
   },
   {
    "duration": 29,
    "start_time": "2022-04-27T17:05:25.298Z"
   },
   {
    "duration": 595,
    "start_time": "2022-04-27T17:05:25.656Z"
   },
   {
    "duration": 34,
    "start_time": "2022-04-27T17:05:52.490Z"
   },
   {
    "duration": 2236,
    "start_time": "2022-04-27T17:05:59.282Z"
   },
   {
    "duration": 30,
    "start_time": "2022-04-27T17:06:59.635Z"
   },
   {
    "duration": 29,
    "start_time": "2022-04-27T17:07:04.861Z"
   },
   {
    "duration": 54,
    "start_time": "2022-04-27T17:08:36.522Z"
   },
   {
    "duration": 46,
    "start_time": "2022-04-27T17:08:55.574Z"
   },
   {
    "duration": 30,
    "start_time": "2022-04-27T17:10:07.435Z"
   },
   {
    "duration": 31,
    "start_time": "2022-04-27T17:11:05.937Z"
   },
   {
    "duration": 620,
    "start_time": "2022-04-27T17:11:11.208Z"
   },
   {
    "duration": 47,
    "start_time": "2022-04-27T17:19:07.840Z"
   },
   {
    "duration": 9,
    "start_time": "2022-04-27T17:19:31.260Z"
   },
   {
    "duration": 16,
    "start_time": "2022-04-27T17:20:57.377Z"
   },
   {
    "duration": 10,
    "start_time": "2022-04-27T17:21:27.318Z"
   },
   {
    "duration": 21,
    "start_time": "2022-04-27T17:22:21.405Z"
   },
   {
    "duration": 14,
    "start_time": "2022-04-27T17:23:15.524Z"
   },
   {
    "duration": 11,
    "start_time": "2022-04-27T17:23:15.846Z"
   },
   {
    "duration": 10,
    "start_time": "2022-04-27T17:24:54.673Z"
   },
   {
    "duration": 47,
    "start_time": "2022-04-27T17:24:59.065Z"
   },
   {
    "duration": 22,
    "start_time": "2022-04-27T17:24:59.305Z"
   },
   {
    "duration": 4,
    "start_time": "2022-04-27T17:24:59.445Z"
   },
   {
    "duration": 12,
    "start_time": "2022-04-27T17:25:07.820Z"
   },
   {
    "duration": 40,
    "start_time": "2022-04-27T17:29:11.373Z"
   },
   {
    "duration": 32,
    "start_time": "2022-04-27T17:29:50.533Z"
   },
   {
    "duration": 21,
    "start_time": "2022-04-27T17:30:28.992Z"
   },
   {
    "duration": 31,
    "start_time": "2022-04-27T17:30:38.227Z"
   },
   {
    "duration": 39,
    "start_time": "2022-04-27T17:30:54.869Z"
   },
   {
    "duration": 1164,
    "start_time": "2022-04-27T17:32:00.450Z"
   },
   {
    "duration": 1173,
    "start_time": "2022-04-27T17:35:29.330Z"
   },
   {
    "duration": 1476,
    "start_time": "2022-04-27T17:35:36.822Z"
   },
   {
    "duration": 12,
    "start_time": "2022-04-27T17:35:57.685Z"
   },
   {
    "duration": 1025,
    "start_time": "2022-04-27T17:37:08.693Z"
   },
   {
    "duration": 39,
    "start_time": "2022-04-27T17:37:26.473Z"
   },
   {
    "duration": 48,
    "start_time": "2022-04-27T17:37:57.405Z"
   },
   {
    "duration": 111,
    "start_time": "2022-04-27T17:39:49.940Z"
   },
   {
    "duration": 11,
    "start_time": "2022-04-27T17:39:50.360Z"
   },
   {
    "duration": 40,
    "start_time": "2022-04-27T17:40:03.288Z"
   },
   {
    "duration": 9,
    "start_time": "2022-04-27T17:40:03.525Z"
   },
   {
    "duration": 4,
    "start_time": "2022-04-27T17:41:56.074Z"
   },
   {
    "duration": 4,
    "start_time": "2022-04-27T17:42:13.127Z"
   },
   {
    "duration": 4,
    "start_time": "2022-04-27T17:42:39.915Z"
   },
   {
    "duration": 117,
    "start_time": "2022-04-27T17:44:02.096Z"
   },
   {
    "duration": 10,
    "start_time": "2022-04-27T17:44:05.630Z"
   },
   {
    "duration": 9,
    "start_time": "2022-04-27T17:45:38.554Z"
   },
   {
    "duration": 7,
    "start_time": "2022-04-27T17:46:38.556Z"
   },
   {
    "duration": 57,
    "start_time": "2022-04-27T17:47:05.093Z"
   },
   {
    "duration": 43,
    "start_time": "2022-04-27T17:47:43.704Z"
   },
   {
    "duration": 10,
    "start_time": "2022-04-27T17:48:00.684Z"
   },
   {
    "duration": 314,
    "start_time": "2022-04-27T17:48:33.765Z"
   },
   {
    "duration": 275,
    "start_time": "2022-04-27T17:48:39.480Z"
   },
   {
    "duration": 281,
    "start_time": "2022-04-27T17:48:57.019Z"
   },
   {
    "duration": 151,
    "start_time": "2022-04-27T17:49:07.408Z"
   },
   {
    "duration": 13,
    "start_time": "2022-04-27T17:58:21.768Z"
   },
   {
    "duration": 5,
    "start_time": "2022-04-27T17:58:26.008Z"
   },
   {
    "duration": 777,
    "start_time": "2022-04-27T17:58:26.015Z"
   },
   {
    "duration": 33,
    "start_time": "2022-04-27T17:58:26.794Z"
   },
   {
    "duration": 50,
    "start_time": "2022-04-27T17:58:26.829Z"
   },
   {
    "duration": 44,
    "start_time": "2022-04-27T17:58:26.882Z"
   },
   {
    "duration": 12,
    "start_time": "2022-04-27T17:58:26.928Z"
   },
   {
    "duration": 15,
    "start_time": "2022-04-27T17:58:26.943Z"
   },
   {
    "duration": 63,
    "start_time": "2022-04-27T17:58:26.960Z"
   },
   {
    "duration": 78,
    "start_time": "2022-04-27T17:58:27.024Z"
   },
   {
    "duration": 2,
    "start_time": "2022-04-27T17:58:27.105Z"
   },
   {
    "duration": 102,
    "start_time": "2022-04-27T17:58:27.110Z"
   },
   {
    "duration": 34,
    "start_time": "2022-04-27T17:58:27.214Z"
   },
   {
    "duration": 5,
    "start_time": "2022-04-27T17:58:27.250Z"
   },
   {
    "duration": 111,
    "start_time": "2022-04-27T17:58:27.257Z"
   },
   {
    "duration": 4,
    "start_time": "2022-04-27T17:58:27.370Z"
   },
   {
    "duration": 94,
    "start_time": "2022-04-27T17:58:27.376Z"
   },
   {
    "duration": 42,
    "start_time": "2022-04-27T17:58:27.473Z"
   },
   {
    "duration": 123,
    "start_time": "2022-04-27T17:58:27.517Z"
   },
   {
    "duration": 134,
    "start_time": "2022-04-27T17:58:27.642Z"
   },
   {
    "duration": 212,
    "start_time": "2022-04-27T17:58:27.778Z"
   },
   {
    "duration": 15,
    "start_time": "2022-04-27T17:58:27.993Z"
   },
   {
    "duration": 34,
    "start_time": "2022-04-27T17:58:28.011Z"
   },
   {
    "duration": 71,
    "start_time": "2022-04-27T17:58:28.047Z"
   },
   {
    "duration": 4,
    "start_time": "2022-04-27T17:58:28.119Z"
   },
   {
    "duration": 69,
    "start_time": "2022-04-27T17:58:28.125Z"
   },
   {
    "duration": 7,
    "start_time": "2022-04-27T17:58:28.197Z"
   },
   {
    "duration": 20,
    "start_time": "2022-04-27T17:58:28.206Z"
   },
   {
    "duration": 26,
    "start_time": "2022-04-27T17:58:28.228Z"
   },
   {
    "duration": 38,
    "start_time": "2022-04-27T17:58:28.259Z"
   },
   {
    "duration": 37,
    "start_time": "2022-04-27T17:58:28.299Z"
   },
   {
    "duration": 5,
    "start_time": "2022-04-27T17:58:28.338Z"
   },
   {
    "duration": 464,
    "start_time": "2022-04-27T17:58:28.346Z"
   },
   {
    "duration": 0,
    "start_time": "2022-04-27T17:58:28.813Z"
   },
   {
    "duration": 0,
    "start_time": "2022-04-27T17:58:28.814Z"
   },
   {
    "duration": 0,
    "start_time": "2022-04-27T17:58:28.816Z"
   },
   {
    "duration": 0,
    "start_time": "2022-04-27T17:58:28.817Z"
   },
   {
    "duration": 0,
    "start_time": "2022-04-27T17:58:28.819Z"
   },
   {
    "duration": 0,
    "start_time": "2022-04-27T17:58:28.821Z"
   },
   {
    "duration": 0,
    "start_time": "2022-04-27T17:58:28.822Z"
   },
   {
    "duration": 0,
    "start_time": "2022-04-27T17:58:28.823Z"
   },
   {
    "duration": 0,
    "start_time": "2022-04-27T17:58:28.825Z"
   },
   {
    "duration": 0,
    "start_time": "2022-04-27T17:58:28.826Z"
   },
   {
    "duration": 0,
    "start_time": "2022-04-27T17:58:28.827Z"
   },
   {
    "duration": 0,
    "start_time": "2022-04-27T17:58:28.829Z"
   },
   {
    "duration": 0,
    "start_time": "2022-04-27T17:58:28.831Z"
   },
   {
    "duration": 0,
    "start_time": "2022-04-27T17:58:28.832Z"
   },
   {
    "duration": 1,
    "start_time": "2022-04-27T17:58:28.833Z"
   },
   {
    "duration": 0,
    "start_time": "2022-04-27T17:58:28.835Z"
   },
   {
    "duration": 0,
    "start_time": "2022-04-27T17:58:28.836Z"
   },
   {
    "duration": 0,
    "start_time": "2022-04-27T17:58:28.837Z"
   },
   {
    "duration": 0,
    "start_time": "2022-04-27T17:58:28.839Z"
   },
   {
    "duration": 0,
    "start_time": "2022-04-27T17:58:28.840Z"
   },
   {
    "duration": 0,
    "start_time": "2022-04-27T17:58:28.841Z"
   },
   {
    "duration": 0,
    "start_time": "2022-04-27T17:58:28.843Z"
   },
   {
    "duration": 0,
    "start_time": "2022-04-27T17:58:28.844Z"
   },
   {
    "duration": 0,
    "start_time": "2022-04-27T17:58:28.845Z"
   },
   {
    "duration": 0,
    "start_time": "2022-04-27T17:58:28.847Z"
   },
   {
    "duration": 0,
    "start_time": "2022-04-27T17:58:28.848Z"
   },
   {
    "duration": 0,
    "start_time": "2022-04-27T17:58:28.849Z"
   },
   {
    "duration": 0,
    "start_time": "2022-04-27T17:58:28.850Z"
   },
   {
    "duration": 0,
    "start_time": "2022-04-27T17:58:28.852Z"
   },
   {
    "duration": 0,
    "start_time": "2022-04-27T17:58:28.853Z"
   },
   {
    "duration": 0,
    "start_time": "2022-04-27T17:58:28.892Z"
   },
   {
    "duration": 0,
    "start_time": "2022-04-27T17:58:28.893Z"
   },
   {
    "duration": 0,
    "start_time": "2022-04-27T17:58:28.896Z"
   },
   {
    "duration": 0,
    "start_time": "2022-04-27T17:58:28.898Z"
   },
   {
    "duration": 0,
    "start_time": "2022-04-27T17:58:28.901Z"
   },
   {
    "duration": 0,
    "start_time": "2022-04-27T17:58:28.903Z"
   },
   {
    "duration": 0,
    "start_time": "2022-04-27T17:58:28.904Z"
   },
   {
    "duration": 0,
    "start_time": "2022-04-27T17:58:28.906Z"
   },
   {
    "duration": 0,
    "start_time": "2022-04-27T17:58:28.907Z"
   },
   {
    "duration": 0,
    "start_time": "2022-04-27T17:58:28.908Z"
   },
   {
    "duration": 0,
    "start_time": "2022-04-27T17:58:28.911Z"
   },
   {
    "duration": 0,
    "start_time": "2022-04-27T17:58:28.912Z"
   },
   {
    "duration": 0,
    "start_time": "2022-04-27T17:58:28.913Z"
   },
   {
    "duration": 0,
    "start_time": "2022-04-27T17:58:28.915Z"
   },
   {
    "duration": 0,
    "start_time": "2022-04-27T17:58:28.916Z"
   },
   {
    "duration": 0,
    "start_time": "2022-04-27T17:58:28.918Z"
   },
   {
    "duration": 0,
    "start_time": "2022-04-27T17:58:28.919Z"
   },
   {
    "duration": 1669,
    "start_time": "2022-04-27T17:59:16.276Z"
   },
   {
    "duration": 386,
    "start_time": "2022-04-27T17:59:17.948Z"
   },
   {
    "duration": 23,
    "start_time": "2022-04-27T17:59:18.337Z"
   },
   {
    "duration": 50,
    "start_time": "2022-04-27T17:59:18.363Z"
   },
   {
    "duration": 59,
    "start_time": "2022-04-27T17:59:18.415Z"
   },
   {
    "duration": 22,
    "start_time": "2022-04-27T17:59:18.477Z"
   },
   {
    "duration": 12,
    "start_time": "2022-04-27T17:59:18.501Z"
   },
   {
    "duration": 90,
    "start_time": "2022-04-27T17:59:18.515Z"
   },
   {
    "duration": 133,
    "start_time": "2022-04-27T17:59:18.608Z"
   },
   {
    "duration": 3,
    "start_time": "2022-04-27T17:59:18.746Z"
   },
   {
    "duration": 148,
    "start_time": "2022-04-27T17:59:18.751Z"
   },
   {
    "duration": 33,
    "start_time": "2022-04-27T17:59:18.901Z"
   },
   {
    "duration": 5,
    "start_time": "2022-04-27T17:59:18.936Z"
   },
   {
    "duration": 149,
    "start_time": "2022-04-27T17:59:18.943Z"
   },
   {
    "duration": 5,
    "start_time": "2022-04-27T17:59:19.094Z"
   },
   {
    "duration": 107,
    "start_time": "2022-04-27T17:59:19.102Z"
   },
   {
    "duration": 40,
    "start_time": "2022-04-27T17:59:19.211Z"
   },
   {
    "duration": 132,
    "start_time": "2022-04-27T17:59:19.254Z"
   },
   {
    "duration": 263,
    "start_time": "2022-04-27T17:59:19.388Z"
   },
   {
    "duration": 275,
    "start_time": "2022-04-27T17:59:19.653Z"
   },
   {
    "duration": 20,
    "start_time": "2022-04-27T17:59:19.930Z"
   },
   {
    "duration": 41,
    "start_time": "2022-04-27T17:59:19.952Z"
   },
   {
    "duration": 34,
    "start_time": "2022-04-27T17:59:19.995Z"
   },
   {
    "duration": 4,
    "start_time": "2022-04-27T17:59:20.031Z"
   },
   {
    "duration": 75,
    "start_time": "2022-04-27T17:59:20.037Z"
   },
   {
    "duration": 7,
    "start_time": "2022-04-27T17:59:20.114Z"
   },
   {
    "duration": 12,
    "start_time": "2022-04-27T17:59:20.123Z"
   },
   {
    "duration": 27,
    "start_time": "2022-04-27T17:59:20.138Z"
   },
   {
    "duration": 34,
    "start_time": "2022-04-27T17:59:20.166Z"
   },
   {
    "duration": 50,
    "start_time": "2022-04-27T17:59:20.202Z"
   },
   {
    "duration": 5,
    "start_time": "2022-04-27T17:59:20.255Z"
   },
   {
    "duration": 918,
    "start_time": "2022-04-27T17:59:20.263Z"
   },
   {
    "duration": 2011,
    "start_time": "2022-04-27T17:59:49.931Z"
   },
   {
    "duration": 9,
    "start_time": "2022-04-27T18:00:03.521Z"
   },
   {
    "duration": 14,
    "start_time": "2022-04-27T18:00:06.295Z"
   },
   {
    "duration": 14,
    "start_time": "2022-04-27T18:00:06.768Z"
   },
   {
    "duration": 67,
    "start_time": "2022-04-27T18:00:06.989Z"
   },
   {
    "duration": 1648,
    "start_time": "2022-04-27T18:00:07.177Z"
   },
   {
    "duration": 1567,
    "start_time": "2022-04-27T18:00:10.218Z"
   },
   {
    "duration": 22,
    "start_time": "2022-04-27T18:00:11.793Z"
   },
   {
    "duration": 63,
    "start_time": "2022-04-27T18:00:11.817Z"
   },
   {
    "duration": 86,
    "start_time": "2022-04-27T18:00:11.882Z"
   },
   {
    "duration": 24,
    "start_time": "2022-04-27T18:00:11.971Z"
   },
   {
    "duration": 41,
    "start_time": "2022-04-27T18:00:12.262Z"
   },
   {
    "duration": 740,
    "start_time": "2022-04-27T18:00:12.456Z"
   },
   {
    "duration": 55,
    "start_time": "2022-04-27T18:00:13.198Z"
   },
   {
    "duration": 50,
    "start_time": "2022-04-27T18:00:13.254Z"
   },
   {
    "duration": 10,
    "start_time": "2022-04-27T18:00:13.306Z"
   },
   {
    "duration": 18,
    "start_time": "2022-04-27T18:00:13.319Z"
   },
   {
    "duration": 73,
    "start_time": "2022-04-27T18:00:13.339Z"
   },
   {
    "duration": 171,
    "start_time": "2022-04-27T18:00:13.428Z"
   },
   {
    "duration": 5,
    "start_time": "2022-04-27T18:00:13.601Z"
   },
   {
    "duration": 5,
    "start_time": "2022-04-27T18:00:13.766Z"
   },
   {
    "duration": 16,
    "start_time": "2022-04-27T18:00:14.258Z"
   },
   {
    "duration": 36,
    "start_time": "2022-04-27T18:00:14.583Z"
   },
   {
    "duration": 75,
    "start_time": "2022-04-27T18:00:15.098Z"
   },
   {
    "duration": 63,
    "start_time": "2022-04-27T18:00:15.259Z"
   },
   {
    "duration": 5,
    "start_time": "2022-04-27T18:00:15.601Z"
   },
   {
    "duration": 14,
    "start_time": "2022-04-27T18:00:15.783Z"
   },
   {
    "duration": 101,
    "start_time": "2022-04-27T18:00:15.898Z"
   },
   {
    "duration": 2,
    "start_time": "2022-04-27T18:00:16.091Z"
   },
   {
    "duration": 14,
    "start_time": "2022-04-27T18:00:16.570Z"
   },
   {
    "duration": 33,
    "start_time": "2022-04-27T18:00:17.245Z"
   },
   {
    "duration": 12,
    "start_time": "2022-04-27T18:00:17.564Z"
   },
   {
    "duration": 116,
    "start_time": "2022-04-27T18:00:17.782Z"
   },
   {
    "duration": 0,
    "start_time": "2022-04-27T18:00:17.900Z"
   },
   {
    "duration": 116,
    "start_time": "2022-04-27T18:00:18.406Z"
   },
   {
    "duration": 12,
    "start_time": "2022-04-27T18:00:22.509Z"
   },
   {
    "duration": 10,
    "start_time": "2022-04-27T18:00:23.106Z"
   },
   {
    "duration": 185,
    "start_time": "2022-04-27T18:00:24.944Z"
   },
   {
    "duration": 121,
    "start_time": "2022-04-27T18:00:26.177Z"
   },
   {
    "duration": 115,
    "start_time": "2022-04-27T18:00:27.842Z"
   },
   {
    "duration": 12,
    "start_time": "2022-04-27T18:00:28.517Z"
   },
   {
    "duration": 24,
    "start_time": "2022-04-27T18:00:32.655Z"
   },
   {
    "duration": 46,
    "start_time": "2022-04-27T18:02:32.907Z"
   },
   {
    "duration": 42,
    "start_time": "2022-04-27T18:02:40.948Z"
   },
   {
    "duration": 28,
    "start_time": "2022-04-27T18:03:53.061Z"
   },
   {
    "duration": 37,
    "start_time": "2022-04-27T18:04:06.921Z"
   },
   {
    "duration": 38,
    "start_time": "2022-04-27T18:04:16.469Z"
   },
   {
    "duration": 38,
    "start_time": "2022-04-27T18:06:51.430Z"
   },
   {
    "duration": 33,
    "start_time": "2022-04-27T18:08:16.404Z"
   },
   {
    "duration": 25,
    "start_time": "2022-04-27T18:08:27.790Z"
   },
   {
    "duration": 27,
    "start_time": "2022-04-27T18:09:07.172Z"
   },
   {
    "duration": 26,
    "start_time": "2022-04-27T18:10:58.181Z"
   },
   {
    "duration": 16,
    "start_time": "2022-04-27T18:12:01.762Z"
   },
   {
    "duration": 21,
    "start_time": "2022-04-27T18:12:58.292Z"
   },
   {
    "duration": 11,
    "start_time": "2022-04-27T18:13:02.544Z"
   },
   {
    "duration": 7,
    "start_time": "2022-04-27T18:13:18.378Z"
   },
   {
    "duration": 43,
    "start_time": "2022-04-27T18:14:12.362Z"
   },
   {
    "duration": 48,
    "start_time": "2022-04-27T18:14:25.618Z"
   },
   {
    "duration": 47,
    "start_time": "2022-04-27T18:14:37.525Z"
   },
   {
    "duration": 39,
    "start_time": "2022-04-27T18:14:50.272Z"
   },
   {
    "duration": 25,
    "start_time": "2022-04-27T18:14:59.832Z"
   },
   {
    "duration": 20,
    "start_time": "2022-04-27T18:15:58.787Z"
   },
   {
    "duration": 22,
    "start_time": "2022-04-27T18:16:03.583Z"
   },
   {
    "duration": 9,
    "start_time": "2022-04-27T18:16:08.647Z"
   },
   {
    "duration": 17,
    "start_time": "2022-04-27T18:18:06.314Z"
   },
   {
    "duration": 14,
    "start_time": "2022-04-27T18:18:33.563Z"
   },
   {
    "duration": 9,
    "start_time": "2022-04-27T18:23:00.401Z"
   },
   {
    "duration": 8,
    "start_time": "2022-04-27T18:23:22.050Z"
   },
   {
    "duration": 10,
    "start_time": "2022-04-27T18:23:43.126Z"
   },
   {
    "duration": 114,
    "start_time": "2022-04-27T18:24:54.641Z"
   },
   {
    "duration": 44,
    "start_time": "2022-04-27T18:25:05.781Z"
   },
   {
    "duration": 32,
    "start_time": "2022-04-27T18:25:09.205Z"
   },
   {
    "duration": 45,
    "start_time": "2022-04-27T18:27:16.998Z"
   },
   {
    "duration": 2848,
    "start_time": "2022-04-27T18:28:47.044Z"
   },
   {
    "duration": 1322,
    "start_time": "2022-04-27T18:34:36.937Z"
   },
   {
    "duration": 51,
    "start_time": "2022-04-27T18:34:57.437Z"
   },
   {
    "duration": 45,
    "start_time": "2022-04-27T18:35:34.624Z"
   },
   {
    "duration": 62,
    "start_time": "2022-04-27T18:35:40.069Z"
   },
   {
    "duration": 47,
    "start_time": "2022-04-27T18:35:58.072Z"
   },
   {
    "duration": 46,
    "start_time": "2022-04-27T18:36:13.309Z"
   },
   {
    "duration": 45,
    "start_time": "2022-04-27T18:36:24.585Z"
   },
   {
    "duration": 46,
    "start_time": "2022-04-27T18:36:45.217Z"
   },
   {
    "duration": 45,
    "start_time": "2022-04-27T18:37:09.651Z"
   },
   {
    "duration": 47,
    "start_time": "2022-04-27T18:37:34.511Z"
   },
   {
    "duration": 51,
    "start_time": "2022-04-27T18:38:05.715Z"
   },
   {
    "duration": 43,
    "start_time": "2022-04-27T18:38:52.618Z"
   },
   {
    "duration": 41,
    "start_time": "2022-04-27T18:40:06.357Z"
   },
   {
    "duration": 35,
    "start_time": "2022-04-27T18:40:49.014Z"
   },
   {
    "duration": 42,
    "start_time": "2022-04-27T18:40:51.456Z"
   },
   {
    "duration": 43,
    "start_time": "2022-04-27T18:41:13.410Z"
   },
   {
    "duration": 1947,
    "start_time": "2022-04-27T18:41:49.933Z"
   },
   {
    "duration": 1883,
    "start_time": "2022-04-27T18:41:54.741Z"
   },
   {
    "duration": 44,
    "start_time": "2022-04-27T18:42:01.966Z"
   },
   {
    "duration": 45,
    "start_time": "2022-04-27T18:42:17.699Z"
   },
   {
    "duration": 43,
    "start_time": "2022-04-27T18:42:46.221Z"
   },
   {
    "duration": 42,
    "start_time": "2022-04-27T18:47:35.123Z"
   },
   {
    "duration": 38,
    "start_time": "2022-04-27T18:49:09.262Z"
   },
   {
    "duration": 49,
    "start_time": "2022-04-27T18:49:12.396Z"
   },
   {
    "duration": 46,
    "start_time": "2022-04-27T18:52:27.341Z"
   },
   {
    "duration": 44,
    "start_time": "2022-04-27T18:53:10.578Z"
   },
   {
    "duration": 48,
    "start_time": "2022-04-27T18:58:46.821Z"
   },
   {
    "duration": 47,
    "start_time": "2022-04-27T19:00:02.003Z"
   },
   {
    "duration": 612,
    "start_time": "2022-04-27T19:00:37.812Z"
   },
   {
    "duration": 274,
    "start_time": "2022-04-27T19:00:45.651Z"
   },
   {
    "duration": 110,
    "start_time": "2022-04-27T19:02:19.745Z"
   },
   {
    "duration": 49,
    "start_time": "2022-04-27T19:02:22.861Z"
   },
   {
    "duration": 1512,
    "start_time": "2022-04-28T07:36:14.371Z"
   },
   {
    "duration": 338,
    "start_time": "2022-04-28T07:36:15.885Z"
   },
   {
    "duration": 20,
    "start_time": "2022-04-28T07:36:16.225Z"
   },
   {
    "duration": 34,
    "start_time": "2022-04-28T07:36:16.247Z"
   },
   {
    "duration": 60,
    "start_time": "2022-04-28T07:36:16.292Z"
   },
   {
    "duration": 14,
    "start_time": "2022-04-28T07:36:16.354Z"
   },
   {
    "duration": 29,
    "start_time": "2022-04-28T07:36:16.371Z"
   },
   {
    "duration": 42,
    "start_time": "2022-04-28T07:36:16.403Z"
   },
   {
    "duration": 87,
    "start_time": "2022-04-28T07:36:16.446Z"
   },
   {
    "duration": 2,
    "start_time": "2022-04-28T07:36:16.536Z"
   },
   {
    "duration": 80,
    "start_time": "2022-04-28T07:36:16.539Z"
   },
   {
    "duration": 19,
    "start_time": "2022-04-28T07:36:16.621Z"
   },
   {
    "duration": 4,
    "start_time": "2022-04-28T07:36:16.643Z"
   },
   {
    "duration": 91,
    "start_time": "2022-04-28T07:36:16.649Z"
   },
   {
    "duration": 5,
    "start_time": "2022-04-28T07:36:16.742Z"
   },
   {
    "duration": 71,
    "start_time": "2022-04-28T07:36:16.749Z"
   },
   {
    "duration": 28,
    "start_time": "2022-04-28T07:36:16.823Z"
   },
   {
    "duration": 88,
    "start_time": "2022-04-28T07:36:16.852Z"
   },
   {
    "duration": 101,
    "start_time": "2022-04-28T07:36:16.941Z"
   },
   {
    "duration": 173,
    "start_time": "2022-04-28T07:36:17.043Z"
   },
   {
    "duration": 13,
    "start_time": "2022-04-28T07:36:17.218Z"
   },
   {
    "duration": 23,
    "start_time": "2022-04-28T07:36:17.233Z"
   },
   {
    "duration": 128,
    "start_time": "2022-04-28T07:36:17.257Z"
   },
   {
    "duration": 34,
    "start_time": "2022-04-28T07:36:35.908Z"
   },
   {
    "duration": 1101,
    "start_time": "2022-04-28T07:44:33.308Z"
   },
   {
    "duration": 247,
    "start_time": "2022-04-28T07:44:34.411Z"
   },
   {
    "duration": 21,
    "start_time": "2022-04-28T07:44:34.660Z"
   },
   {
    "duration": 33,
    "start_time": "2022-04-28T07:44:34.692Z"
   },
   {
    "duration": 39,
    "start_time": "2022-04-28T07:44:34.727Z"
   },
   {
    "duration": 8,
    "start_time": "2022-04-28T07:44:34.768Z"
   },
   {
    "duration": 9,
    "start_time": "2022-04-28T07:44:34.792Z"
   },
   {
    "duration": 43,
    "start_time": "2022-04-28T07:44:34.802Z"
   },
   {
    "duration": 77,
    "start_time": "2022-04-28T07:44:34.847Z"
   },
   {
    "duration": 2,
    "start_time": "2022-04-28T07:44:34.927Z"
   },
   {
    "duration": 82,
    "start_time": "2022-04-28T07:44:34.930Z"
   },
   {
    "duration": 17,
    "start_time": "2022-04-28T07:44:35.014Z"
   },
   {
    "duration": 6,
    "start_time": "2022-04-28T07:44:35.033Z"
   },
   {
    "duration": 84,
    "start_time": "2022-04-28T07:44:35.041Z"
   },
   {
    "duration": 4,
    "start_time": "2022-04-28T07:44:35.126Z"
   },
   {
    "duration": 61,
    "start_time": "2022-04-28T07:44:35.132Z"
   },
   {
    "duration": 23,
    "start_time": "2022-04-28T07:44:35.195Z"
   },
   {
    "duration": 55,
    "start_time": "2022-04-28T07:44:35.221Z"
   },
   {
    "duration": 91,
    "start_time": "2022-04-28T07:44:35.278Z"
   },
   {
    "duration": 169,
    "start_time": "2022-04-28T07:44:35.371Z"
   },
   {
    "duration": 12,
    "start_time": "2022-04-28T07:44:35.542Z"
   },
   {
    "duration": 26,
    "start_time": "2022-04-28T07:44:35.555Z"
   },
   {
    "duration": 1251,
    "start_time": "2022-04-28T07:46:49.372Z"
   },
   {
    "duration": 254,
    "start_time": "2022-04-28T07:46:50.626Z"
   },
   {
    "duration": 22,
    "start_time": "2022-04-28T07:46:50.882Z"
   },
   {
    "duration": 47,
    "start_time": "2022-04-28T07:46:50.906Z"
   },
   {
    "duration": 62,
    "start_time": "2022-04-28T07:46:50.955Z"
   },
   {
    "duration": 12,
    "start_time": "2022-04-28T07:46:51.019Z"
   },
   {
    "duration": 18,
    "start_time": "2022-04-28T07:46:51.032Z"
   },
   {
    "duration": 64,
    "start_time": "2022-04-28T07:46:51.052Z"
   },
   {
    "duration": 109,
    "start_time": "2022-04-28T07:46:51.118Z"
   },
   {
    "duration": 2,
    "start_time": "2022-04-28T07:46:51.230Z"
   },
   {
    "duration": 83,
    "start_time": "2022-04-28T07:46:51.235Z"
   },
   {
    "duration": 20,
    "start_time": "2022-04-28T07:46:51.320Z"
   },
   {
    "duration": 10,
    "start_time": "2022-04-28T07:46:51.342Z"
   },
   {
    "duration": 103,
    "start_time": "2022-04-28T07:46:51.354Z"
   },
   {
    "duration": 5,
    "start_time": "2022-04-28T07:46:51.459Z"
   },
   {
    "duration": 70,
    "start_time": "2022-04-28T07:46:51.466Z"
   },
   {
    "duration": 32,
    "start_time": "2022-04-28T07:46:51.538Z"
   },
   {
    "duration": 101,
    "start_time": "2022-04-28T07:46:51.571Z"
   },
   {
    "duration": 111,
    "start_time": "2022-04-28T07:46:51.675Z"
   },
   {
    "duration": 175,
    "start_time": "2022-04-28T07:46:51.788Z"
   },
   {
    "duration": 12,
    "start_time": "2022-04-28T07:46:51.965Z"
   },
   {
    "duration": 31,
    "start_time": "2022-04-28T07:46:51.978Z"
   },
   {
    "duration": 523,
    "start_time": "2022-04-28T07:46:52.011Z"
   },
   {
    "duration": 213,
    "start_time": "2022-04-28T07:47:22.636Z"
   },
   {
    "duration": 326,
    "start_time": "2022-04-28T07:47:36.255Z"
   },
   {
    "duration": 223,
    "start_time": "2022-04-28T07:47:43.002Z"
   },
   {
    "duration": 224,
    "start_time": "2022-04-28T07:48:14.015Z"
   },
   {
    "duration": 215,
    "start_time": "2022-04-28T07:49:39.737Z"
   },
   {
    "duration": 2,
    "start_time": "2022-04-28T07:52:19.932Z"
   },
   {
    "duration": 230,
    "start_time": "2022-04-28T07:56:33.831Z"
   },
   {
    "duration": 4,
    "start_time": "2022-04-28T08:02:45.143Z"
   },
   {
    "duration": 107,
    "start_time": "2022-04-28T08:03:13.795Z"
   },
   {
    "duration": 1212,
    "start_time": "2022-04-28T08:03:19.162Z"
   },
   {
    "duration": 242,
    "start_time": "2022-04-28T08:03:20.375Z"
   },
   {
    "duration": 21,
    "start_time": "2022-04-28T08:03:20.618Z"
   },
   {
    "duration": 37,
    "start_time": "2022-04-28T08:03:20.641Z"
   },
   {
    "duration": 50,
    "start_time": "2022-04-28T08:03:20.680Z"
   },
   {
    "duration": 9,
    "start_time": "2022-04-28T08:03:20.731Z"
   },
   {
    "duration": 15,
    "start_time": "2022-04-28T08:03:20.741Z"
   },
   {
    "duration": 58,
    "start_time": "2022-04-28T08:03:20.758Z"
   },
   {
    "duration": 77,
    "start_time": "2022-04-28T08:03:20.818Z"
   },
   {
    "duration": 2,
    "start_time": "2022-04-28T08:03:20.898Z"
   },
   {
    "duration": 74,
    "start_time": "2022-04-28T08:03:20.902Z"
   },
   {
    "duration": 26,
    "start_time": "2022-04-28T08:03:20.978Z"
   },
   {
    "duration": 5,
    "start_time": "2022-04-28T08:03:21.006Z"
   },
   {
    "duration": 90,
    "start_time": "2022-04-28T08:03:21.013Z"
   },
   {
    "duration": 4,
    "start_time": "2022-04-28T08:03:21.105Z"
   },
   {
    "duration": 55,
    "start_time": "2022-04-28T08:03:21.111Z"
   },
   {
    "duration": 42,
    "start_time": "2022-04-28T08:03:21.168Z"
   },
   {
    "duration": 59,
    "start_time": "2022-04-28T08:03:21.212Z"
   },
   {
    "duration": 92,
    "start_time": "2022-04-28T08:03:21.273Z"
   },
   {
    "duration": 167,
    "start_time": "2022-04-28T08:03:21.367Z"
   },
   {
    "duration": 14,
    "start_time": "2022-04-28T08:03:21.535Z"
   },
   {
    "duration": 39,
    "start_time": "2022-04-28T08:03:21.551Z"
   },
   {
    "duration": 248,
    "start_time": "2022-04-28T08:03:21.592Z"
   },
   {
    "duration": 2,
    "start_time": "2022-04-28T08:03:21.842Z"
   },
   {
    "duration": 29,
    "start_time": "2022-04-28T08:03:21.846Z"
   },
   {
    "duration": 3,
    "start_time": "2022-04-28T08:03:21.877Z"
   },
   {
    "duration": 30,
    "start_time": "2022-04-28T08:03:21.893Z"
   },
   {
    "duration": 5,
    "start_time": "2022-04-28T08:03:21.926Z"
   },
   {
    "duration": 12,
    "start_time": "2022-04-28T08:03:21.933Z"
   },
   {
    "duration": 47,
    "start_time": "2022-04-28T08:03:21.947Z"
   },
   {
    "duration": 8,
    "start_time": "2022-04-28T08:03:21.996Z"
   },
   {
    "duration": 46,
    "start_time": "2022-04-28T08:03:22.006Z"
   },
   {
    "duration": 5,
    "start_time": "2022-04-28T08:03:22.054Z"
   },
   {
    "duration": 36,
    "start_time": "2022-04-28T08:03:22.061Z"
   },
   {
    "duration": 9,
    "start_time": "2022-04-28T08:03:36.902Z"
   },
   {
    "duration": 99,
    "start_time": "2022-04-28T08:06:36.187Z"
   },
   {
    "duration": 40,
    "start_time": "2022-04-28T08:06:42.465Z"
   },
   {
    "duration": 1001,
    "start_time": "2022-04-28T08:06:42.632Z"
   },
   {
    "duration": 947,
    "start_time": "2022-04-28T08:11:49.001Z"
   },
   {
    "duration": 1002,
    "start_time": "2022-04-28T08:12:21.876Z"
   },
   {
    "duration": 39,
    "start_time": "2022-04-28T08:22:16.594Z"
   },
   {
    "duration": 154,
    "start_time": "2022-04-28T08:22:21.681Z"
   },
   {
    "duration": 66,
    "start_time": "2022-04-28T08:23:07.084Z"
   },
   {
    "duration": 73,
    "start_time": "2022-04-28T08:23:13.717Z"
   },
   {
    "duration": 75,
    "start_time": "2022-04-28T08:30:23.919Z"
   },
   {
    "duration": 12,
    "start_time": "2022-04-28T08:33:49.207Z"
   },
   {
    "duration": 7,
    "start_time": "2022-04-28T08:33:55.105Z"
   },
   {
    "duration": 5,
    "start_time": "2022-04-28T08:35:27.257Z"
   },
   {
    "duration": 8,
    "start_time": "2022-04-28T08:36:35.650Z"
   },
   {
    "duration": 12,
    "start_time": "2022-04-28T08:36:36.513Z"
   },
   {
    "duration": 28,
    "start_time": "2022-04-28T08:36:44.080Z"
   },
   {
    "duration": 37,
    "start_time": "2022-04-28T08:36:48.822Z"
   },
   {
    "duration": 15,
    "start_time": "2022-04-28T08:38:30.113Z"
   },
   {
    "duration": 37,
    "start_time": "2022-04-28T08:38:30.603Z"
   },
   {
    "duration": 38,
    "start_time": "2022-04-28T08:39:20.088Z"
   },
   {
    "duration": 41,
    "start_time": "2022-04-28T08:39:51.318Z"
   },
   {
    "duration": 40,
    "start_time": "2022-04-28T08:39:54.000Z"
   },
   {
    "duration": 17,
    "start_time": "2022-04-28T08:40:52.891Z"
   },
   {
    "duration": 1068,
    "start_time": "2022-04-28T08:41:38.208Z"
   },
   {
    "duration": 38,
    "start_time": "2022-04-28T08:54:18.221Z"
   },
   {
    "duration": 1096,
    "start_time": "2022-04-28T08:54:30.721Z"
   },
   {
    "duration": 1017,
    "start_time": "2022-04-28T08:54:48.221Z"
   },
   {
    "duration": 25,
    "start_time": "2022-04-28T08:55:25.355Z"
   },
   {
    "duration": 41,
    "start_time": "2022-04-28T08:55:26.879Z"
   },
   {
    "duration": 411,
    "start_time": "2022-04-28T08:55:27.903Z"
   },
   {
    "duration": 434,
    "start_time": "2022-04-28T08:55:33.490Z"
   },
   {
    "duration": 1130,
    "start_time": "2022-04-28T08:55:39.426Z"
   },
   {
    "duration": 422,
    "start_time": "2022-04-28T08:55:50.390Z"
   },
   {
    "duration": 24,
    "start_time": "2022-04-28T08:56:28.754Z"
   },
   {
    "duration": 43,
    "start_time": "2022-04-28T08:56:31.385Z"
   },
   {
    "duration": 1136,
    "start_time": "2022-04-28T08:56:31.561Z"
   },
   {
    "duration": 18,
    "start_time": "2022-04-28T09:07:39.325Z"
   },
   {
    "duration": 43,
    "start_time": "2022-04-28T09:10:24.236Z"
   },
   {
    "duration": 38,
    "start_time": "2022-04-28T09:11:03.582Z"
   },
   {
    "duration": 30,
    "start_time": "2022-04-28T09:13:40.316Z"
   },
   {
    "duration": 27,
    "start_time": "2022-04-28T09:13:40.511Z"
   },
   {
    "duration": 966,
    "start_time": "2022-04-28T09:13:42.340Z"
   },
   {
    "duration": 22,
    "start_time": "2022-04-28T09:15:25.469Z"
   },
   {
    "duration": 21,
    "start_time": "2022-04-28T09:15:41.134Z"
   },
   {
    "duration": 930,
    "start_time": "2022-04-28T09:18:09.717Z"
   },
   {
    "duration": 979,
    "start_time": "2022-04-28T09:22:32.741Z"
   },
   {
    "duration": 533,
    "start_time": "2022-04-28T09:28:16.241Z"
   },
   {
    "duration": 1601,
    "start_time": "2022-04-28T09:28:50.943Z"
   },
   {
    "duration": 14,
    "start_time": "2022-04-28T09:29:06.049Z"
   },
   {
    "duration": 1385,
    "start_time": "2022-04-28T09:29:08.851Z"
   },
   {
    "duration": 1553,
    "start_time": "2022-04-28T09:29:20.017Z"
   },
   {
    "duration": 11,
    "start_time": "2022-04-28T09:48:13.735Z"
   },
   {
    "duration": 9,
    "start_time": "2022-04-28T09:48:22.187Z"
   },
   {
    "duration": 13,
    "start_time": "2022-04-28T09:49:27.209Z"
   },
   {
    "duration": 6,
    "start_time": "2022-04-28T09:50:22.206Z"
   },
   {
    "duration": 6,
    "start_time": "2022-04-28T09:50:31.249Z"
   },
   {
    "duration": 10,
    "start_time": "2022-04-28T09:52:00.747Z"
   },
   {
    "duration": 9,
    "start_time": "2022-04-28T09:52:46.153Z"
   },
   {
    "duration": 120,
    "start_time": "2022-04-28T09:53:18.663Z"
   },
   {
    "duration": 11,
    "start_time": "2022-04-28T09:53:27.700Z"
   },
   {
    "duration": 130,
    "start_time": "2022-04-28T09:54:59.197Z"
   },
   {
    "duration": 112,
    "start_time": "2022-04-28T09:55:19.454Z"
   },
   {
    "duration": 10,
    "start_time": "2022-04-28T09:58:11.268Z"
   },
   {
    "duration": 10,
    "start_time": "2022-04-28T09:59:31.387Z"
   },
   {
    "duration": 10,
    "start_time": "2022-04-28T10:00:15.512Z"
   },
   {
    "duration": 10,
    "start_time": "2022-04-28T10:00:32.824Z"
   },
   {
    "duration": 1003,
    "start_time": "2022-04-28T10:01:40.900Z"
   },
   {
    "duration": 37,
    "start_time": "2022-04-28T10:02:35.105Z"
   },
   {
    "duration": 42,
    "start_time": "2022-04-28T10:04:15.039Z"
   },
   {
    "duration": 275,
    "start_time": "2022-04-28T10:05:27.779Z"
   },
   {
    "duration": 444,
    "start_time": "2022-04-28T10:05:41.757Z"
   },
   {
    "duration": 162,
    "start_time": "2022-04-28T10:06:19.432Z"
   },
   {
    "duration": 40,
    "start_time": "2022-04-28T10:06:28.605Z"
   },
   {
    "duration": 167,
    "start_time": "2022-04-28T10:06:33.195Z"
   },
   {
    "duration": 242,
    "start_time": "2022-04-28T10:06:48.571Z"
   },
   {
    "duration": 266,
    "start_time": "2022-04-28T10:07:25.135Z"
   },
   {
    "duration": 40,
    "start_time": "2022-04-28T10:08:02.458Z"
   },
   {
    "duration": 176,
    "start_time": "2022-04-28T10:08:28.721Z"
   },
   {
    "duration": 46,
    "start_time": "2022-04-28T10:08:43.730Z"
   },
   {
    "duration": 41,
    "start_time": "2022-04-28T10:08:48.015Z"
   },
   {
    "duration": 39,
    "start_time": "2022-04-28T10:09:00.280Z"
   },
   {
    "duration": 41,
    "start_time": "2022-04-28T10:24:53.467Z"
   },
   {
    "duration": 43,
    "start_time": "2022-04-28T10:24:58.460Z"
   },
   {
    "duration": 41,
    "start_time": "2022-04-28T10:25:08.857Z"
   },
   {
    "duration": 23,
    "start_time": "2022-04-28T10:25:39.108Z"
   },
   {
    "duration": 45,
    "start_time": "2022-04-28T10:26:06.052Z"
   },
   {
    "duration": 18,
    "start_time": "2022-04-28T10:26:06.978Z"
   },
   {
    "duration": 5,
    "start_time": "2022-04-28T10:26:06.998Z"
   },
   {
    "duration": 11,
    "start_time": "2022-04-28T10:26:10.248Z"
   },
   {
    "duration": 7,
    "start_time": "2022-04-28T10:26:38.949Z"
   },
   {
    "duration": 6,
    "start_time": "2022-04-28T10:26:53.353Z"
   },
   {
    "duration": 40,
    "start_time": "2022-04-28T10:27:32.285Z"
   },
   {
    "duration": 41,
    "start_time": "2022-04-28T10:27:36.554Z"
   },
   {
    "duration": 41,
    "start_time": "2022-04-28T10:27:45.467Z"
   },
   {
    "duration": 2,
    "start_time": "2022-04-28T10:44:31.014Z"
   },
   {
    "duration": 2,
    "start_time": "2022-04-28T10:44:31.696Z"
   },
   {
    "duration": 2,
    "start_time": "2022-04-28T10:44:32.479Z"
   },
   {
    "duration": 2,
    "start_time": "2022-04-28T10:44:48.373Z"
   },
   {
    "duration": 138,
    "start_time": "2022-04-28T10:46:26.276Z"
   },
   {
    "duration": 2,
    "start_time": "2022-04-28T10:46:40.358Z"
   },
   {
    "duration": 122,
    "start_time": "2022-04-28T10:47:35.607Z"
   },
   {
    "duration": 32,
    "start_time": "2022-04-28T10:47:50.009Z"
   },
   {
    "duration": 69,
    "start_time": "2022-04-28T10:49:08.414Z"
   },
   {
    "duration": 16,
    "start_time": "2022-04-28T10:50:02.403Z"
   },
   {
    "duration": 38,
    "start_time": "2022-04-28T10:50:09.934Z"
   },
   {
    "duration": 29,
    "start_time": "2022-04-28T10:50:33.088Z"
   },
   {
    "duration": 239,
    "start_time": "2022-04-28T10:50:37.177Z"
   },
   {
    "duration": 559,
    "start_time": "2022-04-28T10:50:41.194Z"
   },
   {
    "duration": 30,
    "start_time": "2022-04-28T10:52:31.624Z"
   },
   {
    "duration": 42,
    "start_time": "2022-04-28T10:52:36.807Z"
   },
   {
    "duration": 41,
    "start_time": "2022-04-28T10:53:05.386Z"
   },
   {
    "duration": 37,
    "start_time": "2022-04-28T10:53:29.849Z"
   },
   {
    "duration": 38,
    "start_time": "2022-04-28T10:53:43.459Z"
   },
   {
    "duration": 27,
    "start_time": "2022-04-28T10:54:02.726Z"
   },
   {
    "duration": 21,
    "start_time": "2022-04-28T10:54:39.495Z"
   },
   {
    "duration": 116,
    "start_time": "2022-04-28T10:55:36.778Z"
   },
   {
    "duration": 511,
    "start_time": "2022-04-28T10:55:55.029Z"
   },
   {
    "duration": 285,
    "start_time": "2022-04-28T10:56:08.172Z"
   },
   {
    "duration": 348,
    "start_time": "2022-04-28T10:58:05.563Z"
   },
   {
    "duration": 246,
    "start_time": "2022-04-28T10:58:27.124Z"
   },
   {
    "duration": 551,
    "start_time": "2022-04-28T10:59:12.506Z"
   },
   {
    "duration": 658,
    "start_time": "2022-04-28T10:59:19.402Z"
   },
   {
    "duration": 503,
    "start_time": "2022-04-28T10:59:30.341Z"
   },
   {
    "duration": 12,
    "start_time": "2022-04-28T11:01:41.528Z"
   },
   {
    "duration": 22,
    "start_time": "2022-04-28T11:01:50.842Z"
   },
   {
    "duration": 24,
    "start_time": "2022-04-28T11:02:09.549Z"
   },
   {
    "duration": 459,
    "start_time": "2022-04-28T11:03:26.875Z"
   },
   {
    "duration": 121,
    "start_time": "2022-04-28T11:03:34.219Z"
   },
   {
    "duration": 396,
    "start_time": "2022-04-28T11:04:03.853Z"
   },
   {
    "duration": 441,
    "start_time": "2022-04-28T11:06:16.814Z"
   },
   {
    "duration": 19,
    "start_time": "2022-04-28T11:07:58.232Z"
   },
   {
    "duration": 37,
    "start_time": "2022-04-28T11:08:36.837Z"
   },
   {
    "duration": 34,
    "start_time": "2022-04-28T11:09:02.011Z"
   },
   {
    "duration": 470,
    "start_time": "2022-04-28T11:09:05.252Z"
   },
   {
    "duration": 35,
    "start_time": "2022-04-28T11:09:28.202Z"
   },
   {
    "duration": 496,
    "start_time": "2022-04-28T11:09:28.386Z"
   },
   {
    "duration": 401,
    "start_time": "2022-04-28T11:09:28.892Z"
   },
   {
    "duration": 203,
    "start_time": "2022-04-28T11:09:29.295Z"
   },
   {
    "duration": 15,
    "start_time": "2022-04-28T11:10:00.263Z"
   },
   {
    "duration": 22,
    "start_time": "2022-04-28T11:10:02.721Z"
   },
   {
    "duration": 137,
    "start_time": "2022-04-28T11:10:50.140Z"
   },
   {
    "duration": 217,
    "start_time": "2022-04-28T11:11:05.342Z"
   },
   {
    "duration": 114,
    "start_time": "2022-04-28T11:11:14.995Z"
   },
   {
    "duration": 250,
    "start_time": "2022-04-28T11:11:24.721Z"
   },
   {
    "duration": 275,
    "start_time": "2022-04-28T11:11:55.809Z"
   },
   {
    "duration": 6,
    "start_time": "2022-04-28T11:13:22.223Z"
   },
   {
    "duration": 17,
    "start_time": "2022-04-28T11:14:11.158Z"
   },
   {
    "duration": 1765,
    "start_time": "2022-04-28T11:14:15.827Z"
   },
   {
    "duration": 1761,
    "start_time": "2022-04-28T11:14:34.842Z"
   },
   {
    "duration": 25,
    "start_time": "2022-04-28T11:14:50.393Z"
   },
   {
    "duration": 2298,
    "start_time": "2022-04-28T11:15:00.408Z"
   },
   {
    "duration": 3,
    "start_time": "2022-04-28T11:15:20.294Z"
   },
   {
    "duration": 1807,
    "start_time": "2022-04-28T11:15:29.641Z"
   },
   {
    "duration": 22,
    "start_time": "2022-04-28T11:15:40.451Z"
   },
   {
    "duration": 7,
    "start_time": "2022-04-28T11:16:29.647Z"
   },
   {
    "duration": 8,
    "start_time": "2022-04-28T11:17:08.158Z"
   },
   {
    "duration": 1921,
    "start_time": "2022-04-28T11:17:11.453Z"
   },
   {
    "duration": 14,
    "start_time": "2022-04-28T11:17:43.803Z"
   },
   {
    "duration": 503,
    "start_time": "2022-04-28T11:17:44.037Z"
   },
   {
    "duration": 2,
    "start_time": "2022-04-28T11:17:45.762Z"
   },
   {
    "duration": 6,
    "start_time": "2022-04-28T11:18:02.404Z"
   },
   {
    "duration": 12,
    "start_time": "2022-04-28T11:18:04.471Z"
   },
   {
    "duration": 312,
    "start_time": "2022-04-28T11:18:36.274Z"
   },
   {
    "duration": 425,
    "start_time": "2022-04-28T11:18:48.220Z"
   },
   {
    "duration": 175,
    "start_time": "2022-04-28T11:20:00.106Z"
   },
   {
    "duration": 200,
    "start_time": "2022-04-28T11:20:11.370Z"
   },
   {
    "duration": 165,
    "start_time": "2022-04-28T11:20:16.377Z"
   },
   {
    "duration": 188,
    "start_time": "2022-04-28T11:23:21.362Z"
   },
   {
    "duration": 158,
    "start_time": "2022-04-28T11:23:29.249Z"
   },
   {
    "duration": 18,
    "start_time": "2022-04-28T11:24:13.577Z"
   },
   {
    "duration": 665,
    "start_time": "2022-04-28T11:24:13.756Z"
   },
   {
    "duration": 7,
    "start_time": "2022-04-28T11:24:14.423Z"
   },
   {
    "duration": 13,
    "start_time": "2022-04-28T11:24:14.467Z"
   },
   {
    "duration": 189,
    "start_time": "2022-04-28T11:24:15.693Z"
   },
   {
    "duration": 297,
    "start_time": "2022-04-28T11:24:22.829Z"
   },
   {
    "duration": 185,
    "start_time": "2022-04-28T11:25:03.998Z"
   },
   {
    "duration": 171,
    "start_time": "2022-04-28T11:25:14.501Z"
   },
   {
    "duration": 524,
    "start_time": "2022-04-28T11:27:25.317Z"
   },
   {
    "duration": 2369,
    "start_time": "2022-04-28T11:27:53.342Z"
   },
   {
    "duration": 2778,
    "start_time": "2022-04-28T11:28:02.361Z"
   },
   {
    "duration": 557,
    "start_time": "2022-04-28T11:28:13.972Z"
   },
   {
    "duration": 6,
    "start_time": "2022-04-28T11:30:07.699Z"
   },
   {
    "duration": 17,
    "start_time": "2022-04-28T11:42:51.336Z"
   },
   {
    "duration": 5103,
    "start_time": "2022-04-28T11:43:36.463Z"
   },
   {
    "duration": 3745,
    "start_time": "2022-04-28T11:43:56.558Z"
   },
   {
    "duration": 14,
    "start_time": "2022-04-28T11:48:29.259Z"
   },
   {
    "duration": 6,
    "start_time": "2022-04-28T11:48:55.921Z"
   },
   {
    "duration": 77,
    "start_time": "2022-04-28T11:48:59.769Z"
   },
   {
    "duration": 7,
    "start_time": "2022-04-28T11:49:05.764Z"
   },
   {
    "duration": 8,
    "start_time": "2022-04-28T11:57:22.650Z"
   },
   {
    "duration": 20,
    "start_time": "2022-04-28T11:57:27.508Z"
   },
   {
    "duration": 19,
    "start_time": "2022-04-28T11:57:27.682Z"
   },
   {
    "duration": 10,
    "start_time": "2022-04-28T11:57:27.887Z"
   },
   {
    "duration": 8,
    "start_time": "2022-04-28T11:59:16.420Z"
   },
   {
    "duration": 9,
    "start_time": "2022-04-28T12:02:53.003Z"
   },
   {
    "duration": 49,
    "start_time": "2022-04-28T12:13:16.959Z"
   },
   {
    "duration": 2060,
    "start_time": "2022-04-28T12:15:15.555Z"
   },
   {
    "duration": 39,
    "start_time": "2022-04-28T12:15:25.925Z"
   },
   {
    "duration": 11,
    "start_time": "2022-04-28T12:18:19.329Z"
   },
   {
    "duration": 37,
    "start_time": "2022-04-28T12:19:40.736Z"
   },
   {
    "duration": 13,
    "start_time": "2022-04-28T12:19:41.018Z"
   },
   {
    "duration": 48,
    "start_time": "2022-04-28T12:21:54.192Z"
   },
   {
    "duration": 52,
    "start_time": "2022-04-28T12:21:57.936Z"
   },
   {
    "duration": 12,
    "start_time": "2022-04-28T12:21:58.587Z"
   },
   {
    "duration": 38,
    "start_time": "2022-04-28T12:22:42.379Z"
   },
   {
    "duration": 39,
    "start_time": "2022-04-28T12:23:18.970Z"
   },
   {
    "duration": 10,
    "start_time": "2022-04-28T12:23:21.838Z"
   },
   {
    "duration": 10,
    "start_time": "2022-04-28T12:25:08.541Z"
   },
   {
    "duration": 8,
    "start_time": "2022-04-28T12:25:31.241Z"
   },
   {
    "duration": 8,
    "start_time": "2022-04-28T12:26:09.220Z"
   },
   {
    "duration": 8,
    "start_time": "2022-04-28T12:26:13.912Z"
   },
   {
    "duration": 7,
    "start_time": "2022-04-28T12:27:09.181Z"
   },
   {
    "duration": 7,
    "start_time": "2022-04-28T12:29:44.385Z"
   },
   {
    "duration": 38,
    "start_time": "2022-04-28T12:31:08.938Z"
   },
   {
    "duration": 13,
    "start_time": "2022-04-28T12:31:09.311Z"
   },
   {
    "duration": 36,
    "start_time": "2022-04-28T12:31:25.011Z"
   },
   {
    "duration": 11,
    "start_time": "2022-04-28T12:31:26.207Z"
   },
   {
    "duration": 38,
    "start_time": "2022-04-28T12:31:46.205Z"
   },
   {
    "duration": 11,
    "start_time": "2022-04-28T12:31:47.110Z"
   },
   {
    "duration": 44,
    "start_time": "2022-04-28T12:32:21.255Z"
   },
   {
    "duration": 10,
    "start_time": "2022-04-28T12:32:22.064Z"
   },
   {
    "duration": 37,
    "start_time": "2022-04-28T12:32:34.310Z"
   },
   {
    "duration": 11,
    "start_time": "2022-04-28T12:32:35.002Z"
   },
   {
    "duration": 21,
    "start_time": "2022-04-28T12:45:57.041Z"
   },
   {
    "duration": 26,
    "start_time": "2022-04-28T12:46:31.596Z"
   },
   {
    "duration": 20,
    "start_time": "2022-04-28T12:48:05.041Z"
   },
   {
    "duration": 21,
    "start_time": "2022-04-28T12:48:17.988Z"
   },
   {
    "duration": 8,
    "start_time": "2022-04-28T12:48:42.099Z"
   },
   {
    "duration": 8,
    "start_time": "2022-04-28T12:57:25.105Z"
   },
   {
    "duration": 29,
    "start_time": "2022-04-28T12:57:27.442Z"
   },
   {
    "duration": 4,
    "start_time": "2022-04-28T12:57:27.594Z"
   },
   {
    "duration": 30,
    "start_time": "2022-04-28T12:57:44.094Z"
   },
   {
    "duration": 4,
    "start_time": "2022-04-28T12:57:45.193Z"
   },
   {
    "duration": 3,
    "start_time": "2022-04-28T12:57:50.072Z"
   },
   {
    "duration": 29,
    "start_time": "2022-04-28T12:58:14.784Z"
   },
   {
    "duration": 4,
    "start_time": "2022-04-28T12:58:14.981Z"
   },
   {
    "duration": 4,
    "start_time": "2022-04-28T12:58:30.275Z"
   },
   {
    "duration": 7,
    "start_time": "2022-04-28T13:03:07.851Z"
   },
   {
    "duration": 9,
    "start_time": "2022-04-28T13:04:22.477Z"
   },
   {
    "duration": 28,
    "start_time": "2022-04-28T13:04:24.481Z"
   },
   {
    "duration": 4,
    "start_time": "2022-04-28T13:04:24.648Z"
   },
   {
    "duration": 27,
    "start_time": "2022-04-28T13:05:42.197Z"
   },
   {
    "duration": 4,
    "start_time": "2022-04-28T13:05:42.413Z"
   },
   {
    "duration": 30,
    "start_time": "2022-04-28T13:06:01.772Z"
   },
   {
    "duration": 4,
    "start_time": "2022-04-28T13:06:01.978Z"
   },
   {
    "duration": 4,
    "start_time": "2022-04-28T13:06:03.237Z"
   },
   {
    "duration": 7,
    "start_time": "2022-04-28T13:06:06.584Z"
   },
   {
    "duration": 28,
    "start_time": "2022-04-28T13:07:57.325Z"
   },
   {
    "duration": 4,
    "start_time": "2022-04-28T13:07:57.741Z"
   },
   {
    "duration": 4,
    "start_time": "2022-04-28T13:07:58.568Z"
   },
   {
    "duration": 10,
    "start_time": "2022-04-28T13:08:00.797Z"
   },
   {
    "duration": 9,
    "start_time": "2022-04-28T13:08:11.325Z"
   },
   {
    "duration": 28,
    "start_time": "2022-04-28T13:08:26.478Z"
   },
   {
    "duration": 6,
    "start_time": "2022-04-28T13:08:27.053Z"
   },
   {
    "duration": 4,
    "start_time": "2022-04-28T13:08:27.881Z"
   },
   {
    "duration": 8,
    "start_time": "2022-04-28T13:08:28.519Z"
   },
   {
    "duration": 28,
    "start_time": "2022-04-28T13:08:42.921Z"
   },
   {
    "duration": 4,
    "start_time": "2022-04-28T13:08:43.369Z"
   },
   {
    "duration": 28,
    "start_time": "2022-04-28T13:08:49.079Z"
   },
   {
    "duration": 4,
    "start_time": "2022-04-28T13:08:49.344Z"
   },
   {
    "duration": 4,
    "start_time": "2022-04-28T13:08:50.127Z"
   },
   {
    "duration": 8,
    "start_time": "2022-04-28T13:08:51.130Z"
   },
   {
    "duration": 28,
    "start_time": "2022-04-28T13:09:33.951Z"
   },
   {
    "duration": 4,
    "start_time": "2022-04-28T13:09:34.314Z"
   },
   {
    "duration": 4,
    "start_time": "2022-04-28T13:09:34.942Z"
   },
   {
    "duration": 8,
    "start_time": "2022-04-28T13:09:35.452Z"
   },
   {
    "duration": 8,
    "start_time": "2022-04-28T13:10:11.066Z"
   },
   {
    "duration": 5,
    "start_time": "2022-04-28T13:11:57.875Z"
   },
   {
    "duration": 3,
    "start_time": "2022-04-28T13:12:01.061Z"
   },
   {
    "duration": 4,
    "start_time": "2022-04-28T13:12:11.280Z"
   },
   {
    "duration": 9,
    "start_time": "2022-04-28T13:12:11.487Z"
   },
   {
    "duration": 8,
    "start_time": "2022-04-28T13:12:33.179Z"
   },
   {
    "duration": 4,
    "start_time": "2022-04-28T13:35:29.900Z"
   },
   {
    "duration": 3,
    "start_time": "2022-04-28T13:36:39.067Z"
   },
   {
    "duration": 8,
    "start_time": "2022-04-28T13:36:39.244Z"
   },
   {
    "duration": 8,
    "start_time": "2022-04-28T13:36:39.449Z"
   },
   {
    "duration": 28,
    "start_time": "2022-04-28T13:36:41.875Z"
   },
   {
    "duration": 4,
    "start_time": "2022-04-28T13:36:42.031Z"
   },
   {
    "duration": 3,
    "start_time": "2022-04-28T13:36:42.177Z"
   },
   {
    "duration": 3,
    "start_time": "2022-04-28T13:36:42.324Z"
   },
   {
    "duration": 7,
    "start_time": "2022-04-28T13:36:42.455Z"
   },
   {
    "duration": 29,
    "start_time": "2022-04-28T13:38:00.670Z"
   },
   {
    "duration": 3,
    "start_time": "2022-04-28T13:38:00.701Z"
   },
   {
    "duration": 10,
    "start_time": "2022-04-28T13:38:00.706Z"
   },
   {
    "duration": 8,
    "start_time": "2022-04-28T13:38:00.718Z"
   },
   {
    "duration": 8,
    "start_time": "2022-04-28T13:38:00.729Z"
   },
   {
    "duration": 11,
    "start_time": "2022-04-28T13:38:00.739Z"
   },
   {
    "duration": 7,
    "start_time": "2022-04-28T13:38:20.876Z"
   },
   {
    "duration": 43,
    "start_time": "2022-04-28T13:39:49.313Z"
   },
   {
    "duration": 3,
    "start_time": "2022-04-28T13:39:49.712Z"
   },
   {
    "duration": 4,
    "start_time": "2022-04-28T13:39:52.452Z"
   },
   {
    "duration": 4,
    "start_time": "2022-04-28T13:39:53.071Z"
   },
   {
    "duration": 3,
    "start_time": "2022-04-28T13:39:53.744Z"
   },
   {
    "duration": 8,
    "start_time": "2022-04-28T13:39:55.247Z"
   },
   {
    "duration": 8,
    "start_time": "2022-04-28T13:40:06.336Z"
   },
   {
    "duration": 1198,
    "start_time": "2022-04-28T13:43:21.030Z"
   },
   {
    "duration": 247,
    "start_time": "2022-04-28T13:43:22.230Z"
   },
   {
    "duration": 27,
    "start_time": "2022-04-28T13:43:22.478Z"
   },
   {
    "duration": 35,
    "start_time": "2022-04-28T13:43:22.507Z"
   },
   {
    "duration": 62,
    "start_time": "2022-04-28T13:43:22.544Z"
   },
   {
    "duration": 8,
    "start_time": "2022-04-28T13:43:22.608Z"
   },
   {
    "duration": 7,
    "start_time": "2022-04-28T13:43:22.617Z"
   },
   {
    "duration": 10,
    "start_time": "2022-04-28T13:43:22.626Z"
   },
   {
    "duration": 60,
    "start_time": "2022-04-28T13:43:22.638Z"
   },
   {
    "duration": 68,
    "start_time": "2022-04-28T13:43:22.700Z"
   },
   {
    "duration": 2,
    "start_time": "2022-04-28T13:43:22.770Z"
   },
   {
    "duration": 87,
    "start_time": "2022-04-28T13:43:22.773Z"
   },
   {
    "duration": 31,
    "start_time": "2022-04-28T13:43:22.862Z"
   },
   {
    "duration": 4,
    "start_time": "2022-04-28T13:43:22.894Z"
   },
   {
    "duration": 67,
    "start_time": "2022-04-28T13:43:22.900Z"
   },
   {
    "duration": 4,
    "start_time": "2022-04-28T13:43:22.969Z"
   },
   {
    "duration": 53,
    "start_time": "2022-04-28T13:43:22.992Z"
   },
   {
    "duration": 24,
    "start_time": "2022-04-28T13:43:23.047Z"
   },
   {
    "duration": 79,
    "start_time": "2022-04-28T13:43:23.072Z"
   },
   {
    "duration": 96,
    "start_time": "2022-04-28T13:43:23.152Z"
   },
   {
    "duration": 165,
    "start_time": "2022-04-28T13:43:23.249Z"
   },
   {
    "duration": 13,
    "start_time": "2022-04-28T13:43:23.416Z"
   },
   {
    "duration": 22,
    "start_time": "2022-04-28T13:43:23.431Z"
   },
   {
    "duration": 271,
    "start_time": "2022-04-28T13:43:23.455Z"
   },
   {
    "duration": 3,
    "start_time": "2022-04-28T13:43:23.727Z"
   },
   {
    "duration": 37,
    "start_time": "2022-04-28T13:43:23.731Z"
   },
   {
    "duration": 4,
    "start_time": "2022-04-28T13:43:23.770Z"
   },
   {
    "duration": 32,
    "start_time": "2022-04-28T13:43:23.792Z"
   },
   {
    "duration": 6,
    "start_time": "2022-04-28T13:43:23.826Z"
   },
   {
    "duration": 14,
    "start_time": "2022-04-28T13:43:23.834Z"
   },
   {
    "duration": 46,
    "start_time": "2022-04-28T13:43:23.850Z"
   },
   {
    "duration": 10,
    "start_time": "2022-04-28T13:43:23.898Z"
   },
   {
    "duration": 33,
    "start_time": "2022-04-28T13:43:23.910Z"
   },
   {
    "duration": 4,
    "start_time": "2022-04-28T13:43:23.945Z"
   },
   {
    "duration": 16,
    "start_time": "2022-04-28T13:43:23.950Z"
   },
   {
    "duration": 30,
    "start_time": "2022-04-28T13:43:23.968Z"
   },
   {
    "duration": 14,
    "start_time": "2022-04-28T13:43:24.000Z"
   },
   {
    "duration": 46,
    "start_time": "2022-04-28T13:43:24.016Z"
   },
   {
    "duration": 1042,
    "start_time": "2022-04-28T13:43:24.063Z"
   },
   {
    "duration": 78,
    "start_time": "2022-04-28T13:43:25.107Z"
   },
   {
    "duration": 22,
    "start_time": "2022-04-28T13:43:25.186Z"
   },
   {
    "duration": 29,
    "start_time": "2022-04-28T13:43:25.209Z"
   },
   {
    "duration": 1004,
    "start_time": "2022-04-28T13:43:25.240Z"
   },
   {
    "duration": 1007,
    "start_time": "2022-04-28T13:43:26.246Z"
   },
   {
    "duration": 10,
    "start_time": "2022-04-28T13:43:27.254Z"
   },
   {
    "duration": 27,
    "start_time": "2022-04-28T13:43:27.266Z"
   },
   {
    "duration": 127,
    "start_time": "2022-04-28T13:43:27.295Z"
   },
   {
    "duration": 42,
    "start_time": "2022-04-28T13:43:27.423Z"
   },
   {
    "duration": 35,
    "start_time": "2022-04-28T13:43:27.467Z"
   },
   {
    "duration": 3,
    "start_time": "2022-04-28T13:43:27.504Z"
   },
   {
    "duration": 11,
    "start_time": "2022-04-28T13:43:27.509Z"
   },
   {
    "duration": 35,
    "start_time": "2022-04-28T13:43:27.521Z"
   },
   {
    "duration": 2,
    "start_time": "2022-04-28T13:43:27.557Z"
   },
   {
    "duration": 8,
    "start_time": "2022-04-28T13:43:27.561Z"
   },
   {
    "duration": 7,
    "start_time": "2022-04-28T13:43:27.571Z"
   },
   {
    "duration": 15,
    "start_time": "2022-04-28T13:43:27.579Z"
   },
   {
    "duration": 8,
    "start_time": "2022-04-28T13:43:27.595Z"
   },
   {
    "duration": 17,
    "start_time": "2022-04-28T13:43:27.604Z"
   },
   {
    "duration": 15,
    "start_time": "2022-04-28T13:43:27.622Z"
   },
   {
    "duration": 46,
    "start_time": "2022-04-28T13:43:27.639Z"
   },
   {
    "duration": 16,
    "start_time": "2022-04-28T13:43:27.687Z"
   },
   {
    "duration": 513,
    "start_time": "2022-04-28T13:43:27.705Z"
   },
   {
    "duration": 6,
    "start_time": "2022-04-28T13:43:28.220Z"
   },
   {
    "duration": 17,
    "start_time": "2022-04-28T13:43:28.228Z"
   },
   {
    "duration": 205,
    "start_time": "2022-04-28T13:43:28.247Z"
   },
   {
    "duration": 557,
    "start_time": "2022-04-28T13:43:28.454Z"
   },
   {
    "duration": 6,
    "start_time": "2022-04-28T13:43:29.014Z"
   },
   {
    "duration": 23,
    "start_time": "2022-04-28T13:43:29.022Z"
   },
   {
    "duration": 3205,
    "start_time": "2022-04-28T13:43:29.046Z"
   },
   {
    "duration": 16,
    "start_time": "2022-04-28T13:43:32.253Z"
   },
   {
    "duration": 6,
    "start_time": "2022-04-28T13:43:32.270Z"
   },
   {
    "duration": 20,
    "start_time": "2022-04-28T13:43:32.293Z"
   },
   {
    "duration": 19,
    "start_time": "2022-04-28T13:43:32.314Z"
   },
   {
    "duration": 9,
    "start_time": "2022-04-28T13:43:32.334Z"
   },
   {
    "duration": 67,
    "start_time": "2022-04-28T13:43:32.344Z"
   },
   {
    "duration": 11,
    "start_time": "2022-04-28T13:43:32.413Z"
   },
   {
    "duration": 140,
    "start_time": "2022-04-28T13:43:32.426Z"
   },
   {
    "duration": 0,
    "start_time": "2022-04-28T13:43:32.568Z"
   },
   {
    "duration": 0,
    "start_time": "2022-04-28T13:43:32.569Z"
   },
   {
    "duration": 0,
    "start_time": "2022-04-28T13:43:32.571Z"
   },
   {
    "duration": 0,
    "start_time": "2022-04-28T13:43:32.572Z"
   },
   {
    "duration": 0,
    "start_time": "2022-04-28T13:43:32.573Z"
   },
   {
    "duration": 0,
    "start_time": "2022-04-28T13:43:32.574Z"
   },
   {
    "duration": 0,
    "start_time": "2022-04-28T13:43:32.575Z"
   },
   {
    "duration": 0,
    "start_time": "2022-04-28T13:43:32.576Z"
   },
   {
    "duration": 0,
    "start_time": "2022-04-28T13:43:32.593Z"
   },
   {
    "duration": 41,
    "start_time": "2022-04-28T13:43:46.462Z"
   },
   {
    "duration": 4,
    "start_time": "2022-04-28T13:43:46.672Z"
   },
   {
    "duration": 3,
    "start_time": "2022-04-28T13:43:46.853Z"
   },
   {
    "duration": 3,
    "start_time": "2022-04-28T13:43:47.036Z"
   },
   {
    "duration": 4,
    "start_time": "2022-04-28T13:43:47.493Z"
   },
   {
    "duration": 7,
    "start_time": "2022-04-28T13:43:47.885Z"
   },
   {
    "duration": 3,
    "start_time": "2022-04-28T13:43:53.017Z"
   },
   {
    "duration": 3,
    "start_time": "2022-04-28T13:43:58.242Z"
   },
   {
    "duration": 8,
    "start_time": "2022-04-28T13:44:00.313Z"
   },
   {
    "duration": 10,
    "start_time": "2022-04-28T13:44:02.895Z"
   },
   {
    "duration": 7,
    "start_time": "2022-04-28T13:44:10.004Z"
   },
   {
    "duration": 7,
    "start_time": "2022-04-28T13:45:18.170Z"
   },
   {
    "duration": 7,
    "start_time": "2022-04-28T13:45:21.332Z"
   },
   {
    "duration": 3,
    "start_time": "2022-04-28T13:45:25.859Z"
   },
   {
    "duration": 6,
    "start_time": "2022-04-28T13:45:46.310Z"
   },
   {
    "duration": 3,
    "start_time": "2022-04-28T13:45:51.205Z"
   },
   {
    "duration": 328,
    "start_time": "2022-04-28T13:58:57.973Z"
   },
   {
    "duration": 217,
    "start_time": "2022-04-28T13:59:13.293Z"
   },
   {
    "duration": 19,
    "start_time": "2022-04-28T13:59:45.693Z"
   },
   {
    "duration": 359,
    "start_time": "2022-04-28T14:00:22.571Z"
   },
   {
    "duration": 19,
    "start_time": "2022-04-28T14:00:24.571Z"
   },
   {
    "duration": 352,
    "start_time": "2022-04-28T14:00:30.318Z"
   },
   {
    "duration": 576,
    "start_time": "2022-04-28T14:00:56.103Z"
   },
   {
    "duration": 208,
    "start_time": "2022-04-28T14:01:09.365Z"
   },
   {
    "duration": 331,
    "start_time": "2022-04-28T14:01:15.910Z"
   },
   {
    "duration": 376,
    "start_time": "2022-04-28T14:03:46.937Z"
   },
   {
    "duration": 18,
    "start_time": "2022-04-28T14:03:55.754Z"
   },
   {
    "duration": 201,
    "start_time": "2022-04-28T14:03:56.388Z"
   },
   {
    "duration": 6,
    "start_time": "2022-04-28T14:04:08.691Z"
   },
   {
    "duration": 13,
    "start_time": "2022-04-28T14:04:08.844Z"
   },
   {
    "duration": 165,
    "start_time": "2022-04-28T14:04:09.823Z"
   },
   {
    "duration": 536,
    "start_time": "2022-04-28T14:04:18.703Z"
   },
   {
    "duration": 5,
    "start_time": "2022-04-28T14:04:23.197Z"
   },
   {
    "duration": 16,
    "start_time": "2022-04-28T14:04:26.504Z"
   },
   {
    "duration": 3096,
    "start_time": "2022-04-28T14:04:27.550Z"
   },
   {
    "duration": 233,
    "start_time": "2022-04-28T14:06:27.462Z"
   },
   {
    "duration": 227,
    "start_time": "2022-04-28T14:06:43.270Z"
   },
   {
    "duration": 27,
    "start_time": "2022-04-28T14:07:44.538Z"
   },
   {
    "duration": 36,
    "start_time": "2022-04-28T14:08:16.381Z"
   },
   {
    "duration": 316,
    "start_time": "2022-04-28T14:09:16.569Z"
   },
   {
    "duration": 330,
    "start_time": "2022-04-28T14:09:30.372Z"
   },
   {
    "duration": 38,
    "start_time": "2022-04-28T14:09:35.342Z"
   },
   {
    "duration": 45,
    "start_time": "2022-04-28T14:09:46.571Z"
   },
   {
    "duration": 26,
    "start_time": "2022-04-28T14:10:03.426Z"
   },
   {
    "duration": 418,
    "start_time": "2022-04-28T14:10:08.343Z"
   },
   {
    "duration": 409,
    "start_time": "2022-04-28T14:10:20.786Z"
   },
   {
    "duration": 267,
    "start_time": "2022-04-28T14:10:49.186Z"
   },
   {
    "duration": 247,
    "start_time": "2022-04-28T14:11:00.756Z"
   },
   {
    "duration": 247,
    "start_time": "2022-04-28T14:11:15.411Z"
   },
   {
    "duration": 148,
    "start_time": "2022-04-28T14:12:16.446Z"
   },
   {
    "duration": 251,
    "start_time": "2022-04-28T14:12:42.391Z"
   },
   {
    "duration": 4,
    "start_time": "2022-04-28T14:19:23.943Z"
   },
   {
    "duration": 3,
    "start_time": "2022-04-28T14:20:30.785Z"
   },
   {
    "duration": 7,
    "start_time": "2022-04-28T14:20:56.324Z"
   },
   {
    "duration": 4,
    "start_time": "2022-04-28T14:36:52.008Z"
   },
   {
    "duration": 298,
    "start_time": "2022-04-28T14:36:52.015Z"
   },
   {
    "duration": 21,
    "start_time": "2022-04-28T14:36:52.316Z"
   },
   {
    "duration": 34,
    "start_time": "2022-04-28T14:36:52.339Z"
   },
   {
    "duration": 37,
    "start_time": "2022-04-28T14:36:52.394Z"
   },
   {
    "duration": 9,
    "start_time": "2022-04-28T14:36:52.433Z"
   },
   {
    "duration": 7,
    "start_time": "2022-04-28T14:36:52.444Z"
   },
   {
    "duration": 11,
    "start_time": "2022-04-28T14:36:52.452Z"
   },
   {
    "duration": 43,
    "start_time": "2022-04-28T14:36:52.493Z"
   },
   {
    "duration": 84,
    "start_time": "2022-04-28T14:36:52.538Z"
   },
   {
    "duration": 3,
    "start_time": "2022-04-28T14:36:52.735Z"
   },
   {
    "duration": 82,
    "start_time": "2022-04-28T14:36:52.740Z"
   },
   {
    "duration": 18,
    "start_time": "2022-04-28T14:36:52.824Z"
   },
   {
    "duration": 5,
    "start_time": "2022-04-28T14:36:52.843Z"
   },
   {
    "duration": 84,
    "start_time": "2022-04-28T14:36:52.850Z"
   },
   {
    "duration": 4,
    "start_time": "2022-04-28T14:36:52.936Z"
   },
   {
    "duration": 63,
    "start_time": "2022-04-28T14:36:52.942Z"
   },
   {
    "duration": 24,
    "start_time": "2022-04-28T14:36:53.007Z"
   },
   {
    "duration": 75,
    "start_time": "2022-04-28T14:36:53.033Z"
   },
   {
    "duration": 83,
    "start_time": "2022-04-28T14:36:53.110Z"
   },
   {
    "duration": 170,
    "start_time": "2022-04-28T14:36:53.194Z"
   },
   {
    "duration": 14,
    "start_time": "2022-04-28T14:36:53.365Z"
   },
   {
    "duration": 34,
    "start_time": "2022-04-28T14:36:53.380Z"
   },
   {
    "duration": 246,
    "start_time": "2022-04-28T14:36:53.416Z"
   },
   {
    "duration": 3,
    "start_time": "2022-04-28T14:36:53.664Z"
   },
   {
    "duration": 42,
    "start_time": "2022-04-28T14:36:53.669Z"
   },
   {
    "duration": 5,
    "start_time": "2022-04-28T14:36:53.713Z"
   },
   {
    "duration": 34,
    "start_time": "2022-04-28T14:36:53.719Z"
   },
   {
    "duration": 4,
    "start_time": "2022-04-28T14:36:53.759Z"
   },
   {
    "duration": 31,
    "start_time": "2022-04-28T14:36:53.765Z"
   },
   {
    "duration": 25,
    "start_time": "2022-04-28T14:36:53.798Z"
   },
   {
    "duration": 8,
    "start_time": "2022-04-28T14:36:53.825Z"
   },
   {
    "duration": 25,
    "start_time": "2022-04-28T14:36:53.835Z"
   },
   {
    "duration": 31,
    "start_time": "2022-04-28T14:36:53.862Z"
   },
   {
    "duration": 15,
    "start_time": "2022-04-28T14:36:53.895Z"
   },
   {
    "duration": 8,
    "start_time": "2022-04-28T14:36:53.912Z"
   },
   {
    "duration": 11,
    "start_time": "2022-04-28T14:36:53.922Z"
   },
   {
    "duration": 69,
    "start_time": "2022-04-28T14:36:53.935Z"
   },
   {
    "duration": 961,
    "start_time": "2022-04-28T14:36:54.006Z"
   },
   {
    "duration": 80,
    "start_time": "2022-04-28T14:36:54.969Z"
   },
   {
    "duration": 21,
    "start_time": "2022-04-28T14:36:55.050Z"
   },
   {
    "duration": 45,
    "start_time": "2022-04-28T14:36:55.073Z"
   },
   {
    "duration": 976,
    "start_time": "2022-04-28T14:36:55.120Z"
   },
   {
    "duration": 1016,
    "start_time": "2022-04-28T14:36:56.098Z"
   },
   {
    "duration": 10,
    "start_time": "2022-04-28T14:36:57.116Z"
   },
   {
    "duration": 11,
    "start_time": "2022-04-28T14:36:57.128Z"
   },
   {
    "duration": 68,
    "start_time": "2022-04-28T14:36:57.140Z"
   },
   {
    "duration": 43,
    "start_time": "2022-04-28T14:36:57.209Z"
   },
   {
    "duration": 19,
    "start_time": "2022-04-28T14:36:57.254Z"
   },
   {
    "duration": 4,
    "start_time": "2022-04-28T14:36:57.293Z"
   },
   {
    "duration": 9,
    "start_time": "2022-04-28T14:36:57.299Z"
   },
   {
    "duration": 36,
    "start_time": "2022-04-28T14:36:57.309Z"
   },
   {
    "duration": 2,
    "start_time": "2022-04-28T14:36:57.348Z"
   },
   {
    "duration": 6,
    "start_time": "2022-04-28T14:36:57.352Z"
   },
   {
    "duration": 9,
    "start_time": "2022-04-28T14:36:57.360Z"
   },
   {
    "duration": 21,
    "start_time": "2022-04-28T14:36:57.371Z"
   },
   {
    "duration": 6,
    "start_time": "2022-04-28T14:36:57.394Z"
   },
   {
    "duration": 11,
    "start_time": "2022-04-28T14:36:57.402Z"
   },
   {
    "duration": 7,
    "start_time": "2022-04-28T14:36:57.415Z"
   },
   {
    "duration": 419,
    "start_time": "2022-04-28T14:36:57.424Z"
   },
   {
    "duration": 32,
    "start_time": "2022-04-28T14:36:57.845Z"
   },
   {
    "duration": 20,
    "start_time": "2022-04-28T14:36:57.892Z"
   },
   {
    "duration": 265,
    "start_time": "2022-04-28T14:36:57.914Z"
   },
   {
    "duration": 11,
    "start_time": "2022-04-28T14:36:58.181Z"
   },
   {
    "duration": 17,
    "start_time": "2022-04-28T14:36:58.194Z"
   },
   {
    "duration": 167,
    "start_time": "2022-04-28T14:36:58.212Z"
   },
   {
    "duration": 636,
    "start_time": "2022-04-28T14:36:58.380Z"
   },
   {
    "duration": 5,
    "start_time": "2022-04-28T14:36:59.018Z"
   },
   {
    "duration": 18,
    "start_time": "2022-04-28T14:36:59.025Z"
   },
   {
    "duration": 3116,
    "start_time": "2022-04-28T14:36:59.044Z"
   },
   {
    "duration": 13,
    "start_time": "2022-04-28T14:37:02.162Z"
   },
   {
    "duration": 18,
    "start_time": "2022-04-28T14:37:02.177Z"
   },
   {
    "duration": 19,
    "start_time": "2022-04-28T14:37:02.197Z"
   },
   {
    "duration": 20,
    "start_time": "2022-04-28T14:37:02.218Z"
   },
   {
    "duration": 9,
    "start_time": "2022-04-28T14:37:02.239Z"
   },
   {
    "duration": 64,
    "start_time": "2022-04-28T14:37:02.249Z"
   },
   {
    "duration": 11,
    "start_time": "2022-04-28T14:37:02.315Z"
   },
   {
    "duration": 40,
    "start_time": "2022-04-28T14:37:02.328Z"
   },
   {
    "duration": 24,
    "start_time": "2022-04-28T14:37:02.370Z"
   },
   {
    "duration": 13,
    "start_time": "2022-04-28T14:37:02.395Z"
   },
   {
    "duration": 15,
    "start_time": "2022-04-28T14:37:02.409Z"
   },
   {
    "duration": 3,
    "start_time": "2022-04-28T14:37:02.426Z"
   },
   {
    "duration": 16,
    "start_time": "2022-04-28T14:37:02.435Z"
   },
   {
    "duration": 6,
    "start_time": "2022-04-28T14:37:02.453Z"
   },
   {
    "duration": 22,
    "start_time": "2022-04-28T14:37:02.460Z"
   },
   {
    "duration": 8,
    "start_time": "2022-04-28T14:37:02.484Z"
   },
   {
    "duration": 20,
    "start_time": "2022-04-28T14:37:02.493Z"
   },
   {
    "duration": 28,
    "start_time": "2022-04-28T14:37:02.514Z"
   },
   {
    "duration": 111,
    "start_time": "2022-04-28T14:40:42.392Z"
   },
   {
    "duration": 1327,
    "start_time": "2022-05-01T07:32:59.405Z"
   },
   {
    "duration": 860,
    "start_time": "2022-05-01T07:33:00.734Z"
   },
   {
    "duration": 35,
    "start_time": "2022-05-01T07:33:01.595Z"
   },
   {
    "duration": 64,
    "start_time": "2022-05-01T07:33:01.632Z"
   },
   {
    "duration": 42,
    "start_time": "2022-05-01T07:33:01.698Z"
   },
   {
    "duration": 12,
    "start_time": "2022-05-01T07:33:01.742Z"
   },
   {
    "duration": 10,
    "start_time": "2022-05-01T07:33:01.756Z"
   },
   {
    "duration": 10,
    "start_time": "2022-05-01T07:33:01.768Z"
   },
   {
    "duration": 45,
    "start_time": "2022-05-01T07:33:01.780Z"
   },
   {
    "duration": 90,
    "start_time": "2022-05-01T07:33:01.828Z"
   },
   {
    "duration": 2,
    "start_time": "2022-05-01T07:33:01.920Z"
   },
   {
    "duration": 87,
    "start_time": "2022-05-01T07:33:01.924Z"
   },
   {
    "duration": 17,
    "start_time": "2022-05-01T07:33:02.013Z"
   },
   {
    "duration": 24,
    "start_time": "2022-05-01T07:33:02.032Z"
   },
   {
    "duration": 67,
    "start_time": "2022-05-01T07:33:02.058Z"
   },
   {
    "duration": 4,
    "start_time": "2022-05-01T07:33:02.127Z"
   },
   {
    "duration": 63,
    "start_time": "2022-05-01T07:33:02.132Z"
   },
   {
    "duration": 23,
    "start_time": "2022-05-01T07:33:02.197Z"
   },
   {
    "duration": 81,
    "start_time": "2022-05-01T07:33:02.221Z"
   },
   {
    "duration": 90,
    "start_time": "2022-05-01T07:33:02.304Z"
   },
   {
    "duration": 178,
    "start_time": "2022-05-01T07:33:02.395Z"
   },
   {
    "duration": 13,
    "start_time": "2022-05-01T07:33:02.575Z"
   },
   {
    "duration": 22,
    "start_time": "2022-05-01T07:33:02.589Z"
   },
   {
    "duration": 263,
    "start_time": "2022-05-01T07:33:02.612Z"
   },
   {
    "duration": 2,
    "start_time": "2022-05-01T07:33:02.877Z"
   },
   {
    "duration": 34,
    "start_time": "2022-05-01T07:33:02.880Z"
   },
   {
    "duration": 3,
    "start_time": "2022-05-01T07:33:02.915Z"
   },
   {
    "duration": 51,
    "start_time": "2022-05-01T07:33:02.922Z"
   },
   {
    "duration": 5,
    "start_time": "2022-05-01T07:33:02.975Z"
   },
   {
    "duration": 12,
    "start_time": "2022-05-01T07:33:02.982Z"
   },
   {
    "duration": 24,
    "start_time": "2022-05-01T07:33:02.996Z"
   },
   {
    "duration": 33,
    "start_time": "2022-05-01T07:33:03.022Z"
   },
   {
    "duration": 38,
    "start_time": "2022-05-01T07:33:03.056Z"
   },
   {
    "duration": 5,
    "start_time": "2022-05-01T07:33:03.095Z"
   },
   {
    "duration": 16,
    "start_time": "2022-05-01T07:33:03.102Z"
   },
   {
    "duration": 33,
    "start_time": "2022-05-01T07:33:03.119Z"
   },
   {
    "duration": 22,
    "start_time": "2022-05-01T07:33:03.154Z"
   },
   {
    "duration": 39,
    "start_time": "2022-05-01T07:33:03.178Z"
   },
   {
    "duration": 113,
    "start_time": "2022-05-01T07:33:03.219Z"
   },
   {
    "duration": 0,
    "start_time": "2022-05-01T07:33:03.334Z"
   },
   {
    "duration": 0,
    "start_time": "2022-05-01T07:33:03.335Z"
   },
   {
    "duration": 0,
    "start_time": "2022-05-01T07:33:03.337Z"
   },
   {
    "duration": 0,
    "start_time": "2022-05-01T07:33:03.338Z"
   },
   {
    "duration": 0,
    "start_time": "2022-05-01T07:33:03.339Z"
   },
   {
    "duration": 0,
    "start_time": "2022-05-01T07:33:03.340Z"
   },
   {
    "duration": 0,
    "start_time": "2022-05-01T07:33:03.341Z"
   },
   {
    "duration": 0,
    "start_time": "2022-05-01T07:33:03.342Z"
   },
   {
    "duration": 0,
    "start_time": "2022-05-01T07:33:03.344Z"
   },
   {
    "duration": 0,
    "start_time": "2022-05-01T07:33:03.345Z"
   },
   {
    "duration": 0,
    "start_time": "2022-05-01T07:33:03.345Z"
   },
   {
    "duration": 0,
    "start_time": "2022-05-01T07:33:03.347Z"
   },
   {
    "duration": 0,
    "start_time": "2022-05-01T07:33:03.351Z"
   },
   {
    "duration": 0,
    "start_time": "2022-05-01T07:33:03.352Z"
   },
   {
    "duration": 0,
    "start_time": "2022-05-01T07:33:03.354Z"
   },
   {
    "duration": 0,
    "start_time": "2022-05-01T07:33:03.355Z"
   },
   {
    "duration": 0,
    "start_time": "2022-05-01T07:33:03.357Z"
   },
   {
    "duration": 0,
    "start_time": "2022-05-01T07:33:03.358Z"
   },
   {
    "duration": 0,
    "start_time": "2022-05-01T07:33:03.358Z"
   },
   {
    "duration": 0,
    "start_time": "2022-05-01T07:33:03.359Z"
   },
   {
    "duration": 0,
    "start_time": "2022-05-01T07:33:03.360Z"
   },
   {
    "duration": 0,
    "start_time": "2022-05-01T07:33:03.361Z"
   },
   {
    "duration": 0,
    "start_time": "2022-05-01T07:33:03.362Z"
   },
   {
    "duration": 0,
    "start_time": "2022-05-01T07:33:03.363Z"
   },
   {
    "duration": 0,
    "start_time": "2022-05-01T07:33:03.364Z"
   },
   {
    "duration": 0,
    "start_time": "2022-05-01T07:33:03.365Z"
   },
   {
    "duration": 0,
    "start_time": "2022-05-01T07:33:03.366Z"
   },
   {
    "duration": 0,
    "start_time": "2022-05-01T07:33:03.367Z"
   },
   {
    "duration": 0,
    "start_time": "2022-05-01T07:33:03.368Z"
   },
   {
    "duration": 0,
    "start_time": "2022-05-01T07:33:03.369Z"
   },
   {
    "duration": 0,
    "start_time": "2022-05-01T07:33:03.370Z"
   },
   {
    "duration": 0,
    "start_time": "2022-05-01T07:33:03.371Z"
   },
   {
    "duration": 0,
    "start_time": "2022-05-01T07:33:03.372Z"
   },
   {
    "duration": 0,
    "start_time": "2022-05-01T07:33:03.373Z"
   },
   {
    "duration": 0,
    "start_time": "2022-05-01T07:33:03.374Z"
   },
   {
    "duration": 0,
    "start_time": "2022-05-01T07:33:03.375Z"
   },
   {
    "duration": 0,
    "start_time": "2022-05-01T07:33:03.376Z"
   },
   {
    "duration": 0,
    "start_time": "2022-05-01T07:33:03.377Z"
   },
   {
    "duration": 0,
    "start_time": "2022-05-01T07:33:03.377Z"
   },
   {
    "duration": 0,
    "start_time": "2022-05-01T07:33:03.379Z"
   },
   {
    "duration": 0,
    "start_time": "2022-05-01T07:33:03.379Z"
   },
   {
    "duration": 0,
    "start_time": "2022-05-01T07:33:03.380Z"
   },
   {
    "duration": 0,
    "start_time": "2022-05-01T07:33:03.381Z"
   },
   {
    "duration": 0,
    "start_time": "2022-05-01T07:33:03.382Z"
   },
   {
    "duration": 0,
    "start_time": "2022-05-01T07:33:03.384Z"
   },
   {
    "duration": 0,
    "start_time": "2022-05-01T07:33:03.384Z"
   },
   {
    "duration": 0,
    "start_time": "2022-05-01T07:33:03.386Z"
   },
   {
    "duration": 0,
    "start_time": "2022-05-01T07:33:03.386Z"
   },
   {
    "duration": 0,
    "start_time": "2022-05-01T07:33:03.387Z"
   },
   {
    "duration": 0,
    "start_time": "2022-05-01T07:33:03.447Z"
   },
   {
    "duration": 1179,
    "start_time": "2022-05-01T07:33:30.687Z"
   },
   {
    "duration": 245,
    "start_time": "2022-05-01T07:33:31.868Z"
   },
   {
    "duration": 20,
    "start_time": "2022-05-01T07:33:32.114Z"
   },
   {
    "duration": 38,
    "start_time": "2022-05-01T07:33:32.136Z"
   },
   {
    "duration": 38,
    "start_time": "2022-05-01T07:33:32.176Z"
   },
   {
    "duration": 7,
    "start_time": "2022-05-01T07:33:32.216Z"
   },
   {
    "duration": 23,
    "start_time": "2022-05-01T07:33:32.224Z"
   },
   {
    "duration": 12,
    "start_time": "2022-05-01T07:33:32.249Z"
   },
   {
    "duration": 44,
    "start_time": "2022-05-01T07:33:32.263Z"
   },
   {
    "duration": 78,
    "start_time": "2022-05-01T07:33:32.309Z"
   },
   {
    "duration": 2,
    "start_time": "2022-05-01T07:33:32.389Z"
   },
   {
    "duration": 87,
    "start_time": "2022-05-01T07:33:32.392Z"
   },
   {
    "duration": 17,
    "start_time": "2022-05-01T07:33:32.481Z"
   },
   {
    "duration": 5,
    "start_time": "2022-05-01T07:33:32.499Z"
   },
   {
    "duration": 86,
    "start_time": "2022-05-01T07:33:32.506Z"
   },
   {
    "duration": 3,
    "start_time": "2022-05-01T07:33:32.594Z"
   },
   {
    "duration": 67,
    "start_time": "2022-05-01T07:33:32.598Z"
   },
   {
    "duration": 22,
    "start_time": "2022-05-01T07:33:32.667Z"
   },
   {
    "duration": 71,
    "start_time": "2022-05-01T07:33:32.691Z"
   },
   {
    "duration": 95,
    "start_time": "2022-05-01T07:33:32.764Z"
   },
   {
    "duration": 159,
    "start_time": "2022-05-01T07:33:32.861Z"
   },
   {
    "duration": 12,
    "start_time": "2022-05-01T07:33:33.022Z"
   },
   {
    "duration": 30,
    "start_time": "2022-05-01T07:33:33.036Z"
   },
   {
    "duration": 234,
    "start_time": "2022-05-01T07:33:33.068Z"
   },
   {
    "duration": 2,
    "start_time": "2022-05-01T07:33:33.304Z"
   },
   {
    "duration": 43,
    "start_time": "2022-05-01T07:33:33.307Z"
   },
   {
    "duration": 4,
    "start_time": "2022-05-01T07:33:33.352Z"
   },
   {
    "duration": 29,
    "start_time": "2022-05-01T07:33:33.366Z"
   },
   {
    "duration": 4,
    "start_time": "2022-05-01T07:33:33.397Z"
   },
   {
    "duration": 10,
    "start_time": "2022-05-01T07:33:33.403Z"
   },
   {
    "duration": 49,
    "start_time": "2022-05-01T07:33:33.414Z"
   },
   {
    "duration": 8,
    "start_time": "2022-05-01T07:33:33.465Z"
   },
   {
    "duration": 32,
    "start_time": "2022-05-01T07:33:33.474Z"
   },
   {
    "duration": 4,
    "start_time": "2022-05-01T07:33:33.508Z"
   },
   {
    "duration": 14,
    "start_time": "2022-05-01T07:33:33.514Z"
   },
   {
    "duration": 21,
    "start_time": "2022-05-01T07:33:33.530Z"
   },
   {
    "duration": 19,
    "start_time": "2022-05-01T07:33:33.552Z"
   },
   {
    "duration": 42,
    "start_time": "2022-05-01T07:33:33.572Z"
   },
   {
    "duration": 1028,
    "start_time": "2022-05-01T07:33:33.616Z"
   },
   {
    "duration": 73,
    "start_time": "2022-05-01T07:33:34.645Z"
   },
   {
    "duration": 39,
    "start_time": "2022-05-01T07:33:34.719Z"
   },
   {
    "duration": 24,
    "start_time": "2022-05-01T07:33:34.761Z"
   },
   {
    "duration": 923,
    "start_time": "2022-05-01T07:33:34.787Z"
   },
   {
    "duration": 986,
    "start_time": "2022-05-01T07:33:35.712Z"
   },
   {
    "duration": 10,
    "start_time": "2022-05-01T07:33:36.700Z"
   },
   {
    "duration": 10,
    "start_time": "2022-05-01T07:33:36.712Z"
   },
   {
    "duration": 150,
    "start_time": "2022-05-01T07:33:36.723Z"
   },
   {
    "duration": 37,
    "start_time": "2022-05-01T07:33:36.874Z"
   },
   {
    "duration": 39,
    "start_time": "2022-05-01T07:33:36.913Z"
   },
   {
    "duration": 4,
    "start_time": "2022-05-01T07:33:36.954Z"
   },
   {
    "duration": 9,
    "start_time": "2022-05-01T07:33:36.960Z"
   },
   {
    "duration": 26,
    "start_time": "2022-05-01T07:33:36.971Z"
   },
   {
    "duration": 2,
    "start_time": "2022-05-01T07:33:36.999Z"
   },
   {
    "duration": 7,
    "start_time": "2022-05-01T07:33:37.002Z"
   },
   {
    "duration": 5,
    "start_time": "2022-05-01T07:33:37.010Z"
   },
   {
    "duration": 4,
    "start_time": "2022-05-01T07:33:37.017Z"
   },
   {
    "duration": 28,
    "start_time": "2022-05-01T07:33:37.022Z"
   },
   {
    "duration": 19,
    "start_time": "2022-05-01T07:33:37.053Z"
   },
   {
    "duration": 16,
    "start_time": "2022-05-01T07:33:37.074Z"
   },
   {
    "duration": 307,
    "start_time": "2022-05-01T07:33:37.091Z"
   },
   {
    "duration": 30,
    "start_time": "2022-05-01T07:33:37.399Z"
   },
   {
    "duration": 37,
    "start_time": "2022-05-01T07:33:37.431Z"
   },
   {
    "duration": 240,
    "start_time": "2022-05-01T07:33:37.470Z"
   },
   {
    "duration": 5,
    "start_time": "2022-05-01T07:33:37.712Z"
   },
   {
    "duration": 14,
    "start_time": "2022-05-01T07:33:37.718Z"
   },
   {
    "duration": 156,
    "start_time": "2022-05-01T07:33:37.747Z"
   },
   {
    "duration": 518,
    "start_time": "2022-05-01T07:33:37.905Z"
   },
   {
    "duration": 6,
    "start_time": "2022-05-01T07:33:38.424Z"
   },
   {
    "duration": 32,
    "start_time": "2022-05-01T07:33:38.431Z"
   },
   {
    "duration": 3114,
    "start_time": "2022-05-01T07:33:38.465Z"
   },
   {
    "duration": 12,
    "start_time": "2022-05-01T07:33:41.581Z"
   },
   {
    "duration": 6,
    "start_time": "2022-05-01T07:33:41.595Z"
   },
   {
    "duration": 18,
    "start_time": "2022-05-01T07:33:41.602Z"
   },
   {
    "duration": 43,
    "start_time": "2022-05-01T07:33:41.622Z"
   },
   {
    "duration": 7,
    "start_time": "2022-05-01T07:33:41.667Z"
   },
   {
    "duration": 42,
    "start_time": "2022-05-01T07:33:41.676Z"
   },
   {
    "duration": 9,
    "start_time": "2022-05-01T07:33:41.719Z"
   },
   {
    "duration": 37,
    "start_time": "2022-05-01T07:33:41.748Z"
   },
   {
    "duration": 4,
    "start_time": "2022-05-01T07:33:41.786Z"
   },
   {
    "duration": 9,
    "start_time": "2022-05-01T07:33:41.791Z"
   },
   {
    "duration": 6,
    "start_time": "2022-05-01T07:33:41.802Z"
   },
   {
    "duration": 3,
    "start_time": "2022-05-01T07:33:41.813Z"
   },
   {
    "duration": 35,
    "start_time": "2022-05-01T07:33:41.817Z"
   },
   {
    "duration": 3,
    "start_time": "2022-05-01T07:33:41.855Z"
   },
   {
    "duration": 10,
    "start_time": "2022-05-01T07:33:41.860Z"
   },
   {
    "duration": 4,
    "start_time": "2022-05-01T07:33:41.871Z"
   },
   {
    "duration": 6,
    "start_time": "2022-05-01T07:33:41.877Z"
   },
   {
    "duration": 5,
    "start_time": "2022-05-01T07:33:41.884Z"
   },
   {
    "duration": 6,
    "start_time": "2022-05-01T07:33:41.891Z"
   },
   {
    "duration": 957,
    "start_time": "2022-05-01T07:33:59.059Z"
   },
   {
    "duration": 958,
    "start_time": "2022-05-01T07:34:05.899Z"
   },
   {
    "duration": 20,
    "start_time": "2022-05-01T07:37:53.513Z"
   },
   {
    "duration": 19,
    "start_time": "2022-05-01T07:37:55.697Z"
   },
   {
    "duration": 19,
    "start_time": "2022-05-01T07:37:57.561Z"
   },
   {
    "duration": 71,
    "start_time": "2022-05-01T13:27:50.461Z"
   },
   {
    "duration": 2166,
    "start_time": "2022-05-01T13:27:53.876Z"
   },
   {
    "duration": 352,
    "start_time": "2022-05-01T13:27:56.046Z"
   },
   {
    "duration": 43,
    "start_time": "2022-05-01T13:27:56.401Z"
   },
   {
    "duration": 61,
    "start_time": "2022-05-01T13:27:56.448Z"
   },
   {
    "duration": 65,
    "start_time": "2022-05-01T13:27:56.525Z"
   },
   {
    "duration": 14,
    "start_time": "2022-05-01T13:27:56.592Z"
   },
   {
    "duration": 5,
    "start_time": "2022-05-01T13:27:56.626Z"
   },
   {
    "duration": 35,
    "start_time": "2022-05-01T13:27:56.635Z"
   },
   {
    "duration": 91,
    "start_time": "2022-05-01T13:27:56.673Z"
   },
   {
    "duration": 132,
    "start_time": "2022-05-01T13:27:56.769Z"
   },
   {
    "duration": 4,
    "start_time": "2022-05-01T13:27:56.903Z"
   },
   {
    "duration": 132,
    "start_time": "2022-05-01T13:27:56.924Z"
   },
   {
    "duration": 29,
    "start_time": "2022-05-01T13:27:57.058Z"
   },
   {
    "duration": 10,
    "start_time": "2022-05-01T13:27:57.089Z"
   },
   {
    "duration": 143,
    "start_time": "2022-05-01T13:27:57.124Z"
   },
   {
    "duration": 5,
    "start_time": "2022-05-01T13:27:57.270Z"
   },
   {
    "duration": 123,
    "start_time": "2022-05-01T13:27:57.278Z"
   },
   {
    "duration": 46,
    "start_time": "2022-05-01T13:27:57.404Z"
   },
   {
    "duration": 139,
    "start_time": "2022-05-01T13:27:57.453Z"
   },
   {
    "duration": 160,
    "start_time": "2022-05-01T13:27:57.594Z"
   },
   {
    "duration": 310,
    "start_time": "2022-05-01T13:27:57.756Z"
   },
   {
    "duration": 20,
    "start_time": "2022-05-01T13:27:58.069Z"
   },
   {
    "duration": 46,
    "start_time": "2022-05-01T13:27:58.092Z"
   },
   {
    "duration": 573,
    "start_time": "2022-05-01T13:27:58.141Z"
   },
   {
    "duration": 43,
    "start_time": "2022-05-01T13:27:58.718Z"
   },
   {
    "duration": 4,
    "start_time": "2022-05-01T13:27:58.763Z"
   },
   {
    "duration": 79,
    "start_time": "2022-05-01T13:27:58.770Z"
   },
   {
    "duration": 8,
    "start_time": "2022-05-01T13:27:58.855Z"
   },
   {
    "duration": 36,
    "start_time": "2022-05-01T13:27:58.866Z"
   },
   {
    "duration": 48,
    "start_time": "2022-05-01T13:27:58.906Z"
   },
   {
    "duration": 13,
    "start_time": "2022-05-01T13:27:58.957Z"
   },
   {
    "duration": 99,
    "start_time": "2022-05-01T13:27:58.973Z"
   },
   {
    "duration": 7,
    "start_time": "2022-05-01T13:27:59.075Z"
   },
   {
    "duration": 51,
    "start_time": "2022-05-01T13:27:59.085Z"
   },
   {
    "duration": 30,
    "start_time": "2022-05-01T13:27:59.139Z"
   },
   {
    "duration": 45,
    "start_time": "2022-05-01T13:27:59.173Z"
   },
   {
    "duration": 79,
    "start_time": "2022-05-01T13:27:59.221Z"
   },
   {
    "duration": 1756,
    "start_time": "2022-05-01T13:27:59.302Z"
   },
   {
    "duration": 118,
    "start_time": "2022-05-01T13:28:01.060Z"
   },
   {
    "duration": 44,
    "start_time": "2022-05-01T13:28:01.182Z"
   },
   {
    "duration": 39,
    "start_time": "2022-05-01T13:28:01.229Z"
   },
   {
    "duration": 1959,
    "start_time": "2022-05-01T13:28:01.271Z"
   },
   {
    "duration": 1628,
    "start_time": "2022-05-01T13:28:03.233Z"
   },
   {
    "duration": 19,
    "start_time": "2022-05-01T13:28:04.864Z"
   },
   {
    "duration": 41,
    "start_time": "2022-05-01T13:28:04.885Z"
   },
   {
    "duration": 178,
    "start_time": "2022-05-01T13:28:04.929Z"
   },
   {
    "duration": 75,
    "start_time": "2022-05-01T13:28:05.110Z"
   },
   {
    "duration": 52,
    "start_time": "2022-05-01T13:28:05.188Z"
   },
   {
    "duration": 4,
    "start_time": "2022-05-01T13:28:05.243Z"
   },
   {
    "duration": 18,
    "start_time": "2022-05-01T13:28:05.251Z"
   },
   {
    "duration": 74,
    "start_time": "2022-05-01T13:28:05.272Z"
   },
   {
    "duration": 546,
    "start_time": "2022-05-01T13:28:05.349Z"
   },
   {
    "duration": 81,
    "start_time": "2022-05-01T13:28:05.897Z"
   },
   {
    "duration": 26,
    "start_time": "2022-05-01T13:28:05.980Z"
   },
   {
    "duration": 445,
    "start_time": "2022-05-01T13:28:06.008Z"
   },
   {
    "duration": 8,
    "start_time": "2022-05-01T13:28:06.455Z"
   },
   {
    "duration": 22,
    "start_time": "2022-05-01T13:28:06.465Z"
   },
   {
    "duration": 391,
    "start_time": "2022-05-01T13:28:06.490Z"
   },
   {
    "duration": 780,
    "start_time": "2022-05-01T13:28:06.884Z"
   },
   {
    "duration": 683,
    "start_time": "2022-05-01T13:29:42.110Z"
   },
   {
    "duration": 744,
    "start_time": "2022-05-01T13:29:48.964Z"
   },
   {
    "duration": 1026,
    "start_time": "2022-05-01T13:29:56.412Z"
   },
   {
    "duration": 911,
    "start_time": "2022-05-01T13:30:10.955Z"
   },
   {
    "duration": 825,
    "start_time": "2022-05-01T13:30:19.061Z"
   },
   {
    "duration": 730,
    "start_time": "2022-05-01T13:30:26.072Z"
   },
   {
    "duration": 677,
    "start_time": "2022-05-01T13:30:32.736Z"
   },
   {
    "duration": 699,
    "start_time": "2022-05-01T13:30:41.862Z"
   },
   {
    "duration": 687,
    "start_time": "2022-05-01T13:30:47.779Z"
   },
   {
    "duration": 908,
    "start_time": "2022-05-01T13:30:53.613Z"
   },
   {
    "duration": 750,
    "start_time": "2022-05-01T13:31:07.224Z"
   },
   {
    "duration": 869,
    "start_time": "2022-05-01T13:32:41.046Z"
   },
   {
    "duration": 1889,
    "start_time": "2022-05-01T13:32:52.281Z"
   },
   {
    "duration": 368,
    "start_time": "2022-05-01T13:32:54.173Z"
   },
   {
    "duration": 31,
    "start_time": "2022-05-01T13:32:54.545Z"
   },
   {
    "duration": 65,
    "start_time": "2022-05-01T13:32:54.580Z"
   },
   {
    "duration": 88,
    "start_time": "2022-05-01T13:32:54.648Z"
   },
   {
    "duration": 15,
    "start_time": "2022-05-01T13:32:54.739Z"
   },
   {
    "duration": 6,
    "start_time": "2022-05-01T13:32:54.757Z"
   },
   {
    "duration": 23,
    "start_time": "2022-05-01T13:32:54.765Z"
   },
   {
    "duration": 89,
    "start_time": "2022-05-01T13:32:54.790Z"
   },
   {
    "duration": 107,
    "start_time": "2022-05-01T13:32:54.881Z"
   },
   {
    "duration": 4,
    "start_time": "2022-05-01T13:32:54.991Z"
   },
   {
    "duration": 188,
    "start_time": "2022-05-01T13:32:54.998Z"
   },
   {
    "duration": 36,
    "start_time": "2022-05-01T13:32:55.190Z"
   },
   {
    "duration": 29,
    "start_time": "2022-05-01T13:32:55.229Z"
   },
   {
    "duration": 119,
    "start_time": "2022-05-01T13:32:55.261Z"
   },
   {
    "duration": 5,
    "start_time": "2022-05-01T13:32:55.382Z"
   },
   {
    "duration": 106,
    "start_time": "2022-05-01T13:32:55.389Z"
   },
   {
    "duration": 54,
    "start_time": "2022-05-01T13:32:55.497Z"
   },
   {
    "duration": 111,
    "start_time": "2022-05-01T13:32:55.553Z"
   },
   {
    "duration": 143,
    "start_time": "2022-05-01T13:32:55.666Z"
   },
   {
    "duration": 297,
    "start_time": "2022-05-01T13:32:55.811Z"
   },
   {
    "duration": 34,
    "start_time": "2022-05-01T13:32:56.110Z"
   },
   {
    "duration": 31,
    "start_time": "2022-05-01T13:32:56.147Z"
   },
   {
    "duration": 586,
    "start_time": "2022-05-01T13:32:56.181Z"
   },
   {
    "duration": 55,
    "start_time": "2022-05-01T13:32:56.770Z"
   },
   {
    "duration": 8,
    "start_time": "2022-05-01T13:32:56.828Z"
   },
   {
    "duration": 52,
    "start_time": "2022-05-01T13:32:56.839Z"
   },
   {
    "duration": 8,
    "start_time": "2022-05-01T13:32:56.893Z"
   },
   {
    "duration": 20,
    "start_time": "2022-05-01T13:32:56.934Z"
   },
   {
    "duration": 68,
    "start_time": "2022-05-01T13:32:56.957Z"
   },
   {
    "duration": 18,
    "start_time": "2022-05-01T13:32:57.028Z"
   },
   {
    "duration": 47,
    "start_time": "2022-05-01T13:32:57.049Z"
   },
   {
    "duration": 31,
    "start_time": "2022-05-01T13:32:57.098Z"
   },
   {
    "duration": 38,
    "start_time": "2022-05-01T13:32:57.132Z"
   },
   {
    "duration": 14,
    "start_time": "2022-05-01T13:32:57.172Z"
   },
   {
    "duration": 46,
    "start_time": "2022-05-01T13:32:57.188Z"
   },
   {
    "duration": 68,
    "start_time": "2022-05-01T13:32:57.237Z"
   },
   {
    "duration": 1717,
    "start_time": "2022-05-01T13:32:57.308Z"
   },
   {
    "duration": 146,
    "start_time": "2022-05-01T13:32:59.028Z"
   },
   {
    "duration": 45,
    "start_time": "2022-05-01T13:32:59.180Z"
   },
   {
    "duration": 42,
    "start_time": "2022-05-01T13:32:59.228Z"
   },
   {
    "duration": 1899,
    "start_time": "2022-05-01T13:32:59.273Z"
   },
   {
    "duration": 1756,
    "start_time": "2022-05-01T13:33:01.174Z"
   },
   {
    "duration": 20,
    "start_time": "2022-05-01T13:33:02.933Z"
   },
   {
    "duration": 16,
    "start_time": "2022-05-01T13:33:02.955Z"
   },
   {
    "duration": 201,
    "start_time": "2022-05-01T13:33:02.974Z"
   },
   {
    "duration": 84,
    "start_time": "2022-05-01T13:33:03.178Z"
   },
   {
    "duration": 35,
    "start_time": "2022-05-01T13:33:03.265Z"
   },
   {
    "duration": 20,
    "start_time": "2022-05-01T13:33:03.326Z"
   },
   {
    "duration": 18,
    "start_time": "2022-05-01T13:33:03.349Z"
   },
   {
    "duration": 83,
    "start_time": "2022-05-01T13:33:03.370Z"
   },
   {
    "duration": 877,
    "start_time": "2022-05-01T13:33:03.456Z"
   },
   {
    "duration": 94,
    "start_time": "2022-05-01T13:33:04.336Z"
   },
   {
    "duration": 39,
    "start_time": "2022-05-01T13:33:04.434Z"
   },
   {
    "duration": 488,
    "start_time": "2022-05-01T13:33:04.476Z"
   },
   {
    "duration": 9,
    "start_time": "2022-05-01T13:33:04.966Z"
   },
   {
    "duration": 27,
    "start_time": "2022-05-01T13:33:04.977Z"
   },
   {
    "duration": 323,
    "start_time": "2022-05-01T13:33:05.026Z"
   },
   {
    "duration": 800,
    "start_time": "2022-05-01T13:33:05.353Z"
   },
   {
    "duration": 8,
    "start_time": "2022-05-01T13:33:06.155Z"
   },
   {
    "duration": 31,
    "start_time": "2022-05-01T13:33:06.166Z"
   },
   {
    "duration": 4478,
    "start_time": "2022-05-01T13:33:06.200Z"
   },
   {
    "duration": 183,
    "start_time": "2022-05-01T13:36:52.810Z"
   },
   {
    "duration": 60,
    "start_time": "2022-05-01T13:36:57.369Z"
   },
   {
    "duration": 18,
    "start_time": "2022-05-01T13:36:57.555Z"
   },
   {
    "duration": 57,
    "start_time": "2022-05-01T13:37:38.150Z"
   },
   {
    "duration": 18,
    "start_time": "2022-05-01T13:37:39.172Z"
   },
   {
    "duration": 56,
    "start_time": "2022-05-01T13:38:09.464Z"
   },
   {
    "duration": 20,
    "start_time": "2022-05-01T13:38:09.628Z"
   },
   {
    "duration": 22,
    "start_time": "2022-05-01T13:38:37.522Z"
   },
   {
    "duration": 1565,
    "start_time": "2022-05-01T14:42:00.754Z"
   },
   {
    "duration": 1701,
    "start_time": "2022-05-01T14:43:03.442Z"
   },
   {
    "duration": 1634,
    "start_time": "2022-05-01T14:43:14.616Z"
   },
   {
    "duration": 1587,
    "start_time": "2022-05-01T14:43:21.093Z"
   },
   {
    "duration": 2472,
    "start_time": "2022-05-01T14:43:31.205Z"
   },
   {
    "duration": 1547,
    "start_time": "2022-05-01T14:43:59.596Z"
   },
   {
    "duration": 1011,
    "start_time": "2022-05-01T14:44:14.120Z"
   },
   {
    "duration": 1160,
    "start_time": "2022-05-01T14:45:10.791Z"
   },
   {
    "duration": 49,
    "start_time": "2022-05-01T14:45:49.685Z"
   },
   {
    "duration": 758,
    "start_time": "2022-05-01T14:45:49.922Z"
   },
   {
    "duration": 288,
    "start_time": "2022-05-01T14:46:34.609Z"
   },
   {
    "duration": 296,
    "start_time": "2022-05-01T14:48:06.917Z"
   },
   {
    "duration": 799,
    "start_time": "2022-05-01T14:48:12.380Z"
   },
   {
    "duration": 804,
    "start_time": "2022-05-01T14:49:24.264Z"
   },
   {
    "duration": 1032,
    "start_time": "2022-05-01T14:49:44.155Z"
   },
   {
    "duration": 772,
    "start_time": "2022-05-01T14:53:13.889Z"
   },
   {
    "duration": 909,
    "start_time": "2022-05-01T14:53:21.322Z"
   },
   {
    "duration": 854,
    "start_time": "2022-05-01T14:53:27.770Z"
   },
   {
    "duration": 759,
    "start_time": "2022-05-01T14:54:08.626Z"
   },
   {
    "duration": 933,
    "start_time": "2022-05-01T14:54:22.486Z"
   },
   {
    "duration": 901,
    "start_time": "2022-05-01T14:55:47.687Z"
   },
   {
    "duration": 1168,
    "start_time": "2022-05-01T14:56:26.114Z"
   },
   {
    "duration": 897,
    "start_time": "2022-05-01T14:57:54.697Z"
   },
   {
    "duration": 997,
    "start_time": "2022-05-01T14:58:11.133Z"
   },
   {
    "duration": 891,
    "start_time": "2022-05-01T14:58:26.203Z"
   },
   {
    "duration": 775,
    "start_time": "2022-05-01T15:04:06.651Z"
   },
   {
    "duration": 714,
    "start_time": "2022-05-01T15:04:13.971Z"
   },
   {
    "duration": 598,
    "start_time": "2022-05-01T15:05:41.072Z"
   },
   {
    "duration": 662,
    "start_time": "2022-05-01T15:05:47.148Z"
   },
   {
    "duration": 513,
    "start_time": "2022-05-01T15:06:02.588Z"
   },
   {
    "duration": 490,
    "start_time": "2022-05-01T15:06:08.798Z"
   },
   {
    "duration": 478,
    "start_time": "2022-05-01T15:06:22.311Z"
   },
   {
    "duration": 478,
    "start_time": "2022-05-01T15:06:33.002Z"
   },
   {
    "duration": 528,
    "start_time": "2022-05-01T15:07:31.473Z"
   },
   {
    "duration": 724,
    "start_time": "2022-05-01T15:08:28.941Z"
   },
   {
    "duration": 702,
    "start_time": "2022-05-01T15:08:45.241Z"
   },
   {
    "duration": 509,
    "start_time": "2022-05-01T15:08:51.009Z"
   },
   {
    "duration": 2178,
    "start_time": "2022-05-01T15:09:21.262Z"
   },
   {
    "duration": 1694,
    "start_time": "2022-05-01T16:49:31.734Z"
   },
   {
    "duration": 54,
    "start_time": "2022-05-01T16:51:05.960Z"
   },
   {
    "duration": 5,
    "start_time": "2022-05-01T16:51:06.145Z"
   },
   {
    "duration": 5,
    "start_time": "2022-05-01T16:51:25.482Z"
   },
   {
    "duration": 5,
    "start_time": "2022-05-01T16:51:31.860Z"
   },
   {
    "duration": 4,
    "start_time": "2022-05-01T16:51:43.561Z"
   },
   {
    "duration": 4,
    "start_time": "2022-05-01T16:51:54.303Z"
   },
   {
    "duration": 5,
    "start_time": "2022-05-01T16:52:24.130Z"
   },
   {
    "duration": 5,
    "start_time": "2022-05-01T16:53:59.988Z"
   },
   {
    "duration": 1564,
    "start_time": "2022-05-01T17:51:10.439Z"
   },
   {
    "duration": 361,
    "start_time": "2022-05-01T17:51:12.006Z"
   },
   {
    "duration": 31,
    "start_time": "2022-05-01T17:51:12.370Z"
   },
   {
    "duration": 52,
    "start_time": "2022-05-01T17:51:12.428Z"
   },
   {
    "duration": 81,
    "start_time": "2022-05-01T17:51:12.485Z"
   },
   {
    "duration": 15,
    "start_time": "2022-05-01T17:51:12.568Z"
   },
   {
    "duration": 10,
    "start_time": "2022-05-01T17:51:12.585Z"
   },
   {
    "duration": 29,
    "start_time": "2022-05-01T17:51:12.597Z"
   },
   {
    "duration": 74,
    "start_time": "2022-05-01T17:51:12.628Z"
   },
   {
    "duration": 107,
    "start_time": "2022-05-01T17:51:12.704Z"
   },
   {
    "duration": 3,
    "start_time": "2022-05-01T17:51:12.830Z"
   },
   {
    "duration": 130,
    "start_time": "2022-05-01T17:51:12.836Z"
   },
   {
    "duration": 30,
    "start_time": "2022-05-01T17:51:12.969Z"
   },
   {
    "duration": 27,
    "start_time": "2022-05-01T17:51:13.004Z"
   },
   {
    "duration": 146,
    "start_time": "2022-05-01T17:51:13.033Z"
   },
   {
    "duration": 6,
    "start_time": "2022-05-01T17:51:13.182Z"
   },
   {
    "duration": 107,
    "start_time": "2022-05-01T17:51:13.191Z"
   },
   {
    "duration": 51,
    "start_time": "2022-05-01T17:51:13.301Z"
   },
   {
    "duration": 110,
    "start_time": "2022-05-01T17:51:13.355Z"
   },
   {
    "duration": 147,
    "start_time": "2022-05-01T17:51:13.468Z"
   },
   {
    "duration": 611,
    "start_time": "2022-05-01T17:51:13.626Z"
   },
   {
    "duration": 21,
    "start_time": "2022-05-01T17:51:14.239Z"
   },
   {
    "duration": 84,
    "start_time": "2022-05-01T17:51:14.262Z"
   },
   {
    "duration": 894,
    "start_time": "2022-05-01T17:51:14.348Z"
   },
   {
    "duration": 104,
    "start_time": "2022-05-01T17:51:15.247Z"
   },
   {
    "duration": 4,
    "start_time": "2022-05-01T17:51:15.354Z"
   },
   {
    "duration": 104,
    "start_time": "2022-05-01T17:51:15.361Z"
   },
   {
    "duration": 61,
    "start_time": "2022-05-01T17:51:15.468Z"
   },
   {
    "duration": 22,
    "start_time": "2022-05-01T17:51:15.532Z"
   },
   {
    "duration": 101,
    "start_time": "2022-05-01T17:51:15.557Z"
   },
   {
    "duration": 13,
    "start_time": "2022-05-01T17:51:15.660Z"
   },
   {
    "duration": 150,
    "start_time": "2022-05-01T17:51:15.675Z"
   },
   {
    "duration": 7,
    "start_time": "2022-05-01T17:51:15.827Z"
   },
   {
    "duration": 35,
    "start_time": "2022-05-01T17:51:15.838Z"
   },
   {
    "duration": 66,
    "start_time": "2022-05-01T17:51:15.875Z"
   },
   {
    "duration": 16,
    "start_time": "2022-05-01T17:51:15.943Z"
   },
   {
    "duration": 163,
    "start_time": "2022-05-01T17:51:15.961Z"
   },
   {
    "duration": 1934,
    "start_time": "2022-05-01T17:51:16.127Z"
   },
   {
    "duration": 118,
    "start_time": "2022-05-01T17:51:18.064Z"
   },
   {
    "duration": 53,
    "start_time": "2022-05-01T17:51:18.184Z"
   },
   {
    "duration": 42,
    "start_time": "2022-05-01T17:51:18.243Z"
   },
   {
    "duration": 1627,
    "start_time": "2022-05-01T17:51:18.288Z"
   },
   {
    "duration": 1640,
    "start_time": "2022-05-01T17:51:19.917Z"
   },
   {
    "duration": 13,
    "start_time": "2022-05-01T17:51:21.559Z"
   },
   {
    "duration": 16,
    "start_time": "2022-05-01T17:51:21.574Z"
   },
   {
    "duration": 90,
    "start_time": "2022-05-01T17:51:21.592Z"
   },
   {
    "duration": 77,
    "start_time": "2022-05-01T17:51:21.685Z"
   },
   {
    "duration": 29,
    "start_time": "2022-05-01T17:51:21.765Z"
   },
   {
    "duration": 30,
    "start_time": "2022-05-01T17:51:21.796Z"
   },
   {
    "duration": 8,
    "start_time": "2022-05-01T17:51:21.830Z"
   },
   {
    "duration": 46,
    "start_time": "2022-05-01T17:51:21.841Z"
   },
   {
    "duration": 571,
    "start_time": "2022-05-01T17:51:21.889Z"
   },
   {
    "duration": 63,
    "start_time": "2022-05-01T17:51:22.462Z"
   },
   {
    "duration": 29,
    "start_time": "2022-05-01T17:51:22.531Z"
   },
   {
    "duration": 413,
    "start_time": "2022-05-01T17:51:22.562Z"
   },
   {
    "duration": 7,
    "start_time": "2022-05-01T17:51:22.977Z"
   },
   {
    "duration": 40,
    "start_time": "2022-05-01T17:51:22.986Z"
   },
   {
    "duration": 284,
    "start_time": "2022-05-01T17:51:23.029Z"
   },
   {
    "duration": 721,
    "start_time": "2022-05-01T17:51:23.315Z"
   },
   {
    "duration": 7,
    "start_time": "2022-05-01T17:51:24.038Z"
   },
   {
    "duration": 31,
    "start_time": "2022-05-01T17:51:24.048Z"
   },
   {
    "duration": 3822,
    "start_time": "2022-05-01T17:51:24.081Z"
   },
   {
    "duration": 35,
    "start_time": "2022-05-01T17:51:27.906Z"
   },
   {
    "duration": 10,
    "start_time": "2022-05-01T17:51:27.944Z"
   },
   {
    "duration": 30,
    "start_time": "2022-05-01T17:51:27.957Z"
   },
   {
    "duration": 62,
    "start_time": "2022-05-01T17:51:27.990Z"
   },
   {
    "duration": 13,
    "start_time": "2022-05-01T17:51:28.054Z"
   },
   {
    "duration": 83,
    "start_time": "2022-05-01T17:51:28.070Z"
   },
   {
    "duration": 17,
    "start_time": "2022-05-01T17:51:28.156Z"
   },
   {
    "duration": 77,
    "start_time": "2022-05-01T17:51:28.175Z"
   },
   {
    "duration": 5,
    "start_time": "2022-05-01T17:51:28.254Z"
   },
   {
    "duration": 13,
    "start_time": "2022-05-01T17:51:28.261Z"
   },
   {
    "duration": 24,
    "start_time": "2022-05-01T17:51:28.276Z"
   },
   {
    "duration": 24,
    "start_time": "2022-05-01T17:51:28.302Z"
   },
   {
    "duration": 18,
    "start_time": "2022-05-01T17:51:28.332Z"
   },
   {
    "duration": 12,
    "start_time": "2022-05-01T17:51:28.352Z"
   }
  ],
  "kernelspec": {
   "display_name": "Python 3",
   "language": "python",
   "name": "python3"
  },
  "language_info": {
   "codemirror_mode": {
    "name": "ipython",
    "version": 3
   },
   "file_extension": ".py",
   "mimetype": "text/x-python",
   "name": "python",
   "nbconvert_exporter": "python",
   "pygments_lexer": "ipython3",
   "version": "3.8.8"
  },
  "toc": {
   "base_numbering": 1,
   "nav_menu": {},
   "number_sections": true,
   "sideBar": true,
   "skip_h1_title": true,
   "title_cell": "Table of Contents",
   "title_sidebar": "Contents",
   "toc_cell": false,
   "toc_position": {
    "height": "calc(100% - 180px)",
    "left": "10px",
    "top": "150px",
    "width": "165px"
   },
   "toc_section_display": true,
   "toc_window_display": true
  }
 },
 "nbformat": 4,
 "nbformat_minor": 2
}
